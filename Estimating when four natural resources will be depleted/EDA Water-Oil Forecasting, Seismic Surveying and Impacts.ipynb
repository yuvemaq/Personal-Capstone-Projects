{
 "cells": [
  {
   "cell_type": "markdown",
   "id": "07862263",
   "metadata": {},
   "source": [
    "# Capstone 3: Making Predictions on Depletion of Five Natural Resources"
   ]
  },
  {
   "cell_type": "markdown",
   "id": "16344392",
   "metadata": {},
   "source": [
    "## EDA Water-Oil Forecasting, Seismic Surveying and Impacts"
   ]
  },
  {
   "cell_type": "markdown",
   "id": "505e9d0d",
   "metadata": {},
   "source": [
    "#### Brief summary statistics"
   ]
  },
  {
   "cell_type": "markdown",
   "id": "00d26a5b",
   "metadata": {},
   "source": [
    "The previous notebook explored data from the Global Power Plant Database and the Statistical Review of World Energy (by BP). Some main discoveries includes:\n",
    "\n",
    "I. Coal:\n",
    "- Taiwan, South Korea, South Africa, and Malaysia are the top 4 countries with highest estimated electricity generation (in gwh) in 2017, respectively.\n",
    "- Total world coal consumption reached its peak around 2012-2014; since then it declined, went up around 2016 and declined again in 2018. \n",
    "- China is the leading country in both coal consumption and coal production, leading in coal consumption from 1991-present and leading in coal production from 1994-present. US. holds second place.\n",
    "- From 1965-2020, trend for coal consumption (EJ) is as follows:\n",
    "a. Asia Pacific countries have a positive slope, with peak around 2018.\n",
    "b. There is a downward slope seen from 1985-present for countries in Europe and Commonwealth of Independent States.\n",
    "c. There is a downward slope seen from 2010 for North American countries and again around 2014.\n",
    "- Ever since 2000, the world has been consuming more coal than it is producing coal, up until 2018 when world coal production surpassed world coal consumption.\n",
    "\n",
    "II. Oil:\n",
    "- Taiwan, Iraq, South Korea, and Japan are the top 4 countries with highest estimated electricity generation (in gwh) in 2017, respectively.\n",
    "- Azerbaijan, Taiwan, Japan, and South Korea are the top 4 countries with highest capacity (mw). \n",
    "- Total world oil consumption reached its peak around 2018-2019, then hit a sharp downward slope after that. There was a sharp upward slope from 1965-1973, then a gradual decline around 1979-1984. \n",
    "- The U.S. is the leading country in both oil consumption and oil production, leading in oil consumption from 1974-present and in oil production from 2015-2019. It looks like we are short on production, consuming more oil than we are producing. \n",
    "- From 1965-2020, trend for oil consumption (barrels/day) is as follows:\n",
    "a. North America held the top spot of oil consumption until around 2016, where Asia Pacific countries surpassed North American countries. Ever since then, Asia Pacific countries have dominated in oil consumption. All countries hit a decline in oil consumption around 2019. \n",
    "b. Only Commonwealth of Independent States had a downward decline in oil consumption from 1990-2000. \n",
    "c. Sharp increases in oil consumption happened in parallel from 1965-1973 for North American countries, the EU, and Asia Pacific countries. There was a decline for all three regions from 1978-1983.\n",
    "d. African countries have the lowest oil consumption.\n",
    "- There was a sharp decline in total world oil production around 1978-79 (the 1979 oil crisis, probably). It's not until 1990 that a gradual increase in oil production can be seen. At that year, consumption had exceeded production by about 1,000 barrels/day. Consumption has continually exceeded production by about 1,000-2,000 barrels/day. \n",
    "- At the end of 2000, Saudi Arabia held top spot for the most oil reserves.\n",
    "- At the end of 2020, 2010, and 2019, Venezuela held top spot for the most oil reserves. In 2000, Venezuela was in 8th place. "
   ]
  },
  {
   "cell_type": "markdown",
   "id": "c31cf9ad",
   "metadata": {},
   "source": [
    "These patterns of consumption exceeding production could be a sign that we aren't able to keep up with the current population growth and meet its needs. "
   ]
  },
  {
   "cell_type": "markdown",
   "id": "16e3627b",
   "metadata": {},
   "source": [
    "### WOR Forecasting"
   ]
  },
  {
   "cell_type": "code",
   "execution_count": null,
   "id": "1ff48edd",
   "metadata": {},
   "outputs": [],
   "source": []
  },
  {
   "cell_type": "code",
   "execution_count": null,
   "id": "8a054930",
   "metadata": {},
   "outputs": [],
   "source": []
  },
  {
   "cell_type": "markdown",
   "id": "0ea80c66",
   "metadata": {},
   "source": [
    "### Seismic Impact of Wastewater Injection Wells"
   ]
  },
  {
   "cell_type": "code",
   "execution_count": null,
   "id": "56605a63",
   "metadata": {},
   "outputs": [],
   "source": []
  }
 ],
 "metadata": {
  "kernelspec": {
   "display_name": "Python 3",
   "language": "python",
   "name": "python3"
  },
  "language_info": {
   "codemirror_mode": {
    "name": "ipython",
    "version": 3
   },
   "file_extension": ".py",
   "mimetype": "text/x-python",
   "name": "python",
   "nbconvert_exporter": "python",
   "pygments_lexer": "ipython3",
   "version": "3.8.8"
  }
 },
 "nbformat": 4,
 "nbformat_minor": 5
}
