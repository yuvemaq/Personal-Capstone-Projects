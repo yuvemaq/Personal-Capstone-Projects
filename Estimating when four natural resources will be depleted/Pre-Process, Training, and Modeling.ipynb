{
 "cells": [
  {
   "cell_type": "markdown",
   "id": "bf3e7604",
   "metadata": {
    "toc": true
   },
   "source": [
    "<h1>Table of Contents<span class=\"tocSkip\"></span></h1>\n",
    "<div class=\"toc\"><ul class=\"toc-item\"><li><span><a href=\"#Pre-Process,-Training,-and-Modeling\" data-toc-modified-id=\"Pre-Process,-Training,-and-Modeling-1\"><span class=\"toc-item-num\">1&nbsp;&nbsp;</span>Pre-Process, Training, and Modeling</a></span><ul class=\"toc-item\"><li><span><a href=\"#Pre-processing-of-well-log-analysis\" data-toc-modified-id=\"Pre-processing-of-well-log-analysis-1.1\"><span class=\"toc-item-num\">1.1&nbsp;&nbsp;</span>Pre-processing of well log analysis</a></span><ul class=\"toc-item\"><li><span><a href=\"#Classification\" data-toc-modified-id=\"Classification-1.1.1\"><span class=\"toc-item-num\">1.1.1&nbsp;&nbsp;</span>Classification</a></span></li></ul></li></ul></li><li><span><a href=\"#Pycaret\" data-toc-modified-id=\"Pycaret-2\"><span class=\"toc-item-num\">2&nbsp;&nbsp;</span>Pycaret</a></span></li></ul></div>"
   ]
  },
  {
   "cell_type": "markdown",
   "id": "4aebe969",
   "metadata": {},
   "source": [
    "# Pre-Process, Training, and Modeling"
   ]
  },
  {
   "cell_type": "markdown",
   "id": "d045ad72",
   "metadata": {},
   "source": [
    "## Pre-processing of well log analysis\n",
    "\n",
    "Using the notebook with the well log, I interpreted the well logs in an excel sheet (using Ko Ko Rules in petrophysical interpretation), looking at Gamma ray, resistance, and Density and Neutron Porosities. "
   ]
  },
  {
   "cell_type": "code",
   "execution_count": 3,
   "id": "b6183fdf",
   "metadata": {},
   "outputs": [
    {
     "name": "stdout",
     "output_type": "stream",
     "text": [
      "Collecting numpy\n",
      "  Using cached numpy-1.19.5-cp36-cp36m-win_amd64.whl (13.2 MB)\n",
      "Installing collected packages: numpy\n",
      "Successfully installed numpy-1.19.5\n"
     ]
    }
   ],
   "source": [
    "!pip install numpy"
   ]
  },
  {
   "cell_type": "code",
   "execution_count": 3,
   "id": "c3654c1f",
   "metadata": {},
   "outputs": [
    {
     "name": "stdout",
     "output_type": "stream",
     "text": [
      "Requirement already satisfied: pyexcel-xlsx in d:\\user\\envs\\pycaret\\lib\\site-packages (0.6.0)\n",
      "Requirement already satisfied: pyexcel-io>=0.6.2 in d:\\user\\envs\\pycaret\\lib\\site-packages (from pyexcel-xlsx) (0.6.5)\n",
      "Requirement already satisfied: openpyxl>=2.6.1 in d:\\user\\envs\\pycaret\\lib\\site-packages (from pyexcel-xlsx) (3.0.9)\n",
      "Requirement already satisfied: et-xmlfile in d:\\user\\envs\\pycaret\\lib\\site-packages (from openpyxl>=2.6.1->pyexcel-xlsx) (1.1.0)\n",
      "Requirement already satisfied: lml>=0.0.4 in d:\\user\\envs\\pycaret\\lib\\site-packages (from pyexcel-io>=0.6.2->pyexcel-xlsx) (0.1.0)\n"
     ]
    }
   ],
   "source": [
    "!pip install pyexcel-xlsx"
   ]
  },
  {
   "cell_type": "code",
   "execution_count": 6,
   "id": "7ab2486e",
   "metadata": {},
   "outputs": [
    {
     "name": "stdout",
     "output_type": "stream",
     "text": [
      "Collecting xlrd==1.2.0\n",
      "  Downloading xlrd-1.2.0-py2.py3-none-any.whl (103 kB)\n",
      "Installing collected packages: xlrd\n",
      "  Attempting uninstall: xlrd\n",
      "    Found existing installation: xlrd 2.0.1\n",
      "    Uninstalling xlrd-2.0.1:\n",
      "      Successfully uninstalled xlrd-2.0.1\n",
      "Successfully installed xlrd-1.2.0\n"
     ]
    }
   ],
   "source": [
    "!pip install xlrd==1.2.0"
   ]
  },
  {
   "cell_type": "code",
   "execution_count": 1,
   "id": "0acaa0d3",
   "metadata": {},
   "outputs": [
    {
     "name": "stdout",
     "output_type": "stream",
     "text": [
      "Collecting XlsxWriter\n",
      "  Downloading XlsxWriter-3.0.2-py3-none-any.whl (149 kB)\n",
      "Installing collected packages: XlsxWriter\n",
      "Successfully installed XlsxWriter-3.0.2\n"
     ]
    }
   ],
   "source": [
    "!pip install XlsxWriter"
   ]
  },
  {
   "cell_type": "code",
   "execution_count": 2,
   "id": "028c27bd",
   "metadata": {},
   "outputs": [
    {
     "name": "stdout",
     "output_type": "stream",
     "text": [
      "Collecting xlwings\n",
      "  Downloading xlwings-0.25.0.tar.gz (806 kB)\n",
      "  Preparing metadata (setup.py): started\n",
      "  Preparing metadata (setup.py): finished with status 'done'\n",
      "Requirement already satisfied: pywin32 in d:\\user\\envs\\pycaret\\lib\\site-packages (from xlwings) (227)\n",
      "Building wheels for collected packages: xlwings\n",
      "  Building wheel for xlwings (setup.py): started\n",
      "  Building wheel for xlwings (setup.py): finished with status 'done'\n",
      "  Created wheel for xlwings: filename=xlwings-0.25.0-py3-none-any.whl size=818556 sha256=c5ff667c2ac5fb1ab7c5f6175b17e56520f6ab00dca0b3b40624c453999f6ae0\n",
      "  Stored in directory: c:\\users\\yuvem\\appdata\\local\\pip\\cache\\wheels\\9c\\09\\09\\c3d1e62eee88d3b10115fad734138948020c21a1927b9feb5d\n",
      "Successfully built xlwings\n",
      "Installing collected packages: xlwings\n",
      "Successfully installed xlwings-0.25.0\n"
     ]
    }
   ],
   "source": [
    "!pip install xlwings"
   ]
  },
  {
   "cell_type": "code",
   "execution_count": 3,
   "id": "84072153",
   "metadata": {},
   "outputs": [
    {
     "name": "stdout",
     "output_type": "stream",
     "text": [
      "Collecting xlwt\n",
      "  Downloading xlwt-1.3.0-py2.py3-none-any.whl (99 kB)\n",
      "Installing collected packages: xlwt\n",
      "Successfully installed xlwt-1.3.0\n"
     ]
    }
   ],
   "source": [
    "!pip install xlwt"
   ]
  },
  {
   "cell_type": "code",
   "execution_count": 1,
   "id": "6c79dc9c",
   "metadata": {},
   "outputs": [],
   "source": [
    "import numpy as np\n",
    "import pandas as pd\n",
    "import matplotlib.pyplot as plt\n",
    "%matplotlib inline\n",
    "\n",
    "from sklearn.preprocessing import LabelEncoder\n",
    "from sklearn.ensemble import RandomForestClassifier\n",
    "from sklearn.tree import DecisionTreeClassifier"
   ]
  },
  {
   "cell_type": "code",
   "execution_count": 2,
   "id": "de34719a",
   "metadata": {},
   "outputs": [
    {
     "data": {
      "text/html": [
       "<div>\n",
       "<style scoped>\n",
       "    .dataframe tbody tr th:only-of-type {\n",
       "        vertical-align: middle;\n",
       "    }\n",
       "\n",
       "    .dataframe tbody tr th {\n",
       "        vertical-align: top;\n",
       "    }\n",
       "\n",
       "    .dataframe thead th {\n",
       "        text-align: right;\n",
       "    }\n",
       "</style>\n",
       "<table border=\"1\" class=\"dataframe\">\n",
       "  <thead>\n",
       "    <tr style=\"text-align: right;\">\n",
       "      <th></th>\n",
       "      <th>well_id</th>\n",
       "      <th>gamma_ray</th>\n",
       "      <th>resistivity</th>\n",
       "      <th>bulk_density</th>\n",
       "      <th>neutron_porosity</th>\n",
       "      <th>neutron_porosity_density_crossover</th>\n",
       "      <th>hydrocarbon_present</th>\n",
       "    </tr>\n",
       "  </thead>\n",
       "  <tbody>\n",
       "    <tr>\n",
       "      <th>0</th>\n",
       "      <td>0</td>\n",
       "      <td>left</td>\n",
       "      <td>right</td>\n",
       "      <td>left</td>\n",
       "      <td>left</td>\n",
       "      <td>yes</td>\n",
       "      <td>yes</td>\n",
       "    </tr>\n",
       "    <tr>\n",
       "      <th>1</th>\n",
       "      <td>1</td>\n",
       "      <td>left</td>\n",
       "      <td>left</td>\n",
       "      <td>right</td>\n",
       "      <td>left</td>\n",
       "      <td>yes</td>\n",
       "      <td>yes</td>\n",
       "    </tr>\n",
       "    <tr>\n",
       "      <th>2</th>\n",
       "      <td>2</td>\n",
       "      <td>left</td>\n",
       "      <td>right</td>\n",
       "      <td>left</td>\n",
       "      <td>right</td>\n",
       "      <td>no</td>\n",
       "      <td>no</td>\n",
       "    </tr>\n",
       "    <tr>\n",
       "      <th>3</th>\n",
       "      <td>3</td>\n",
       "      <td>left</td>\n",
       "      <td>right</td>\n",
       "      <td>left</td>\n",
       "      <td>left</td>\n",
       "      <td>yes</td>\n",
       "      <td>yes</td>\n",
       "    </tr>\n",
       "    <tr>\n",
       "      <th>4</th>\n",
       "      <td>4</td>\n",
       "      <td>left</td>\n",
       "      <td>right</td>\n",
       "      <td>left</td>\n",
       "      <td>left</td>\n",
       "      <td>yes</td>\n",
       "      <td>yes</td>\n",
       "    </tr>\n",
       "  </tbody>\n",
       "</table>\n",
       "</div>"
      ],
      "text/plain": [
       "   well_id gamma_ray  resistivity bulk_density neutron_porosity  \\\n",
       "0        0       left       right         left             left   \n",
       "1        1       left        left        right             left   \n",
       "2        2       left       right         left            right   \n",
       "3        3       left       right         left             left   \n",
       "4        4       left       right         left             left   \n",
       "\n",
       "  neutron_porosity_density_crossover hydrocarbon_present  \n",
       "0                                yes                 yes  \n",
       "1                                yes                 yes  \n",
       "2                                 no                  no  \n",
       "3                                yes                 yes  \n",
       "4                                yes                 yes  "
      ]
     },
     "execution_count": 2,
     "metadata": {},
     "output_type": "execute_result"
    }
   ],
   "source": [
    "# Read file\n",
    "path0 = r'C:\\Users\\yuvem\\OneDrive\\Documents\\table_well_log.xlsx'\n",
    "table = pd.read_excel(path0)\n",
    "table.head()"
   ]
  },
  {
   "cell_type": "code",
   "execution_count": 3,
   "id": "3bc20e75",
   "metadata": {},
   "outputs": [],
   "source": [
    "df = table.set_index('well_id')"
   ]
  },
  {
   "cell_type": "code",
   "execution_count": 4,
   "id": "4f3c038e",
   "metadata": {},
   "outputs": [
    {
     "data": {
      "text/plain": [
       "gamma_ray                             4\n",
       "resistivity                           1\n",
       "bulk_density                          4\n",
       "neutron_porosity                      4\n",
       "neutron_porosity_density_crossover    4\n",
       "hydrocarbon_present                   4\n",
       "dtype: int64"
      ]
     },
     "execution_count": 4,
     "metadata": {},
     "output_type": "execute_result"
    }
   ],
   "source": [
    "df.isnull().sum()"
   ]
  },
  {
   "cell_type": "code",
   "execution_count": 5,
   "id": "baf7f97d",
   "metadata": {},
   "outputs": [
    {
     "name": "stdout",
     "output_type": "stream",
     "text": [
      "32\n"
     ]
    }
   ],
   "source": [
    "# Clear nulls\n",
    "df = df.dropna()\n",
    "df.isnull().sum()\n",
    "print(len(df))"
   ]
  },
  {
   "cell_type": "code",
   "execution_count": 6,
   "id": "940da191",
   "metadata": {},
   "outputs": [
    {
     "data": {
      "text/plain": [
       "array(['right', 'left'], dtype=object)"
      ]
     },
     "execution_count": 6,
     "metadata": {},
     "output_type": "execute_result"
    }
   ],
   "source": [
    "df.resistivity.unique()"
   ]
  },
  {
   "cell_type": "markdown",
   "id": "c8bac325",
   "metadata": {},
   "source": [
    "### Classification"
   ]
  },
  {
   "cell_type": "code",
   "execution_count": 7,
   "id": "2dddc8b2",
   "metadata": {},
   "outputs": [],
   "source": [
    "# Get x and y parameters\n",
    "x = df.iloc[: , :-1]\n",
    "feat =(['gamma_ray','resistivity','bulk_density','neutron_porosity','neutron_porosity_density_crossover'])\n",
    "y = df.iloc[:,5].values"
   ]
  },
  {
   "cell_type": "code",
   "execution_count": 8,
   "id": "2991c1bc",
   "metadata": {},
   "outputs": [],
   "source": [
    "label_x = LabelEncoder()\n",
    "x = x.apply(LabelEncoder().fit_transform)"
   ]
  },
  {
   "cell_type": "code",
   "execution_count": 9,
   "id": "671895d4",
   "metadata": {},
   "outputs": [
    {
     "name": "stdout",
     "output_type": "stream",
     "text": [
      "         gamma_ray   resistivity  bulk_density  neutron_porosity  \\\n",
      "well_id                                                            \n",
      "0                 1            1             0                 0   \n",
      "1                 1            0             1                 0   \n",
      "2                 1            1             0                 1   \n",
      "3                 1            1             0                 0   \n",
      "4                 1            1             0                 0   \n",
      "5                 1            1             0                 0   \n",
      "7                 1            1             1                 1   \n",
      "8                 1            1             1                 0   \n",
      "9                 1            1             0                 0   \n",
      "10                1            1             1                 0   \n",
      "11                1            1             0                 1   \n",
      "12                1            1             0                 1   \n",
      "13                1            1             0                 0   \n",
      "14                1            1             0                 0   \n",
      "16                1            0             0                 1   \n",
      "17                1            1             0                 0   \n",
      "19                1            0             0                 0   \n",
      "20                0            1             0                 0   \n",
      "21                1            1             0                 0   \n",
      "22                1            1             0                 0   \n",
      "23                1            1             0                 0   \n",
      "25                1            1             1                 0   \n",
      "26                1            0             0                 1   \n",
      "27                1            1             1                 1   \n",
      "28                1            1             0                 1   \n",
      "29                1            0             0                 0   \n",
      "30                1            1             0                 0   \n",
      "31                2            1             0                 0   \n",
      "32                1            1             0                 0   \n",
      "33                1            1             0                 0   \n",
      "34                1            0             1                 0   \n",
      "35                1            0             0                 1   \n",
      "\n",
      "         neutron_porosity_density_crossover  \n",
      "well_id                                      \n",
      "0                                         1  \n",
      "1                                         1  \n",
      "2                                         0  \n",
      "3                                         1  \n",
      "4                                         1  \n",
      "5                                         1  \n",
      "7                                         0  \n",
      "8                                         0  \n",
      "9                                         1  \n",
      "10                                        1  \n",
      "11                                        1  \n",
      "12                                        0  \n",
      "13                                        1  \n",
      "14                                        1  \n",
      "16                                        1  \n",
      "17                                        1  \n",
      "19                                        1  \n",
      "20                                        1  \n",
      "21                                        1  \n",
      "22                                        1  \n",
      "23                                        1  \n",
      "25                                        1  \n",
      "26                                        1  \n",
      "27                                        1  \n",
      "28                                        1  \n",
      "29                                        1  \n",
      "30                                        1  \n",
      "31                                        1  \n",
      "32                                        1  \n",
      "33                                        1  \n",
      "34                                        1  \n",
      "35                                        1   ['gamma_ray', 'resistivity', 'bulk_density', 'neutron_porosity', 'neutron_porosity_density_crossover']\n"
     ]
    }
   ],
   "source": [
    "rfc = RandomForestClassifier(max_depth=None,\n",
    "                             criterion='gini')\n",
    "print(x,feat)"
   ]
  },
  {
   "cell_type": "code",
   "execution_count": 10,
   "id": "3bacd5c1",
   "metadata": {},
   "outputs": [
    {
     "data": {
      "text/plain": [
       "RandomForestClassifier()"
      ]
     },
     "execution_count": 10,
     "metadata": {},
     "output_type": "execute_result"
    }
   ],
   "source": [
    "# Train\n",
    "rfc.fit(x, y)"
   ]
  },
  {
   "cell_type": "code",
   "execution_count": 11,
   "id": "af1fbdd2",
   "metadata": {},
   "outputs": [
    {
     "name": "stdout",
     "output_type": "stream",
     "text": [
      "presence of hydrocarbon at this depth= ['yes']\n"
     ]
    }
   ],
   "source": [
    "#prediction\n",
    "x_in = np.array([1,1,0,0,1])\n",
    "x_in\n",
    "y_pred = rfc.predict([x_in])\n",
    "print(\"presence of hydrocarbon at this depth=\",y_pred)"
   ]
  },
  {
   "cell_type": "code",
   "execution_count": 12,
   "id": "bb5b013f",
   "metadata": {},
   "outputs": [
    {
     "data": {
      "text/plain": [
       "96.875"
      ]
     },
     "execution_count": 12,
     "metadata": {},
     "output_type": "execute_result"
    }
   ],
   "source": [
    "# Accuracy\n",
    "rfc.score(x,y)*100"
   ]
  },
  {
   "cell_type": "code",
   "execution_count": 13,
   "id": "b3dcc02a",
   "metadata": {},
   "outputs": [
    {
     "data": {
      "text/plain": [
       "DecisionTreeClassifier()"
      ]
     },
     "execution_count": 13,
     "metadata": {},
     "output_type": "execute_result"
    }
   ],
   "source": [
    "# Decision Tree classifier\n",
    "dtc = DecisionTreeClassifier(criterion='gini',max_depth=None,splitter='best')\n",
    "dtc.fit(x, y)"
   ]
  },
  {
   "cell_type": "code",
   "execution_count": 14,
   "id": "e6f93182",
   "metadata": {},
   "outputs": [
    {
     "name": "stdout",
     "output_type": "stream",
     "text": [
      "presence of hydrocarbon at this depth= ['yes']\n"
     ]
    }
   ],
   "source": [
    "# Prediction for Decision Tree Classifier\n",
    "x_in2 = np.array([1,1,0,0,1])\n",
    "x_in2 \n",
    "y_pred2 = dtc.predict([x_in2])\n",
    "print(\"presence of hydrocarbon at this depth=\",y_pred2)"
   ]
  },
  {
   "cell_type": "code",
   "execution_count": 15,
   "id": "6c5d951c",
   "metadata": {},
   "outputs": [
    {
     "data": {
      "text/plain": [
       "96.875"
      ]
     },
     "execution_count": 15,
     "metadata": {},
     "output_type": "execute_result"
    }
   ],
   "source": [
    "dtc.score(x, y)*100"
   ]
  },
  {
   "cell_type": "markdown",
   "id": "30bcf672",
   "metadata": {},
   "source": [
    "# Pycaret"
   ]
  },
  {
   "cell_type": "code",
   "execution_count": null,
   "id": "e5492894",
   "metadata": {},
   "outputs": [],
   "source": [
    "!pip install pycaret"
   ]
  },
  {
   "cell_type": "code",
   "execution_count": 16,
   "id": "a0d7a59b",
   "metadata": {},
   "outputs": [],
   "source": [
    "import pycaret\n",
    "from pycaret.regression import *"
   ]
  },
  {
   "cell_type": "code",
   "execution_count": 18,
   "id": "684cf515",
   "metadata": {},
   "outputs": [
    {
     "data": {
      "text/html": [
       "<style  type=\"text/css\" >\n",
       "#T_967d80fe_430a_11ec_9948_b06ebfbf2340row42_col1{\n",
       "            background-color:  lightgreen;\n",
       "        }</style><table id=\"T_967d80fe_430a_11ec_9948_b06ebfbf2340\" ><thead>    <tr>        <th class=\"blank level0\" ></th>        <th class=\"col_heading level0 col0\" >Description</th>        <th class=\"col_heading level0 col1\" >Value</th>    </tr></thead><tbody>\n",
       "                <tr>\n",
       "                        <th id=\"T_967d80fe_430a_11ec_9948_b06ebfbf2340level0_row0\" class=\"row_heading level0 row0\" >0</th>\n",
       "                        <td id=\"T_967d80fe_430a_11ec_9948_b06ebfbf2340row0_col0\" class=\"data row0 col0\" >session_id</td>\n",
       "                        <td id=\"T_967d80fe_430a_11ec_9948_b06ebfbf2340row0_col1\" class=\"data row0 col1\" >123</td>\n",
       "            </tr>\n",
       "            <tr>\n",
       "                        <th id=\"T_967d80fe_430a_11ec_9948_b06ebfbf2340level0_row1\" class=\"row_heading level0 row1\" >1</th>\n",
       "                        <td id=\"T_967d80fe_430a_11ec_9948_b06ebfbf2340row1_col0\" class=\"data row1 col0\" >Target</td>\n",
       "                        <td id=\"T_967d80fe_430a_11ec_9948_b06ebfbf2340row1_col1\" class=\"data row1 col1\" >resistivity</td>\n",
       "            </tr>\n",
       "            <tr>\n",
       "                        <th id=\"T_967d80fe_430a_11ec_9948_b06ebfbf2340level0_row2\" class=\"row_heading level0 row2\" >2</th>\n",
       "                        <td id=\"T_967d80fe_430a_11ec_9948_b06ebfbf2340row2_col0\" class=\"data row2 col0\" >Original Data</td>\n",
       "                        <td id=\"T_967d80fe_430a_11ec_9948_b06ebfbf2340row2_col1\" class=\"data row2 col1\" >(32, 6)</td>\n",
       "            </tr>\n",
       "            <tr>\n",
       "                        <th id=\"T_967d80fe_430a_11ec_9948_b06ebfbf2340level0_row3\" class=\"row_heading level0 row3\" >3</th>\n",
       "                        <td id=\"T_967d80fe_430a_11ec_9948_b06ebfbf2340row3_col0\" class=\"data row3 col0\" >Missing Values</td>\n",
       "                        <td id=\"T_967d80fe_430a_11ec_9948_b06ebfbf2340row3_col1\" class=\"data row3 col1\" >False</td>\n",
       "            </tr>\n",
       "            <tr>\n",
       "                        <th id=\"T_967d80fe_430a_11ec_9948_b06ebfbf2340level0_row4\" class=\"row_heading level0 row4\" >4</th>\n",
       "                        <td id=\"T_967d80fe_430a_11ec_9948_b06ebfbf2340row4_col0\" class=\"data row4 col0\" >Numeric Features</td>\n",
       "                        <td id=\"T_967d80fe_430a_11ec_9948_b06ebfbf2340row4_col1\" class=\"data row4 col1\" >0</td>\n",
       "            </tr>\n",
       "            <tr>\n",
       "                        <th id=\"T_967d80fe_430a_11ec_9948_b06ebfbf2340level0_row5\" class=\"row_heading level0 row5\" >5</th>\n",
       "                        <td id=\"T_967d80fe_430a_11ec_9948_b06ebfbf2340row5_col0\" class=\"data row5 col0\" >Categorical Features</td>\n",
       "                        <td id=\"T_967d80fe_430a_11ec_9948_b06ebfbf2340row5_col1\" class=\"data row5 col1\" >5</td>\n",
       "            </tr>\n",
       "            <tr>\n",
       "                        <th id=\"T_967d80fe_430a_11ec_9948_b06ebfbf2340level0_row6\" class=\"row_heading level0 row6\" >6</th>\n",
       "                        <td id=\"T_967d80fe_430a_11ec_9948_b06ebfbf2340row6_col0\" class=\"data row6 col0\" >Ordinal Features</td>\n",
       "                        <td id=\"T_967d80fe_430a_11ec_9948_b06ebfbf2340row6_col1\" class=\"data row6 col1\" >False</td>\n",
       "            </tr>\n",
       "            <tr>\n",
       "                        <th id=\"T_967d80fe_430a_11ec_9948_b06ebfbf2340level0_row7\" class=\"row_heading level0 row7\" >7</th>\n",
       "                        <td id=\"T_967d80fe_430a_11ec_9948_b06ebfbf2340row7_col0\" class=\"data row7 col0\" >High Cardinality Features</td>\n",
       "                        <td id=\"T_967d80fe_430a_11ec_9948_b06ebfbf2340row7_col1\" class=\"data row7 col1\" >False</td>\n",
       "            </tr>\n",
       "            <tr>\n",
       "                        <th id=\"T_967d80fe_430a_11ec_9948_b06ebfbf2340level0_row8\" class=\"row_heading level0 row8\" >8</th>\n",
       "                        <td id=\"T_967d80fe_430a_11ec_9948_b06ebfbf2340row8_col0\" class=\"data row8 col0\" >High Cardinality Method</td>\n",
       "                        <td id=\"T_967d80fe_430a_11ec_9948_b06ebfbf2340row8_col1\" class=\"data row8 col1\" >None</td>\n",
       "            </tr>\n",
       "            <tr>\n",
       "                        <th id=\"T_967d80fe_430a_11ec_9948_b06ebfbf2340level0_row9\" class=\"row_heading level0 row9\" >9</th>\n",
       "                        <td id=\"T_967d80fe_430a_11ec_9948_b06ebfbf2340row9_col0\" class=\"data row9 col0\" >Transformed Train Set</td>\n",
       "                        <td id=\"T_967d80fe_430a_11ec_9948_b06ebfbf2340row9_col1\" class=\"data row9 col1\" >(22, 5)</td>\n",
       "            </tr>\n",
       "            <tr>\n",
       "                        <th id=\"T_967d80fe_430a_11ec_9948_b06ebfbf2340level0_row10\" class=\"row_heading level0 row10\" >10</th>\n",
       "                        <td id=\"T_967d80fe_430a_11ec_9948_b06ebfbf2340row10_col0\" class=\"data row10 col0\" >Transformed Test Set</td>\n",
       "                        <td id=\"T_967d80fe_430a_11ec_9948_b06ebfbf2340row10_col1\" class=\"data row10 col1\" >(10, 5)</td>\n",
       "            </tr>\n",
       "            <tr>\n",
       "                        <th id=\"T_967d80fe_430a_11ec_9948_b06ebfbf2340level0_row11\" class=\"row_heading level0 row11\" >11</th>\n",
       "                        <td id=\"T_967d80fe_430a_11ec_9948_b06ebfbf2340row11_col0\" class=\"data row11 col0\" >Shuffle Train-Test</td>\n",
       "                        <td id=\"T_967d80fe_430a_11ec_9948_b06ebfbf2340row11_col1\" class=\"data row11 col1\" >True</td>\n",
       "            </tr>\n",
       "            <tr>\n",
       "                        <th id=\"T_967d80fe_430a_11ec_9948_b06ebfbf2340level0_row12\" class=\"row_heading level0 row12\" >12</th>\n",
       "                        <td id=\"T_967d80fe_430a_11ec_9948_b06ebfbf2340row12_col0\" class=\"data row12 col0\" >Stratify Train-Test</td>\n",
       "                        <td id=\"T_967d80fe_430a_11ec_9948_b06ebfbf2340row12_col1\" class=\"data row12 col1\" >False</td>\n",
       "            </tr>\n",
       "            <tr>\n",
       "                        <th id=\"T_967d80fe_430a_11ec_9948_b06ebfbf2340level0_row13\" class=\"row_heading level0 row13\" >13</th>\n",
       "                        <td id=\"T_967d80fe_430a_11ec_9948_b06ebfbf2340row13_col0\" class=\"data row13 col0\" >Fold Generator</td>\n",
       "                        <td id=\"T_967d80fe_430a_11ec_9948_b06ebfbf2340row13_col1\" class=\"data row13 col1\" >KFold</td>\n",
       "            </tr>\n",
       "            <tr>\n",
       "                        <th id=\"T_967d80fe_430a_11ec_9948_b06ebfbf2340level0_row14\" class=\"row_heading level0 row14\" >14</th>\n",
       "                        <td id=\"T_967d80fe_430a_11ec_9948_b06ebfbf2340row14_col0\" class=\"data row14 col0\" >Fold Number</td>\n",
       "                        <td id=\"T_967d80fe_430a_11ec_9948_b06ebfbf2340row14_col1\" class=\"data row14 col1\" >10</td>\n",
       "            </tr>\n",
       "            <tr>\n",
       "                        <th id=\"T_967d80fe_430a_11ec_9948_b06ebfbf2340level0_row15\" class=\"row_heading level0 row15\" >15</th>\n",
       "                        <td id=\"T_967d80fe_430a_11ec_9948_b06ebfbf2340row15_col0\" class=\"data row15 col0\" >CPU Jobs</td>\n",
       "                        <td id=\"T_967d80fe_430a_11ec_9948_b06ebfbf2340row15_col1\" class=\"data row15 col1\" >-1</td>\n",
       "            </tr>\n",
       "            <tr>\n",
       "                        <th id=\"T_967d80fe_430a_11ec_9948_b06ebfbf2340level0_row16\" class=\"row_heading level0 row16\" >16</th>\n",
       "                        <td id=\"T_967d80fe_430a_11ec_9948_b06ebfbf2340row16_col0\" class=\"data row16 col0\" >Use GPU</td>\n",
       "                        <td id=\"T_967d80fe_430a_11ec_9948_b06ebfbf2340row16_col1\" class=\"data row16 col1\" >False</td>\n",
       "            </tr>\n",
       "            <tr>\n",
       "                        <th id=\"T_967d80fe_430a_11ec_9948_b06ebfbf2340level0_row17\" class=\"row_heading level0 row17\" >17</th>\n",
       "                        <td id=\"T_967d80fe_430a_11ec_9948_b06ebfbf2340row17_col0\" class=\"data row17 col0\" >Log Experiment</td>\n",
       "                        <td id=\"T_967d80fe_430a_11ec_9948_b06ebfbf2340row17_col1\" class=\"data row17 col1\" >False</td>\n",
       "            </tr>\n",
       "            <tr>\n",
       "                        <th id=\"T_967d80fe_430a_11ec_9948_b06ebfbf2340level0_row18\" class=\"row_heading level0 row18\" >18</th>\n",
       "                        <td id=\"T_967d80fe_430a_11ec_9948_b06ebfbf2340row18_col0\" class=\"data row18 col0\" >Experiment Name</td>\n",
       "                        <td id=\"T_967d80fe_430a_11ec_9948_b06ebfbf2340row18_col1\" class=\"data row18 col1\" >reg-default-name</td>\n",
       "            </tr>\n",
       "            <tr>\n",
       "                        <th id=\"T_967d80fe_430a_11ec_9948_b06ebfbf2340level0_row19\" class=\"row_heading level0 row19\" >19</th>\n",
       "                        <td id=\"T_967d80fe_430a_11ec_9948_b06ebfbf2340row19_col0\" class=\"data row19 col0\" >USI</td>\n",
       "                        <td id=\"T_967d80fe_430a_11ec_9948_b06ebfbf2340row19_col1\" class=\"data row19 col1\" >4ae2</td>\n",
       "            </tr>\n",
       "            <tr>\n",
       "                        <th id=\"T_967d80fe_430a_11ec_9948_b06ebfbf2340level0_row20\" class=\"row_heading level0 row20\" >20</th>\n",
       "                        <td id=\"T_967d80fe_430a_11ec_9948_b06ebfbf2340row20_col0\" class=\"data row20 col0\" >Imputation Type</td>\n",
       "                        <td id=\"T_967d80fe_430a_11ec_9948_b06ebfbf2340row20_col1\" class=\"data row20 col1\" >simple</td>\n",
       "            </tr>\n",
       "            <tr>\n",
       "                        <th id=\"T_967d80fe_430a_11ec_9948_b06ebfbf2340level0_row21\" class=\"row_heading level0 row21\" >21</th>\n",
       "                        <td id=\"T_967d80fe_430a_11ec_9948_b06ebfbf2340row21_col0\" class=\"data row21 col0\" >Iterative Imputation Iteration</td>\n",
       "                        <td id=\"T_967d80fe_430a_11ec_9948_b06ebfbf2340row21_col1\" class=\"data row21 col1\" >None</td>\n",
       "            </tr>\n",
       "            <tr>\n",
       "                        <th id=\"T_967d80fe_430a_11ec_9948_b06ebfbf2340level0_row22\" class=\"row_heading level0 row22\" >22</th>\n",
       "                        <td id=\"T_967d80fe_430a_11ec_9948_b06ebfbf2340row22_col0\" class=\"data row22 col0\" >Numeric Imputer</td>\n",
       "                        <td id=\"T_967d80fe_430a_11ec_9948_b06ebfbf2340row22_col1\" class=\"data row22 col1\" >mean</td>\n",
       "            </tr>\n",
       "            <tr>\n",
       "                        <th id=\"T_967d80fe_430a_11ec_9948_b06ebfbf2340level0_row23\" class=\"row_heading level0 row23\" >23</th>\n",
       "                        <td id=\"T_967d80fe_430a_11ec_9948_b06ebfbf2340row23_col0\" class=\"data row23 col0\" >Iterative Imputation Numeric Model</td>\n",
       "                        <td id=\"T_967d80fe_430a_11ec_9948_b06ebfbf2340row23_col1\" class=\"data row23 col1\" >None</td>\n",
       "            </tr>\n",
       "            <tr>\n",
       "                        <th id=\"T_967d80fe_430a_11ec_9948_b06ebfbf2340level0_row24\" class=\"row_heading level0 row24\" >24</th>\n",
       "                        <td id=\"T_967d80fe_430a_11ec_9948_b06ebfbf2340row24_col0\" class=\"data row24 col0\" >Categorical Imputer</td>\n",
       "                        <td id=\"T_967d80fe_430a_11ec_9948_b06ebfbf2340row24_col1\" class=\"data row24 col1\" >constant</td>\n",
       "            </tr>\n",
       "            <tr>\n",
       "                        <th id=\"T_967d80fe_430a_11ec_9948_b06ebfbf2340level0_row25\" class=\"row_heading level0 row25\" >25</th>\n",
       "                        <td id=\"T_967d80fe_430a_11ec_9948_b06ebfbf2340row25_col0\" class=\"data row25 col0\" >Iterative Imputation Categorical Model</td>\n",
       "                        <td id=\"T_967d80fe_430a_11ec_9948_b06ebfbf2340row25_col1\" class=\"data row25 col1\" >None</td>\n",
       "            </tr>\n",
       "            <tr>\n",
       "                        <th id=\"T_967d80fe_430a_11ec_9948_b06ebfbf2340level0_row26\" class=\"row_heading level0 row26\" >26</th>\n",
       "                        <td id=\"T_967d80fe_430a_11ec_9948_b06ebfbf2340row26_col0\" class=\"data row26 col0\" >Unknown Categoricals Handling</td>\n",
       "                        <td id=\"T_967d80fe_430a_11ec_9948_b06ebfbf2340row26_col1\" class=\"data row26 col1\" >least_frequent</td>\n",
       "            </tr>\n",
       "            <tr>\n",
       "                        <th id=\"T_967d80fe_430a_11ec_9948_b06ebfbf2340level0_row27\" class=\"row_heading level0 row27\" >27</th>\n",
       "                        <td id=\"T_967d80fe_430a_11ec_9948_b06ebfbf2340row27_col0\" class=\"data row27 col0\" >Normalize</td>\n",
       "                        <td id=\"T_967d80fe_430a_11ec_9948_b06ebfbf2340row27_col1\" class=\"data row27 col1\" >False</td>\n",
       "            </tr>\n",
       "            <tr>\n",
       "                        <th id=\"T_967d80fe_430a_11ec_9948_b06ebfbf2340level0_row28\" class=\"row_heading level0 row28\" >28</th>\n",
       "                        <td id=\"T_967d80fe_430a_11ec_9948_b06ebfbf2340row28_col0\" class=\"data row28 col0\" >Normalize Method</td>\n",
       "                        <td id=\"T_967d80fe_430a_11ec_9948_b06ebfbf2340row28_col1\" class=\"data row28 col1\" >None</td>\n",
       "            </tr>\n",
       "            <tr>\n",
       "                        <th id=\"T_967d80fe_430a_11ec_9948_b06ebfbf2340level0_row29\" class=\"row_heading level0 row29\" >29</th>\n",
       "                        <td id=\"T_967d80fe_430a_11ec_9948_b06ebfbf2340row29_col0\" class=\"data row29 col0\" >Transformation</td>\n",
       "                        <td id=\"T_967d80fe_430a_11ec_9948_b06ebfbf2340row29_col1\" class=\"data row29 col1\" >False</td>\n",
       "            </tr>\n",
       "            <tr>\n",
       "                        <th id=\"T_967d80fe_430a_11ec_9948_b06ebfbf2340level0_row30\" class=\"row_heading level0 row30\" >30</th>\n",
       "                        <td id=\"T_967d80fe_430a_11ec_9948_b06ebfbf2340row30_col0\" class=\"data row30 col0\" >Transformation Method</td>\n",
       "                        <td id=\"T_967d80fe_430a_11ec_9948_b06ebfbf2340row30_col1\" class=\"data row30 col1\" >None</td>\n",
       "            </tr>\n",
       "            <tr>\n",
       "                        <th id=\"T_967d80fe_430a_11ec_9948_b06ebfbf2340level0_row31\" class=\"row_heading level0 row31\" >31</th>\n",
       "                        <td id=\"T_967d80fe_430a_11ec_9948_b06ebfbf2340row31_col0\" class=\"data row31 col0\" >PCA</td>\n",
       "                        <td id=\"T_967d80fe_430a_11ec_9948_b06ebfbf2340row31_col1\" class=\"data row31 col1\" >False</td>\n",
       "            </tr>\n",
       "            <tr>\n",
       "                        <th id=\"T_967d80fe_430a_11ec_9948_b06ebfbf2340level0_row32\" class=\"row_heading level0 row32\" >32</th>\n",
       "                        <td id=\"T_967d80fe_430a_11ec_9948_b06ebfbf2340row32_col0\" class=\"data row32 col0\" >PCA Method</td>\n",
       "                        <td id=\"T_967d80fe_430a_11ec_9948_b06ebfbf2340row32_col1\" class=\"data row32 col1\" >None</td>\n",
       "            </tr>\n",
       "            <tr>\n",
       "                        <th id=\"T_967d80fe_430a_11ec_9948_b06ebfbf2340level0_row33\" class=\"row_heading level0 row33\" >33</th>\n",
       "                        <td id=\"T_967d80fe_430a_11ec_9948_b06ebfbf2340row33_col0\" class=\"data row33 col0\" >PCA Components</td>\n",
       "                        <td id=\"T_967d80fe_430a_11ec_9948_b06ebfbf2340row33_col1\" class=\"data row33 col1\" >None</td>\n",
       "            </tr>\n",
       "            <tr>\n",
       "                        <th id=\"T_967d80fe_430a_11ec_9948_b06ebfbf2340level0_row34\" class=\"row_heading level0 row34\" >34</th>\n",
       "                        <td id=\"T_967d80fe_430a_11ec_9948_b06ebfbf2340row34_col0\" class=\"data row34 col0\" >Ignore Low Variance</td>\n",
       "                        <td id=\"T_967d80fe_430a_11ec_9948_b06ebfbf2340row34_col1\" class=\"data row34 col1\" >False</td>\n",
       "            </tr>\n",
       "            <tr>\n",
       "                        <th id=\"T_967d80fe_430a_11ec_9948_b06ebfbf2340level0_row35\" class=\"row_heading level0 row35\" >35</th>\n",
       "                        <td id=\"T_967d80fe_430a_11ec_9948_b06ebfbf2340row35_col0\" class=\"data row35 col0\" >Combine Rare Levels</td>\n",
       "                        <td id=\"T_967d80fe_430a_11ec_9948_b06ebfbf2340row35_col1\" class=\"data row35 col1\" >False</td>\n",
       "            </tr>\n",
       "            <tr>\n",
       "                        <th id=\"T_967d80fe_430a_11ec_9948_b06ebfbf2340level0_row36\" class=\"row_heading level0 row36\" >36</th>\n",
       "                        <td id=\"T_967d80fe_430a_11ec_9948_b06ebfbf2340row36_col0\" class=\"data row36 col0\" >Rare Level Threshold</td>\n",
       "                        <td id=\"T_967d80fe_430a_11ec_9948_b06ebfbf2340row36_col1\" class=\"data row36 col1\" >None</td>\n",
       "            </tr>\n",
       "            <tr>\n",
       "                        <th id=\"T_967d80fe_430a_11ec_9948_b06ebfbf2340level0_row37\" class=\"row_heading level0 row37\" >37</th>\n",
       "                        <td id=\"T_967d80fe_430a_11ec_9948_b06ebfbf2340row37_col0\" class=\"data row37 col0\" >Numeric Binning</td>\n",
       "                        <td id=\"T_967d80fe_430a_11ec_9948_b06ebfbf2340row37_col1\" class=\"data row37 col1\" >False</td>\n",
       "            </tr>\n",
       "            <tr>\n",
       "                        <th id=\"T_967d80fe_430a_11ec_9948_b06ebfbf2340level0_row38\" class=\"row_heading level0 row38\" >38</th>\n",
       "                        <td id=\"T_967d80fe_430a_11ec_9948_b06ebfbf2340row38_col0\" class=\"data row38 col0\" >Remove Outliers</td>\n",
       "                        <td id=\"T_967d80fe_430a_11ec_9948_b06ebfbf2340row38_col1\" class=\"data row38 col1\" >False</td>\n",
       "            </tr>\n",
       "            <tr>\n",
       "                        <th id=\"T_967d80fe_430a_11ec_9948_b06ebfbf2340level0_row39\" class=\"row_heading level0 row39\" >39</th>\n",
       "                        <td id=\"T_967d80fe_430a_11ec_9948_b06ebfbf2340row39_col0\" class=\"data row39 col0\" >Outliers Threshold</td>\n",
       "                        <td id=\"T_967d80fe_430a_11ec_9948_b06ebfbf2340row39_col1\" class=\"data row39 col1\" >None</td>\n",
       "            </tr>\n",
       "            <tr>\n",
       "                        <th id=\"T_967d80fe_430a_11ec_9948_b06ebfbf2340level0_row40\" class=\"row_heading level0 row40\" >40</th>\n",
       "                        <td id=\"T_967d80fe_430a_11ec_9948_b06ebfbf2340row40_col0\" class=\"data row40 col0\" >Remove Multicollinearity</td>\n",
       "                        <td id=\"T_967d80fe_430a_11ec_9948_b06ebfbf2340row40_col1\" class=\"data row40 col1\" >False</td>\n",
       "            </tr>\n",
       "            <tr>\n",
       "                        <th id=\"T_967d80fe_430a_11ec_9948_b06ebfbf2340level0_row41\" class=\"row_heading level0 row41\" >41</th>\n",
       "                        <td id=\"T_967d80fe_430a_11ec_9948_b06ebfbf2340row41_col0\" class=\"data row41 col0\" >Multicollinearity Threshold</td>\n",
       "                        <td id=\"T_967d80fe_430a_11ec_9948_b06ebfbf2340row41_col1\" class=\"data row41 col1\" >None</td>\n",
       "            </tr>\n",
       "            <tr>\n",
       "                        <th id=\"T_967d80fe_430a_11ec_9948_b06ebfbf2340level0_row42\" class=\"row_heading level0 row42\" >42</th>\n",
       "                        <td id=\"T_967d80fe_430a_11ec_9948_b06ebfbf2340row42_col0\" class=\"data row42 col0\" >Remove Perfect Collinearity</td>\n",
       "                        <td id=\"T_967d80fe_430a_11ec_9948_b06ebfbf2340row42_col1\" class=\"data row42 col1\" >True</td>\n",
       "            </tr>\n",
       "            <tr>\n",
       "                        <th id=\"T_967d80fe_430a_11ec_9948_b06ebfbf2340level0_row43\" class=\"row_heading level0 row43\" >43</th>\n",
       "                        <td id=\"T_967d80fe_430a_11ec_9948_b06ebfbf2340row43_col0\" class=\"data row43 col0\" >Clustering</td>\n",
       "                        <td id=\"T_967d80fe_430a_11ec_9948_b06ebfbf2340row43_col1\" class=\"data row43 col1\" >False</td>\n",
       "            </tr>\n",
       "            <tr>\n",
       "                        <th id=\"T_967d80fe_430a_11ec_9948_b06ebfbf2340level0_row44\" class=\"row_heading level0 row44\" >44</th>\n",
       "                        <td id=\"T_967d80fe_430a_11ec_9948_b06ebfbf2340row44_col0\" class=\"data row44 col0\" >Clustering Iteration</td>\n",
       "                        <td id=\"T_967d80fe_430a_11ec_9948_b06ebfbf2340row44_col1\" class=\"data row44 col1\" >None</td>\n",
       "            </tr>\n",
       "            <tr>\n",
       "                        <th id=\"T_967d80fe_430a_11ec_9948_b06ebfbf2340level0_row45\" class=\"row_heading level0 row45\" >45</th>\n",
       "                        <td id=\"T_967d80fe_430a_11ec_9948_b06ebfbf2340row45_col0\" class=\"data row45 col0\" >Polynomial Features</td>\n",
       "                        <td id=\"T_967d80fe_430a_11ec_9948_b06ebfbf2340row45_col1\" class=\"data row45 col1\" >False</td>\n",
       "            </tr>\n",
       "            <tr>\n",
       "                        <th id=\"T_967d80fe_430a_11ec_9948_b06ebfbf2340level0_row46\" class=\"row_heading level0 row46\" >46</th>\n",
       "                        <td id=\"T_967d80fe_430a_11ec_9948_b06ebfbf2340row46_col0\" class=\"data row46 col0\" >Polynomial Degree</td>\n",
       "                        <td id=\"T_967d80fe_430a_11ec_9948_b06ebfbf2340row46_col1\" class=\"data row46 col1\" >None</td>\n",
       "            </tr>\n",
       "            <tr>\n",
       "                        <th id=\"T_967d80fe_430a_11ec_9948_b06ebfbf2340level0_row47\" class=\"row_heading level0 row47\" >47</th>\n",
       "                        <td id=\"T_967d80fe_430a_11ec_9948_b06ebfbf2340row47_col0\" class=\"data row47 col0\" >Trignometry Features</td>\n",
       "                        <td id=\"T_967d80fe_430a_11ec_9948_b06ebfbf2340row47_col1\" class=\"data row47 col1\" >False</td>\n",
       "            </tr>\n",
       "            <tr>\n",
       "                        <th id=\"T_967d80fe_430a_11ec_9948_b06ebfbf2340level0_row48\" class=\"row_heading level0 row48\" >48</th>\n",
       "                        <td id=\"T_967d80fe_430a_11ec_9948_b06ebfbf2340row48_col0\" class=\"data row48 col0\" >Polynomial Threshold</td>\n",
       "                        <td id=\"T_967d80fe_430a_11ec_9948_b06ebfbf2340row48_col1\" class=\"data row48 col1\" >None</td>\n",
       "            </tr>\n",
       "            <tr>\n",
       "                        <th id=\"T_967d80fe_430a_11ec_9948_b06ebfbf2340level0_row49\" class=\"row_heading level0 row49\" >49</th>\n",
       "                        <td id=\"T_967d80fe_430a_11ec_9948_b06ebfbf2340row49_col0\" class=\"data row49 col0\" >Group Features</td>\n",
       "                        <td id=\"T_967d80fe_430a_11ec_9948_b06ebfbf2340row49_col1\" class=\"data row49 col1\" >False</td>\n",
       "            </tr>\n",
       "            <tr>\n",
       "                        <th id=\"T_967d80fe_430a_11ec_9948_b06ebfbf2340level0_row50\" class=\"row_heading level0 row50\" >50</th>\n",
       "                        <td id=\"T_967d80fe_430a_11ec_9948_b06ebfbf2340row50_col0\" class=\"data row50 col0\" >Feature Selection</td>\n",
       "                        <td id=\"T_967d80fe_430a_11ec_9948_b06ebfbf2340row50_col1\" class=\"data row50 col1\" >False</td>\n",
       "            </tr>\n",
       "            <tr>\n",
       "                        <th id=\"T_967d80fe_430a_11ec_9948_b06ebfbf2340level0_row51\" class=\"row_heading level0 row51\" >51</th>\n",
       "                        <td id=\"T_967d80fe_430a_11ec_9948_b06ebfbf2340row51_col0\" class=\"data row51 col0\" >Feature Selection Method</td>\n",
       "                        <td id=\"T_967d80fe_430a_11ec_9948_b06ebfbf2340row51_col1\" class=\"data row51 col1\" >classic</td>\n",
       "            </tr>\n",
       "            <tr>\n",
       "                        <th id=\"T_967d80fe_430a_11ec_9948_b06ebfbf2340level0_row52\" class=\"row_heading level0 row52\" >52</th>\n",
       "                        <td id=\"T_967d80fe_430a_11ec_9948_b06ebfbf2340row52_col0\" class=\"data row52 col0\" >Features Selection Threshold</td>\n",
       "                        <td id=\"T_967d80fe_430a_11ec_9948_b06ebfbf2340row52_col1\" class=\"data row52 col1\" >None</td>\n",
       "            </tr>\n",
       "            <tr>\n",
       "                        <th id=\"T_967d80fe_430a_11ec_9948_b06ebfbf2340level0_row53\" class=\"row_heading level0 row53\" >53</th>\n",
       "                        <td id=\"T_967d80fe_430a_11ec_9948_b06ebfbf2340row53_col0\" class=\"data row53 col0\" >Feature Interaction</td>\n",
       "                        <td id=\"T_967d80fe_430a_11ec_9948_b06ebfbf2340row53_col1\" class=\"data row53 col1\" >False</td>\n",
       "            </tr>\n",
       "            <tr>\n",
       "                        <th id=\"T_967d80fe_430a_11ec_9948_b06ebfbf2340level0_row54\" class=\"row_heading level0 row54\" >54</th>\n",
       "                        <td id=\"T_967d80fe_430a_11ec_9948_b06ebfbf2340row54_col0\" class=\"data row54 col0\" >Feature Ratio</td>\n",
       "                        <td id=\"T_967d80fe_430a_11ec_9948_b06ebfbf2340row54_col1\" class=\"data row54 col1\" >False</td>\n",
       "            </tr>\n",
       "            <tr>\n",
       "                        <th id=\"T_967d80fe_430a_11ec_9948_b06ebfbf2340level0_row55\" class=\"row_heading level0 row55\" >55</th>\n",
       "                        <td id=\"T_967d80fe_430a_11ec_9948_b06ebfbf2340row55_col0\" class=\"data row55 col0\" >Interaction Threshold</td>\n",
       "                        <td id=\"T_967d80fe_430a_11ec_9948_b06ebfbf2340row55_col1\" class=\"data row55 col1\" >None</td>\n",
       "            </tr>\n",
       "            <tr>\n",
       "                        <th id=\"T_967d80fe_430a_11ec_9948_b06ebfbf2340level0_row56\" class=\"row_heading level0 row56\" >56</th>\n",
       "                        <td id=\"T_967d80fe_430a_11ec_9948_b06ebfbf2340row56_col0\" class=\"data row56 col0\" >Transform Target</td>\n",
       "                        <td id=\"T_967d80fe_430a_11ec_9948_b06ebfbf2340row56_col1\" class=\"data row56 col1\" >False</td>\n",
       "            </tr>\n",
       "            <tr>\n",
       "                        <th id=\"T_967d80fe_430a_11ec_9948_b06ebfbf2340level0_row57\" class=\"row_heading level0 row57\" >57</th>\n",
       "                        <td id=\"T_967d80fe_430a_11ec_9948_b06ebfbf2340row57_col0\" class=\"data row57 col0\" >Transform Target Method</td>\n",
       "                        <td id=\"T_967d80fe_430a_11ec_9948_b06ebfbf2340row57_col1\" class=\"data row57 col1\" >box-cox</td>\n",
       "            </tr>\n",
       "    </tbody></table>"
      ],
      "text/plain": [
       "<pandas.io.formats.style.Styler at 0x1ebaead3eb8>"
      ]
     },
     "metadata": {},
     "output_type": "display_data"
    }
   ],
   "source": [
    "s = setup(df, target = 'resistivity', session_id = 123)"
   ]
  },
  {
   "cell_type": "code",
   "execution_count": 19,
   "id": "33d24d95",
   "metadata": {},
   "outputs": [
    {
     "data": {
      "text/html": [
       "<div>\n",
       "<style scoped>\n",
       "    .dataframe tbody tr th:only-of-type {\n",
       "        vertical-align: middle;\n",
       "    }\n",
       "\n",
       "    .dataframe tbody tr th {\n",
       "        vertical-align: top;\n",
       "    }\n",
       "\n",
       "    .dataframe thead th {\n",
       "        text-align: right;\n",
       "    }\n",
       "</style>\n",
       "<table border=\"1\" class=\"dataframe\">\n",
       "  <thead>\n",
       "    <tr style=\"text-align: right;\">\n",
       "      <th></th>\n",
       "      <th>gamma_ray _left</th>\n",
       "      <th>bulk_density_left</th>\n",
       "      <th>neutron_porosity_left</th>\n",
       "      <th>neutron_porosity_density_crossover_no</th>\n",
       "      <th>hydrocarbon_present_no</th>\n",
       "    </tr>\n",
       "    <tr>\n",
       "      <th>well_id</th>\n",
       "      <th></th>\n",
       "      <th></th>\n",
       "      <th></th>\n",
       "      <th></th>\n",
       "      <th></th>\n",
       "    </tr>\n",
       "  </thead>\n",
       "  <tbody>\n",
       "    <tr>\n",
       "      <th>21</th>\n",
       "      <td>1.0</td>\n",
       "      <td>1.0</td>\n",
       "      <td>1.0</td>\n",
       "      <td>0.0</td>\n",
       "      <td>0.0</td>\n",
       "    </tr>\n",
       "    <tr>\n",
       "      <th>4</th>\n",
       "      <td>1.0</td>\n",
       "      <td>1.0</td>\n",
       "      <td>1.0</td>\n",
       "      <td>0.0</td>\n",
       "      <td>0.0</td>\n",
       "    </tr>\n",
       "    <tr>\n",
       "      <th>3</th>\n",
       "      <td>1.0</td>\n",
       "      <td>1.0</td>\n",
       "      <td>1.0</td>\n",
       "      <td>0.0</td>\n",
       "      <td>0.0</td>\n",
       "    </tr>\n",
       "    <tr>\n",
       "      <th>28</th>\n",
       "      <td>1.0</td>\n",
       "      <td>1.0</td>\n",
       "      <td>0.0</td>\n",
       "      <td>0.0</td>\n",
       "      <td>1.0</td>\n",
       "    </tr>\n",
       "    <tr>\n",
       "      <th>19</th>\n",
       "      <td>1.0</td>\n",
       "      <td>1.0</td>\n",
       "      <td>1.0</td>\n",
       "      <td>0.0</td>\n",
       "      <td>1.0</td>\n",
       "    </tr>\n",
       "    <tr>\n",
       "      <th>16</th>\n",
       "      <td>1.0</td>\n",
       "      <td>1.0</td>\n",
       "      <td>0.0</td>\n",
       "      <td>0.0</td>\n",
       "      <td>1.0</td>\n",
       "    </tr>\n",
       "    <tr>\n",
       "      <th>23</th>\n",
       "      <td>1.0</td>\n",
       "      <td>1.0</td>\n",
       "      <td>1.0</td>\n",
       "      <td>0.0</td>\n",
       "      <td>0.0</td>\n",
       "    </tr>\n",
       "    <tr>\n",
       "      <th>10</th>\n",
       "      <td>1.0</td>\n",
       "      <td>0.0</td>\n",
       "      <td>1.0</td>\n",
       "      <td>0.0</td>\n",
       "      <td>1.0</td>\n",
       "    </tr>\n",
       "    <tr>\n",
       "      <th>17</th>\n",
       "      <td>1.0</td>\n",
       "      <td>1.0</td>\n",
       "      <td>1.0</td>\n",
       "      <td>0.0</td>\n",
       "      <td>0.0</td>\n",
       "    </tr>\n",
       "    <tr>\n",
       "      <th>29</th>\n",
       "      <td>1.0</td>\n",
       "      <td>1.0</td>\n",
       "      <td>1.0</td>\n",
       "      <td>0.0</td>\n",
       "      <td>1.0</td>\n",
       "    </tr>\n",
       "    <tr>\n",
       "      <th>0</th>\n",
       "      <td>1.0</td>\n",
       "      <td>1.0</td>\n",
       "      <td>1.0</td>\n",
       "      <td>0.0</td>\n",
       "      <td>0.0</td>\n",
       "    </tr>\n",
       "    <tr>\n",
       "      <th>1</th>\n",
       "      <td>1.0</td>\n",
       "      <td>0.0</td>\n",
       "      <td>1.0</td>\n",
       "      <td>0.0</td>\n",
       "      <td>0.0</td>\n",
       "    </tr>\n",
       "    <tr>\n",
       "      <th>26</th>\n",
       "      <td>1.0</td>\n",
       "      <td>1.0</td>\n",
       "      <td>0.0</td>\n",
       "      <td>0.0</td>\n",
       "      <td>1.0</td>\n",
       "    </tr>\n",
       "    <tr>\n",
       "      <th>11</th>\n",
       "      <td>1.0</td>\n",
       "      <td>1.0</td>\n",
       "      <td>0.0</td>\n",
       "      <td>0.0</td>\n",
       "      <td>1.0</td>\n",
       "    </tr>\n",
       "    <tr>\n",
       "      <th>22</th>\n",
       "      <td>1.0</td>\n",
       "      <td>1.0</td>\n",
       "      <td>1.0</td>\n",
       "      <td>0.0</td>\n",
       "      <td>0.0</td>\n",
       "    </tr>\n",
       "    <tr>\n",
       "      <th>20</th>\n",
       "      <td>0.0</td>\n",
       "      <td>1.0</td>\n",
       "      <td>1.0</td>\n",
       "      <td>0.0</td>\n",
       "      <td>0.0</td>\n",
       "    </tr>\n",
       "    <tr>\n",
       "      <th>7</th>\n",
       "      <td>1.0</td>\n",
       "      <td>0.0</td>\n",
       "      <td>0.0</td>\n",
       "      <td>1.0</td>\n",
       "      <td>1.0</td>\n",
       "    </tr>\n",
       "    <tr>\n",
       "      <th>33</th>\n",
       "      <td>1.0</td>\n",
       "      <td>1.0</td>\n",
       "      <td>1.0</td>\n",
       "      <td>0.0</td>\n",
       "      <td>0.0</td>\n",
       "    </tr>\n",
       "    <tr>\n",
       "      <th>32</th>\n",
       "      <td>1.0</td>\n",
       "      <td>1.0</td>\n",
       "      <td>1.0</td>\n",
       "      <td>0.0</td>\n",
       "      <td>0.0</td>\n",
       "    </tr>\n",
       "    <tr>\n",
       "      <th>2</th>\n",
       "      <td>1.0</td>\n",
       "      <td>1.0</td>\n",
       "      <td>0.0</td>\n",
       "      <td>1.0</td>\n",
       "      <td>1.0</td>\n",
       "    </tr>\n",
       "    <tr>\n",
       "      <th>14</th>\n",
       "      <td>1.0</td>\n",
       "      <td>1.0</td>\n",
       "      <td>1.0</td>\n",
       "      <td>0.0</td>\n",
       "      <td>0.0</td>\n",
       "    </tr>\n",
       "    <tr>\n",
       "      <th>34</th>\n",
       "      <td>1.0</td>\n",
       "      <td>0.0</td>\n",
       "      <td>1.0</td>\n",
       "      <td>0.0</td>\n",
       "      <td>1.0</td>\n",
       "    </tr>\n",
       "  </tbody>\n",
       "</table>\n",
       "</div>"
      ],
      "text/plain": [
       "         gamma_ray _left  bulk_density_left  neutron_porosity_left  \\\n",
       "well_id                                                              \n",
       "21                   1.0                1.0                    1.0   \n",
       "4                    1.0                1.0                    1.0   \n",
       "3                    1.0                1.0                    1.0   \n",
       "28                   1.0                1.0                    0.0   \n",
       "19                   1.0                1.0                    1.0   \n",
       "16                   1.0                1.0                    0.0   \n",
       "23                   1.0                1.0                    1.0   \n",
       "10                   1.0                0.0                    1.0   \n",
       "17                   1.0                1.0                    1.0   \n",
       "29                   1.0                1.0                    1.0   \n",
       "0                    1.0                1.0                    1.0   \n",
       "1                    1.0                0.0                    1.0   \n",
       "26                   1.0                1.0                    0.0   \n",
       "11                   1.0                1.0                    0.0   \n",
       "22                   1.0                1.0                    1.0   \n",
       "20                   0.0                1.0                    1.0   \n",
       "7                    1.0                0.0                    0.0   \n",
       "33                   1.0                1.0                    1.0   \n",
       "32                   1.0                1.0                    1.0   \n",
       "2                    1.0                1.0                    0.0   \n",
       "14                   1.0                1.0                    1.0   \n",
       "34                   1.0                0.0                    1.0   \n",
       "\n",
       "         neutron_porosity_density_crossover_no  hydrocarbon_present_no  \n",
       "well_id                                                                 \n",
       "21                                         0.0                     0.0  \n",
       "4                                          0.0                     0.0  \n",
       "3                                          0.0                     0.0  \n",
       "28                                         0.0                     1.0  \n",
       "19                                         0.0                     1.0  \n",
       "16                                         0.0                     1.0  \n",
       "23                                         0.0                     0.0  \n",
       "10                                         0.0                     1.0  \n",
       "17                                         0.0                     0.0  \n",
       "29                                         0.0                     1.0  \n",
       "0                                          0.0                     0.0  \n",
       "1                                          0.0                     0.0  \n",
       "26                                         0.0                     1.0  \n",
       "11                                         0.0                     1.0  \n",
       "22                                         0.0                     0.0  \n",
       "20                                         0.0                     0.0  \n",
       "7                                          1.0                     1.0  \n",
       "33                                         0.0                     0.0  \n",
       "32                                         0.0                     0.0  \n",
       "2                                          1.0                     1.0  \n",
       "14                                         0.0                     0.0  \n",
       "34                                         0.0                     1.0  "
      ]
     },
     "execution_count": 19,
     "metadata": {},
     "output_type": "execute_result"
    }
   ],
   "source": [
    "# check transformed X_train\n",
    "get_config('X_train')"
   ]
  },
  {
   "cell_type": "code",
   "execution_count": 20,
   "id": "fd2aa5d3",
   "metadata": {},
   "outputs": [
    {
     "data": {
      "text/html": [
       "<style  type=\"text/css\" >\n",
       "</style><table id=\"T_b76c088a_430a_11ec_84d9_b06ebfbf2340\" ><thead></thead><tbody>\n",
       "        </tbody></table>"
      ],
      "text/plain": [
       "<pandas.io.formats.style.Styler at 0x1eba8ededa0>"
      ]
     },
     "metadata": {},
     "output_type": "display_data"
    }
   ],
   "source": [
    "# train all models using default hyperparameters\n",
    "best = compare_models()"
   ]
  },
  {
   "cell_type": "code",
   "execution_count": 21,
   "id": "1ef32bda",
   "metadata": {},
   "outputs": [
    {
     "name": "stdout",
     "output_type": "stream",
     "text": [
      "[]\n"
     ]
    }
   ],
   "source": [
    "print(best)"
   ]
  },
  {
   "cell_type": "code",
   "execution_count": null,
   "id": "ea7a588e",
   "metadata": {},
   "outputs": [],
   "source": []
  }
 ],
 "metadata": {
  "kernelspec": {
   "display_name": "Python 3",
   "language": "python",
   "name": "python3"
  },
  "language_info": {
   "codemirror_mode": {
    "name": "ipython",
    "version": 3
   },
   "file_extension": ".py",
   "mimetype": "text/x-python",
   "name": "python",
   "nbconvert_exporter": "python",
   "pygments_lexer": "ipython3",
   "version": "3.6.13"
  },
  "toc": {
   "base_numbering": 1,
   "nav_menu": {},
   "number_sections": true,
   "sideBar": true,
   "skip_h1_title": false,
   "title_cell": "Table of Contents",
   "title_sidebar": "Contents",
   "toc_cell": true,
   "toc_position": {},
   "toc_section_display": true,
   "toc_window_display": true
  }
 },
 "nbformat": 4,
 "nbformat_minor": 5
}
