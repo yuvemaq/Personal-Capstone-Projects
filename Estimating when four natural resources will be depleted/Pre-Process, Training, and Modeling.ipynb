{
 "cells": [
  {
   "cell_type": "markdown",
   "id": "bf3e7604",
   "metadata": {
    "toc": true
   },
   "source": [
    "<h1>Table of Contents<span class=\"tocSkip\"></span></h1>\n",
    "<div class=\"toc\"><ul class=\"toc-item\"><li><span><a href=\"#Pre-Process,-Training,-and-Modeling\" data-toc-modified-id=\"Pre-Process,-Training,-and-Modeling-1\"><span class=\"toc-item-num\">1&nbsp;&nbsp;</span>Pre-Process, Training, and Modeling</a></span><ul class=\"toc-item\"><li><span><a href=\"#Pre-processing-of-well-log-analysis\" data-toc-modified-id=\"Pre-processing-of-well-log-analysis-1.1\"><span class=\"toc-item-num\">1.1&nbsp;&nbsp;</span>Pre-processing of well log analysis</a></span><ul class=\"toc-item\"><li><span><a href=\"#Classification\" data-toc-modified-id=\"Classification-1.1.1\"><span class=\"toc-item-num\">1.1.1&nbsp;&nbsp;</span>Classification</a></span></li></ul></li></ul></li><li><span><a href=\"#Pycaret\" data-toc-modified-id=\"Pycaret-2\"><span class=\"toc-item-num\">2&nbsp;&nbsp;</span>Pycaret</a></span><ul class=\"toc-item\"><li><ul class=\"toc-item\"><li><span><a href=\"#K-Means-clustering\" data-toc-modified-id=\"K-Means-clustering-2.0.1\"><span class=\"toc-item-num\">2.0.1&nbsp;&nbsp;</span>K-Means clustering</a></span></li><li><span><a href=\"#Mean-shift\" data-toc-modified-id=\"Mean-shift-2.0.2\"><span class=\"toc-item-num\">2.0.2&nbsp;&nbsp;</span>Mean shift</a></span></li><li><span><a href=\"#Agglomerative-Clustering\" data-toc-modified-id=\"Agglomerative-Clustering-2.0.3\"><span class=\"toc-item-num\">2.0.3&nbsp;&nbsp;</span>Agglomerative Clustering</a></span></li><li><span><a href=\"#Birch-model\" data-toc-modified-id=\"Birch-model-2.0.4\"><span class=\"toc-item-num\">2.0.4&nbsp;&nbsp;</span>Birch model</a></span></li></ul></li></ul></li></ul></div>"
   ]
  },
  {
   "cell_type": "markdown",
   "id": "4aebe969",
   "metadata": {},
   "source": [
    "# Pre-Process, Training, and Modeling"
   ]
  },
  {
   "cell_type": "markdown",
   "id": "d045ad72",
   "metadata": {},
   "source": [
    "## Pre-processing of well log analysis\n",
    "\n",
    "Using the notebook with the well log, I interpreted the well logs in an excel sheet (using Ko Ko Rules in petrophysical interpretation), looking at Gamma ray, resistance, and Density and Neutron Porosities. "
   ]
  },
  {
   "cell_type": "code",
   "execution_count": 1,
   "id": "b6183fdf",
   "metadata": {},
   "outputs": [
    {
     "name": "stdout",
     "output_type": "stream",
     "text": [
      "Requirement already satisfied: numpy in d:\\user\\envs\\pycaret\\lib\\site-packages (1.19.5)\n"
     ]
    }
   ],
   "source": [
    "!pip install numpy"
   ]
  },
  {
   "cell_type": "code",
   "execution_count": 2,
   "id": "c3654c1f",
   "metadata": {},
   "outputs": [
    {
     "name": "stdout",
     "output_type": "stream",
     "text": [
      "Requirement already satisfied: pyexcel-xlsx in d:\\user\\envs\\pycaret\\lib\\site-packages (0.6.0)\n",
      "Requirement already satisfied: openpyxl>=2.6.1 in d:\\user\\envs\\pycaret\\lib\\site-packages (from pyexcel-xlsx) (3.0.9)\n",
      "Requirement already satisfied: pyexcel-io>=0.6.2 in d:\\user\\envs\\pycaret\\lib\\site-packages (from pyexcel-xlsx) (0.6.5)\n",
      "Requirement already satisfied: et-xmlfile in d:\\user\\envs\\pycaret\\lib\\site-packages (from openpyxl>=2.6.1->pyexcel-xlsx) (1.1.0)\n",
      "Requirement already satisfied: lml>=0.0.4 in d:\\user\\envs\\pycaret\\lib\\site-packages (from pyexcel-io>=0.6.2->pyexcel-xlsx) (0.1.0)\n"
     ]
    }
   ],
   "source": [
    "!pip install pyexcel-xlsx"
   ]
  },
  {
   "cell_type": "code",
   "execution_count": 3,
   "id": "7ab2486e",
   "metadata": {},
   "outputs": [
    {
     "name": "stdout",
     "output_type": "stream",
     "text": [
      "Requirement already satisfied: xlrd==1.2.0 in d:\\user\\envs\\pycaret\\lib\\site-packages (1.2.0)\n"
     ]
    }
   ],
   "source": [
    "!pip install xlrd==1.2.0"
   ]
  },
  {
   "cell_type": "code",
   "execution_count": 4,
   "id": "0acaa0d3",
   "metadata": {},
   "outputs": [
    {
     "name": "stdout",
     "output_type": "stream",
     "text": [
      "Requirement already satisfied: XlsxWriter in d:\\user\\envs\\pycaret\\lib\\site-packages (3.0.2)\n"
     ]
    }
   ],
   "source": [
    "!pip install XlsxWriter"
   ]
  },
  {
   "cell_type": "code",
   "execution_count": 5,
   "id": "028c27bd",
   "metadata": {},
   "outputs": [
    {
     "name": "stdout",
     "output_type": "stream",
     "text": [
      "Requirement already satisfied: xlwings in d:\\user\\envs\\pycaret\\lib\\site-packages (0.25.0)\n",
      "Requirement already satisfied: pywin32 in d:\\user\\envs\\pycaret\\lib\\site-packages (from xlwings) (227)\n"
     ]
    }
   ],
   "source": [
    "!pip install xlwings"
   ]
  },
  {
   "cell_type": "code",
   "execution_count": 6,
   "id": "84072153",
   "metadata": {},
   "outputs": [
    {
     "name": "stdout",
     "output_type": "stream",
     "text": [
      "Requirement already satisfied: xlwt in d:\\user\\envs\\pycaret\\lib\\site-packages (1.3.0)\n"
     ]
    }
   ],
   "source": [
    "!pip install xlwt"
   ]
  },
  {
   "cell_type": "code",
   "execution_count": 7,
   "id": "6c79dc9c",
   "metadata": {},
   "outputs": [],
   "source": [
    "import numpy as np\n",
    "import pandas as pd\n",
    "import matplotlib.pyplot as plt\n",
    "%matplotlib inline\n",
    "\n",
    "from sklearn.preprocessing import LabelEncoder\n",
    "from sklearn.ensemble import RandomForestClassifier\n",
    "from sklearn.tree import DecisionTreeClassifier"
   ]
  },
  {
   "cell_type": "code",
   "execution_count": 8,
   "id": "de34719a",
   "metadata": {},
   "outputs": [
    {
     "data": {
      "text/html": [
       "<div>\n",
       "<style scoped>\n",
       "    .dataframe tbody tr th:only-of-type {\n",
       "        vertical-align: middle;\n",
       "    }\n",
       "\n",
       "    .dataframe tbody tr th {\n",
       "        vertical-align: top;\n",
       "    }\n",
       "\n",
       "    .dataframe thead th {\n",
       "        text-align: right;\n",
       "    }\n",
       "</style>\n",
       "<table border=\"1\" class=\"dataframe\">\n",
       "  <thead>\n",
       "    <tr style=\"text-align: right;\">\n",
       "      <th></th>\n",
       "      <th>well_id</th>\n",
       "      <th>gamma_ray</th>\n",
       "      <th>resistivity</th>\n",
       "      <th>bulk_density</th>\n",
       "      <th>neutron_porosity</th>\n",
       "      <th>neutron_porosity_density_crossover</th>\n",
       "      <th>hydrocarbon_present</th>\n",
       "    </tr>\n",
       "  </thead>\n",
       "  <tbody>\n",
       "    <tr>\n",
       "      <th>0</th>\n",
       "      <td>0</td>\n",
       "      <td>left</td>\n",
       "      <td>right</td>\n",
       "      <td>left</td>\n",
       "      <td>left</td>\n",
       "      <td>yes</td>\n",
       "      <td>yes</td>\n",
       "    </tr>\n",
       "    <tr>\n",
       "      <th>1</th>\n",
       "      <td>1</td>\n",
       "      <td>left</td>\n",
       "      <td>left</td>\n",
       "      <td>right</td>\n",
       "      <td>left</td>\n",
       "      <td>yes</td>\n",
       "      <td>yes</td>\n",
       "    </tr>\n",
       "    <tr>\n",
       "      <th>2</th>\n",
       "      <td>2</td>\n",
       "      <td>left</td>\n",
       "      <td>right</td>\n",
       "      <td>left</td>\n",
       "      <td>right</td>\n",
       "      <td>no</td>\n",
       "      <td>no</td>\n",
       "    </tr>\n",
       "    <tr>\n",
       "      <th>3</th>\n",
       "      <td>3</td>\n",
       "      <td>left</td>\n",
       "      <td>right</td>\n",
       "      <td>left</td>\n",
       "      <td>left</td>\n",
       "      <td>yes</td>\n",
       "      <td>yes</td>\n",
       "    </tr>\n",
       "    <tr>\n",
       "      <th>4</th>\n",
       "      <td>4</td>\n",
       "      <td>left</td>\n",
       "      <td>right</td>\n",
       "      <td>left</td>\n",
       "      <td>left</td>\n",
       "      <td>yes</td>\n",
       "      <td>yes</td>\n",
       "    </tr>\n",
       "  </tbody>\n",
       "</table>\n",
       "</div>"
      ],
      "text/plain": [
       "   well_id gamma_ray  resistivity bulk_density neutron_porosity  \\\n",
       "0        0       left       right         left             left   \n",
       "1        1       left        left        right             left   \n",
       "2        2       left       right         left            right   \n",
       "3        3       left       right         left             left   \n",
       "4        4       left       right         left             left   \n",
       "\n",
       "  neutron_porosity_density_crossover hydrocarbon_present  \n",
       "0                                yes                 yes  \n",
       "1                                yes                 yes  \n",
       "2                                 no                  no  \n",
       "3                                yes                 yes  \n",
       "4                                yes                 yes  "
      ]
     },
     "execution_count": 8,
     "metadata": {},
     "output_type": "execute_result"
    }
   ],
   "source": [
    "# Read file\n",
    "path0 = r'C:\\Users\\yuvem\\OneDrive\\Documents\\table_well_log.xlsx'\n",
    "table = pd.read_excel(path0)\n",
    "table.head()"
   ]
  },
  {
   "cell_type": "code",
   "execution_count": 9,
   "id": "3bc20e75",
   "metadata": {},
   "outputs": [],
   "source": [
    "df = table.set_index('well_id')"
   ]
  },
  {
   "cell_type": "code",
   "execution_count": 10,
   "id": "4f3c038e",
   "metadata": {},
   "outputs": [
    {
     "data": {
      "text/plain": [
       "gamma_ray                             11\n",
       "resistivity                            8\n",
       "bulk_density                          11\n",
       "neutron_porosity                      11\n",
       "neutron_porosity_density_crossover    11\n",
       "hydrocarbon_present                   11\n",
       "dtype: int64"
      ]
     },
     "execution_count": 10,
     "metadata": {},
     "output_type": "execute_result"
    }
   ],
   "source": [
    "df.isnull().sum()"
   ]
  },
  {
   "cell_type": "code",
   "execution_count": 11,
   "id": "baf7f97d",
   "metadata": {},
   "outputs": [
    {
     "name": "stdout",
     "output_type": "stream",
     "text": [
      "gamma_ray                             0\n",
      "resistivity                           0\n",
      "bulk_density                          0\n",
      "neutron_porosity                      0\n",
      "neutron_porosity_density_crossover    0\n",
      "hydrocarbon_present                   0\n",
      "dtype: int64\n",
      "63\n"
     ]
    }
   ],
   "source": [
    "# Clear nulls\n",
    "df = df.dropna()\n",
    "print(df.isnull().sum())\n",
    "print(len(df))"
   ]
  },
  {
   "cell_type": "code",
   "execution_count": 12,
   "id": "940da191",
   "metadata": {},
   "outputs": [
    {
     "data": {
      "text/plain": [
       "array(['right', 'left'], dtype=object)"
      ]
     },
     "execution_count": 12,
     "metadata": {},
     "output_type": "execute_result"
    }
   ],
   "source": [
    "df.resistivity.unique()"
   ]
  },
  {
   "cell_type": "markdown",
   "id": "c8bac325",
   "metadata": {},
   "source": [
    "### Classification"
   ]
  },
  {
   "cell_type": "code",
   "execution_count": 13,
   "id": "2dddc8b2",
   "metadata": {},
   "outputs": [],
   "source": [
    "# Get x and y parameters\n",
    "x = df.iloc[: , :-1]\n",
    "feat =(['gamma_ray','resistivity','bulk_density','neutron_porosity','neutron_porosity_density_crossover'])\n",
    "y = df.iloc[:,5].values"
   ]
  },
  {
   "cell_type": "code",
   "execution_count": 14,
   "id": "2991c1bc",
   "metadata": {},
   "outputs": [],
   "source": [
    "label_x = LabelEncoder()\n",
    "x = x.apply(LabelEncoder().fit_transform)"
   ]
  },
  {
   "cell_type": "code",
   "execution_count": 15,
   "id": "671895d4",
   "metadata": {},
   "outputs": [
    {
     "name": "stdout",
     "output_type": "stream",
     "text": [
      "         gamma_ray   resistivity  bulk_density  neutron_porosity  \\\n",
      "well_id                                                            \n",
      "0                 1            1             0                 0   \n",
      "1                 1            0             1                 0   \n",
      "2                 1            1             0                 1   \n",
      "3                 1            1             0                 0   \n",
      "4                 1            1             0                 0   \n",
      "...             ...          ...           ...               ...   \n",
      "68                1            1             0                 1   \n",
      "70                1            0             0                 0   \n",
      "71                1            1             0                 1   \n",
      "72                1            0             0                 0   \n",
      "73                1            1             0                 0   \n",
      "\n",
      "         neutron_porosity_density_crossover  \n",
      "well_id                                      \n",
      "0                                         1  \n",
      "1                                         1  \n",
      "2                                         0  \n",
      "3                                         1  \n",
      "4                                         1  \n",
      "...                                     ...  \n",
      "68                                        1  \n",
      "70                                        0  \n",
      "71                                        0  \n",
      "72                                        0  \n",
      "73                                        1  \n",
      "\n",
      "[63 rows x 5 columns] ['gamma_ray', 'resistivity', 'bulk_density', 'neutron_porosity', 'neutron_porosity_density_crossover']\n"
     ]
    }
   ],
   "source": [
    "rfc = RandomForestClassifier(max_depth=None,\n",
    "                             criterion='gini')\n",
    "print(x,feat)"
   ]
  },
  {
   "cell_type": "code",
   "execution_count": 16,
   "id": "3bacd5c1",
   "metadata": {},
   "outputs": [
    {
     "data": {
      "text/plain": [
       "RandomForestClassifier()"
      ]
     },
     "execution_count": 16,
     "metadata": {},
     "output_type": "execute_result"
    }
   ],
   "source": [
    "# Train\n",
    "rfc.fit(x, y)"
   ]
  },
  {
   "cell_type": "code",
   "execution_count": 17,
   "id": "af1fbdd2",
   "metadata": {},
   "outputs": [
    {
     "name": "stdout",
     "output_type": "stream",
     "text": [
      "presence of hydrocarbon at this depth= ['yes']\n"
     ]
    }
   ],
   "source": [
    "#prediction\n",
    "x_in = np.array([1,1,0,0,1])\n",
    "x_in\n",
    "y_pred = rfc.predict([x_in])\n",
    "print(\"presence of hydrocarbon at this depth=\",y_pred)"
   ]
  },
  {
   "cell_type": "code",
   "execution_count": 18,
   "id": "bb5b013f",
   "metadata": {},
   "outputs": [
    {
     "data": {
      "text/plain": [
       "100.0"
      ]
     },
     "execution_count": 18,
     "metadata": {},
     "output_type": "execute_result"
    }
   ],
   "source": [
    "# Accuracy\n",
    "rfc.score(x,y)*100"
   ]
  },
  {
   "cell_type": "code",
   "execution_count": 19,
   "id": "b3dcc02a",
   "metadata": {},
   "outputs": [
    {
     "data": {
      "text/plain": [
       "DecisionTreeClassifier()"
      ]
     },
     "execution_count": 19,
     "metadata": {},
     "output_type": "execute_result"
    }
   ],
   "source": [
    "# Decision Tree classifier\n",
    "dtc = DecisionTreeClassifier(criterion='gini',max_depth=None,splitter='best')\n",
    "dtc.fit(x, y)"
   ]
  },
  {
   "cell_type": "code",
   "execution_count": 20,
   "id": "e6f93182",
   "metadata": {},
   "outputs": [
    {
     "name": "stdout",
     "output_type": "stream",
     "text": [
      "presence of hydrocarbon at this depth= ['yes']\n"
     ]
    }
   ],
   "source": [
    "# Prediction for Decision Tree Classifier\n",
    "x_in2 = np.array([1,1,0,0,1])\n",
    "x_in2 \n",
    "y_pred2 = dtc.predict([x_in2])\n",
    "print(\"presence of hydrocarbon at this depth=\",y_pred2)"
   ]
  },
  {
   "cell_type": "code",
   "execution_count": 21,
   "id": "6c5d951c",
   "metadata": {},
   "outputs": [
    {
     "data": {
      "text/plain": [
       "100.0"
      ]
     },
     "execution_count": 21,
     "metadata": {},
     "output_type": "execute_result"
    }
   ],
   "source": [
    "dtc.score(x, y)*100"
   ]
  },
  {
   "cell_type": "markdown",
   "id": "30bcf672",
   "metadata": {},
   "source": [
    "# Pycaret"
   ]
  },
  {
   "cell_type": "code",
   "execution_count": 22,
   "id": "e5492894",
   "metadata": {},
   "outputs": [
    {
     "name": "stdout",
     "output_type": "stream",
     "text": [
      "Collecting pycaret\n",
      "  Using cached pycaret-2.3.4-py3-none-any.whl (266 kB)\n",
      "Collecting yellowbrick>=1.0.1\n",
      "  Using cached yellowbrick-1.3.post1-py3-none-any.whl (271 kB)\n",
      "Requirement already satisfied: scipy<=1.5.4 in d:\\user\\envs\\pycaret\\lib\\site-packages (from pycaret) (1.5.4)\n",
      "Collecting umap-learn\n",
      "  Using cached umap_learn-0.5.2-py3-none-any.whl\n",
      "Collecting mlflow\n",
      "  Using cached mlflow-1.21.0-py3-none-any.whl (16.9 MB)\n",
      "Collecting cufflinks>=0.17.0\n",
      "  Using cached cufflinks-0.17.3-py3-none-any.whl\n",
      "Requirement already satisfied: scikit-learn==0.23.2 in d:\\user\\envs\\pycaret\\lib\\site-packages (from pycaret) (0.23.2)\n",
      "Requirement already satisfied: seaborn in d:\\user\\envs\\pycaret\\lib\\site-packages (from pycaret) (0.11.2)\n",
      "Requirement already satisfied: numpy==1.19.5 in d:\\user\\envs\\pycaret\\lib\\site-packages (from pycaret) (1.19.5)\n",
      "Collecting imbalanced-learn==0.7.0\n",
      "  Using cached imbalanced_learn-0.7.0-py3-none-any.whl (167 kB)\n",
      "Collecting gensim<4.0.0\n",
      "  Using cached gensim-3.8.3-cp36-cp36m-win_amd64.whl (24.2 MB)\n",
      "Collecting pandas-profiling>=2.8.0\n",
      "  Using cached pandas_profiling-3.1.0-py2.py3-none-any.whl (261 kB)\n",
      "Collecting numba<0.54\n",
      "  Using cached numba-0.53.1-cp36-cp36m-win_amd64.whl (2.3 MB)\n",
      "Collecting textblob\n",
      "  Using cached textblob-0.17.1-py2.py3-none-any.whl (636 kB)\n",
      "Collecting scikit-plot\n",
      "  Using cached scikit_plot-0.3.7-py3-none-any.whl (33 kB)\n",
      "Collecting spacy<2.4.0\n",
      "  Using cached spacy-2.3.7-cp36-cp36m-win_amd64.whl (9.6 MB)\n",
      "Collecting plotly>=4.4.1\n",
      "  Using cached plotly-5.3.1-py2.py3-none-any.whl (23.9 MB)\n",
      "Collecting Boruta\n",
      "  Using cached Boruta-0.3-py3-none-any.whl (56 kB)\n",
      "Collecting ipywidgets\n",
      "  Using cached ipywidgets-7.6.5-py2.py3-none-any.whl (121 kB)\n",
      "Requirement already satisfied: joblib in d:\\user\\envs\\pycaret\\lib\\site-packages (from pycaret) (1.0.1)\n",
      "Requirement already satisfied: matplotlib in d:\\user\\envs\\pycaret\\lib\\site-packages (from pycaret) (3.3.4)\n",
      "Collecting lightgbm>=2.3.1\n",
      "  Using cached lightgbm-3.3.1-py3-none-win_amd64.whl (1.0 MB)\n",
      "Collecting pyod\n",
      "  Using cached pyod-0.9.5-py3-none-any.whl\n",
      "Requirement already satisfied: IPython in d:\\user\\envs\\pycaret\\lib\\site-packages (from pycaret) (5.8.0)\n",
      "Collecting nltk\n",
      "  Using cached nltk-3.6.5-py3-none-any.whl (1.5 MB)\n",
      "Collecting pyLDAvis\n",
      "  Using cached pyLDAvis-3.3.1.tar.gz (1.7 MB)\n",
      "  Installing build dependencies: started\n",
      "  Installing build dependencies: finished with status 'done'\n",
      "  Getting requirements to build wheel: started\n",
      "  Getting requirements to build wheel: finished with status 'done'\n",
      "  Installing backend dependencies: started\n",
      "  Installing backend dependencies: finished with status 'done'\n",
      "  Preparing metadata (pyproject.toml): started\n",
      "  Preparing metadata (pyproject.toml): finished with status 'done'\n",
      "Collecting kmodes>=0.10.1\n",
      "  Using cached kmodes-0.11.1-py2.py3-none-any.whl (19 kB)\n",
      "Collecting mlxtend>=0.17.0\n",
      "  Using cached mlxtend-0.19.0-py2.py3-none-any.whl (1.3 MB)\n",
      "Requirement already satisfied: pandas in d:\\user\\envs\\pycaret\\lib\\site-packages (from pycaret) (1.1.5)\n",
      "Collecting wordcloud\n",
      "  Using cached wordcloud-1.8.1-cp36-cp36m-win_amd64.whl (154 kB)\n",
      "Requirement already satisfied: threadpoolctl>=2.0.0 in d:\\user\\envs\\pycaret\\lib\\site-packages (from scikit-learn==0.23.2->pycaret) (3.0.0)\n",
      "Requirement already satisfied: six>=1.9.0 in d:\\user\\envs\\pycaret\\lib\\site-packages (from cufflinks>=0.17.0->pycaret) (1.16.0)\n",
      "Collecting colorlover>=0.2.1\n",
      "  Using cached colorlover-0.3.0-py3-none-any.whl (8.9 kB)\n",
      "Requirement already satisfied: setuptools>=34.4.1 in d:\\user\\envs\\pycaret\\lib\\site-packages (from cufflinks>=0.17.0->pycaret) (49.6.0.post20210108)\n",
      "Collecting smart-open>=1.8.1\n",
      "  Using cached smart_open-5.2.1-py3-none-any.whl (58 kB)\n",
      "Collecting Cython==0.29.14\n",
      "  Using cached Cython-0.29.14-cp36-cp36m-win_amd64.whl (1.7 MB)\n",
      "Requirement already satisfied: simplegeneric>0.8 in d:\\user\\envs\\pycaret\\lib\\site-packages (from IPython->pycaret) (0.8.1)\n",
      "Requirement already satisfied: pygments in d:\\user\\envs\\pycaret\\lib\\site-packages (from IPython->pycaret) (2.10.0)\n",
      "Requirement already satisfied: colorama in d:\\user\\envs\\pycaret\\lib\\site-packages (from IPython->pycaret) (0.4.4)\n",
      "Requirement already satisfied: decorator in d:\\user\\envs\\pycaret\\lib\\site-packages (from IPython->pycaret) (4.4.2)\n",
      "Requirement already satisfied: pickleshare in d:\\user\\envs\\pycaret\\lib\\site-packages (from IPython->pycaret) (0.7.5)\n",
      "Requirement already satisfied: traitlets>=4.2 in d:\\user\\envs\\pycaret\\lib\\site-packages (from IPython->pycaret) (4.3.3)\n",
      "Requirement already satisfied: prompt-toolkit<2.0.0,>=1.0.4 in d:\\user\\envs\\pycaret\\lib\\site-packages (from IPython->pycaret) (1.0.15)\n",
      "Requirement already satisfied: widgetsnbextension~=3.5.0 in d:\\user\\envs\\pycaret\\lib\\site-packages (from ipywidgets->pycaret) (3.5.2)\n",
      "Requirement already satisfied: ipython-genutils~=0.2.0 in d:\\user\\envs\\pycaret\\lib\\site-packages (from ipywidgets->pycaret) (0.2.0)\n",
      "Requirement already satisfied: ipykernel>=4.5.1 in d:\\user\\envs\\pycaret\\lib\\site-packages (from ipywidgets->pycaret) (5.3.4)\n",
      "Requirement already satisfied: nbformat>=4.2.0 in d:\\user\\envs\\pycaret\\lib\\site-packages (from ipywidgets->pycaret) (5.1.3)\n",
      "Collecting jupyterlab-widgets>=1.0.0\n",
      "  Using cached jupyterlab_widgets-1.0.2-py3-none-any.whl (243 kB)\n",
      "Requirement already satisfied: wheel in d:\\user\\envs\\pycaret\\lib\\site-packages (from lightgbm>=2.3.1->pycaret) (0.37.0)\n",
      "Requirement already satisfied: kiwisolver>=1.0.1 in d:\\user\\envs\\pycaret\\lib\\site-packages (from matplotlib->pycaret) (1.3.1)\n",
      "Requirement already satisfied: pyparsing!=2.0.4,!=2.1.2,!=2.1.6,>=2.0.3 in d:\\user\\envs\\pycaret\\lib\\site-packages (from matplotlib->pycaret) (3.0.5)\n",
      "Requirement already satisfied: pillow>=6.2.0 in d:\\user\\envs\\pycaret\\lib\\site-packages (from matplotlib->pycaret) (8.4.0)\n",
      "Requirement already satisfied: python-dateutil>=2.1 in d:\\user\\envs\\pycaret\\lib\\site-packages (from matplotlib->pycaret) (2.8.2)\n",
      "Requirement already satisfied: cycler>=0.10 in d:\\user\\envs\\pycaret\\lib\\site-packages (from matplotlib->pycaret) (0.11.0)\n",
      "Requirement already satisfied: llvmlite<0.37,>=0.36.0rc1 in d:\\user\\envs\\pycaret\\lib\\site-packages (from numba<0.54->pycaret) (0.36.0)\n",
      "Requirement already satisfied: pytz>=2017.2 in d:\\user\\envs\\pycaret\\lib\\site-packages (from pandas->pycaret) (2021.3)\n",
      "Requirement already satisfied: tangled-up-in-unicode==0.1.0 in d:\\user\\envs\\pycaret\\lib\\site-packages (from pandas-profiling>=2.8.0->pycaret) (0.1.0)\n",
      "Requirement already satisfied: tqdm>=4.48.2 in d:\\user\\envs\\pycaret\\lib\\site-packages (from pandas-profiling>=2.8.0->pycaret) (4.62.3)\n",
      "Requirement already satisfied: markupsafe~=2.0.1 in d:\\user\\envs\\pycaret\\lib\\site-packages (from pandas-profiling>=2.8.0->pycaret) (2.0.1)\n",
      "Collecting pydantic>=1.8.1\n",
      "  Using cached pydantic-1.8.2-cp36-cp36m-win_amd64.whl (1.9 MB)\n",
      "Collecting htmlmin>=0.1.12\n",
      "  Using cached htmlmin-0.1.12-py3-none-any.whl\n",
      "Collecting phik>=0.11.1\n",
      "  Using cached phik-0.12.0-cp36-cp36m-win_amd64.whl (660 kB)\n",
      "Requirement already satisfied: visions[type_image_path]==0.7.4 in d:\\user\\envs\\pycaret\\lib\\site-packages (from pandas-profiling>=2.8.0->pycaret) (0.7.4)\n",
      "Collecting requests>=2.24.0\n",
      "  Using cached requests-2.26.0-py2.py3-none-any.whl (62 kB)\n",
      "Requirement already satisfied: multimethod>=1.4 in d:\\user\\envs\\pycaret\\lib\\site-packages (from pandas-profiling>=2.8.0->pycaret) (1.5)\n",
      "Collecting missingno>=0.4.2\n",
      "  Using cached missingno-0.5.0-py3-none-any.whl (8.8 kB)\n",
      "Collecting PyYAML>=5.0.0\n",
      "  Using cached PyYAML-6.0-cp36-cp36m-win_amd64.whl (153 kB)\n",
      "Requirement already satisfied: jinja2>=2.11.1 in d:\\user\\envs\\pycaret\\lib\\site-packages (from pandas-profiling>=2.8.0->pycaret) (3.0.3)\n",
      "Requirement already satisfied: networkx>=2.4 in d:\\user\\envs\\pycaret\\lib\\site-packages (from visions[type_image_path]==0.7.4->pandas-profiling>=2.8.0->pycaret) (2.5.1)\n",
      "Requirement already satisfied: attrs>=19.3.0 in d:\\user\\envs\\pycaret\\lib\\site-packages (from visions[type_image_path]==0.7.4->pandas-profiling>=2.8.0->pycaret) (21.2.0)\n",
      "Collecting imagehash\n",
      "  Using cached ImageHash-4.2.1-py2.py3-none-any.whl\n",
      "Requirement already satisfied: tenacity>=6.2.0 in d:\\user\\envs\\pycaret\\lib\\site-packages (from plotly>=4.4.1->pycaret) (8.0.1)\n",
      "Collecting catalogue<1.1.0,>=0.0.7\n",
      "  Using cached catalogue-1.0.0-py2.py3-none-any.whl (7.7 kB)\n",
      "Collecting preshed<3.1.0,>=3.0.2\n",
      "  Using cached preshed-3.0.6-cp36-cp36m-win_amd64.whl (109 kB)\n",
      "Requirement already satisfied: wasabi<1.1.0,>=0.4.0 in d:\\user\\envs\\pycaret\\lib\\site-packages (from spacy<2.4.0->pycaret) (0.8.2)\n",
      "Collecting blis<0.8.0,>=0.4.0\n",
      "  Using cached blis-0.7.5-cp36-cp36m-win_amd64.whl (6.5 MB)\n",
      "Collecting plac<1.2.0,>=0.9.6\n",
      "  Using cached plac-1.1.3-py2.py3-none-any.whl (20 kB)\n",
      "Requirement already satisfied: cymem<2.1.0,>=2.0.2 in d:\\user\\envs\\pycaret\\lib\\site-packages (from spacy<2.4.0->pycaret) (2.0.6)\n",
      "Collecting thinc<7.5.0,>=7.4.1\n",
      "  Using cached thinc-7.4.5-cp36-cp36m-win_amd64.whl (889 kB)\n",
      "Requirement already satisfied: murmurhash<1.1.0,>=0.28.0 in d:\\user\\envs\\pycaret\\lib\\site-packages (from spacy<2.4.0->pycaret) (1.0.6)\n",
      "Requirement already satisfied: srsly<1.1.0,>=1.0.2 in d:\\user\\envs\\pycaret\\lib\\site-packages (from spacy<2.4.0->pycaret) (1.0.5)\n",
      "Collecting cloudpickle\n",
      "  Using cached cloudpickle-2.0.0-py3-none-any.whl (25 kB)\n",
      "Requirement already satisfied: click>=7.0 in d:\\user\\envs\\pycaret\\lib\\site-packages (from mlflow->pycaret) (8.0.3)\n",
      "Requirement already satisfied: sqlalchemy in d:\\user\\envs\\pycaret\\lib\\site-packages (from mlflow->pycaret) (1.4.27)\n",
      "Requirement already satisfied: importlib-metadata!=4.7.0,>=3.7.0 in d:\\user\\envs\\pycaret\\lib\\site-packages (from mlflow->pycaret) (4.8.2)\n",
      "Collecting alembic<=1.4.1\n",
      "  Using cached alembic-1.4.1-py2.py3-none-any.whl\n",
      "Collecting databricks-cli>=0.8.7\n",
      "  Using cached databricks_cli-0.16.2-py3-none-any.whl\n",
      "Requirement already satisfied: packaging in d:\\user\\envs\\pycaret\\lib\\site-packages (from mlflow->pycaret) (21.0)\n",
      "Requirement already satisfied: entrypoints in d:\\user\\envs\\pycaret\\lib\\site-packages (from mlflow->pycaret) (0.3)\n",
      "Collecting sqlparse>=0.3.1\n",
      "  Using cached sqlparse-0.4.2-py3-none-any.whl (42 kB)\n",
      "Collecting Flask\n",
      "  Using cached Flask-2.0.2-py3-none-any.whl (95 kB)\n",
      "Collecting protobuf>=3.7.0\n",
      "  Using cached protobuf-3.19.1-cp36-cp36m-win_amd64.whl (897 kB)\n",
      "Collecting gitpython>=2.1.0\n",
      "  Using cached GitPython-3.1.18-py3-none-any.whl (170 kB)\n",
      "Collecting querystring-parser\n",
      "  Using cached querystring_parser-1.2.4-py2.py3-none-any.whl (7.9 kB)\n",
      "Collecting docker>=4.0.0\n",
      "  Using cached docker-5.0.3-py2.py3-none-any.whl (146 kB)\n",
      "Collecting prometheus-flask-exporter\n",
      "  Using cached prometheus_flask_exporter-0.18.5-py3-none-any.whl (17 kB)\n",
      "Collecting waitress\n",
      "  Using cached waitress-2.0.0-py3-none-any.whl (56 kB)\n",
      "Collecting regex>=2021.8.3\n",
      "  Using cached regex-2021.11.10-cp36-cp36m-win_amd64.whl (272 kB)\n",
      "Collecting numexpr\n",
      "  Using cached numexpr-2.7.3-cp36-cp36m-win_amd64.whl (93 kB)\n",
      "Requirement already satisfied: sklearn in d:\\user\\envs\\pycaret\\lib\\site-packages (from pyLDAvis->pycaret) (0.0)\n",
      "Collecting pyLDAvis\n",
      "  Using cached pyLDAvis-3.3.0.tar.gz (1.7 MB)\n",
      "  Installing build dependencies: started\n",
      "  Installing build dependencies: finished with status 'done'\n",
      "  Getting requirements to build wheel: started\n",
      "  Getting requirements to build wheel: finished with status 'done'\n",
      "  Installing backend dependencies: started\n",
      "  Installing backend dependencies: finished with status 'done'\n",
      "  Preparing metadata (pyproject.toml): started\n",
      "  Preparing metadata (pyproject.toml): finished with status 'done'\n",
      "  Using cached pyLDAvis-3.2.2-py2.py3-none-any.whl\n",
      "Collecting funcy\n",
      "  Using cached funcy-1.16-py2.py3-none-any.whl (32 kB)\n",
      "Collecting future\n",
      "  Using cached future-0.18.2-py3-none-any.whl\n",
      "Collecting statsmodels\n",
      "  Using cached statsmodels-0.12.2-cp36-none-win_amd64.whl (9.3 MB)\n",
      "Collecting pynndescent>=0.5\n",
      "  Using cached pynndescent-0.5.5-py3-none-any.whl\n",
      "Collecting python-editor>=0.3\n",
      "  Using cached python_editor-1.0.4-py3-none-any.whl (4.9 kB)\n",
      "Collecting Mako\n",
      "  Using cached Mako-1.1.5-py2.py3-none-any.whl (75 kB)\n",
      "Requirement already satisfied: tabulate>=0.7.7 in d:\\user\\envs\\pycaret\\lib\\site-packages (from databricks-cli>=0.8.7->mlflow->pycaret) (0.8.9)\n",
      "Requirement already satisfied: websocket-client>=0.32.0 in d:\\user\\envs\\pycaret\\lib\\site-packages (from docker>=4.0.0->mlflow->pycaret) (1.2.1)\n",
      "Requirement already satisfied: pywin32==227 in d:\\user\\envs\\pycaret\\lib\\site-packages (from docker>=4.0.0->mlflow->pycaret) (227)\n",
      "Requirement already satisfied: typing-extensions>=3.7.4.0 in d:\\user\\envs\\pycaret\\lib\\site-packages (from gitpython>=2.1.0->mlflow->pycaret) (3.10.0.2)\n",
      "Collecting gitdb<5,>=4.0.1\n",
      "  Using cached gitdb-4.0.9-py3-none-any.whl (63 kB)\n",
      "Requirement already satisfied: zipp>=0.5 in d:\\user\\envs\\pycaret\\lib\\site-packages (from importlib-metadata!=4.7.0,>=3.7.0->mlflow->pycaret) (3.6.0)\n",
      "Requirement already satisfied: jupyter-client in d:\\user\\envs\\pycaret\\lib\\site-packages (from ipykernel>=4.5.1->ipywidgets->pycaret) (7.0.6)\n",
      "Requirement already satisfied: tornado>=4.2 in d:\\user\\envs\\pycaret\\lib\\site-packages (from ipykernel>=4.5.1->ipywidgets->pycaret) (6.1)\n",
      "Requirement already satisfied: jupyter-core in d:\\user\\envs\\pycaret\\lib\\site-packages (from nbformat>=4.2.0->ipywidgets->pycaret) (4.7.1)\n",
      "Requirement already satisfied: jsonschema!=2.5.0,>=2.4 in d:\\user\\envs\\pycaret\\lib\\site-packages (from nbformat>=4.2.0->ipywidgets->pycaret) (2.6.0)\n",
      "Requirement already satisfied: wcwidth in d:\\user\\envs\\pycaret\\lib\\site-packages (from prompt-toolkit<2.0.0,>=1.0.4->IPython->pycaret) (0.2.5)\n",
      "Requirement already satisfied: dataclasses>=0.6 in d:\\user\\envs\\pycaret\\lib\\site-packages (from pydantic>=1.8.1->pandas-profiling>=2.8.0->pycaret) (0.8)\n",
      "Requirement already satisfied: urllib3<1.27,>=1.21.1 in d:\\user\\envs\\pycaret\\lib\\site-packages (from requests>=2.24.0->pandas-profiling>=2.8.0->pycaret) (1.26.7)\n",
      "Requirement already satisfied: certifi>=2017.4.17 in d:\\user\\envs\\pycaret\\lib\\site-packages (from requests>=2.24.0->pandas-profiling>=2.8.0->pycaret) (2020.12.5)\n",
      "Requirement already satisfied: charset-normalizer~=2.0.0 in d:\\user\\envs\\pycaret\\lib\\site-packages (from requests>=2.24.0->pandas-profiling>=2.8.0->pycaret) (2.0.7)\n",
      "Requirement already satisfied: idna<4,>=2.5 in d:\\user\\envs\\pycaret\\lib\\site-packages (from requests>=2.24.0->pandas-profiling>=2.8.0->pycaret) (3.3)\n",
      "Requirement already satisfied: greenlet!=0.4.17 in d:\\user\\envs\\pycaret\\lib\\site-packages (from sqlalchemy->mlflow->pycaret) (1.1.2)\n",
      "Requirement already satisfied: notebook>=4.4.1 in d:\\user\\envs\\pycaret\\lib\\site-packages (from widgetsnbextension~=3.5.0->ipywidgets->pycaret) (6.3.0)\n",
      "Requirement already satisfied: itsdangerous>=2.0 in d:\\user\\envs\\pycaret\\lib\\site-packages (from Flask->mlflow->pycaret) (2.0.1)\n",
      "Requirement already satisfied: Werkzeug>=2.0 in d:\\user\\envs\\pycaret\\lib\\site-packages (from Flask->mlflow->pycaret) (2.0.2)\n",
      "Requirement already satisfied: prometheus-client in d:\\user\\envs\\pycaret\\lib\\site-packages (from prometheus-flask-exporter->mlflow->pycaret) (0.12.0)\n",
      "Collecting patsy>=0.5\n",
      "  Using cached patsy-0.5.2-py2.py3-none-any.whl (233 kB)\n",
      "Requirement already satisfied: smmap<6,>=3.0.1 in d:\\user\\envs\\pycaret\\lib\\site-packages (from gitdb<5,>=4.0.1->gitpython>=2.1.0->mlflow->pycaret) (5.0.0)\n",
      "Requirement already satisfied: terminado>=0.8.3 in d:\\user\\envs\\pycaret\\lib\\site-packages (from notebook>=4.4.1->widgetsnbextension~=3.5.0->ipywidgets->pycaret) (0.9.4)\n",
      "Requirement already satisfied: Send2Trash>=1.5.0 in d:\\user\\envs\\pycaret\\lib\\site-packages (from notebook>=4.4.1->widgetsnbextension~=3.5.0->ipywidgets->pycaret) (1.8.0)\n",
      "Requirement already satisfied: pyzmq>=17 in d:\\user\\envs\\pycaret\\lib\\site-packages (from notebook>=4.4.1->widgetsnbextension~=3.5.0->ipywidgets->pycaret) (22.3.0)\n",
      "Requirement already satisfied: nbconvert in d:\\user\\envs\\pycaret\\lib\\site-packages (from notebook>=4.4.1->widgetsnbextension~=3.5.0->ipywidgets->pycaret) (5.6.1)\n",
      "Requirement already satisfied: argon2-cffi in d:\\user\\envs\\pycaret\\lib\\site-packages (from notebook>=4.4.1->widgetsnbextension~=3.5.0->ipywidgets->pycaret) (21.1.0)\n",
      "Requirement already satisfied: nest-asyncio>=1.5 in d:\\user\\envs\\pycaret\\lib\\site-packages (from jupyter-client->ipykernel>=4.5.1->ipywidgets->pycaret) (1.5.1)\n",
      "Requirement already satisfied: PyWavelets in d:\\user\\envs\\pycaret\\lib\\site-packages (from imagehash->visions[type_image_path]==0.7.4->pandas-profiling>=2.8.0->pycaret) (1.1.1)\n",
      "Requirement already satisfied: pywinpty>=0.5 in d:\\user\\envs\\pycaret\\lib\\site-packages (from terminado>=0.8.3->notebook>=4.4.1->widgetsnbextension~=3.5.0->ipywidgets->pycaret) (0.5.7)\n",
      "Requirement already satisfied: cffi>=1.0.0 in d:\\user\\envs\\pycaret\\lib\\site-packages (from argon2-cffi->notebook>=4.4.1->widgetsnbextension~=3.5.0->ipywidgets->pycaret) (1.14.5)\n",
      "Requirement already satisfied: bleach in d:\\user\\envs\\pycaret\\lib\\site-packages (from nbconvert->notebook>=4.4.1->widgetsnbextension~=3.5.0->ipywidgets->pycaret) (4.1.0)\n",
      "Requirement already satisfied: defusedxml in d:\\user\\envs\\pycaret\\lib\\site-packages (from nbconvert->notebook>=4.4.1->widgetsnbextension~=3.5.0->ipywidgets->pycaret) (0.7.1)\n",
      "Requirement already satisfied: pandocfilters>=1.4.1 in d:\\user\\envs\\pycaret\\lib\\site-packages (from nbconvert->notebook>=4.4.1->widgetsnbextension~=3.5.0->ipywidgets->pycaret) (1.5.0)\n",
      "Requirement already satisfied: testpath in d:\\user\\envs\\pycaret\\lib\\site-packages (from nbconvert->notebook>=4.4.1->widgetsnbextension~=3.5.0->ipywidgets->pycaret) (0.5.0)\n",
      "Requirement already satisfied: mistune<2,>=0.8.1 in d:\\user\\envs\\pycaret\\lib\\site-packages (from nbconvert->notebook>=4.4.1->widgetsnbextension~=3.5.0->ipywidgets->pycaret) (0.8.4)\n",
      "Requirement already satisfied: pycparser in d:\\user\\envs\\pycaret\\lib\\site-packages (from cffi>=1.0.0->argon2-cffi->notebook>=4.4.1->widgetsnbextension~=3.5.0->ipywidgets->pycaret) (2.21)\n",
      "Requirement already satisfied: webencodings in d:\\user\\envs\\pycaret\\lib\\site-packages (from bleach->nbconvert->notebook>=4.4.1->widgetsnbextension~=3.5.0->ipywidgets->pycaret) (0.5.1)\n",
      "Installing collected packages: requests, regex, python-editor, preshed, plac, patsy, numba, Mako, jupyterlab-widgets, imagehash, gitdb, Flask, catalogue, blis, waitress, thinc, statsmodels, sqlparse, smart-open, querystring-parser, PyYAML, pynndescent, pydantic, protobuf, prometheus-flask-exporter, plotly, phik, numexpr, nltk, missingno, ipywidgets, htmlmin, gitpython, future, funcy, docker, databricks-cli, Cython, colorlover, cloudpickle, alembic, yellowbrick, wordcloud, umap-learn, textblob, spacy, scikit-plot, pyod, pyLDAvis, pandas-profiling, mlxtend, mlflow, lightgbm, kmodes, imbalanced-learn, gensim, cufflinks, Boruta, pycaret\n",
      "Successfully installed Boruta-0.3 Cython-0.29.14 Flask-2.0.2 Mako-1.1.5 PyYAML-6.0 alembic-1.4.1 blis-0.7.5 catalogue-1.0.0 cloudpickle-2.0.0 colorlover-0.3.0 cufflinks-0.17.3 databricks-cli-0.16.2 docker-5.0.3 funcy-1.16 future-0.18.2 gensim-3.8.3 gitdb-4.0.9 gitpython-3.1.18 htmlmin-0.1.12 imagehash-4.2.1 imbalanced-learn-0.7.0 ipywidgets-7.6.5 jupyterlab-widgets-1.0.2 kmodes-0.11.1 lightgbm-3.3.1 missingno-0.5.0 mlflow-1.21.0 mlxtend-0.19.0 nltk-3.6.5 numba-0.53.1 numexpr-2.7.3 pandas-profiling-3.1.0 patsy-0.5.2 phik-0.12.0 plac-1.1.3 plotly-5.3.1 preshed-3.0.6 prometheus-flask-exporter-0.18.5 protobuf-3.19.1 pyLDAvis-3.2.2 pycaret-2.3.4 pydantic-1.8.2 pynndescent-0.5.5 pyod-0.9.5 python-editor-1.0.4 querystring-parser-1.2.4 regex-2021.11.10 requests-2.26.0 scikit-plot-0.3.7 smart-open-5.2.1 spacy-2.3.7 sqlparse-0.4.2 statsmodels-0.12.2 textblob-0.17.1 thinc-7.4.5 umap-learn-0.5.2 waitress-2.0.0 wordcloud-1.8.1 yellowbrick-1.3.post1\n"
     ]
    }
   ],
   "source": [
    "!pip install pycaret"
   ]
  },
  {
   "cell_type": "code",
   "execution_count": 32,
   "id": "a0d7a59b",
   "metadata": {},
   "outputs": [],
   "source": [
    "from pycaret.clustering import *"
   ]
  },
  {
   "cell_type": "code",
   "execution_count": 44,
   "id": "684cf515",
   "metadata": {},
   "outputs": [
    {
     "data": {
      "text/html": [
       "<style  type=\"text/css\" >\n",
       "#T_83effdca_436d_11ec_8219_b06ebfbf2340row21_col1{\n",
       "            background-color:  lightgreen;\n",
       "        }</style><table id=\"T_83effdca_436d_11ec_8219_b06ebfbf2340\" ><thead>    <tr>        <th class=\"blank level0\" ></th>        <th class=\"col_heading level0 col0\" >Description</th>        <th class=\"col_heading level0 col1\" >Value</th>    </tr></thead><tbody>\n",
       "                <tr>\n",
       "                        <th id=\"T_83effdca_436d_11ec_8219_b06ebfbf2340level0_row0\" class=\"row_heading level0 row0\" >0</th>\n",
       "                        <td id=\"T_83effdca_436d_11ec_8219_b06ebfbf2340row0_col0\" class=\"data row0 col0\" >session_id</td>\n",
       "                        <td id=\"T_83effdca_436d_11ec_8219_b06ebfbf2340row0_col1\" class=\"data row0 col1\" >123</td>\n",
       "            </tr>\n",
       "            <tr>\n",
       "                        <th id=\"T_83effdca_436d_11ec_8219_b06ebfbf2340level0_row1\" class=\"row_heading level0 row1\" >1</th>\n",
       "                        <td id=\"T_83effdca_436d_11ec_8219_b06ebfbf2340row1_col0\" class=\"data row1 col0\" >Original Data</td>\n",
       "                        <td id=\"T_83effdca_436d_11ec_8219_b06ebfbf2340row1_col1\" class=\"data row1 col1\" >(63, 6)</td>\n",
       "            </tr>\n",
       "            <tr>\n",
       "                        <th id=\"T_83effdca_436d_11ec_8219_b06ebfbf2340level0_row2\" class=\"row_heading level0 row2\" >2</th>\n",
       "                        <td id=\"T_83effdca_436d_11ec_8219_b06ebfbf2340row2_col0\" class=\"data row2 col0\" >Missing Values</td>\n",
       "                        <td id=\"T_83effdca_436d_11ec_8219_b06ebfbf2340row2_col1\" class=\"data row2 col1\" >False</td>\n",
       "            </tr>\n",
       "            <tr>\n",
       "                        <th id=\"T_83effdca_436d_11ec_8219_b06ebfbf2340level0_row3\" class=\"row_heading level0 row3\" >3</th>\n",
       "                        <td id=\"T_83effdca_436d_11ec_8219_b06ebfbf2340row3_col0\" class=\"data row3 col0\" >Numeric Features</td>\n",
       "                        <td id=\"T_83effdca_436d_11ec_8219_b06ebfbf2340row3_col1\" class=\"data row3 col1\" >0</td>\n",
       "            </tr>\n",
       "            <tr>\n",
       "                        <th id=\"T_83effdca_436d_11ec_8219_b06ebfbf2340level0_row4\" class=\"row_heading level0 row4\" >4</th>\n",
       "                        <td id=\"T_83effdca_436d_11ec_8219_b06ebfbf2340row4_col0\" class=\"data row4 col0\" >Categorical Features</td>\n",
       "                        <td id=\"T_83effdca_436d_11ec_8219_b06ebfbf2340row4_col1\" class=\"data row4 col1\" >6</td>\n",
       "            </tr>\n",
       "            <tr>\n",
       "                        <th id=\"T_83effdca_436d_11ec_8219_b06ebfbf2340level0_row5\" class=\"row_heading level0 row5\" >5</th>\n",
       "                        <td id=\"T_83effdca_436d_11ec_8219_b06ebfbf2340row5_col0\" class=\"data row5 col0\" >Ordinal Features</td>\n",
       "                        <td id=\"T_83effdca_436d_11ec_8219_b06ebfbf2340row5_col1\" class=\"data row5 col1\" >False</td>\n",
       "            </tr>\n",
       "            <tr>\n",
       "                        <th id=\"T_83effdca_436d_11ec_8219_b06ebfbf2340level0_row6\" class=\"row_heading level0 row6\" >6</th>\n",
       "                        <td id=\"T_83effdca_436d_11ec_8219_b06ebfbf2340row6_col0\" class=\"data row6 col0\" >High Cardinality Features</td>\n",
       "                        <td id=\"T_83effdca_436d_11ec_8219_b06ebfbf2340row6_col1\" class=\"data row6 col1\" >False</td>\n",
       "            </tr>\n",
       "            <tr>\n",
       "                        <th id=\"T_83effdca_436d_11ec_8219_b06ebfbf2340level0_row7\" class=\"row_heading level0 row7\" >7</th>\n",
       "                        <td id=\"T_83effdca_436d_11ec_8219_b06ebfbf2340row7_col0\" class=\"data row7 col0\" >High Cardinality Method</td>\n",
       "                        <td id=\"T_83effdca_436d_11ec_8219_b06ebfbf2340row7_col1\" class=\"data row7 col1\" >None</td>\n",
       "            </tr>\n",
       "            <tr>\n",
       "                        <th id=\"T_83effdca_436d_11ec_8219_b06ebfbf2340level0_row8\" class=\"row_heading level0 row8\" >8</th>\n",
       "                        <td id=\"T_83effdca_436d_11ec_8219_b06ebfbf2340row8_col0\" class=\"data row8 col0\" >Transformed Data</td>\n",
       "                        <td id=\"T_83effdca_436d_11ec_8219_b06ebfbf2340row8_col1\" class=\"data row8 col1\" >(63, 13)</td>\n",
       "            </tr>\n",
       "            <tr>\n",
       "                        <th id=\"T_83effdca_436d_11ec_8219_b06ebfbf2340level0_row9\" class=\"row_heading level0 row9\" >9</th>\n",
       "                        <td id=\"T_83effdca_436d_11ec_8219_b06ebfbf2340row9_col0\" class=\"data row9 col0\" >CPU Jobs</td>\n",
       "                        <td id=\"T_83effdca_436d_11ec_8219_b06ebfbf2340row9_col1\" class=\"data row9 col1\" >-1</td>\n",
       "            </tr>\n",
       "            <tr>\n",
       "                        <th id=\"T_83effdca_436d_11ec_8219_b06ebfbf2340level0_row10\" class=\"row_heading level0 row10\" >10</th>\n",
       "                        <td id=\"T_83effdca_436d_11ec_8219_b06ebfbf2340row10_col0\" class=\"data row10 col0\" >Use GPU</td>\n",
       "                        <td id=\"T_83effdca_436d_11ec_8219_b06ebfbf2340row10_col1\" class=\"data row10 col1\" >False</td>\n",
       "            </tr>\n",
       "            <tr>\n",
       "                        <th id=\"T_83effdca_436d_11ec_8219_b06ebfbf2340level0_row11\" class=\"row_heading level0 row11\" >11</th>\n",
       "                        <td id=\"T_83effdca_436d_11ec_8219_b06ebfbf2340row11_col0\" class=\"data row11 col0\" >Log Experiment</td>\n",
       "                        <td id=\"T_83effdca_436d_11ec_8219_b06ebfbf2340row11_col1\" class=\"data row11 col1\" >False</td>\n",
       "            </tr>\n",
       "            <tr>\n",
       "                        <th id=\"T_83effdca_436d_11ec_8219_b06ebfbf2340level0_row12\" class=\"row_heading level0 row12\" >12</th>\n",
       "                        <td id=\"T_83effdca_436d_11ec_8219_b06ebfbf2340row12_col0\" class=\"data row12 col0\" >Experiment Name</td>\n",
       "                        <td id=\"T_83effdca_436d_11ec_8219_b06ebfbf2340row12_col1\" class=\"data row12 col1\" >cluster-default-name</td>\n",
       "            </tr>\n",
       "            <tr>\n",
       "                        <th id=\"T_83effdca_436d_11ec_8219_b06ebfbf2340level0_row13\" class=\"row_heading level0 row13\" >13</th>\n",
       "                        <td id=\"T_83effdca_436d_11ec_8219_b06ebfbf2340row13_col0\" class=\"data row13 col0\" >USI</td>\n",
       "                        <td id=\"T_83effdca_436d_11ec_8219_b06ebfbf2340row13_col1\" class=\"data row13 col1\" >09ac</td>\n",
       "            </tr>\n",
       "            <tr>\n",
       "                        <th id=\"T_83effdca_436d_11ec_8219_b06ebfbf2340level0_row14\" class=\"row_heading level0 row14\" >14</th>\n",
       "                        <td id=\"T_83effdca_436d_11ec_8219_b06ebfbf2340row14_col0\" class=\"data row14 col0\" >Imputation Type</td>\n",
       "                        <td id=\"T_83effdca_436d_11ec_8219_b06ebfbf2340row14_col1\" class=\"data row14 col1\" >simple</td>\n",
       "            </tr>\n",
       "            <tr>\n",
       "                        <th id=\"T_83effdca_436d_11ec_8219_b06ebfbf2340level0_row15\" class=\"row_heading level0 row15\" >15</th>\n",
       "                        <td id=\"T_83effdca_436d_11ec_8219_b06ebfbf2340row15_col0\" class=\"data row15 col0\" >Iterative Imputation Iteration</td>\n",
       "                        <td id=\"T_83effdca_436d_11ec_8219_b06ebfbf2340row15_col1\" class=\"data row15 col1\" >None</td>\n",
       "            </tr>\n",
       "            <tr>\n",
       "                        <th id=\"T_83effdca_436d_11ec_8219_b06ebfbf2340level0_row16\" class=\"row_heading level0 row16\" >16</th>\n",
       "                        <td id=\"T_83effdca_436d_11ec_8219_b06ebfbf2340row16_col0\" class=\"data row16 col0\" >Numeric Imputer</td>\n",
       "                        <td id=\"T_83effdca_436d_11ec_8219_b06ebfbf2340row16_col1\" class=\"data row16 col1\" >mean</td>\n",
       "            </tr>\n",
       "            <tr>\n",
       "                        <th id=\"T_83effdca_436d_11ec_8219_b06ebfbf2340level0_row17\" class=\"row_heading level0 row17\" >17</th>\n",
       "                        <td id=\"T_83effdca_436d_11ec_8219_b06ebfbf2340row17_col0\" class=\"data row17 col0\" >Iterative Imputation Numeric Model</td>\n",
       "                        <td id=\"T_83effdca_436d_11ec_8219_b06ebfbf2340row17_col1\" class=\"data row17 col1\" >None</td>\n",
       "            </tr>\n",
       "            <tr>\n",
       "                        <th id=\"T_83effdca_436d_11ec_8219_b06ebfbf2340level0_row18\" class=\"row_heading level0 row18\" >18</th>\n",
       "                        <td id=\"T_83effdca_436d_11ec_8219_b06ebfbf2340row18_col0\" class=\"data row18 col0\" >Categorical Imputer</td>\n",
       "                        <td id=\"T_83effdca_436d_11ec_8219_b06ebfbf2340row18_col1\" class=\"data row18 col1\" >mode</td>\n",
       "            </tr>\n",
       "            <tr>\n",
       "                        <th id=\"T_83effdca_436d_11ec_8219_b06ebfbf2340level0_row19\" class=\"row_heading level0 row19\" >19</th>\n",
       "                        <td id=\"T_83effdca_436d_11ec_8219_b06ebfbf2340row19_col0\" class=\"data row19 col0\" >Iterative Imputation Categorical Model</td>\n",
       "                        <td id=\"T_83effdca_436d_11ec_8219_b06ebfbf2340row19_col1\" class=\"data row19 col1\" >None</td>\n",
       "            </tr>\n",
       "            <tr>\n",
       "                        <th id=\"T_83effdca_436d_11ec_8219_b06ebfbf2340level0_row20\" class=\"row_heading level0 row20\" >20</th>\n",
       "                        <td id=\"T_83effdca_436d_11ec_8219_b06ebfbf2340row20_col0\" class=\"data row20 col0\" >Unknown Categoricals Handling</td>\n",
       "                        <td id=\"T_83effdca_436d_11ec_8219_b06ebfbf2340row20_col1\" class=\"data row20 col1\" >least_frequent</td>\n",
       "            </tr>\n",
       "            <tr>\n",
       "                        <th id=\"T_83effdca_436d_11ec_8219_b06ebfbf2340level0_row21\" class=\"row_heading level0 row21\" >21</th>\n",
       "                        <td id=\"T_83effdca_436d_11ec_8219_b06ebfbf2340row21_col0\" class=\"data row21 col0\" >Normalize</td>\n",
       "                        <td id=\"T_83effdca_436d_11ec_8219_b06ebfbf2340row21_col1\" class=\"data row21 col1\" >True</td>\n",
       "            </tr>\n",
       "            <tr>\n",
       "                        <th id=\"T_83effdca_436d_11ec_8219_b06ebfbf2340level0_row22\" class=\"row_heading level0 row22\" >22</th>\n",
       "                        <td id=\"T_83effdca_436d_11ec_8219_b06ebfbf2340row22_col0\" class=\"data row22 col0\" >Normalize Method</td>\n",
       "                        <td id=\"T_83effdca_436d_11ec_8219_b06ebfbf2340row22_col1\" class=\"data row22 col1\" >zscore</td>\n",
       "            </tr>\n",
       "            <tr>\n",
       "                        <th id=\"T_83effdca_436d_11ec_8219_b06ebfbf2340level0_row23\" class=\"row_heading level0 row23\" >23</th>\n",
       "                        <td id=\"T_83effdca_436d_11ec_8219_b06ebfbf2340row23_col0\" class=\"data row23 col0\" >Transformation</td>\n",
       "                        <td id=\"T_83effdca_436d_11ec_8219_b06ebfbf2340row23_col1\" class=\"data row23 col1\" >False</td>\n",
       "            </tr>\n",
       "            <tr>\n",
       "                        <th id=\"T_83effdca_436d_11ec_8219_b06ebfbf2340level0_row24\" class=\"row_heading level0 row24\" >24</th>\n",
       "                        <td id=\"T_83effdca_436d_11ec_8219_b06ebfbf2340row24_col0\" class=\"data row24 col0\" >Transformation Method</td>\n",
       "                        <td id=\"T_83effdca_436d_11ec_8219_b06ebfbf2340row24_col1\" class=\"data row24 col1\" >None</td>\n",
       "            </tr>\n",
       "            <tr>\n",
       "                        <th id=\"T_83effdca_436d_11ec_8219_b06ebfbf2340level0_row25\" class=\"row_heading level0 row25\" >25</th>\n",
       "                        <td id=\"T_83effdca_436d_11ec_8219_b06ebfbf2340row25_col0\" class=\"data row25 col0\" >PCA</td>\n",
       "                        <td id=\"T_83effdca_436d_11ec_8219_b06ebfbf2340row25_col1\" class=\"data row25 col1\" >False</td>\n",
       "            </tr>\n",
       "            <tr>\n",
       "                        <th id=\"T_83effdca_436d_11ec_8219_b06ebfbf2340level0_row26\" class=\"row_heading level0 row26\" >26</th>\n",
       "                        <td id=\"T_83effdca_436d_11ec_8219_b06ebfbf2340row26_col0\" class=\"data row26 col0\" >PCA Method</td>\n",
       "                        <td id=\"T_83effdca_436d_11ec_8219_b06ebfbf2340row26_col1\" class=\"data row26 col1\" >None</td>\n",
       "            </tr>\n",
       "            <tr>\n",
       "                        <th id=\"T_83effdca_436d_11ec_8219_b06ebfbf2340level0_row27\" class=\"row_heading level0 row27\" >27</th>\n",
       "                        <td id=\"T_83effdca_436d_11ec_8219_b06ebfbf2340row27_col0\" class=\"data row27 col0\" >PCA Components</td>\n",
       "                        <td id=\"T_83effdca_436d_11ec_8219_b06ebfbf2340row27_col1\" class=\"data row27 col1\" >None</td>\n",
       "            </tr>\n",
       "            <tr>\n",
       "                        <th id=\"T_83effdca_436d_11ec_8219_b06ebfbf2340level0_row28\" class=\"row_heading level0 row28\" >28</th>\n",
       "                        <td id=\"T_83effdca_436d_11ec_8219_b06ebfbf2340row28_col0\" class=\"data row28 col0\" >Ignore Low Variance</td>\n",
       "                        <td id=\"T_83effdca_436d_11ec_8219_b06ebfbf2340row28_col1\" class=\"data row28 col1\" >False</td>\n",
       "            </tr>\n",
       "            <tr>\n",
       "                        <th id=\"T_83effdca_436d_11ec_8219_b06ebfbf2340level0_row29\" class=\"row_heading level0 row29\" >29</th>\n",
       "                        <td id=\"T_83effdca_436d_11ec_8219_b06ebfbf2340row29_col0\" class=\"data row29 col0\" >Combine Rare Levels</td>\n",
       "                        <td id=\"T_83effdca_436d_11ec_8219_b06ebfbf2340row29_col1\" class=\"data row29 col1\" >False</td>\n",
       "            </tr>\n",
       "            <tr>\n",
       "                        <th id=\"T_83effdca_436d_11ec_8219_b06ebfbf2340level0_row30\" class=\"row_heading level0 row30\" >30</th>\n",
       "                        <td id=\"T_83effdca_436d_11ec_8219_b06ebfbf2340row30_col0\" class=\"data row30 col0\" >Rare Level Threshold</td>\n",
       "                        <td id=\"T_83effdca_436d_11ec_8219_b06ebfbf2340row30_col1\" class=\"data row30 col1\" >None</td>\n",
       "            </tr>\n",
       "            <tr>\n",
       "                        <th id=\"T_83effdca_436d_11ec_8219_b06ebfbf2340level0_row31\" class=\"row_heading level0 row31\" >31</th>\n",
       "                        <td id=\"T_83effdca_436d_11ec_8219_b06ebfbf2340row31_col0\" class=\"data row31 col0\" >Numeric Binning</td>\n",
       "                        <td id=\"T_83effdca_436d_11ec_8219_b06ebfbf2340row31_col1\" class=\"data row31 col1\" >False</td>\n",
       "            </tr>\n",
       "            <tr>\n",
       "                        <th id=\"T_83effdca_436d_11ec_8219_b06ebfbf2340level0_row32\" class=\"row_heading level0 row32\" >32</th>\n",
       "                        <td id=\"T_83effdca_436d_11ec_8219_b06ebfbf2340row32_col0\" class=\"data row32 col0\" >Remove Outliers</td>\n",
       "                        <td id=\"T_83effdca_436d_11ec_8219_b06ebfbf2340row32_col1\" class=\"data row32 col1\" >False</td>\n",
       "            </tr>\n",
       "            <tr>\n",
       "                        <th id=\"T_83effdca_436d_11ec_8219_b06ebfbf2340level0_row33\" class=\"row_heading level0 row33\" >33</th>\n",
       "                        <td id=\"T_83effdca_436d_11ec_8219_b06ebfbf2340row33_col0\" class=\"data row33 col0\" >Outliers Threshold</td>\n",
       "                        <td id=\"T_83effdca_436d_11ec_8219_b06ebfbf2340row33_col1\" class=\"data row33 col1\" >None</td>\n",
       "            </tr>\n",
       "            <tr>\n",
       "                        <th id=\"T_83effdca_436d_11ec_8219_b06ebfbf2340level0_row34\" class=\"row_heading level0 row34\" >34</th>\n",
       "                        <td id=\"T_83effdca_436d_11ec_8219_b06ebfbf2340row34_col0\" class=\"data row34 col0\" >Remove Multicollinearity</td>\n",
       "                        <td id=\"T_83effdca_436d_11ec_8219_b06ebfbf2340row34_col1\" class=\"data row34 col1\" >False</td>\n",
       "            </tr>\n",
       "            <tr>\n",
       "                        <th id=\"T_83effdca_436d_11ec_8219_b06ebfbf2340level0_row35\" class=\"row_heading level0 row35\" >35</th>\n",
       "                        <td id=\"T_83effdca_436d_11ec_8219_b06ebfbf2340row35_col0\" class=\"data row35 col0\" >Multicollinearity Threshold</td>\n",
       "                        <td id=\"T_83effdca_436d_11ec_8219_b06ebfbf2340row35_col1\" class=\"data row35 col1\" >None</td>\n",
       "            </tr>\n",
       "            <tr>\n",
       "                        <th id=\"T_83effdca_436d_11ec_8219_b06ebfbf2340level0_row36\" class=\"row_heading level0 row36\" >36</th>\n",
       "                        <td id=\"T_83effdca_436d_11ec_8219_b06ebfbf2340row36_col0\" class=\"data row36 col0\" >Remove Perfect Collinearity</td>\n",
       "                        <td id=\"T_83effdca_436d_11ec_8219_b06ebfbf2340row36_col1\" class=\"data row36 col1\" >False</td>\n",
       "            </tr>\n",
       "            <tr>\n",
       "                        <th id=\"T_83effdca_436d_11ec_8219_b06ebfbf2340level0_row37\" class=\"row_heading level0 row37\" >37</th>\n",
       "                        <td id=\"T_83effdca_436d_11ec_8219_b06ebfbf2340row37_col0\" class=\"data row37 col0\" >Clustering</td>\n",
       "                        <td id=\"T_83effdca_436d_11ec_8219_b06ebfbf2340row37_col1\" class=\"data row37 col1\" >False</td>\n",
       "            </tr>\n",
       "            <tr>\n",
       "                        <th id=\"T_83effdca_436d_11ec_8219_b06ebfbf2340level0_row38\" class=\"row_heading level0 row38\" >38</th>\n",
       "                        <td id=\"T_83effdca_436d_11ec_8219_b06ebfbf2340row38_col0\" class=\"data row38 col0\" >Clustering Iteration</td>\n",
       "                        <td id=\"T_83effdca_436d_11ec_8219_b06ebfbf2340row38_col1\" class=\"data row38 col1\" >None</td>\n",
       "            </tr>\n",
       "            <tr>\n",
       "                        <th id=\"T_83effdca_436d_11ec_8219_b06ebfbf2340level0_row39\" class=\"row_heading level0 row39\" >39</th>\n",
       "                        <td id=\"T_83effdca_436d_11ec_8219_b06ebfbf2340row39_col0\" class=\"data row39 col0\" >Polynomial Features</td>\n",
       "                        <td id=\"T_83effdca_436d_11ec_8219_b06ebfbf2340row39_col1\" class=\"data row39 col1\" >False</td>\n",
       "            </tr>\n",
       "            <tr>\n",
       "                        <th id=\"T_83effdca_436d_11ec_8219_b06ebfbf2340level0_row40\" class=\"row_heading level0 row40\" >40</th>\n",
       "                        <td id=\"T_83effdca_436d_11ec_8219_b06ebfbf2340row40_col0\" class=\"data row40 col0\" >Polynomial Degree</td>\n",
       "                        <td id=\"T_83effdca_436d_11ec_8219_b06ebfbf2340row40_col1\" class=\"data row40 col1\" >None</td>\n",
       "            </tr>\n",
       "            <tr>\n",
       "                        <th id=\"T_83effdca_436d_11ec_8219_b06ebfbf2340level0_row41\" class=\"row_heading level0 row41\" >41</th>\n",
       "                        <td id=\"T_83effdca_436d_11ec_8219_b06ebfbf2340row41_col0\" class=\"data row41 col0\" >Trignometry Features</td>\n",
       "                        <td id=\"T_83effdca_436d_11ec_8219_b06ebfbf2340row41_col1\" class=\"data row41 col1\" >False</td>\n",
       "            </tr>\n",
       "            <tr>\n",
       "                        <th id=\"T_83effdca_436d_11ec_8219_b06ebfbf2340level0_row42\" class=\"row_heading level0 row42\" >42</th>\n",
       "                        <td id=\"T_83effdca_436d_11ec_8219_b06ebfbf2340row42_col0\" class=\"data row42 col0\" >Polynomial Threshold</td>\n",
       "                        <td id=\"T_83effdca_436d_11ec_8219_b06ebfbf2340row42_col1\" class=\"data row42 col1\" >None</td>\n",
       "            </tr>\n",
       "            <tr>\n",
       "                        <th id=\"T_83effdca_436d_11ec_8219_b06ebfbf2340level0_row43\" class=\"row_heading level0 row43\" >43</th>\n",
       "                        <td id=\"T_83effdca_436d_11ec_8219_b06ebfbf2340row43_col0\" class=\"data row43 col0\" >Group Features</td>\n",
       "                        <td id=\"T_83effdca_436d_11ec_8219_b06ebfbf2340row43_col1\" class=\"data row43 col1\" >False</td>\n",
       "            </tr>\n",
       "            <tr>\n",
       "                        <th id=\"T_83effdca_436d_11ec_8219_b06ebfbf2340level0_row44\" class=\"row_heading level0 row44\" >44</th>\n",
       "                        <td id=\"T_83effdca_436d_11ec_8219_b06ebfbf2340row44_col0\" class=\"data row44 col0\" >Feature Selection</td>\n",
       "                        <td id=\"T_83effdca_436d_11ec_8219_b06ebfbf2340row44_col1\" class=\"data row44 col1\" >False</td>\n",
       "            </tr>\n",
       "            <tr>\n",
       "                        <th id=\"T_83effdca_436d_11ec_8219_b06ebfbf2340level0_row45\" class=\"row_heading level0 row45\" >45</th>\n",
       "                        <td id=\"T_83effdca_436d_11ec_8219_b06ebfbf2340row45_col0\" class=\"data row45 col0\" >Feature Selection Method</td>\n",
       "                        <td id=\"T_83effdca_436d_11ec_8219_b06ebfbf2340row45_col1\" class=\"data row45 col1\" >classic</td>\n",
       "            </tr>\n",
       "            <tr>\n",
       "                        <th id=\"T_83effdca_436d_11ec_8219_b06ebfbf2340level0_row46\" class=\"row_heading level0 row46\" >46</th>\n",
       "                        <td id=\"T_83effdca_436d_11ec_8219_b06ebfbf2340row46_col0\" class=\"data row46 col0\" >Features Selection Threshold</td>\n",
       "                        <td id=\"T_83effdca_436d_11ec_8219_b06ebfbf2340row46_col1\" class=\"data row46 col1\" >None</td>\n",
       "            </tr>\n",
       "            <tr>\n",
       "                        <th id=\"T_83effdca_436d_11ec_8219_b06ebfbf2340level0_row47\" class=\"row_heading level0 row47\" >47</th>\n",
       "                        <td id=\"T_83effdca_436d_11ec_8219_b06ebfbf2340row47_col0\" class=\"data row47 col0\" >Feature Interaction</td>\n",
       "                        <td id=\"T_83effdca_436d_11ec_8219_b06ebfbf2340row47_col1\" class=\"data row47 col1\" >False</td>\n",
       "            </tr>\n",
       "            <tr>\n",
       "                        <th id=\"T_83effdca_436d_11ec_8219_b06ebfbf2340level0_row48\" class=\"row_heading level0 row48\" >48</th>\n",
       "                        <td id=\"T_83effdca_436d_11ec_8219_b06ebfbf2340row48_col0\" class=\"data row48 col0\" >Feature Ratio</td>\n",
       "                        <td id=\"T_83effdca_436d_11ec_8219_b06ebfbf2340row48_col1\" class=\"data row48 col1\" >False</td>\n",
       "            </tr>\n",
       "            <tr>\n",
       "                        <th id=\"T_83effdca_436d_11ec_8219_b06ebfbf2340level0_row49\" class=\"row_heading level0 row49\" >49</th>\n",
       "                        <td id=\"T_83effdca_436d_11ec_8219_b06ebfbf2340row49_col0\" class=\"data row49 col0\" >Interaction Threshold</td>\n",
       "                        <td id=\"T_83effdca_436d_11ec_8219_b06ebfbf2340row49_col1\" class=\"data row49 col1\" >None</td>\n",
       "            </tr>\n",
       "    </tbody></table>"
      ],
      "text/plain": [
       "<pandas.io.formats.style.Styler at 0x1f03308f358>"
      ]
     },
     "metadata": {},
     "output_type": "display_data"
    }
   ],
   "source": [
    "s = setup(df, session_id = 123, normalize = True)"
   ]
  },
  {
   "cell_type": "markdown",
   "id": "e2b99054",
   "metadata": {},
   "source": [
    "### K-Means clustering"
   ]
  },
  {
   "cell_type": "code",
   "execution_count": 45,
   "id": "ec6e7699",
   "metadata": {},
   "outputs": [
    {
     "data": {
      "text/html": [
       "<div>\n",
       "<style scoped>\n",
       "    .dataframe tbody tr th:only-of-type {\n",
       "        vertical-align: middle;\n",
       "    }\n",
       "\n",
       "    .dataframe tbody tr th {\n",
       "        vertical-align: top;\n",
       "    }\n",
       "\n",
       "    .dataframe thead th {\n",
       "        text-align: right;\n",
       "    }\n",
       "</style>\n",
       "<table border=\"1\" class=\"dataframe\">\n",
       "  <thead>\n",
       "    <tr style=\"text-align: right;\">\n",
       "      <th></th>\n",
       "      <th>Silhouette</th>\n",
       "      <th>Calinski-Harabasz</th>\n",
       "      <th>Davies-Bouldin</th>\n",
       "      <th>Homogeneity</th>\n",
       "      <th>Rand Index</th>\n",
       "      <th>Completeness</th>\n",
       "    </tr>\n",
       "  </thead>\n",
       "  <tbody>\n",
       "    <tr>\n",
       "      <th>0</th>\n",
       "      <td>0.6505</td>\n",
       "      <td>52.2895</td>\n",
       "      <td>0.917</td>\n",
       "      <td>0</td>\n",
       "      <td>0</td>\n",
       "      <td>0</td>\n",
       "    </tr>\n",
       "  </tbody>\n",
       "</table>\n",
       "</div>"
      ],
      "text/plain": [
       "   Silhouette  Calinski-Harabasz  Davies-Bouldin  Homogeneity  Rand Index  \\\n",
       "0      0.6505            52.2895           0.917            0           0   \n",
       "\n",
       "   Completeness  \n",
       "0             0  "
      ]
     },
     "metadata": {},
     "output_type": "display_data"
    }
   ],
   "source": [
    "k_model = create_model('kmeans')"
   ]
  },
  {
   "cell_type": "code",
   "execution_count": 47,
   "id": "33d24d95",
   "metadata": {},
   "outputs": [
    {
     "data": {
      "image/png": "[encoded data removed]",
      "text/plain": [
       "<Figure size 576x396 with 1 Axes>"
      ]
     },
     "metadata": {},
     "output_type": "display_data"
    }
   ],
   "source": [
    "plot_model(k_model, 'elbow')"
   ]
  },
  {
   "cell_type": "code",
   "execution_count": 48,
   "id": "a5aaf3e3",
   "metadata": {},
   "outputs": [
    {
     "data": {
      "text/html": [
       "<div>\n",
       "<style scoped>\n",
       "    .dataframe tbody tr th:only-of-type {\n",
       "        vertical-align: middle;\n",
       "    }\n",
       "\n",
       "    .dataframe tbody tr th {\n",
       "        vertical-align: top;\n",
       "    }\n",
       "\n",
       "    .dataframe thead th {\n",
       "        text-align: right;\n",
       "    }\n",
       "</style>\n",
       "<table border=\"1\" class=\"dataframe\">\n",
       "  <thead>\n",
       "    <tr style=\"text-align: right;\">\n",
       "      <th></th>\n",
       "      <th>Silhouette</th>\n",
       "      <th>Calinski-Harabasz</th>\n",
       "      <th>Davies-Bouldin</th>\n",
       "      <th>Homogeneity</th>\n",
       "      <th>Rand Index</th>\n",
       "      <th>Completeness</th>\n",
       "    </tr>\n",
       "  </thead>\n",
       "  <tbody>\n",
       "    <tr>\n",
       "      <th>0</th>\n",
       "      <td>0.6505</td>\n",
       "      <td>52.2895</td>\n",
       "      <td>0.917</td>\n",
       "      <td>0</td>\n",
       "      <td>0</td>\n",
       "      <td>0</td>\n",
       "    </tr>\n",
       "  </tbody>\n",
       "</table>\n",
       "</div>"
      ],
      "text/plain": [
       "   Silhouette  Calinski-Harabasz  Davies-Bouldin  Homogeneity  Rand Index  \\\n",
       "0      0.6505            52.2895           0.917            0           0   \n",
       "\n",
       "   Completeness  \n",
       "0             0  "
      ]
     },
     "metadata": {},
     "output_type": "display_data"
    }
   ],
   "source": [
    "k_model = create_model('kmeans', num_clusters = 4)"
   ]
  },
  {
   "cell_type": "code",
   "execution_count": 60,
   "id": "fd2aa5d3",
   "metadata": {},
   "outputs": [
    {
     "data": {
      "text/html": [
       "<div>\n",
       "<style scoped>\n",
       "    .dataframe tbody tr th:only-of-type {\n",
       "        vertical-align: middle;\n",
       "    }\n",
       "\n",
       "    .dataframe tbody tr th {\n",
       "        vertical-align: top;\n",
       "    }\n",
       "\n",
       "    .dataframe thead th {\n",
       "        text-align: right;\n",
       "    }\n",
       "</style>\n",
       "<table border=\"1\" class=\"dataframe\">\n",
       "  <thead>\n",
       "    <tr style=\"text-align: right;\">\n",
       "      <th></th>\n",
       "      <th>gamma_ray</th>\n",
       "      <th>resistivity</th>\n",
       "      <th>bulk_density</th>\n",
       "      <th>neutron_porosity</th>\n",
       "      <th>neutron_porosity_density_crossover</th>\n",
       "      <th>hydrocarbon_present</th>\n",
       "      <th>Cluster</th>\n",
       "    </tr>\n",
       "    <tr>\n",
       "      <th>well_id</th>\n",
       "      <th></th>\n",
       "      <th></th>\n",
       "      <th></th>\n",
       "      <th></th>\n",
       "      <th></th>\n",
       "      <th></th>\n",
       "      <th></th>\n",
       "    </tr>\n",
       "  </thead>\n",
       "  <tbody>\n",
       "    <tr>\n",
       "      <th>0</th>\n",
       "      <td>left</td>\n",
       "      <td>right</td>\n",
       "      <td>left</td>\n",
       "      <td>left</td>\n",
       "      <td>yes</td>\n",
       "      <td>yes</td>\n",
       "      <td>Cluster 0</td>\n",
       "    </tr>\n",
       "    <tr>\n",
       "      <th>1</th>\n",
       "      <td>left</td>\n",
       "      <td>left</td>\n",
       "      <td>right</td>\n",
       "      <td>left</td>\n",
       "      <td>yes</td>\n",
       "      <td>yes</td>\n",
       "      <td>Cluster 0</td>\n",
       "    </tr>\n",
       "    <tr>\n",
       "      <th>2</th>\n",
       "      <td>left</td>\n",
       "      <td>right</td>\n",
       "      <td>left</td>\n",
       "      <td>right</td>\n",
       "      <td>no</td>\n",
       "      <td>no</td>\n",
       "      <td>Cluster 1</td>\n",
       "    </tr>\n",
       "    <tr>\n",
       "      <th>3</th>\n",
       "      <td>left</td>\n",
       "      <td>right</td>\n",
       "      <td>left</td>\n",
       "      <td>left</td>\n",
       "      <td>yes</td>\n",
       "      <td>yes</td>\n",
       "      <td>Cluster 0</td>\n",
       "    </tr>\n",
       "    <tr>\n",
       "      <th>4</th>\n",
       "      <td>left</td>\n",
       "      <td>right</td>\n",
       "      <td>left</td>\n",
       "      <td>left</td>\n",
       "      <td>yes</td>\n",
       "      <td>yes</td>\n",
       "      <td>Cluster 0</td>\n",
       "    </tr>\n",
       "  </tbody>\n",
       "</table>\n",
       "</div>"
      ],
      "text/plain": [
       "        gamma_ray  resistivity bulk_density neutron_porosity  \\\n",
       "well_id                                                        \n",
       "0             left       right         left             left   \n",
       "1             left        left        right             left   \n",
       "2             left       right         left            right   \n",
       "3             left       right         left             left   \n",
       "4             left       right         left             left   \n",
       "\n",
       "        neutron_porosity_density_crossover hydrocarbon_present    Cluster  \n",
       "well_id                                                                    \n",
       "0                                      yes                 yes  Cluster 0  \n",
       "1                                      yes                 yes  Cluster 0  \n",
       "2                                       no                  no  Cluster 1  \n",
       "3                                      yes                 yes  Cluster 0  \n",
       "4                                      yes                 yes  Cluster 0  "
      ]
     },
     "execution_count": 60,
     "metadata": {},
     "output_type": "execute_result"
    }
   ],
   "source": [
    "# Assign labels\n",
    "kmodel_results = assign_model(k_model)\n",
    "kmodel_results.head()"
   ]
  },
  {
   "cell_type": "code",
   "execution_count": 61,
   "id": "75f88aee",
   "metadata": {},
   "outputs": [
    {
     "name": "stdout",
     "output_type": "stream",
     "text": [
      "Transformation Pipeline and Model Successfully Saved\n"
     ]
    },
    {
     "data": {
      "text/plain": [
       "(Pipeline(memory=None,\n",
       "          steps=[('dtypes',\n",
       "                  DataTypes_Auto_infer(categorical_features=[],\n",
       "                                       display_types=True, features_todrop=[],\n",
       "                                       id_columns=[], ml_usecase='regression',\n",
       "                                       numerical_features=[],\n",
       "                                       target='UNSUPERVISED_DUMMY_TARGET',\n",
       "                                       time_features=[])),\n",
       "                 ('imputer',\n",
       "                  Simple_Imputer(categorical_strategy='most frequent',\n",
       "                                 fill_value_categorical=None,\n",
       "                                 fill_value_numerical=None...\n",
       "                 ('fix_perfect', 'passthrough'),\n",
       "                 ('clean_names', Clean_Colum_Names()),\n",
       "                 ('feature_select', 'passthrough'), ('fix_multi', 'passthrough'),\n",
       "                 ('dfs', 'passthrough'), ('pca', 'passthrough'),\n",
       "                 ['trained_model',\n",
       "                  KMeans(algorithm='auto', copy_x=True, init='k-means++',\n",
       "                         max_iter=300, n_clusters=4, n_init=10, n_jobs=-1,\n",
       "                         precompute_distances='deprecated', random_state=123,\n",
       "                         tol=0.0001, verbose=0)]],\n",
       "          verbose=False), 'kmeans_clustering_model.pkl')"
      ]
     },
     "execution_count": 61,
     "metadata": {},
     "output_type": "execute_result"
    }
   ],
   "source": [
    "# Save model\n",
    "save_model(k_model, 'kmeans_clustering_model')"
   ]
  },
  {
   "cell_type": "code",
   "execution_count": 50,
   "id": "1ef32bda",
   "metadata": {},
   "outputs": [
    {
     "data": {
      "application/vnd.plotly.v1+json": {
       "config": {
        "plotlyServerURL": "https://plot.ly"
       },
       "data": [
        {
         "customdata": [
          [
           "left"
          ],
          [
           "left"
          ],
          [
           "left"
          ],
          [
           "left"
          ],
          [
           "left"
          ],
          [
           "left"
          ],
          [
           "left"
          ],
          [
           "left"
          ],
          [
           "left"
          ],
          [
           "left"
          ],
          [
           "left"
          ],
          [
           "left"
          ],
          [
           "left"
          ],
          [
           "left"
          ],
          [
           "left"
          ],
          [
           "left"
          ],
          [
           "left"
          ],
          [
           "left"
          ],
          [
           " left"
          ],
          [
           "right"
          ],
          [
           null
          ],
          [
           "left"
          ],
          [
           "left"
          ],
          [
           "left"
          ],
          [
           "left"
          ],
          [
           "left"
          ],
          [
           "left"
          ],
          [
           "left"
          ],
          [
           "left"
          ],
          [
           "left"
          ],
          [
           null
          ]
         ],
         "hovertemplate": "Cluster=Cluster 0<br>PCA1=%{x}<br>PCA2=%{y}<br>Feature=%{customdata[0]}<extra></extra>",
         "legendgroup": "Cluster 0",
         "marker": {
          "color": "#636efa",
          "opacity": 0.5,
          "symbol": "circle"
         },
         "mode": "markers",
         "name": "Cluster 0",
         "orientation": "v",
         "showlegend": true,
         "textposition": "top center",
         "type": "scatter",
         "x": [
          -0.9594030976295471,
          -0.9647680521011353,
          -0.9594029784202576,
          -0.9594029784202576,
          -0.9594030976295471,
          -0.9594029784202576,
          -0.9594029784202576,
          -0.9594030976295471,
          -0.9594029784202576,
          -0.9594031572341919,
          -0.9594030976295471,
          -0.9594030976295471,
          -0.9594030976295471,
          -0.9594030976295471,
          -0.9594030976295471,
          -0.9594030976295471,
          -0.9594030976295471,
          -0.9594030976295471,
          -0.9594029784202576,
          -0.9594030976295471,
          -0.9594029784202576,
          -0.44376078248023987,
          -0.9594035744667053,
          -0.9594031572341919,
          -0.9594023823738098,
          -0.9594029784202576,
          -0.9594029784202576,
          -0.9594029784202576,
          -0.959402859210968,
          -0.9869108200073242,
          -0.9594029784202576
         ],
         "xaxis": "x",
         "y": [
          -0.06542827934026718,
          -0.12043539434671402,
          -0.06542801856994629,
          -0.06542801856994629,
          -0.06542805582284927,
          -0.06542804837226868,
          -0.06542805582284927,
          -0.0654280036687851,
          -0.06542801856994629,
          -0.0654280036687851,
          -0.06542801856994629,
          -0.06542801856994629,
          -0.06542801856994629,
          -0.06542801856994629,
          -0.06542801856994629,
          -0.06542801856994629,
          -0.06542801856994629,
          -0.06542801856994629,
          -0.06542801856994629,
          -0.06542801856994629,
          -0.06542801856994629,
          0.5857972502708435,
          -0.06542853266000748,
          -0.06542804837226868,
          -0.06542820483446121,
          -0.06542801856994629,
          -0.06542801856994629,
          -0.06542801856994629,
          -0.0654280036687851,
          -0.10012365132570267,
          -0.06542801856994629
         ],
         "yaxis": "y"
        },
        {
         "customdata": [
          [
           null
          ],
          [
           "left"
          ],
          [
           "left"
          ],
          [
           "left"
          ],
          [
           "left"
          ],
          [
           "left"
          ],
          [
           "left"
          ],
          [
           "left"
          ],
          [
           "left"
          ],
          [
           null
          ],
          [
           null
          ],
          [
           null
          ]
         ],
         "hovertemplate": "Cluster=Cluster 1<br>PCA1=%{x}<br>PCA2=%{y}<br>Feature=%{customdata[0]}<extra></extra>",
         "legendgroup": "Cluster 1",
         "marker": {
          "color": "#EF553B",
          "opacity": 0.5,
          "symbol": "circle"
         },
         "mode": "markers",
         "name": "Cluster 1",
         "orientation": "v",
         "showlegend": true,
         "textposition": "top center",
         "type": "scatter",
         "x": [
          0.8634476661682129,
          1.303637981414795,
          1.3036377429962158,
          1.3036377429962158,
          0.8634476065635681,
          1.2982724905014038,
          0.8634477257728577,
          0.8634476065635681,
          1.3036377429962158,
          0.8634476065635681,
          1.3036377429962158,
          0.8634476661682129
         ],
         "xaxis": "x",
         "y": [
          -0.3355225920677185,
          -0.34882619976997375,
          -0.3488263189792633,
          -0.3488263189792633,
          -0.3355226516723633,
          -0.40383386611938477,
          -0.3355225920677185,
          -0.3355225920677185,
          -0.3488262891769409,
          -0.3355226516723633,
          -0.3488263189792633,
          -0.3355226218700409
         ],
         "yaxis": "y"
        },
        {
         "customdata": [
          [
           "left"
          ],
          [
           "left"
          ],
          [
           "left"
          ],
          [
           "left"
          ],
          [
           "left"
          ],
          [
           "left"
          ],
          [
           "left"
          ],
          [
           "left"
          ],
          [
           "left"
          ],
          [
           "left"
          ],
          [
           "right"
          ]
         ],
         "hovertemplate": "Cluster=Cluster 2<br>PCA1=%{x}<br>PCA2=%{y}<br>Feature=%{customdata[0]}<extra></extra>",
         "legendgroup": "Cluster 2",
         "marker": {
          "color": "#00cc96",
          "opacity": 0.5,
          "symbol": "circle"
         },
         "mode": "markers",
         "name": "Cluster 2",
         "orientation": "v",
         "showlegend": true,
         "textposition": "top center",
         "type": "scatter",
         "x": [
          1.586683988571167,
          0.7451642751693726,
          0.3049740791320801,
          1.1464942693710327,
          1.1464942693710327,
          0.3049740791320801,
          0.30497416853904724,
          0.30497416853904724,
          0.7451642751693726,
          1.1464942693710327,
          1.1464942693710327
         ],
         "xaxis": "x",
         "y": [
          0.8701997995376587,
          1.2807739973068237,
          1.2940775156021118,
          0.8835036158561707,
          0.8835036158561707,
          1.2940775156021118,
          1.2940775156021118,
          1.2940775156021118,
          1.2807739973068237,
          0.8835036158561707,
          0.8835036158561707
         ],
         "yaxis": "y"
        },
        {
         "customdata": [
          [
           "left"
          ],
          [
           null
          ],
          [
           "left"
          ],
          [
           "left"
          ],
          [
           "left"
          ],
          [
           "left"
          ],
          [
           "left"
          ],
          [
           "left"
          ],
          [
           "left"
          ]
         ],
         "hovertemplate": "Cluster=Cluster 3<br>PCA1=%{x}<br>PCA2=%{y}<br>Feature=%{customdata[0]}<extra></extra>",
         "legendgroup": "Cluster 3",
         "marker": {
          "color": "#ab63fa",
          "opacity": 0.5,
          "symbol": "circle"
         },
         "mode": "markers",
         "name": "Cluster 3",
         "orientation": "v",
         "showlegend": true,
         "textposition": "top center",
         "type": "scatter",
         "x": [
          1.0960434675216675,
          1.53623366355896,
          0.6947134137153625,
          0.2545234262943268,
          1.0960434675216675,
          0.25452348589897156,
          1.0960434675216675,
          0.2545233964920044,
          1.0960434675216675
         ],
         "xaxis": "x",
         "y": [
          -0.9033235311508179,
          -0.9166272878646851,
          -0.5060532093048096,
          -0.49274957180023193,
          -0.9033235907554626,
          -0.49274951219558716,
          -0.9033235311508179,
          -0.49274957180023193,
          -0.9033235907554626
         ],
         "yaxis": "y"
        }
       ],
       "layout": {
        "height": 600,
        "legend": {
         "title": {
          "text": "Cluster"
         },
         "tracegroupgap": 0
        },
        "margin": {
         "t": 60
        },
        "plot_bgcolor": "rgb(240,240,240)",
        "template": {
         "data": {
          "bar": [
           {
            "error_x": {
             "color": "#2a3f5f"
            },
            "error_y": {
             "color": "#2a3f5f"
            },
            "marker": {
             "line": {
              "color": "#E5ECF6",
              "width": 0.5
             },
             "pattern": {
              "fillmode": "overlay",
              "size": 10,
              "solidity": 0.2
             }
            },
            "type": "bar"
           }
          ],
          "barpolar": [
           {
            "marker": {
             "line": {
              "color": "#E5ECF6",
              "width": 0.5
             },
             "pattern": {
              "fillmode": "overlay",
              "size": 10,
              "solidity": 0.2
             }
            },
            "type": "barpolar"
           }
          ],
          "carpet": [
           {
            "aaxis": {
             "endlinecolor": "#2a3f5f",
             "gridcolor": "white",
             "linecolor": "white",
             "minorgridcolor": "white",
             "startlinecolor": "#2a3f5f"
            },
            "baxis": {
             "endlinecolor": "#2a3f5f",
             "gridcolor": "white",
             "linecolor": "white",
             "minorgridcolor": "white",
             "startlinecolor": "#2a3f5f"
            },
            "type": "carpet"
           }
          ],
          "choropleth": [
           {
            "colorbar": {
             "outlinewidth": 0,
             "ticks": ""
            },
            "type": "choropleth"
           }
          ],
          "contour": [
           {
            "colorbar": {
             "outlinewidth": 0,
             "ticks": ""
            },
            "colorscale": [
             [
              0,
              "#0d0887"
             ],
             [
              0.1111111111111111,
              "#46039f"
             ],
             [
              0.2222222222222222,
              "#7201a8"
             ],
             [
              0.3333333333333333,
              "#9c179e"
             ],
             [
              0.4444444444444444,
              "#bd3786"
             ],
             [
              0.5555555555555556,
              "#d8576b"
             ],
             [
              0.6666666666666666,
              "#ed7953"
             ],
             [
              0.7777777777777778,
              "#fb9f3a"
             ],
             [
              0.8888888888888888,
              "#fdca26"
             ],
             [
              1,
              "#f0f921"
             ]
            ],
            "type": "contour"
           }
          ],
          "contourcarpet": [
           {
            "colorbar": {
             "outlinewidth": 0,
             "ticks": ""
            },
            "type": "contourcarpet"
           }
          ],
          "heatmap": [
           {
            "colorbar": {
             "outlinewidth": 0,
             "ticks": ""
            },
            "colorscale": [
             [
              0,
              "#0d0887"
             ],
             [
              0.1111111111111111,
              "#46039f"
             ],
             [
              0.2222222222222222,
              "#7201a8"
             ],
             [
              0.3333333333333333,
              "#9c179e"
             ],
             [
              0.4444444444444444,
              "#bd3786"
             ],
             [
              0.5555555555555556,
              "#d8576b"
             ],
             [
              0.6666666666666666,
              "#ed7953"
             ],
             [
              0.7777777777777778,
              "#fb9f3a"
             ],
             [
              0.8888888888888888,
              "#fdca26"
             ],
             [
              1,
              "#f0f921"
             ]
            ],
            "type": "heatmap"
           }
          ],
          "heatmapgl": [
           {
            "colorbar": {
             "outlinewidth": 0,
             "ticks": ""
            },
            "colorscale": [
             [
              0,
              "#0d0887"
             ],
             [
              0.1111111111111111,
              "#46039f"
             ],
             [
              0.2222222222222222,
              "#7201a8"
             ],
             [
              0.3333333333333333,
              "#9c179e"
             ],
             [
              0.4444444444444444,
              "#bd3786"
             ],
             [
              0.5555555555555556,
              "#d8576b"
             ],
             [
              0.6666666666666666,
              "#ed7953"
             ],
             [
              0.7777777777777778,
              "#fb9f3a"
             ],
             [
              0.8888888888888888,
              "#fdca26"
             ],
             [
              1,
              "#f0f921"
             ]
            ],
            "type": "heatmapgl"
           }
          ],
          "histogram": [
           {
            "marker": {
             "pattern": {
              "fillmode": "overlay",
              "size": 10,
              "solidity": 0.2
             }
            },
            "type": "histogram"
           }
          ],
          "histogram2d": [
           {
            "colorbar": {
             "outlinewidth": 0,
             "ticks": ""
            },
            "colorscale": [
             [
              0,
              "#0d0887"
             ],
             [
              0.1111111111111111,
              "#46039f"
             ],
             [
              0.2222222222222222,
              "#7201a8"
             ],
             [
              0.3333333333333333,
              "#9c179e"
             ],
             [
              0.4444444444444444,
              "#bd3786"
             ],
             [
              0.5555555555555556,
              "#d8576b"
             ],
             [
              0.6666666666666666,
              "#ed7953"
             ],
             [
              0.7777777777777778,
              "#fb9f3a"
             ],
             [
              0.8888888888888888,
              "#fdca26"
             ],
             [
              1,
              "#f0f921"
             ]
            ],
            "type": "histogram2d"
           }
          ],
          "histogram2dcontour": [
           {
            "colorbar": {
             "outlinewidth": 0,
             "ticks": ""
            },
            "colorscale": [
             [
              0,
              "#0d0887"
             ],
             [
              0.1111111111111111,
              "#46039f"
             ],
             [
              0.2222222222222222,
              "#7201a8"
             ],
             [
              0.3333333333333333,
              "#9c179e"
             ],
             [
              0.4444444444444444,
              "#bd3786"
             ],
             [
              0.5555555555555556,
              "#d8576b"
             ],
             [
              0.6666666666666666,
              "#ed7953"
             ],
             [
              0.7777777777777778,
              "#fb9f3a"
             ],
             [
              0.8888888888888888,
              "#fdca26"
             ],
             [
              1,
              "#f0f921"
             ]
            ],
            "type": "histogram2dcontour"
           }
          ],
          "mesh3d": [
           {
            "colorbar": {
             "outlinewidth": 0,
             "ticks": ""
            },
            "type": "mesh3d"
           }
          ],
          "parcoords": [
           {
            "line": {
             "colorbar": {
              "outlinewidth": 0,
              "ticks": ""
             }
            },
            "type": "parcoords"
           }
          ],
          "pie": [
           {
            "automargin": true,
            "type": "pie"
           }
          ],
          "scatter": [
           {
            "marker": {
             "colorbar": {
              "outlinewidth": 0,
              "ticks": ""
             }
            },
            "type": "scatter"
           }
          ],
          "scatter3d": [
           {
            "line": {
             "colorbar": {
              "outlinewidth": 0,
              "ticks": ""
             }
            },
            "marker": {
             "colorbar": {
              "outlinewidth": 0,
              "ticks": ""
             }
            },
            "type": "scatter3d"
           }
          ],
          "scattercarpet": [
           {
            "marker": {
             "colorbar": {
              "outlinewidth": 0,
              "ticks": ""
             }
            },
            "type": "scattercarpet"
           }
          ],
          "scattergeo": [
           {
            "marker": {
             "colorbar": {
              "outlinewidth": 0,
              "ticks": ""
             }
            },
            "type": "scattergeo"
           }
          ],
          "scattergl": [
           {
            "marker": {
             "colorbar": {
              "outlinewidth": 0,
              "ticks": ""
             }
            },
            "type": "scattergl"
           }
          ],
          "scattermapbox": [
           {
            "marker": {
             "colorbar": {
              "outlinewidth": 0,
              "ticks": ""
             }
            },
            "type": "scattermapbox"
           }
          ],
          "scatterpolar": [
           {
            "marker": {
             "colorbar": {
              "outlinewidth": 0,
              "ticks": ""
             }
            },
            "type": "scatterpolar"
           }
          ],
          "scatterpolargl": [
           {
            "marker": {
             "colorbar": {
              "outlinewidth": 0,
              "ticks": ""
             }
            },
            "type": "scatterpolargl"
           }
          ],
          "scatterternary": [
           {
            "marker": {
             "colorbar": {
              "outlinewidth": 0,
              "ticks": ""
             }
            },
            "type": "scatterternary"
           }
          ],
          "surface": [
           {
            "colorbar": {
             "outlinewidth": 0,
             "ticks": ""
            },
            "colorscale": [
             [
              0,
              "#0d0887"
             ],
             [
              0.1111111111111111,
              "#46039f"
             ],
             [
              0.2222222222222222,
              "#7201a8"
             ],
             [
              0.3333333333333333,
              "#9c179e"
             ],
             [
              0.4444444444444444,
              "#bd3786"
             ],
             [
              0.5555555555555556,
              "#d8576b"
             ],
             [
              0.6666666666666666,
              "#ed7953"
             ],
             [
              0.7777777777777778,
              "#fb9f3a"
             ],
             [
              0.8888888888888888,
              "#fdca26"
             ],
             [
              1,
              "#f0f921"
             ]
            ],
            "type": "surface"
           }
          ],
          "table": [
           {
            "cells": {
             "fill": {
              "color": "#EBF0F8"
             },
             "line": {
              "color": "white"
             }
            },
            "header": {
             "fill": {
              "color": "#C8D4E3"
             },
             "line": {
              "color": "white"
             }
            },
            "type": "table"
           }
          ]
         },
         "layout": {
          "annotationdefaults": {
           "arrowcolor": "#2a3f5f",
           "arrowhead": 0,
           "arrowwidth": 1
          },
          "autotypenumbers": "strict",
          "coloraxis": {
           "colorbar": {
            "outlinewidth": 0,
            "ticks": ""
           }
          },
          "colorscale": {
           "diverging": [
            [
             0,
             "#8e0152"
            ],
            [
             0.1,
             "#c51b7d"
            ],
            [
             0.2,
             "#de77ae"
            ],
            [
             0.3,
             "#f1b6da"
            ],
            [
             0.4,
             "#fde0ef"
            ],
            [
             0.5,
             "#f7f7f7"
            ],
            [
             0.6,
             "#e6f5d0"
            ],
            [
             0.7,
             "#b8e186"
            ],
            [
             0.8,
             "#7fbc41"
            ],
            [
             0.9,
             "#4d9221"
            ],
            [
             1,
             "#276419"
            ]
           ],
           "sequential": [
            [
             0,
             "#0d0887"
            ],
            [
             0.1111111111111111,
             "#46039f"
            ],
            [
             0.2222222222222222,
             "#7201a8"
            ],
            [
             0.3333333333333333,
             "#9c179e"
            ],
            [
             0.4444444444444444,
             "#bd3786"
            ],
            [
             0.5555555555555556,
             "#d8576b"
            ],
            [
             0.6666666666666666,
             "#ed7953"
            ],
            [
             0.7777777777777778,
             "#fb9f3a"
            ],
            [
             0.8888888888888888,
             "#fdca26"
            ],
            [
             1,
             "#f0f921"
            ]
           ],
           "sequentialminus": [
            [
             0,
             "#0d0887"
            ],
            [
             0.1111111111111111,
             "#46039f"
            ],
            [
             0.2222222222222222,
             "#7201a8"
            ],
            [
             0.3333333333333333,
             "#9c179e"
            ],
            [
             0.4444444444444444,
             "#bd3786"
            ],
            [
             0.5555555555555556,
             "#d8576b"
            ],
            [
             0.6666666666666666,
             "#ed7953"
            ],
            [
             0.7777777777777778,
             "#fb9f3a"
            ],
            [
             0.8888888888888888,
             "#fdca26"
            ],
            [
             1,
             "#f0f921"
            ]
           ]
          },
          "colorway": [
           "#636efa",
           "#EF553B",
           "#00cc96",
           "#ab63fa",
           "#FFA15A",
           "#19d3f3",
           "#FF6692",
           "#B6E880",
           "#FF97FF",
           "#FECB52"
          ],
          "font": {
           "color": "#2a3f5f"
          },
          "geo": {
           "bgcolor": "white",
           "lakecolor": "white",
           "landcolor": "#E5ECF6",
           "showlakes": true,
           "showland": true,
           "subunitcolor": "white"
          },
          "hoverlabel": {
           "align": "left"
          },
          "hovermode": "closest",
          "mapbox": {
           "style": "light"
          },
          "paper_bgcolor": "white",
          "plot_bgcolor": "#E5ECF6",
          "polar": {
           "angularaxis": {
            "gridcolor": "white",
            "linecolor": "white",
            "ticks": ""
           },
           "bgcolor": "#E5ECF6",
           "radialaxis": {
            "gridcolor": "white",
            "linecolor": "white",
            "ticks": ""
           }
          },
          "scene": {
           "xaxis": {
            "backgroundcolor": "#E5ECF6",
            "gridcolor": "white",
            "gridwidth": 2,
            "linecolor": "white",
            "showbackground": true,
            "ticks": "",
            "zerolinecolor": "white"
           },
           "yaxis": {
            "backgroundcolor": "#E5ECF6",
            "gridcolor": "white",
            "gridwidth": 2,
            "linecolor": "white",
            "showbackground": true,
            "ticks": "",
            "zerolinecolor": "white"
           },
           "zaxis": {
            "backgroundcolor": "#E5ECF6",
            "gridcolor": "white",
            "gridwidth": 2,
            "linecolor": "white",
            "showbackground": true,
            "ticks": "",
            "zerolinecolor": "white"
           }
          },
          "shapedefaults": {
           "line": {
            "color": "#2a3f5f"
           }
          },
          "ternary": {
           "aaxis": {
            "gridcolor": "white",
            "linecolor": "white",
            "ticks": ""
           },
           "baxis": {
            "gridcolor": "white",
            "linecolor": "white",
            "ticks": ""
           },
           "bgcolor": "#E5ECF6",
           "caxis": {
            "gridcolor": "white",
            "linecolor": "white",
            "ticks": ""
           }
          },
          "title": {
           "x": 0.05
          },
          "xaxis": {
           "automargin": true,
           "gridcolor": "white",
           "linecolor": "white",
           "ticks": "",
           "title": {
            "standoff": 15
           },
           "zerolinecolor": "white",
           "zerolinewidth": 2
          },
          "yaxis": {
           "automargin": true,
           "gridcolor": "white",
           "linecolor": "white",
           "ticks": "",
           "title": {
            "standoff": 15
           },
           "zerolinecolor": "white",
           "zerolinewidth": 2
          }
         }
        },
        "title": {
         "text": "2D Cluster PCA Plot"
        },
        "xaxis": {
         "anchor": "y",
         "domain": [
          0,
          1
         ],
         "title": {
          "text": "PCA1"
         }
        },
        "yaxis": {
         "anchor": "x",
         "domain": [
          0,
          1
         ],
         "title": {
          "text": "PCA2"
         }
        }
       }
      },
      "text/html": [
       "<div>                            <div id=\"424340cd-9cec-4b36-99ee-1c9398c1ac8f\" class=\"plotly-graph-div\" style=\"height:600px; width:100%;\"></div>            <script type=\"text/javascript\">                require([\"plotly\"], function(Plotly) {                    window.PLOTLYENV=window.PLOTLYENV || {};                                    if (document.getElementById(\"424340cd-9cec-4b36-99ee-1c9398c1ac8f\")) {                    Plotly.newPlot(                        \"424340cd-9cec-4b36-99ee-1c9398c1ac8f\",                        [{\"customdata\":[[\"left\"],[\"left\"],[\"left\"],[\"left\"],[\"left\"],[\"left\"],[\"left\"],[\"left\"],[\"left\"],[\"left\"],[\"left\"],[\"left\"],[\"left\"],[\"left\"],[\"left\"],[\"left\"],[\"left\"],[\"left\"],[\" left\"],[\"right\"],[null],[\"left\"],[\"left\"],[\"left\"],[\"left\"],[\"left\"],[\"left\"],[\"left\"],[\"left\"],[\"left\"],[null]],\"hovertemplate\":\"Cluster=Cluster 0<br>PCA1=%{x}<br>PCA2=%{y}<br>Feature=%{customdata[0]}<extra></extra>\",\"legendgroup\":\"Cluster 0\",\"marker\":{\"color\":\"#636efa\",\"opacity\":0.5,\"symbol\":\"circle\"},\"mode\":\"markers\",\"name\":\"Cluster 0\",\"orientation\":\"v\",\"showlegend\":true,\"textposition\":\"top center\",\"type\":\"scatter\",\"x\":[-0.9594030976295471,-0.9647680521011353,-0.9594029784202576,-0.9594029784202576,-0.9594030976295471,-0.9594029784202576,-0.9594029784202576,-0.9594030976295471,-0.9594029784202576,-0.9594031572341919,-0.9594030976295471,-0.9594030976295471,-0.9594030976295471,-0.9594030976295471,-0.9594030976295471,-0.9594030976295471,-0.9594030976295471,-0.9594030976295471,-0.9594029784202576,-0.9594030976295471,-0.9594029784202576,-0.44376078248023987,-0.9594035744667053,-0.9594031572341919,-0.9594023823738098,-0.9594029784202576,-0.9594029784202576,-0.9594029784202576,-0.959402859210968,-0.9869108200073242,-0.9594029784202576],\"xaxis\":\"x\",\"y\":[-0.06542827934026718,-0.12043539434671402,-0.06542801856994629,-0.06542801856994629,-0.06542805582284927,-0.06542804837226868,-0.06542805582284927,-0.0654280036687851,-0.06542801856994629,-0.0654280036687851,-0.06542801856994629,-0.06542801856994629,-0.06542801856994629,-0.06542801856994629,-0.06542801856994629,-0.06542801856994629,-0.06542801856994629,-0.06542801856994629,-0.06542801856994629,-0.06542801856994629,-0.06542801856994629,0.5857972502708435,-0.06542853266000748,-0.06542804837226868,-0.06542820483446121,-0.06542801856994629,-0.06542801856994629,-0.06542801856994629,-0.0654280036687851,-0.10012365132570267,-0.06542801856994629],\"yaxis\":\"y\"},{\"customdata\":[[null],[\"left\"],[\"left\"],[\"left\"],[\"left\"],[\"left\"],[\"left\"],[\"left\"],[\"left\"],[null],[null],[null]],\"hovertemplate\":\"Cluster=Cluster 1<br>PCA1=%{x}<br>PCA2=%{y}<br>Feature=%{customdata[0]}<extra></extra>\",\"legendgroup\":\"Cluster 1\",\"marker\":{\"color\":\"#EF553B\",\"opacity\":0.5,\"symbol\":\"circle\"},\"mode\":\"markers\",\"name\":\"Cluster 1\",\"orientation\":\"v\",\"showlegend\":true,\"textposition\":\"top center\",\"type\":\"scatter\",\"x\":[0.8634476661682129,1.303637981414795,1.3036377429962158,1.3036377429962158,0.8634476065635681,1.2982724905014038,0.8634477257728577,0.8634476065635681,1.3036377429962158,0.8634476065635681,1.3036377429962158,0.8634476661682129],\"xaxis\":\"x\",\"y\":[-0.3355225920677185,-0.34882619976997375,-0.3488263189792633,-0.3488263189792633,-0.3355226516723633,-0.40383386611938477,-0.3355225920677185,-0.3355225920677185,-0.3488262891769409,-0.3355226516723633,-0.3488263189792633,-0.3355226218700409],\"yaxis\":\"y\"},{\"customdata\":[[\"left\"],[\"left\"],[\"left\"],[\"left\"],[\"left\"],[\"left\"],[\"left\"],[\"left\"],[\"left\"],[\"left\"],[\"right\"]],\"hovertemplate\":\"Cluster=Cluster 2<br>PCA1=%{x}<br>PCA2=%{y}<br>Feature=%{customdata[0]}<extra></extra>\",\"legendgroup\":\"Cluster 2\",\"marker\":{\"color\":\"#00cc96\",\"opacity\":0.5,\"symbol\":\"circle\"},\"mode\":\"markers\",\"name\":\"Cluster 2\",\"orientation\":\"v\",\"showlegend\":true,\"textposition\":\"top center\",\"type\":\"scatter\",\"x\":[1.586683988571167,0.7451642751693726,0.3049740791320801,1.1464942693710327,1.1464942693710327,0.3049740791320801,0.30497416853904724,0.30497416853904724,0.7451642751693726,1.1464942693710327,1.1464942693710327],\"xaxis\":\"x\",\"y\":[0.8701997995376587,1.2807739973068237,1.2940775156021118,0.8835036158561707,0.8835036158561707,1.2940775156021118,1.2940775156021118,1.2940775156021118,1.2807739973068237,0.8835036158561707,0.8835036158561707],\"yaxis\":\"y\"},{\"customdata\":[[\"left\"],[null],[\"left\"],[\"left\"],[\"left\"],[\"left\"],[\"left\"],[\"left\"],[\"left\"]],\"hovertemplate\":\"Cluster=Cluster 3<br>PCA1=%{x}<br>PCA2=%{y}<br>Feature=%{customdata[0]}<extra></extra>\",\"legendgroup\":\"Cluster 3\",\"marker\":{\"color\":\"#ab63fa\",\"opacity\":0.5,\"symbol\":\"circle\"},\"mode\":\"markers\",\"name\":\"Cluster 3\",\"orientation\":\"v\",\"showlegend\":true,\"textposition\":\"top center\",\"type\":\"scatter\",\"x\":[1.0960434675216675,1.53623366355896,0.6947134137153625,0.2545234262943268,1.0960434675216675,0.25452348589897156,1.0960434675216675,0.2545233964920044,1.0960434675216675],\"xaxis\":\"x\",\"y\":[-0.9033235311508179,-0.9166272878646851,-0.5060532093048096,-0.49274957180023193,-0.9033235907554626,-0.49274951219558716,-0.9033235311508179,-0.49274957180023193,-0.9033235907554626],\"yaxis\":\"y\"}],                        {\"height\":600,\"legend\":{\"title\":{\"text\":\"Cluster\"},\"tracegroupgap\":0},\"margin\":{\"t\":60},\"plot_bgcolor\":\"rgb(240,240,240)\",\"template\":{\"data\":{\"bar\":[{\"error_x\":{\"color\":\"#2a3f5f\"},\"error_y\":{\"color\":\"#2a3f5f\"},\"marker\":{\"line\":{\"color\":\"#E5ECF6\",\"width\":0.5},\"pattern\":{\"fillmode\":\"overlay\",\"size\":10,\"solidity\":0.2}},\"type\":\"bar\"}],\"barpolar\":[{\"marker\":{\"line\":{\"color\":\"#E5ECF6\",\"width\":0.5},\"pattern\":{\"fillmode\":\"overlay\",\"size\":10,\"solidity\":0.2}},\"type\":\"barpolar\"}],\"carpet\":[{\"aaxis\":{\"endlinecolor\":\"#2a3f5f\",\"gridcolor\":\"white\",\"linecolor\":\"white\",\"minorgridcolor\":\"white\",\"startlinecolor\":\"#2a3f5f\"},\"baxis\":{\"endlinecolor\":\"#2a3f5f\",\"gridcolor\":\"white\",\"linecolor\":\"white\",\"minorgridcolor\":\"white\",\"startlinecolor\":\"#2a3f5f\"},\"type\":\"carpet\"}],\"choropleth\":[{\"colorbar\":{\"outlinewidth\":0,\"ticks\":\"\"},\"type\":\"choropleth\"}],\"contour\":[{\"colorbar\":{\"outlinewidth\":0,\"ticks\":\"\"},\"colorscale\":[[0.0,\"#0d0887\"],[0.1111111111111111,\"#46039f\"],[0.2222222222222222,\"#7201a8\"],[0.3333333333333333,\"#9c179e\"],[0.4444444444444444,\"#bd3786\"],[0.5555555555555556,\"#d8576b\"],[0.6666666666666666,\"#ed7953\"],[0.7777777777777778,\"#fb9f3a\"],[0.8888888888888888,\"#fdca26\"],[1.0,\"#f0f921\"]],\"type\":\"contour\"}],\"contourcarpet\":[{\"colorbar\":{\"outlinewidth\":0,\"ticks\":\"\"},\"type\":\"contourcarpet\"}],\"heatmap\":[{\"colorbar\":{\"outlinewidth\":0,\"ticks\":\"\"},\"colorscale\":[[0.0,\"#0d0887\"],[0.1111111111111111,\"#46039f\"],[0.2222222222222222,\"#7201a8\"],[0.3333333333333333,\"#9c179e\"],[0.4444444444444444,\"#bd3786\"],[0.5555555555555556,\"#d8576b\"],[0.6666666666666666,\"#ed7953\"],[0.7777777777777778,\"#fb9f3a\"],[0.8888888888888888,\"#fdca26\"],[1.0,\"#f0f921\"]],\"type\":\"heatmap\"}],\"heatmapgl\":[{\"colorbar\":{\"outlinewidth\":0,\"ticks\":\"\"},\"colorscale\":[[0.0,\"#0d0887\"],[0.1111111111111111,\"#46039f\"],[0.2222222222222222,\"#7201a8\"],[0.3333333333333333,\"#9c179e\"],[0.4444444444444444,\"#bd3786\"],[0.5555555555555556,\"#d8576b\"],[0.6666666666666666,\"#ed7953\"],[0.7777777777777778,\"#fb9f3a\"],[0.8888888888888888,\"#fdca26\"],[1.0,\"#f0f921\"]],\"type\":\"heatmapgl\"}],\"histogram\":[{\"marker\":{\"pattern\":{\"fillmode\":\"overlay\",\"size\":10,\"solidity\":0.2}},\"type\":\"histogram\"}],\"histogram2d\":[{\"colorbar\":{\"outlinewidth\":0,\"ticks\":\"\"},\"colorscale\":[[0.0,\"#0d0887\"],[0.1111111111111111,\"#46039f\"],[0.2222222222222222,\"#7201a8\"],[0.3333333333333333,\"#9c179e\"],[0.4444444444444444,\"#bd3786\"],[0.5555555555555556,\"#d8576b\"],[0.6666666666666666,\"#ed7953\"],[0.7777777777777778,\"#fb9f3a\"],[0.8888888888888888,\"#fdca26\"],[1.0,\"#f0f921\"]],\"type\":\"histogram2d\"}],\"histogram2dcontour\":[{\"colorbar\":{\"outlinewidth\":0,\"ticks\":\"\"},\"colorscale\":[[0.0,\"#0d0887\"],[0.1111111111111111,\"#46039f\"],[0.2222222222222222,\"#7201a8\"],[0.3333333333333333,\"#9c179e\"],[0.4444444444444444,\"#bd3786\"],[0.5555555555555556,\"#d8576b\"],[0.6666666666666666,\"#ed7953\"],[0.7777777777777778,\"#fb9f3a\"],[0.8888888888888888,\"#fdca26\"],[1.0,\"#f0f921\"]],\"type\":\"histogram2dcontour\"}],\"mesh3d\":[{\"colorbar\":{\"outlinewidth\":0,\"ticks\":\"\"},\"type\":\"mesh3d\"}],\"parcoords\":[{\"line\":{\"colorbar\":{\"outlinewidth\":0,\"ticks\":\"\"}},\"type\":\"parcoords\"}],\"pie\":[{\"automargin\":true,\"type\":\"pie\"}],\"scatter\":[{\"marker\":{\"colorbar\":{\"outlinewidth\":0,\"ticks\":\"\"}},\"type\":\"scatter\"}],\"scatter3d\":[{\"line\":{\"colorbar\":{\"outlinewidth\":0,\"ticks\":\"\"}},\"marker\":{\"colorbar\":{\"outlinewidth\":0,\"ticks\":\"\"}},\"type\":\"scatter3d\"}],\"scattercarpet\":[{\"marker\":{\"colorbar\":{\"outlinewidth\":0,\"ticks\":\"\"}},\"type\":\"scattercarpet\"}],\"scattergeo\":[{\"marker\":{\"colorbar\":{\"outlinewidth\":0,\"ticks\":\"\"}},\"type\":\"scattergeo\"}],\"scattergl\":[{\"marker\":{\"colorbar\":{\"outlinewidth\":0,\"ticks\":\"\"}},\"type\":\"scattergl\"}],\"scattermapbox\":[{\"marker\":{\"colorbar\":{\"outlinewidth\":0,\"ticks\":\"\"}},\"type\":\"scattermapbox\"}],\"scatterpolar\":[{\"marker\":{\"colorbar\":{\"outlinewidth\":0,\"ticks\":\"\"}},\"type\":\"scatterpolar\"}],\"scatterpolargl\":[{\"marker\":{\"colorbar\":{\"outlinewidth\":0,\"ticks\":\"\"}},\"type\":\"scatterpolargl\"}],\"scatterternary\":[{\"marker\":{\"colorbar\":{\"outlinewidth\":0,\"ticks\":\"\"}},\"type\":\"scatterternary\"}],\"surface\":[{\"colorbar\":{\"outlinewidth\":0,\"ticks\":\"\"},\"colorscale\":[[0.0,\"#0d0887\"],[0.1111111111111111,\"#46039f\"],[0.2222222222222222,\"#7201a8\"],[0.3333333333333333,\"#9c179e\"],[0.4444444444444444,\"#bd3786\"],[0.5555555555555556,\"#d8576b\"],[0.6666666666666666,\"#ed7953\"],[0.7777777777777778,\"#fb9f3a\"],[0.8888888888888888,\"#fdca26\"],[1.0,\"#f0f921\"]],\"type\":\"surface\"}],\"table\":[{\"cells\":{\"fill\":{\"color\":\"#EBF0F8\"},\"line\":{\"color\":\"white\"}},\"header\":{\"fill\":{\"color\":\"#C8D4E3\"},\"line\":{\"color\":\"white\"}},\"type\":\"table\"}]},\"layout\":{\"annotationdefaults\":{\"arrowcolor\":\"#2a3f5f\",\"arrowhead\":0,\"arrowwidth\":1},\"autotypenumbers\":\"strict\",\"coloraxis\":{\"colorbar\":{\"outlinewidth\":0,\"ticks\":\"\"}},\"colorscale\":{\"diverging\":[[0,\"#8e0152\"],[0.1,\"#c51b7d\"],[0.2,\"#de77ae\"],[0.3,\"#f1b6da\"],[0.4,\"#fde0ef\"],[0.5,\"#f7f7f7\"],[0.6,\"#e6f5d0\"],[0.7,\"#b8e186\"],[0.8,\"#7fbc41\"],[0.9,\"#4d9221\"],[1,\"#276419\"]],\"sequential\":[[0.0,\"#0d0887\"],[0.1111111111111111,\"#46039f\"],[0.2222222222222222,\"#7201a8\"],[0.3333333333333333,\"#9c179e\"],[0.4444444444444444,\"#bd3786\"],[0.5555555555555556,\"#d8576b\"],[0.6666666666666666,\"#ed7953\"],[0.7777777777777778,\"#fb9f3a\"],[0.8888888888888888,\"#fdca26\"],[1.0,\"#f0f921\"]],\"sequentialminus\":[[0.0,\"#0d0887\"],[0.1111111111111111,\"#46039f\"],[0.2222222222222222,\"#7201a8\"],[0.3333333333333333,\"#9c179e\"],[0.4444444444444444,\"#bd3786\"],[0.5555555555555556,\"#d8576b\"],[0.6666666666666666,\"#ed7953\"],[0.7777777777777778,\"#fb9f3a\"],[0.8888888888888888,\"#fdca26\"],[1.0,\"#f0f921\"]]},\"colorway\":[\"#636efa\",\"#EF553B\",\"#00cc96\",\"#ab63fa\",\"#FFA15A\",\"#19d3f3\",\"#FF6692\",\"#B6E880\",\"#FF97FF\",\"#FECB52\"],\"font\":{\"color\":\"#2a3f5f\"},\"geo\":{\"bgcolor\":\"white\",\"lakecolor\":\"white\",\"landcolor\":\"#E5ECF6\",\"showlakes\":true,\"showland\":true,\"subunitcolor\":\"white\"},\"hoverlabel\":{\"align\":\"left\"},\"hovermode\":\"closest\",\"mapbox\":{\"style\":\"light\"},\"paper_bgcolor\":\"white\",\"plot_bgcolor\":\"#E5ECF6\",\"polar\":{\"angularaxis\":{\"gridcolor\":\"white\",\"linecolor\":\"white\",\"ticks\":\"\"},\"bgcolor\":\"#E5ECF6\",\"radialaxis\":{\"gridcolor\":\"white\",\"linecolor\":\"white\",\"ticks\":\"\"}},\"scene\":{\"xaxis\":{\"backgroundcolor\":\"#E5ECF6\",\"gridcolor\":\"white\",\"gridwidth\":2,\"linecolor\":\"white\",\"showbackground\":true,\"ticks\":\"\",\"zerolinecolor\":\"white\"},\"yaxis\":{\"backgroundcolor\":\"#E5ECF6\",\"gridcolor\":\"white\",\"gridwidth\":2,\"linecolor\":\"white\",\"showbackground\":true,\"ticks\":\"\",\"zerolinecolor\":\"white\"},\"zaxis\":{\"backgroundcolor\":\"#E5ECF6\",\"gridcolor\":\"white\",\"gridwidth\":2,\"linecolor\":\"white\",\"showbackground\":true,\"ticks\":\"\",\"zerolinecolor\":\"white\"}},\"shapedefaults\":{\"line\":{\"color\":\"#2a3f5f\"}},\"ternary\":{\"aaxis\":{\"gridcolor\":\"white\",\"linecolor\":\"white\",\"ticks\":\"\"},\"baxis\":{\"gridcolor\":\"white\",\"linecolor\":\"white\",\"ticks\":\"\"},\"bgcolor\":\"#E5ECF6\",\"caxis\":{\"gridcolor\":\"white\",\"linecolor\":\"white\",\"ticks\":\"\"}},\"title\":{\"x\":0.05},\"xaxis\":{\"automargin\":true,\"gridcolor\":\"white\",\"linecolor\":\"white\",\"ticks\":\"\",\"title\":{\"standoff\":15},\"zerolinecolor\":\"white\",\"zerolinewidth\":2},\"yaxis\":{\"automargin\":true,\"gridcolor\":\"white\",\"linecolor\":\"white\",\"ticks\":\"\",\"title\":{\"standoff\":15},\"zerolinecolor\":\"white\",\"zerolinewidth\":2}}},\"title\":{\"text\":\"2D Cluster PCA Plot\"},\"xaxis\":{\"anchor\":\"y\",\"domain\":[0.0,1.0],\"title\":{\"text\":\"PCA1\"}},\"yaxis\":{\"anchor\":\"x\",\"domain\":[0.0,1.0],\"title\":{\"text\":\"PCA2\"}}},                        {\"responsive\": true}                    ).then(function(){\n",
       "                            \n",
       "var gd = document.getElementById('424340cd-9cec-4b36-99ee-1c9398c1ac8f');\n",
       "var x = new MutationObserver(function (mutations, observer) {{\n",
       "        var display = window.getComputedStyle(gd).display;\n",
       "        if (!display || display === 'none') {{\n",
       "            console.log([gd, 'removed!']);\n",
       "            Plotly.purge(gd);\n",
       "            observer.disconnect();\n",
       "        }}\n",
       "}});\n",
       "\n",
       "// Listen for the removal of the full notebook cells\n",
       "var notebookContainer = gd.closest('#notebook-container');\n",
       "if (notebookContainer) {{\n",
       "    x.observe(notebookContainer, {childList: true});\n",
       "}}\n",
       "\n",
       "// Listen for the clearing of the current output cell\n",
       "var outputEl = gd.closest('.output');\n",
       "if (outputEl) {{\n",
       "    x.observe(outputEl, {childList: true});\n",
       "}}\n",
       "\n",
       "                        })                };                });            </script>        </div>"
      ]
     },
     "metadata": {},
     "output_type": "display_data"
    }
   ],
   "source": [
    "plot_model(k_model, 'cluster')"
   ]
  },
  {
   "cell_type": "code",
   "execution_count": 76,
   "id": "ea7a588e",
   "metadata": {},
   "outputs": [
    {
     "data": {
      "image/png": "[encoded data removed]",
      "text/plain": [
       "<Figure size 576x396 with 1 Axes>"
      ]
     },
     "metadata": {},
     "output_type": "display_data"
    }
   ],
   "source": [
    "plot_model(k_model, plot = 'silhouette')"
   ]
  },
  {
   "cell_type": "code",
   "execution_count": 52,
   "id": "9029afe3",
   "metadata": {},
   "outputs": [
    {
     "data": {
      "text/html": [
       "<div>\n",
       "<style scoped>\n",
       "    .dataframe tbody tr th:only-of-type {\n",
       "        vertical-align: middle;\n",
       "    }\n",
       "\n",
       "    .dataframe tbody tr th {\n",
       "        vertical-align: top;\n",
       "    }\n",
       "\n",
       "    .dataframe thead th {\n",
       "        text-align: right;\n",
       "    }\n",
       "</style>\n",
       "<table border=\"1\" class=\"dataframe\">\n",
       "  <thead>\n",
       "    <tr style=\"text-align: right;\">\n",
       "      <th></th>\n",
       "      <th>Name</th>\n",
       "      <th>Reference</th>\n",
       "    </tr>\n",
       "    <tr>\n",
       "      <th>ID</th>\n",
       "      <th></th>\n",
       "      <th></th>\n",
       "    </tr>\n",
       "  </thead>\n",
       "  <tbody>\n",
       "    <tr>\n",
       "      <th>kmeans</th>\n",
       "      <td>K-Means Clustering</td>\n",
       "      <td>sklearn.cluster._kmeans.KMeans</td>\n",
       "    </tr>\n",
       "    <tr>\n",
       "      <th>ap</th>\n",
       "      <td>Affinity Propagation</td>\n",
       "      <td>sklearn.cluster._affinity_propagation.Affinity...</td>\n",
       "    </tr>\n",
       "    <tr>\n",
       "      <th>meanshift</th>\n",
       "      <td>Mean Shift Clustering</td>\n",
       "      <td>sklearn.cluster._mean_shift.MeanShift</td>\n",
       "    </tr>\n",
       "    <tr>\n",
       "      <th>sc</th>\n",
       "      <td>Spectral Clustering</td>\n",
       "      <td>sklearn.cluster._spectral.SpectralClustering</td>\n",
       "    </tr>\n",
       "    <tr>\n",
       "      <th>hclust</th>\n",
       "      <td>Agglomerative Clustering</td>\n",
       "      <td>sklearn.cluster._agglomerative.AgglomerativeCl...</td>\n",
       "    </tr>\n",
       "    <tr>\n",
       "      <th>dbscan</th>\n",
       "      <td>Density-Based Spatial Clustering</td>\n",
       "      <td>sklearn.cluster._dbscan.DBSCAN</td>\n",
       "    </tr>\n",
       "    <tr>\n",
       "      <th>optics</th>\n",
       "      <td>OPTICS Clustering</td>\n",
       "      <td>sklearn.cluster._optics.OPTICS</td>\n",
       "    </tr>\n",
       "    <tr>\n",
       "      <th>birch</th>\n",
       "      <td>Birch Clustering</td>\n",
       "      <td>sklearn.cluster._birch.Birch</td>\n",
       "    </tr>\n",
       "    <tr>\n",
       "      <th>kmodes</th>\n",
       "      <td>K-Modes Clustering</td>\n",
       "      <td>kmodes.kmodes.KModes</td>\n",
       "    </tr>\n",
       "  </tbody>\n",
       "</table>\n",
       "</div>"
      ],
      "text/plain": [
       "                                       Name  \\\n",
       "ID                                            \n",
       "kmeans                   K-Means Clustering   \n",
       "ap                     Affinity Propagation   \n",
       "meanshift             Mean Shift Clustering   \n",
       "sc                      Spectral Clustering   \n",
       "hclust             Agglomerative Clustering   \n",
       "dbscan     Density-Based Spatial Clustering   \n",
       "optics                    OPTICS Clustering   \n",
       "birch                      Birch Clustering   \n",
       "kmodes                   K-Modes Clustering   \n",
       "\n",
       "                                                   Reference  \n",
       "ID                                                            \n",
       "kmeans                        sklearn.cluster._kmeans.KMeans  \n",
       "ap         sklearn.cluster._affinity_propagation.Affinity...  \n",
       "meanshift              sklearn.cluster._mean_shift.MeanShift  \n",
       "sc              sklearn.cluster._spectral.SpectralClustering  \n",
       "hclust     sklearn.cluster._agglomerative.AgglomerativeCl...  \n",
       "dbscan                        sklearn.cluster._dbscan.DBSCAN  \n",
       "optics                        sklearn.cluster._optics.OPTICS  \n",
       "birch                           sklearn.cluster._birch.Birch  \n",
       "kmodes                                  kmodes.kmodes.KModes  "
      ]
     },
     "execution_count": 52,
     "metadata": {},
     "output_type": "execute_result"
    }
   ],
   "source": [
    "models()"
   ]
  },
  {
   "cell_type": "code",
   "execution_count": 68,
   "id": "b1a2a024",
   "metadata": {},
   "outputs": [],
   "source": [
    "#"
   ]
  },
  {
   "cell_type": "markdown",
   "id": "f9435dd2",
   "metadata": {},
   "source": [
    "### Mean shift"
   ]
  },
  {
   "cell_type": "code",
   "execution_count": 63,
   "id": "72617de1",
   "metadata": {},
   "outputs": [
    {
     "data": {
      "text/html": [
       "<div>\n",
       "<style scoped>\n",
       "    .dataframe tbody tr th:only-of-type {\n",
       "        vertical-align: middle;\n",
       "    }\n",
       "\n",
       "    .dataframe tbody tr th {\n",
       "        vertical-align: top;\n",
       "    }\n",
       "\n",
       "    .dataframe thead th {\n",
       "        text-align: right;\n",
       "    }\n",
       "</style>\n",
       "<table border=\"1\" class=\"dataframe\">\n",
       "  <thead>\n",
       "    <tr style=\"text-align: right;\">\n",
       "      <th></th>\n",
       "      <th>Silhouette</th>\n",
       "      <th>Calinski-Harabasz</th>\n",
       "      <th>Davies-Bouldin</th>\n",
       "      <th>Homogeneity</th>\n",
       "      <th>Rand Index</th>\n",
       "      <th>Completeness</th>\n",
       "    </tr>\n",
       "  </thead>\n",
       "  <tbody>\n",
       "    <tr>\n",
       "      <th>0</th>\n",
       "      <td>0.8889</td>\n",
       "      <td>1.0</td>\n",
       "      <td>0.0</td>\n",
       "      <td>0</td>\n",
       "      <td>0</td>\n",
       "      <td>0</td>\n",
       "    </tr>\n",
       "  </tbody>\n",
       "</table>\n",
       "</div>"
      ],
      "text/plain": [
       "   Silhouette  Calinski-Harabasz  Davies-Bouldin  Homogeneity  Rand Index  \\\n",
       "0      0.8889                1.0             0.0            0           0   \n",
       "\n",
       "   Completeness  \n",
       "0             0  "
      ]
     },
     "metadata": {},
     "output_type": "display_data"
    }
   ],
   "source": [
    "meanshift_model = create_model('meanshift', num_clusters = 4)"
   ]
  },
  {
   "cell_type": "markdown",
   "id": "1067ce27",
   "metadata": {},
   "source": [
    "### Agglomerative Clustering"
   ]
  },
  {
   "cell_type": "code",
   "execution_count": 64,
   "id": "95a69266",
   "metadata": {},
   "outputs": [
    {
     "data": {
      "text/html": [
       "<div>\n",
       "<style scoped>\n",
       "    .dataframe tbody tr th:only-of-type {\n",
       "        vertical-align: middle;\n",
       "    }\n",
       "\n",
       "    .dataframe tbody tr th {\n",
       "        vertical-align: top;\n",
       "    }\n",
       "\n",
       "    .dataframe thead th {\n",
       "        text-align: right;\n",
       "    }\n",
       "</style>\n",
       "<table border=\"1\" class=\"dataframe\">\n",
       "  <thead>\n",
       "    <tr style=\"text-align: right;\">\n",
       "      <th></th>\n",
       "      <th>Silhouette</th>\n",
       "      <th>Calinski-Harabasz</th>\n",
       "      <th>Davies-Bouldin</th>\n",
       "      <th>Homogeneity</th>\n",
       "      <th>Rand Index</th>\n",
       "      <th>Completeness</th>\n",
       "    </tr>\n",
       "  </thead>\n",
       "  <tbody>\n",
       "    <tr>\n",
       "      <th>0</th>\n",
       "      <td>0.6516</td>\n",
       "      <td>51.4953</td>\n",
       "      <td>0.9457</td>\n",
       "      <td>0</td>\n",
       "      <td>0</td>\n",
       "      <td>0</td>\n",
       "    </tr>\n",
       "  </tbody>\n",
       "</table>\n",
       "</div>"
      ],
      "text/plain": [
       "   Silhouette  Calinski-Harabasz  Davies-Bouldin  Homogeneity  Rand Index  \\\n",
       "0      0.6516            51.4953          0.9457            0           0   \n",
       "\n",
       "   Completeness  \n",
       "0             0  "
      ]
     },
     "metadata": {},
     "output_type": "display_data"
    }
   ],
   "source": [
    "hclust_model = create_model('hclust', num_clusters = 4)"
   ]
  },
  {
   "cell_type": "markdown",
   "id": "c1d3ffe0",
   "metadata": {},
   "source": [
    "### Birch model"
   ]
  },
  {
   "cell_type": "code",
   "execution_count": 65,
   "id": "015f238b",
   "metadata": {},
   "outputs": [
    {
     "data": {
      "text/html": [
       "<div>\n",
       "<style scoped>\n",
       "    .dataframe tbody tr th:only-of-type {\n",
       "        vertical-align: middle;\n",
       "    }\n",
       "\n",
       "    .dataframe tbody tr th {\n",
       "        vertical-align: top;\n",
       "    }\n",
       "\n",
       "    .dataframe thead th {\n",
       "        text-align: right;\n",
       "    }\n",
       "</style>\n",
       "<table border=\"1\" class=\"dataframe\">\n",
       "  <thead>\n",
       "    <tr style=\"text-align: right;\">\n",
       "      <th></th>\n",
       "      <th>Silhouette</th>\n",
       "      <th>Calinski-Harabasz</th>\n",
       "      <th>Davies-Bouldin</th>\n",
       "      <th>Homogeneity</th>\n",
       "      <th>Rand Index</th>\n",
       "      <th>Completeness</th>\n",
       "    </tr>\n",
       "  </thead>\n",
       "  <tbody>\n",
       "    <tr>\n",
       "      <th>0</th>\n",
       "      <td>0.6333</td>\n",
       "      <td>46.8108</td>\n",
       "      <td>0.9575</td>\n",
       "      <td>0</td>\n",
       "      <td>0</td>\n",
       "      <td>0</td>\n",
       "    </tr>\n",
       "  </tbody>\n",
       "</table>\n",
       "</div>"
      ],
      "text/plain": [
       "   Silhouette  Calinski-Harabasz  Davies-Bouldin  Homogeneity  Rand Index  \\\n",
       "0      0.6333            46.8108          0.9575            0           0   \n",
       "\n",
       "   Completeness  \n",
       "0             0  "
      ]
     },
     "metadata": {},
     "output_type": "display_data"
    }
   ],
   "source": [
    "birch_model = create_model('birch', num_clusters = 4)"
   ]
  },
  {
   "cell_type": "code",
   "execution_count": 73,
   "id": "9aa8cfa0",
   "metadata": {},
   "outputs": [
    {
     "data": {
      "image/png": "[encoded data removed]",
      "text/plain": [
       "<Figure size 576x396 with 1 Axes>"
      ]
     },
     "metadata": {},
     "output_type": "display_data"
    }
   ],
   "source": [
    "plot_model(birch_model, plot = 'silhouette')"
   ]
  },
  {
   "cell_type": "code",
   "execution_count": 66,
   "id": "b2a82ebf",
   "metadata": {},
   "outputs": [
    {
     "data": {
      "text/html": [
       "<div>\n",
       "<style scoped>\n",
       "    .dataframe tbody tr th:only-of-type {\n",
       "        vertical-align: middle;\n",
       "    }\n",
       "\n",
       "    .dataframe tbody tr th {\n",
       "        vertical-align: top;\n",
       "    }\n",
       "\n",
       "    .dataframe thead th {\n",
       "        text-align: right;\n",
       "    }\n",
       "</style>\n",
       "<table border=\"1\" class=\"dataframe\">\n",
       "  <thead>\n",
       "    <tr style=\"text-align: right;\">\n",
       "      <th></th>\n",
       "      <th>Silhouette</th>\n",
       "      <th>Calinski-Harabasz</th>\n",
       "      <th>Davies-Bouldin</th>\n",
       "      <th>Homogeneity</th>\n",
       "      <th>Rand Index</th>\n",
       "      <th>Completeness</th>\n",
       "    </tr>\n",
       "  </thead>\n",
       "  <tbody>\n",
       "    <tr>\n",
       "      <th>0</th>\n",
       "      <td>0.5815</td>\n",
       "      <td>37.4317</td>\n",
       "      <td>1.0927</td>\n",
       "      <td>0</td>\n",
       "      <td>0</td>\n",
       "      <td>0</td>\n",
       "    </tr>\n",
       "  </tbody>\n",
       "</table>\n",
       "</div>"
      ],
      "text/plain": [
       "   Silhouette  Calinski-Harabasz  Davies-Bouldin  Homogeneity  Rand Index  \\\n",
       "0      0.5815            37.4317          1.0927            0           0   \n",
       "\n",
       "   Completeness  \n",
       "0             0  "
      ]
     },
     "metadata": {},
     "output_type": "display_data"
    }
   ],
   "source": [
    "kmodes_model = create_model('kmodes', num_clusters = 4)"
   ]
  },
  {
   "cell_type": "code",
   "execution_count": 74,
   "id": "be05b98f",
   "metadata": {},
   "outputs": [
    {
     "data": {
      "image/png": "[encoded data removed]",
      "text/plain": [
       "<Figure size 576x396 with 1 Axes>"
      ]
     },
     "metadata": {},
     "output_type": "display_data"
    }
   ],
   "source": [
    "plot_model(kmodes_model, plot = 'silhouette')"
   ]
  },
  {
   "cell_type": "code",
   "execution_count": null,
   "id": "ff6ccfb7",
   "metadata": {},
   "outputs": [],
   "source": []
  }
 ],
 "metadata": {
  "kernelspec": {
   "display_name": "Python 3",
   "language": "python",
   "name": "python3"
  },
  "language_info": {
   "codemirror_mode": {
    "name": "ipython",
    "version": 3
   },
   "file_extension": ".py",
   "mimetype": "text/x-python",
   "name": "python",
   "nbconvert_exporter": "python",
   "pygments_lexer": "ipython3",
   "version": "3.6.13"
  },
  "toc": {
   "base_numbering": 1,
   "nav_menu": {},
   "number_sections": true,
   "sideBar": true,
   "skip_h1_title": false,
   "title_cell": "Table of Contents",
   "title_sidebar": "Contents",
   "toc_cell": true,
   "toc_position": {},
   "toc_section_display": true,
   "toc_window_display": true
  }
 },
 "nbformat": 4,
 "nbformat_minor": 5
}
