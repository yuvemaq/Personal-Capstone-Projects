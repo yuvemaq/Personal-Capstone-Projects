{
 "cells": [
  {
   "cell_type": "markdown",
   "id": "bf3e7604",
   "metadata": {
    "toc": true
   },
   "source": [
    "<h1>Table of Contents<span class=\"tocSkip\"></span></h1>\n",
    "<div class=\"toc\"><ul class=\"toc-item\"><li><span><a href=\"#Pre-Process,-Training,-and-Modeling\" data-toc-modified-id=\"Pre-Process,-Training,-and-Modeling-1\"><span class=\"toc-item-num\">1&nbsp;&nbsp;</span>Pre-Process, Training, and Modeling</a></span><ul class=\"toc-item\"><li><span><a href=\"#Pre-processing-of-well-log-analysis\" data-toc-modified-id=\"Pre-processing-of-well-log-analysis-1.1\"><span class=\"toc-item-num\">1.1&nbsp;&nbsp;</span>Pre-processing of well log analysis</a></span><ul class=\"toc-item\"><li><span><a href=\"#Classification\" data-toc-modified-id=\"Classification-1.1.1\"><span class=\"toc-item-num\">1.1.1&nbsp;&nbsp;</span>Classification</a></span></li><li><span><a href=\"#Linear-regression\" data-toc-modified-id=\"Linear-regression-1.1.2\"><span class=\"toc-item-num\">1.1.2&nbsp;&nbsp;</span>Linear regression</a></span></li><li><span><a href=\"#Random-Forest\" data-toc-modified-id=\"Random-Forest-1.1.3\"><span class=\"toc-item-num\">1.1.3&nbsp;&nbsp;</span>Random Forest</a></span></li><li><span><a href=\"#Decision-Tree-Classifier\" data-toc-modified-id=\"Decision-Tree-Classifier-1.1.4\"><span class=\"toc-item-num\">1.1.4&nbsp;&nbsp;</span>Decision Tree Classifier</a></span></li><li><span><a href=\"#Gaussian-Naive-Bayes\" data-toc-modified-id=\"Gaussian-Naive-Bayes-1.1.5\"><span class=\"toc-item-num\">1.1.5&nbsp;&nbsp;</span>Gaussian Naive Bayes</a></span></li><li><span><a href=\"#GradientBoost\" data-toc-modified-id=\"GradientBoost-1.1.6\"><span class=\"toc-item-num\">1.1.6&nbsp;&nbsp;</span>GradientBoost</a></span></li></ul></li></ul></li><li><span><a href=\"#Pycaret\" data-toc-modified-id=\"Pycaret-2\"><span class=\"toc-item-num\">2&nbsp;&nbsp;</span>Pycaret</a></span></li><li><span><a href=\"#Create-model\" data-toc-modified-id=\"Create-model-3\"><span class=\"toc-item-num\">3&nbsp;&nbsp;</span>Create model</a></span></li><li><span><a href=\"#Save/Load-Model\" data-toc-modified-id=\"Save/Load-Model-4\"><span class=\"toc-item-num\">4&nbsp;&nbsp;</span>Save/Load Model</a></span></li></ul></div>"
   ]
  },
  {
   "cell_type": "markdown",
   "id": "4aebe969",
   "metadata": {},
   "source": [
    "# Pre-Process, Training, and Modeling"
   ]
  },
  {
   "cell_type": "markdown",
   "id": "d045ad72",
   "metadata": {},
   "source": [
    "## Pre-processing of well log analysis\n",
    "\n",
    "Using the notebook with the well log, I interpreted the well logs in an excel sheet (using Ko Ko Rules in petrophysical interpretation), looking at Gamma ray, resistance, and Density and Neutron Porosities. "
   ]
  },
  {
   "cell_type": "code",
   "execution_count": 29,
   "id": "b6183fdf",
   "metadata": {},
   "outputs": [
    {
     "name": "stdout",
     "output_type": "stream",
     "text": [
      "Requirement already satisfied: numpy in d:\\user\\envs\\pycaret\\lib\\site-packages (1.19.5)\n"
     ]
    }
   ],
   "source": [
    "!pip install numpy"
   ]
  },
  {
   "cell_type": "code",
   "execution_count": 30,
   "id": "c3654c1f",
   "metadata": {},
   "outputs": [
    {
     "name": "stdout",
     "output_type": "stream",
     "text": [
      "Requirement already satisfied: pyexcel-xlsx in d:\\user\\envs\\pycaret\\lib\\site-packages (0.6.0)\n",
      "Requirement already satisfied: openpyxl>=2.6.1 in d:\\user\\envs\\pycaret\\lib\\site-packages (from pyexcel-xlsx) (3.0.9)\n",
      "Requirement already satisfied: pyexcel-io>=0.6.2 in d:\\user\\envs\\pycaret\\lib\\site-packages (from pyexcel-xlsx) (0.6.5)\n",
      "Requirement already satisfied: et-xmlfile in d:\\user\\envs\\pycaret\\lib\\site-packages (from openpyxl>=2.6.1->pyexcel-xlsx) (1.1.0)\n",
      "Requirement already satisfied: lml>=0.0.4 in d:\\user\\envs\\pycaret\\lib\\site-packages (from pyexcel-io>=0.6.2->pyexcel-xlsx) (0.1.0)\n"
     ]
    }
   ],
   "source": [
    "!pip install pyexcel-xlsx"
   ]
  },
  {
   "cell_type": "code",
   "execution_count": 31,
   "id": "7ab2486e",
   "metadata": {},
   "outputs": [
    {
     "name": "stdout",
     "output_type": "stream",
     "text": [
      "Requirement already satisfied: xlrd==1.2.0 in d:\\user\\envs\\pycaret\\lib\\site-packages (1.2.0)\n"
     ]
    }
   ],
   "source": [
    "!pip install xlrd==1.2.0"
   ]
  },
  {
   "cell_type": "code",
   "execution_count": 32,
   "id": "0acaa0d3",
   "metadata": {},
   "outputs": [
    {
     "name": "stdout",
     "output_type": "stream",
     "text": [
      "Requirement already satisfied: XlsxWriter in d:\\user\\envs\\pycaret\\lib\\site-packages (3.0.2)\n"
     ]
    }
   ],
   "source": [
    "!pip install XlsxWriter"
   ]
  },
  {
   "cell_type": "code",
   "execution_count": 33,
   "id": "028c27bd",
   "metadata": {},
   "outputs": [
    {
     "name": "stdout",
     "output_type": "stream",
     "text": [
      "Requirement already satisfied: xlwings in d:\\user\\envs\\pycaret\\lib\\site-packages (0.25.0)\n",
      "Requirement already satisfied: pywin32 in d:\\user\\envs\\pycaret\\lib\\site-packages (from xlwings) (227)\n"
     ]
    }
   ],
   "source": [
    "!pip install xlwings"
   ]
  },
  {
   "cell_type": "code",
   "execution_count": 34,
   "id": "84072153",
   "metadata": {},
   "outputs": [
    {
     "name": "stdout",
     "output_type": "stream",
     "text": [
      "Requirement already satisfied: xlwt in d:\\user\\envs\\pycaret\\lib\\site-packages (1.3.0)\n"
     ]
    }
   ],
   "source": [
    "!pip install xlwt"
   ]
  },
  {
   "cell_type": "code",
   "execution_count": 72,
   "id": "6c79dc9c",
   "metadata": {},
   "outputs": [],
   "source": [
    "import numpy as np\n",
    "import pandas as pd\n",
    "import matplotlib.pyplot as plt\n",
    "%matplotlib inline\n",
    "\n",
    "from tqdm import tqdm\n",
    "from sklearn.preprocessing import LabelEncoder\n",
    "from sklearn.ensemble import RandomForestClassifier\n",
    "from sklearn.tree import DecisionTreeClassifier"
   ]
  },
  {
   "cell_type": "code",
   "execution_count": 73,
   "id": "de34719a",
   "metadata": {},
   "outputs": [
    {
     "data": {
      "text/html": [
       "<div>\n",
       "<style scoped>\n",
       "    .dataframe tbody tr th:only-of-type {\n",
       "        vertical-align: middle;\n",
       "    }\n",
       "\n",
       "    .dataframe tbody tr th {\n",
       "        vertical-align: top;\n",
       "    }\n",
       "\n",
       "    .dataframe thead th {\n",
       "        text-align: right;\n",
       "    }\n",
       "</style>\n",
       "<table border=\"1\" class=\"dataframe\">\n",
       "  <thead>\n",
       "    <tr style=\"text-align: right;\">\n",
       "      <th></th>\n",
       "      <th>well_id</th>\n",
       "      <th>gamma_ray</th>\n",
       "      <th>resistivity</th>\n",
       "      <th>bulk_density</th>\n",
       "      <th>neutron_porosity</th>\n",
       "      <th>neutron_porosity_density_crossover</th>\n",
       "      <th>hydrocarbon_present</th>\n",
       "      <th>max_depth</th>\n",
       "    </tr>\n",
       "  </thead>\n",
       "  <tbody>\n",
       "    <tr>\n",
       "      <th>0</th>\n",
       "      <td>0</td>\n",
       "      <td>left</td>\n",
       "      <td>right</td>\n",
       "      <td>left</td>\n",
       "      <td>left</td>\n",
       "      <td>yes</td>\n",
       "      <td>yes</td>\n",
       "      <td>649.0</td>\n",
       "    </tr>\n",
       "    <tr>\n",
       "      <th>1</th>\n",
       "      <td>1</td>\n",
       "      <td>left</td>\n",
       "      <td>left</td>\n",
       "      <td>right</td>\n",
       "      <td>left</td>\n",
       "      <td>yes</td>\n",
       "      <td>yes</td>\n",
       "      <td>585.0</td>\n",
       "    </tr>\n",
       "    <tr>\n",
       "      <th>2</th>\n",
       "      <td>2</td>\n",
       "      <td>left</td>\n",
       "      <td>right</td>\n",
       "      <td>left</td>\n",
       "      <td>left</td>\n",
       "      <td>yes</td>\n",
       "      <td>yes</td>\n",
       "      <td>483.0</td>\n",
       "    </tr>\n",
       "    <tr>\n",
       "      <th>3</th>\n",
       "      <td>3</td>\n",
       "      <td>left</td>\n",
       "      <td>right</td>\n",
       "      <td>left</td>\n",
       "      <td>left</td>\n",
       "      <td>yes</td>\n",
       "      <td>yes</td>\n",
       "      <td>581.0</td>\n",
       "    </tr>\n",
       "    <tr>\n",
       "      <th>4</th>\n",
       "      <td>4</td>\n",
       "      <td>left</td>\n",
       "      <td>right</td>\n",
       "      <td>left</td>\n",
       "      <td>left</td>\n",
       "      <td>yes</td>\n",
       "      <td>yes</td>\n",
       "      <td>581.0</td>\n",
       "    </tr>\n",
       "  </tbody>\n",
       "</table>\n",
       "</div>"
      ],
      "text/plain": [
       "   well_id gamma_ray  resistivity bulk_density neutron_porosity  \\\n",
       "0        0       left       right         left             left   \n",
       "1        1       left        left        right             left   \n",
       "2        2       left       right         left             left   \n",
       "3        3       left       right         left             left   \n",
       "4        4       left       right         left             left   \n",
       "\n",
       "  neutron_porosity_density_crossover hydrocarbon_present  max_depth  \n",
       "0                                yes                 yes      649.0  \n",
       "1                                yes                 yes      585.0  \n",
       "2                                yes                 yes      483.0  \n",
       "3                                yes                 yes      581.0  \n",
       "4                                yes                 yes      581.0  "
      ]
     },
     "execution_count": 73,
     "metadata": {},
     "output_type": "execute_result"
    }
   ],
   "source": [
    "# Read file\n",
    "path0 = r'C:\\Users\\yuvem\\OneDrive\\Documents\\table_well_log.xlsx'\n",
    "table = pd.read_excel(path0)\n",
    "table.head()"
   ]
  },
  {
   "cell_type": "code",
   "execution_count": 74,
   "id": "3bc20e75",
   "metadata": {},
   "outputs": [],
   "source": [
    "df = table.set_index('well_id')"
   ]
  },
  {
   "cell_type": "code",
   "execution_count": 75,
   "id": "4f3c038e",
   "metadata": {},
   "outputs": [
    {
     "data": {
      "text/plain": [
       "gamma_ray                             20\n",
       "resistivity                           17\n",
       "bulk_density                          20\n",
       "neutron_porosity                      20\n",
       "neutron_porosity_density_crossover    20\n",
       "hydrocarbon_present                   20\n",
       "max_depth                             19\n",
       "dtype: int64"
      ]
     },
     "execution_count": 75,
     "metadata": {},
     "output_type": "execute_result"
    }
   ],
   "source": [
    "df.isnull().sum()"
   ]
  },
  {
   "cell_type": "code",
   "execution_count": 76,
   "id": "baf7f97d",
   "metadata": {},
   "outputs": [
    {
     "name": "stdout",
     "output_type": "stream",
     "text": [
      "gamma_ray                             0\n",
      "resistivity                           0\n",
      "bulk_density                          0\n",
      "neutron_porosity                      0\n",
      "neutron_porosity_density_crossover    0\n",
      "hydrocarbon_present                   0\n",
      "max_depth                             0\n",
      "dtype: int64\n",
      "87\n"
     ]
    }
   ],
   "source": [
    "# Clear nulls\n",
    "df = df.dropna()\n",
    "print(df.isnull().sum())\n",
    "print(len(df))"
   ]
  },
  {
   "cell_type": "code",
   "execution_count": 77,
   "id": "940da191",
   "metadata": {},
   "outputs": [
    {
     "data": {
      "text/plain": [
       "array(['right', 'left'], dtype=object)"
      ]
     },
     "execution_count": 77,
     "metadata": {},
     "output_type": "execute_result"
    }
   ],
   "source": [
    "df.resistivity.unique()"
   ]
  },
  {
   "cell_type": "code",
   "execution_count": 78,
   "id": "134b22e1",
   "metadata": {},
   "outputs": [
    {
     "data": {
      "text/plain": [
       "87"
      ]
     },
     "execution_count": 78,
     "metadata": {},
     "output_type": "execute_result"
    }
   ],
   "source": [
    "len(df)"
   ]
  },
  {
   "cell_type": "markdown",
   "id": "c8bac325",
   "metadata": {},
   "source": [
    "### Classification"
   ]
  },
  {
   "cell_type": "code",
   "execution_count": 79,
   "id": "94c35454",
   "metadata": {},
   "outputs": [],
   "source": [
    "from sklearn.model_selection import train_test_split\n",
    "from sklearn import preprocessing\n",
    "from sklearn.preprocessing import StandardScaler\n",
    "from sklearn.dummy import DummyRegressor\n",
    "from sklearn.metrics import classification_report, confusion_matrix, accuracy_score\n",
    "from sklearn.ensemble import RandomForestClassifier, GradientBoostingClassifier\n",
    "from sklearn.neighbors import KNeighborsClassifier\n",
    "from sklearn.ensemble import RandomForestRegressor, RandomForestClassifier\n",
    "from sklearn.naive_bayes import GaussianNB"
   ]
  },
  {
   "cell_type": "code",
   "execution_count": 80,
   "id": "5674a41e",
   "metadata": {},
   "outputs": [
    {
     "name": "stdout",
     "output_type": "stream",
     "text": [
      "Requirement already satisfied: xgboost in d:\\user\\envs\\pycaret\\lib\\site-packages (1.5.0)\n",
      "Requirement already satisfied: numpy in d:\\user\\envs\\pycaret\\lib\\site-packages (from xgboost) (1.19.5)\n",
      "Requirement already satisfied: scipy in d:\\user\\envs\\pycaret\\lib\\site-packages (from xgboost) (1.5.4)\n"
     ]
    }
   ],
   "source": [
    "!pip install xgboost"
   ]
  },
  {
   "cell_type": "code",
   "execution_count": 81,
   "id": "c68de460",
   "metadata": {},
   "outputs": [],
   "source": [
    "import xgboost\n",
    "from xgboost import XGBClassifier"
   ]
  },
  {
   "cell_type": "code",
   "execution_count": 82,
   "id": "960a0203",
   "metadata": {},
   "outputs": [
    {
     "data": {
      "text/plain": [
       "['gamma_ray ',\n",
       " 'resistivity',\n",
       " 'bulk_density',\n",
       " 'neutron_porosity',\n",
       " 'neutron_porosity_density_crossover',\n",
       " 'hydrocarbon_present']"
      ]
     },
     "execution_count": 82,
     "metadata": {},
     "output_type": "execute_result"
    }
   ],
   "source": [
    "# OneHot Encoding\n",
    "# Get x and y; create a categorical boolean mask, then get_dummies\n",
    "X = df.drop(['max_depth'], axis=1)\n",
    "y = df[['max_depth']]\n",
    "\n",
    "cats = X.dtypes==np.object\n",
    "# turn into list\n",
    "cat_cols = X.columns[cats].tolist()\n",
    "cat_cols"
   ]
  },
  {
   "cell_type": "code",
   "execution_count": 83,
   "id": "c73c58bc",
   "metadata": {},
   "outputs": [
    {
     "data": {
      "text/plain": [
       "(87, 7)"
      ]
     },
     "execution_count": 83,
     "metadata": {},
     "output_type": "execute_result"
    }
   ],
   "source": [
    "# Get dummies\n",
    "dummies = pd.get_dummies(X, columns=cat_cols, prefix_sep='_', drop_first=True)\n",
    "dummies.shape"
   ]
  },
  {
   "cell_type": "code",
   "execution_count": 84,
   "id": "f7d63d18",
   "metadata": {},
   "outputs": [
    {
     "data": {
      "text/html": [
       "<div>\n",
       "<style scoped>\n",
       "    .dataframe tbody tr th:only-of-type {\n",
       "        vertical-align: middle;\n",
       "    }\n",
       "\n",
       "    .dataframe tbody tr th {\n",
       "        vertical-align: top;\n",
       "    }\n",
       "\n",
       "    .dataframe thead th {\n",
       "        text-align: right;\n",
       "    }\n",
       "</style>\n",
       "<table border=\"1\" class=\"dataframe\">\n",
       "  <thead>\n",
       "    <tr style=\"text-align: right;\">\n",
       "      <th></th>\n",
       "      <th>gamma_ray _left</th>\n",
       "      <th>gamma_ray _right</th>\n",
       "      <th>resistivity_right</th>\n",
       "      <th>bulk_density_right</th>\n",
       "      <th>neutron_porosity_right</th>\n",
       "      <th>neutron_porosity_density_crossover_yes</th>\n",
       "      <th>hydrocarbon_present_yes</th>\n",
       "    </tr>\n",
       "    <tr>\n",
       "      <th>well_id</th>\n",
       "      <th></th>\n",
       "      <th></th>\n",
       "      <th></th>\n",
       "      <th></th>\n",
       "      <th></th>\n",
       "      <th></th>\n",
       "      <th></th>\n",
       "    </tr>\n",
       "  </thead>\n",
       "  <tbody>\n",
       "    <tr>\n",
       "      <th>0</th>\n",
       "      <td>1</td>\n",
       "      <td>0</td>\n",
       "      <td>1</td>\n",
       "      <td>0</td>\n",
       "      <td>0</td>\n",
       "      <td>1</td>\n",
       "      <td>1</td>\n",
       "    </tr>\n",
       "    <tr>\n",
       "      <th>1</th>\n",
       "      <td>1</td>\n",
       "      <td>0</td>\n",
       "      <td>0</td>\n",
       "      <td>1</td>\n",
       "      <td>0</td>\n",
       "      <td>1</td>\n",
       "      <td>1</td>\n",
       "    </tr>\n",
       "    <tr>\n",
       "      <th>2</th>\n",
       "      <td>1</td>\n",
       "      <td>0</td>\n",
       "      <td>1</td>\n",
       "      <td>0</td>\n",
       "      <td>0</td>\n",
       "      <td>1</td>\n",
       "      <td>1</td>\n",
       "    </tr>\n",
       "    <tr>\n",
       "      <th>3</th>\n",
       "      <td>1</td>\n",
       "      <td>0</td>\n",
       "      <td>1</td>\n",
       "      <td>0</td>\n",
       "      <td>0</td>\n",
       "      <td>1</td>\n",
       "      <td>1</td>\n",
       "    </tr>\n",
       "    <tr>\n",
       "      <th>4</th>\n",
       "      <td>1</td>\n",
       "      <td>0</td>\n",
       "      <td>1</td>\n",
       "      <td>0</td>\n",
       "      <td>0</td>\n",
       "      <td>1</td>\n",
       "      <td>1</td>\n",
       "    </tr>\n",
       "    <tr>\n",
       "      <th>5</th>\n",
       "      <td>1</td>\n",
       "      <td>0</td>\n",
       "      <td>1</td>\n",
       "      <td>0</td>\n",
       "      <td>0</td>\n",
       "      <td>1</td>\n",
       "      <td>1</td>\n",
       "    </tr>\n",
       "    <tr>\n",
       "      <th>7</th>\n",
       "      <td>1</td>\n",
       "      <td>0</td>\n",
       "      <td>1</td>\n",
       "      <td>1</td>\n",
       "      <td>1</td>\n",
       "      <td>0</td>\n",
       "      <td>0</td>\n",
       "    </tr>\n",
       "    <tr>\n",
       "      <th>8</th>\n",
       "      <td>1</td>\n",
       "      <td>0</td>\n",
       "      <td>1</td>\n",
       "      <td>1</td>\n",
       "      <td>0</td>\n",
       "      <td>0</td>\n",
       "      <td>0</td>\n",
       "    </tr>\n",
       "    <tr>\n",
       "      <th>9</th>\n",
       "      <td>1</td>\n",
       "      <td>0</td>\n",
       "      <td>1</td>\n",
       "      <td>0</td>\n",
       "      <td>0</td>\n",
       "      <td>1</td>\n",
       "      <td>1</td>\n",
       "    </tr>\n",
       "    <tr>\n",
       "      <th>10</th>\n",
       "      <td>1</td>\n",
       "      <td>0</td>\n",
       "      <td>1</td>\n",
       "      <td>1</td>\n",
       "      <td>0</td>\n",
       "      <td>1</td>\n",
       "      <td>0</td>\n",
       "    </tr>\n",
       "    <tr>\n",
       "      <th>11</th>\n",
       "      <td>1</td>\n",
       "      <td>0</td>\n",
       "      <td>1</td>\n",
       "      <td>0</td>\n",
       "      <td>1</td>\n",
       "      <td>1</td>\n",
       "      <td>0</td>\n",
       "    </tr>\n",
       "    <tr>\n",
       "      <th>12</th>\n",
       "      <td>1</td>\n",
       "      <td>0</td>\n",
       "      <td>1</td>\n",
       "      <td>0</td>\n",
       "      <td>1</td>\n",
       "      <td>0</td>\n",
       "      <td>0</td>\n",
       "    </tr>\n",
       "    <tr>\n",
       "      <th>13</th>\n",
       "      <td>1</td>\n",
       "      <td>0</td>\n",
       "      <td>1</td>\n",
       "      <td>0</td>\n",
       "      <td>0</td>\n",
       "      <td>1</td>\n",
       "      <td>1</td>\n",
       "    </tr>\n",
       "    <tr>\n",
       "      <th>14</th>\n",
       "      <td>1</td>\n",
       "      <td>0</td>\n",
       "      <td>1</td>\n",
       "      <td>0</td>\n",
       "      <td>0</td>\n",
       "      <td>1</td>\n",
       "      <td>1</td>\n",
       "    </tr>\n",
       "    <tr>\n",
       "      <th>16</th>\n",
       "      <td>1</td>\n",
       "      <td>0</td>\n",
       "      <td>0</td>\n",
       "      <td>0</td>\n",
       "      <td>1</td>\n",
       "      <td>1</td>\n",
       "      <td>0</td>\n",
       "    </tr>\n",
       "    <tr>\n",
       "      <th>17</th>\n",
       "      <td>1</td>\n",
       "      <td>0</td>\n",
       "      <td>1</td>\n",
       "      <td>0</td>\n",
       "      <td>0</td>\n",
       "      <td>1</td>\n",
       "      <td>1</td>\n",
       "    </tr>\n",
       "    <tr>\n",
       "      <th>19</th>\n",
       "      <td>1</td>\n",
       "      <td>0</td>\n",
       "      <td>0</td>\n",
       "      <td>0</td>\n",
       "      <td>0</td>\n",
       "      <td>1</td>\n",
       "      <td>0</td>\n",
       "    </tr>\n",
       "    <tr>\n",
       "      <th>20</th>\n",
       "      <td>0</td>\n",
       "      <td>0</td>\n",
       "      <td>1</td>\n",
       "      <td>0</td>\n",
       "      <td>0</td>\n",
       "      <td>1</td>\n",
       "      <td>1</td>\n",
       "    </tr>\n",
       "    <tr>\n",
       "      <th>21</th>\n",
       "      <td>1</td>\n",
       "      <td>0</td>\n",
       "      <td>1</td>\n",
       "      <td>0</td>\n",
       "      <td>0</td>\n",
       "      <td>1</td>\n",
       "      <td>1</td>\n",
       "    </tr>\n",
       "    <tr>\n",
       "      <th>22</th>\n",
       "      <td>1</td>\n",
       "      <td>0</td>\n",
       "      <td>1</td>\n",
       "      <td>0</td>\n",
       "      <td>0</td>\n",
       "      <td>1</td>\n",
       "      <td>1</td>\n",
       "    </tr>\n",
       "  </tbody>\n",
       "</table>\n",
       "</div>"
      ],
      "text/plain": [
       "         gamma_ray _left  gamma_ray _right  resistivity_right  \\\n",
       "well_id                                                         \n",
       "0                      1                 0                  1   \n",
       "1                      1                 0                  0   \n",
       "2                      1                 0                  1   \n",
       "3                      1                 0                  1   \n",
       "4                      1                 0                  1   \n",
       "5                      1                 0                  1   \n",
       "7                      1                 0                  1   \n",
       "8                      1                 0                  1   \n",
       "9                      1                 0                  1   \n",
       "10                     1                 0                  1   \n",
       "11                     1                 0                  1   \n",
       "12                     1                 0                  1   \n",
       "13                     1                 0                  1   \n",
       "14                     1                 0                  1   \n",
       "16                     1                 0                  0   \n",
       "17                     1                 0                  1   \n",
       "19                     1                 0                  0   \n",
       "20                     0                 0                  1   \n",
       "21                     1                 0                  1   \n",
       "22                     1                 0                  1   \n",
       "\n",
       "         bulk_density_right  neutron_porosity_right  \\\n",
       "well_id                                               \n",
       "0                         0                       0   \n",
       "1                         1                       0   \n",
       "2                         0                       0   \n",
       "3                         0                       0   \n",
       "4                         0                       0   \n",
       "5                         0                       0   \n",
       "7                         1                       1   \n",
       "8                         1                       0   \n",
       "9                         0                       0   \n",
       "10                        1                       0   \n",
       "11                        0                       1   \n",
       "12                        0                       1   \n",
       "13                        0                       0   \n",
       "14                        0                       0   \n",
       "16                        0                       1   \n",
       "17                        0                       0   \n",
       "19                        0                       0   \n",
       "20                        0                       0   \n",
       "21                        0                       0   \n",
       "22                        0                       0   \n",
       "\n",
       "         neutron_porosity_density_crossover_yes  hydrocarbon_present_yes  \n",
       "well_id                                                                   \n",
       "0                                             1                        1  \n",
       "1                                             1                        1  \n",
       "2                                             1                        1  \n",
       "3                                             1                        1  \n",
       "4                                             1                        1  \n",
       "5                                             1                        1  \n",
       "7                                             0                        0  \n",
       "8                                             0                        0  \n",
       "9                                             1                        1  \n",
       "10                                            1                        0  \n",
       "11                                            1                        0  \n",
       "12                                            0                        0  \n",
       "13                                            1                        1  \n",
       "14                                            1                        1  \n",
       "16                                            1                        0  \n",
       "17                                            1                        1  \n",
       "19                                            1                        0  \n",
       "20                                            1                        1  \n",
       "21                                            1                        1  \n",
       "22                                            1                        1  "
      ]
     },
     "execution_count": 84,
     "metadata": {},
     "output_type": "execute_result"
    }
   ],
   "source": [
    "dummies.head(20)"
   ]
  },
  {
   "cell_type": "code",
   "execution_count": 85,
   "id": "6c33db0c",
   "metadata": {},
   "outputs": [],
   "source": [
    "X = dummies"
   ]
  },
  {
   "cell_type": "code",
   "execution_count": 86,
   "id": "0757be9f",
   "metadata": {},
   "outputs": [
    {
     "data": {
      "text/html": [
       "<div>\n",
       "<style scoped>\n",
       "    .dataframe tbody tr th:only-of-type {\n",
       "        vertical-align: middle;\n",
       "    }\n",
       "\n",
       "    .dataframe tbody tr th {\n",
       "        vertical-align: top;\n",
       "    }\n",
       "\n",
       "    .dataframe thead th {\n",
       "        text-align: right;\n",
       "    }\n",
       "</style>\n",
       "<table border=\"1\" class=\"dataframe\">\n",
       "  <thead>\n",
       "    <tr style=\"text-align: right;\">\n",
       "      <th></th>\n",
       "      <th>max_depth</th>\n",
       "    </tr>\n",
       "    <tr>\n",
       "      <th>well_id</th>\n",
       "      <th></th>\n",
       "    </tr>\n",
       "  </thead>\n",
       "  <tbody>\n",
       "    <tr>\n",
       "      <th>0</th>\n",
       "      <td>649.0</td>\n",
       "    </tr>\n",
       "    <tr>\n",
       "      <th>1</th>\n",
       "      <td>585.0</td>\n",
       "    </tr>\n",
       "    <tr>\n",
       "      <th>2</th>\n",
       "      <td>483.0</td>\n",
       "    </tr>\n",
       "    <tr>\n",
       "      <th>3</th>\n",
       "      <td>581.0</td>\n",
       "    </tr>\n",
       "    <tr>\n",
       "      <th>4</th>\n",
       "      <td>581.0</td>\n",
       "    </tr>\n",
       "    <tr>\n",
       "      <th>...</th>\n",
       "      <td>...</td>\n",
       "    </tr>\n",
       "    <tr>\n",
       "      <th>102</th>\n",
       "      <td>400.0</td>\n",
       "    </tr>\n",
       "    <tr>\n",
       "      <th>103</th>\n",
       "      <td>230.0</td>\n",
       "    </tr>\n",
       "    <tr>\n",
       "      <th>104</th>\n",
       "      <td>460.0</td>\n",
       "    </tr>\n",
       "    <tr>\n",
       "      <th>106</th>\n",
       "      <td>390.0</td>\n",
       "    </tr>\n",
       "    <tr>\n",
       "      <th>107</th>\n",
       "      <td>262.0</td>\n",
       "    </tr>\n",
       "  </tbody>\n",
       "</table>\n",
       "<p>87 rows × 1 columns</p>\n",
       "</div>"
      ],
      "text/plain": [
       "         max_depth\n",
       "well_id           \n",
       "0            649.0\n",
       "1            585.0\n",
       "2            483.0\n",
       "3            581.0\n",
       "4            581.0\n",
       "...            ...\n",
       "102          400.0\n",
       "103          230.0\n",
       "104          460.0\n",
       "106          390.0\n",
       "107          262.0\n",
       "\n",
       "[87 rows x 1 columns]"
      ]
     },
     "execution_count": 86,
     "metadata": {},
     "output_type": "execute_result"
    }
   ],
   "source": [
    "y"
   ]
  },
  {
   "cell_type": "code",
   "execution_count": 87,
   "id": "189bd2a2",
   "metadata": {},
   "outputs": [
    {
     "name": "stdout",
     "output_type": "stream",
     "text": [
      "(73, 7) (73, 1) (14, 7) (14, 1)\n"
     ]
    }
   ],
   "source": [
    "# Train and test split\n",
    "X_train, X_test, y_train, y_test = train_test_split(X, y, test_size=0.15, random_state=42)\n",
    "\n",
    "print(X_train.shape, y_train.shape, X_test.shape, y_test.shape)"
   ]
  },
  {
   "cell_type": "code",
   "execution_count": 88,
   "id": "6d642cd5",
   "metadata": {},
   "outputs": [
    {
     "data": {
      "text/html": [
       "<div>\n",
       "<style scoped>\n",
       "    .dataframe tbody tr th:only-of-type {\n",
       "        vertical-align: middle;\n",
       "    }\n",
       "\n",
       "    .dataframe tbody tr th {\n",
       "        vertical-align: top;\n",
       "    }\n",
       "\n",
       "    .dataframe thead th {\n",
       "        text-align: right;\n",
       "    }\n",
       "</style>\n",
       "<table border=\"1\" class=\"dataframe\">\n",
       "  <thead>\n",
       "    <tr style=\"text-align: right;\">\n",
       "      <th></th>\n",
       "      <th>gamma_ray _left</th>\n",
       "      <th>gamma_ray _right</th>\n",
       "      <th>resistivity_right</th>\n",
       "      <th>bulk_density_right</th>\n",
       "      <th>neutron_porosity_right</th>\n",
       "      <th>neutron_porosity_density_crossover_yes</th>\n",
       "      <th>hydrocarbon_present_yes</th>\n",
       "    </tr>\n",
       "    <tr>\n",
       "      <th>well_id</th>\n",
       "      <th></th>\n",
       "      <th></th>\n",
       "      <th></th>\n",
       "      <th></th>\n",
       "      <th></th>\n",
       "      <th></th>\n",
       "      <th></th>\n",
       "    </tr>\n",
       "  </thead>\n",
       "  <tbody>\n",
       "    <tr>\n",
       "      <th>103</th>\n",
       "      <td>1</td>\n",
       "      <td>0</td>\n",
       "      <td>1</td>\n",
       "      <td>0</td>\n",
       "      <td>1</td>\n",
       "      <td>1</td>\n",
       "      <td>1</td>\n",
       "    </tr>\n",
       "    <tr>\n",
       "      <th>76</th>\n",
       "      <td>1</td>\n",
       "      <td>0</td>\n",
       "      <td>0</td>\n",
       "      <td>0</td>\n",
       "      <td>0</td>\n",
       "      <td>1</td>\n",
       "      <td>0</td>\n",
       "    </tr>\n",
       "    <tr>\n",
       "      <th>38</th>\n",
       "      <td>1</td>\n",
       "      <td>0</td>\n",
       "      <td>1</td>\n",
       "      <td>0</td>\n",
       "      <td>0</td>\n",
       "      <td>1</td>\n",
       "      <td>1</td>\n",
       "    </tr>\n",
       "    <tr>\n",
       "      <th>98</th>\n",
       "      <td>1</td>\n",
       "      <td>0</td>\n",
       "      <td>0</td>\n",
       "      <td>0</td>\n",
       "      <td>0</td>\n",
       "      <td>1</td>\n",
       "      <td>0</td>\n",
       "    </tr>\n",
       "    <tr>\n",
       "      <th>65</th>\n",
       "      <td>1</td>\n",
       "      <td>0</td>\n",
       "      <td>1</td>\n",
       "      <td>1</td>\n",
       "      <td>1</td>\n",
       "      <td>1</td>\n",
       "      <td>0</td>\n",
       "    </tr>\n",
       "    <tr>\n",
       "      <th>...</th>\n",
       "      <td>...</td>\n",
       "      <td>...</td>\n",
       "      <td>...</td>\n",
       "      <td>...</td>\n",
       "      <td>...</td>\n",
       "      <td>...</td>\n",
       "      <td>...</td>\n",
       "    </tr>\n",
       "    <tr>\n",
       "      <th>23</th>\n",
       "      <td>1</td>\n",
       "      <td>0</td>\n",
       "      <td>1</td>\n",
       "      <td>0</td>\n",
       "      <td>0</td>\n",
       "      <td>1</td>\n",
       "      <td>1</td>\n",
       "    </tr>\n",
       "    <tr>\n",
       "      <th>72</th>\n",
       "      <td>1</td>\n",
       "      <td>0</td>\n",
       "      <td>0</td>\n",
       "      <td>0</td>\n",
       "      <td>0</td>\n",
       "      <td>0</td>\n",
       "      <td>0</td>\n",
       "    </tr>\n",
       "    <tr>\n",
       "      <th>89</th>\n",
       "      <td>1</td>\n",
       "      <td>0</td>\n",
       "      <td>1</td>\n",
       "      <td>0</td>\n",
       "      <td>1</td>\n",
       "      <td>1</td>\n",
       "      <td>0</td>\n",
       "    </tr>\n",
       "    <tr>\n",
       "      <th>16</th>\n",
       "      <td>1</td>\n",
       "      <td>0</td>\n",
       "      <td>0</td>\n",
       "      <td>0</td>\n",
       "      <td>1</td>\n",
       "      <td>1</td>\n",
       "      <td>0</td>\n",
       "    </tr>\n",
       "    <tr>\n",
       "      <th>57</th>\n",
       "      <td>1</td>\n",
       "      <td>0</td>\n",
       "      <td>1</td>\n",
       "      <td>0</td>\n",
       "      <td>1</td>\n",
       "      <td>0</td>\n",
       "      <td>0</td>\n",
       "    </tr>\n",
       "  </tbody>\n",
       "</table>\n",
       "<p>73 rows × 7 columns</p>\n",
       "</div>"
      ],
      "text/plain": [
       "         gamma_ray _left  gamma_ray _right  resistivity_right  \\\n",
       "well_id                                                         \n",
       "103                    1                 0                  1   \n",
       "76                     1                 0                  0   \n",
       "38                     1                 0                  1   \n",
       "98                     1                 0                  0   \n",
       "65                     1                 0                  1   \n",
       "...                  ...               ...                ...   \n",
       "23                     1                 0                  1   \n",
       "72                     1                 0                  0   \n",
       "89                     1                 0                  1   \n",
       "16                     1                 0                  0   \n",
       "57                     1                 0                  1   \n",
       "\n",
       "         bulk_density_right  neutron_porosity_right  \\\n",
       "well_id                                               \n",
       "103                       0                       1   \n",
       "76                        0                       0   \n",
       "38                        0                       0   \n",
       "98                        0                       0   \n",
       "65                        1                       1   \n",
       "...                     ...                     ...   \n",
       "23                        0                       0   \n",
       "72                        0                       0   \n",
       "89                        0                       1   \n",
       "16                        0                       1   \n",
       "57                        0                       1   \n",
       "\n",
       "         neutron_porosity_density_crossover_yes  hydrocarbon_present_yes  \n",
       "well_id                                                                   \n",
       "103                                           1                        1  \n",
       "76                                            1                        0  \n",
       "38                                            1                        1  \n",
       "98                                            1                        0  \n",
       "65                                            1                        0  \n",
       "...                                         ...                      ...  \n",
       "23                                            1                        1  \n",
       "72                                            0                        0  \n",
       "89                                            1                        0  \n",
       "16                                            1                        0  \n",
       "57                                            0                        0  \n",
       "\n",
       "[73 rows x 7 columns]"
      ]
     },
     "execution_count": 88,
     "metadata": {},
     "output_type": "execute_result"
    }
   ],
   "source": [
    "X_train"
   ]
  },
  {
   "cell_type": "code",
   "execution_count": 89,
   "id": "bbc4aeca",
   "metadata": {},
   "outputs": [],
   "source": [
    "# Create a list of models, with their performance scores\n",
    "\n",
    "models = []\n",
    "\n",
    "models.append(('KNN', KNeighborsClassifier()))\n",
    "models.append(('GNB', GaussianNB()))\n",
    "models.append(('RF', RandomForestClassifier()))\n",
    "models.append(('GB', GradientBoostingClassifier()))\n",
    "models.append(('XGB', XGBClassifier()))"
   ]
  },
  {
   "cell_type": "code",
   "execution_count": 90,
   "id": "1a21bcc9",
   "metadata": {},
   "outputs": [
    {
     "name": "stderr",
     "output_type": "stream",
     "text": [
      "  0%|          | 0/5 [00:00<?, ?it/s]D:\\User\\envs\\pycaret\\lib\\site-packages\\ipykernel_launcher.py:8: DataConversionWarning: A column-vector y was passed when a 1d array was expected. Please change the shape of y to (n_samples, ), for example using ravel().\n",
      "  \n",
      "D:\\User\\envs\\pycaret\\lib\\site-packages\\sklearn\\utils\\validation.py:72: DataConversionWarning: A column-vector y was passed when a 1d array was expected. Please change the shape of y to (n_samples, ), for example using ravel().\n",
      "  return f(**kwargs)\n",
      "D:\\User\\envs\\pycaret\\lib\\site-packages\\ipykernel_launcher.py:8: DataConversionWarning: A column-vector y was passed when a 1d array was expected. Please change the shape of y to (n_samples,), for example using ravel().\n",
      "  \n",
      " 60%|██████    | 3/5 [00:00<00:00, 15.87it/s]D:\\User\\envs\\pycaret\\lib\\site-packages\\sklearn\\utils\\validation.py:72: DataConversionWarning: A column-vector y was passed when a 1d array was expected. Please change the shape of y to (n_samples, ), for example using ravel().\n",
      "  return f(**kwargs)\n",
      "D:\\User\\envs\\pycaret\\lib\\site-packages\\xgboost\\sklearn.py:1224: UserWarning: The use of label encoder in XGBClassifier is deprecated and will be removed in a future release. To remove this warning, do the following: 1) Pass option use_label_encoder=False when constructing XGBClassifier object; and 2) Encode your labels (y) as integers starting with 0, i.e. 0, 1, 2, ..., [num_class - 1].\n",
      "  warnings.warn(label_encoder_deprecation_msg, UserWarning)\n",
      "D:\\User\\envs\\pycaret\\lib\\site-packages\\sklearn\\utils\\validation.py:72: DataConversionWarning: A column-vector y was passed when a 1d array was expected. Please change the shape of y to (n_samples, ), for example using ravel().\n",
      "  return f(**kwargs)\n"
     ]
    },
    {
     "name": "stdout",
     "output_type": "stream",
     "text": [
      "[17:06:30] WARNING: C:/Users/Administrator/workspace/xgboost-win64_release_1.5.0/src/learner.cc:1115: Starting in XGBoost 1.3.0, the default evaluation metric used with the objective 'multi:softprob' was changed from 'merror' to 'mlogloss'. Explicitly set eval_metric if you'd like to restore the old behavior.\n"
     ]
    },
    {
     "name": "stderr",
     "output_type": "stream",
     "text": [
      "100%|██████████| 5/5 [00:04<00:00,  1.07it/s]"
     ]
    },
    {
     "name": "stdout",
     "output_type": "stream",
     "text": [
      "  Classifier     Score\n",
      "0        KNN  0.000000\n",
      "1        GNB  0.000000\n",
      "2         RF  0.000000\n",
      "3         GB  0.000000\n",
      "4        XGB  0.071429\n"
     ]
    },
    {
     "name": "stderr",
     "output_type": "stream",
     "text": [
      "\n"
     ]
    }
   ],
   "source": [
    "# Define lists\n",
    "names = []\n",
    "scores = []\n",
    "\n",
    "# For loop; append to name \n",
    "# Define train test split scores\n",
    "for name, model in tqdm(models):\n",
    "    model.fit(X_train, y_train)\n",
    "    y_pred_models = model.predict(X_test)\n",
    "    scores.append(accuracy_score(y_test, y_pred_models))\n",
    "    names.append(name)\n",
    "tr_test_split = pd.DataFrame({'Classifier': names, 'Score': scores})\n",
    "print(tr_test_split)"
   ]
  },
  {
   "cell_type": "code",
   "execution_count": 91,
   "id": "e48fd3c3",
   "metadata": {},
   "outputs": [
    {
     "data": {
      "text/html": [
       "<div>\n",
       "<style scoped>\n",
       "    .dataframe tbody tr th:only-of-type {\n",
       "        vertical-align: middle;\n",
       "    }\n",
       "\n",
       "    .dataframe tbody tr th {\n",
       "        vertical-align: top;\n",
       "    }\n",
       "\n",
       "    .dataframe thead th {\n",
       "        text-align: right;\n",
       "    }\n",
       "</style>\n",
       "<table border=\"1\" class=\"dataframe\">\n",
       "  <thead>\n",
       "    <tr style=\"text-align: right;\">\n",
       "      <th></th>\n",
       "      <th>Classifier</th>\n",
       "      <th>Score</th>\n",
       "    </tr>\n",
       "  </thead>\n",
       "  <tbody>\n",
       "    <tr>\n",
       "      <th>0</th>\n",
       "      <td>KNN</td>\n",
       "      <td>0.000000</td>\n",
       "    </tr>\n",
       "    <tr>\n",
       "      <th>1</th>\n",
       "      <td>GNB</td>\n",
       "      <td>0.000000</td>\n",
       "    </tr>\n",
       "    <tr>\n",
       "      <th>2</th>\n",
       "      <td>RF</td>\n",
       "      <td>0.000000</td>\n",
       "    </tr>\n",
       "    <tr>\n",
       "      <th>3</th>\n",
       "      <td>GB</td>\n",
       "      <td>0.000000</td>\n",
       "    </tr>\n",
       "    <tr>\n",
       "      <th>4</th>\n",
       "      <td>XGB</td>\n",
       "      <td>0.071429</td>\n",
       "    </tr>\n",
       "  </tbody>\n",
       "</table>\n",
       "</div>"
      ],
      "text/plain": [
       "  Classifier     Score\n",
       "0        KNN  0.000000\n",
       "1        GNB  0.000000\n",
       "2         RF  0.000000\n",
       "3         GB  0.000000\n",
       "4        XGB  0.071429"
      ]
     },
     "execution_count": 91,
     "metadata": {},
     "output_type": "execute_result"
    }
   ],
   "source": [
    "tr_test_split.head()"
   ]
  },
  {
   "cell_type": "markdown",
   "id": "168ea65b",
   "metadata": {},
   "source": [
    "### Linear regression"
   ]
  },
  {
   "cell_type": "code",
   "execution_count": 92,
   "id": "1762686d",
   "metadata": {},
   "outputs": [
    {
     "data": {
      "text/plain": [
       "LinearRegression()"
      ]
     },
     "execution_count": 92,
     "metadata": {},
     "output_type": "execute_result"
    }
   ],
   "source": [
    "from sklearn.linear_model import LinearRegression\n",
    "lr = LinearRegression()\n",
    "lr.fit(X_train, y_train)"
   ]
  },
  {
   "cell_type": "code",
   "execution_count": 93,
   "id": "00aac0d3",
   "metadata": {},
   "outputs": [],
   "source": [
    "y_pred = lr.predict(X_test)"
   ]
  },
  {
   "cell_type": "code",
   "execution_count": 94,
   "id": "39822d08",
   "metadata": {},
   "outputs": [
    {
     "name": "stdout",
     "output_type": "stream",
     "text": [
      "Depths where hydrocarbons are present = [[457.66010475]\n",
      " [429.21660139]\n",
      " [429.21660139]\n",
      " [504.70527372]\n",
      " [429.21660139]\n",
      " [457.66010475]\n",
      " [447.91874654]\n",
      " [429.21660139]\n",
      " [429.21660139]\n",
      " [486.34691284]\n",
      " [429.21660139]\n",
      " [457.66010475]\n",
      " [447.91874654]\n",
      " [442.48135331]]\n"
     ]
    }
   ],
   "source": [
    "print(\"Depths where hydrocarbons are present =\",y_pred)"
   ]
  },
  {
   "cell_type": "code",
   "execution_count": 95,
   "id": "9c132df6",
   "metadata": {},
   "outputs": [
    {
     "name": "stdout",
     "output_type": "stream",
     "text": [
      "Const: \n",
      " [402.6854918]\n",
      "Coefficients: \n",
      " [[ 59.21660139  -3.00731902 -56.78652718  38.4281663   47.04516897\n",
      "   -4.24198843  28.34302382]]\n"
     ]
    }
   ],
   "source": [
    "print('Const: \\n', lr.intercept_)\n",
    "print('Coefficients: \\n', lr.coef_)"
   ]
  },
  {
   "cell_type": "code",
   "execution_count": 96,
   "id": "313be5d3",
   "metadata": {},
   "outputs": [
    {
     "data": {
      "text/plain": [
       "6.977866962634993"
      ]
     },
     "execution_count": 96,
     "metadata": {},
     "output_type": "execute_result"
    }
   ],
   "source": [
    "# Get accuracy score\n",
    "lr.score(X_train, y_train)*100"
   ]
  },
  {
   "cell_type": "code",
   "execution_count": 97,
   "id": "a30a55fe",
   "metadata": {},
   "outputs": [
    {
     "data": {
      "image/png": "[encoded data removed]",
      "text/plain": [
       "<Figure size 432x288 with 1 Axes>"
      ]
     },
     "metadata": {
      "needs_background": "light"
     },
     "output_type": "display_data"
    }
   ],
   "source": [
    "# Plot predictions against actual results\n",
    "_ = plt.scatter(y_test, y_pred)\n",
    "_ = plt.xlabel(\"actual max depth\")\n",
    "_ = plt.ylabel(\"predicted max depth\")\n",
    "plt.show()"
   ]
  },
  {
   "cell_type": "markdown",
   "id": "53ab281e",
   "metadata": {},
   "source": [
    "### Random Forest "
   ]
  },
  {
   "cell_type": "code",
   "execution_count": 98,
   "id": "671895d4",
   "metadata": {},
   "outputs": [],
   "source": [
    "rfc = RandomForestClassifier(n_estimators=300, random_state = 1,n_jobs=-1)"
   ]
  },
  {
   "cell_type": "code",
   "execution_count": 99,
   "id": "3bacd5c1",
   "metadata": {},
   "outputs": [
    {
     "data": {
      "text/plain": [
       "RandomForestClassifier(n_estimators=300, n_jobs=-1, random_state=1)"
      ]
     },
     "execution_count": 99,
     "metadata": {},
     "output_type": "execute_result"
    }
   ],
   "source": [
    "# Train\n",
    "rfc.fit(X_train, y_train.values.ravel())"
   ]
  },
  {
   "cell_type": "code",
   "execution_count": 100,
   "id": "2fd1015f",
   "metadata": {},
   "outputs": [
    {
     "name": "stdout",
     "output_type": "stream",
     "text": [
      "Depths where hydrocarbons are present = [[457.66010475]\n",
      " [429.21660139]\n",
      " [429.21660139]\n",
      " [504.70527372]\n",
      " [429.21660139]\n",
      " [457.66010475]\n",
      " [447.91874654]\n",
      " [429.21660139]\n",
      " [429.21660139]\n",
      " [486.34691284]\n",
      " [429.21660139]\n",
      " [457.66010475]\n",
      " [447.91874654]\n",
      " [442.48135331]]\n"
     ]
    }
   ],
   "source": [
    "# Get predictions\n",
    "y_pred2 = rfc.predict(X_test)\n",
    "y_pred_prob = rfc.predict_proba(X_test)\n",
    "rfc_probs = y_pred_prob[:,1]\n",
    "print(\"Depths where hydrocarbons are present =\",y_pred)"
   ]
  },
  {
   "cell_type": "code",
   "execution_count": 101,
   "id": "d6d091f6",
   "metadata": {},
   "outputs": [
    {
     "data": {
      "text/plain": [
       "28.767123287671232"
      ]
     },
     "execution_count": 101,
     "metadata": {},
     "output_type": "execute_result"
    }
   ],
   "source": [
    "# Accuracy score\n",
    "rfc.score(X_train, y_train)*100"
   ]
  },
  {
   "cell_type": "markdown",
   "id": "2c0ded52",
   "metadata": {},
   "source": [
    "### Decision Tree Classifier"
   ]
  },
  {
   "cell_type": "code",
   "execution_count": 102,
   "id": "b3dcc02a",
   "metadata": {},
   "outputs": [
    {
     "data": {
      "text/plain": [
       "DecisionTreeClassifier()"
      ]
     },
     "execution_count": 102,
     "metadata": {},
     "output_type": "execute_result"
    }
   ],
   "source": [
    "# Decision Tree classifier\n",
    "dtc = DecisionTreeClassifier(criterion='gini',max_depth=None)\n",
    "dtc.fit(X_train, y_train)"
   ]
  },
  {
   "cell_type": "code",
   "execution_count": 103,
   "id": "0bb60895",
   "metadata": {},
   "outputs": [
    {
     "name": "stdout",
     "output_type": "stream",
     "text": [
      "Depths where hydrocarbons are present = [620. 410. 410. 450. 410. 620. 423. 410. 410. 243. 410. 620. 423. 262.]\n"
     ]
    }
   ],
   "source": [
    "y_pred3 = dtc.predict(X_test)\n",
    "print(\"Depths where hydrocarbons are present =\",y_pred3)"
   ]
  },
  {
   "cell_type": "code",
   "execution_count": 104,
   "id": "e6f93182",
   "metadata": {},
   "outputs": [],
   "source": [
    "#"
   ]
  },
  {
   "cell_type": "code",
   "execution_count": 105,
   "id": "6c5d951c",
   "metadata": {},
   "outputs": [
    {
     "data": {
      "text/plain": [
       "28.767123287671232"
      ]
     },
     "execution_count": 105,
     "metadata": {},
     "output_type": "execute_result"
    }
   ],
   "source": [
    "dtc.score(X_train, y_train)*100"
   ]
  },
  {
   "cell_type": "markdown",
   "id": "464c9013",
   "metadata": {},
   "source": [
    "### Gaussian Naive Bayes"
   ]
  },
  {
   "cell_type": "code",
   "execution_count": 108,
   "id": "15e2639f",
   "metadata": {},
   "outputs": [],
   "source": [
    "# Gaussian Naive Bayes\n",
    "gnb = GaussianNB()\n",
    "gnb.fit(X_train, y_train.values.ravel())\n",
    "\n",
    "y_pred4 = gnb.predict(X_test)"
   ]
  },
  {
   "cell_type": "code",
   "execution_count": 109,
   "id": "ad7ae168",
   "metadata": {},
   "outputs": [
    {
     "data": {
      "text/plain": [
       "24.65753424657534"
      ]
     },
     "execution_count": 109,
     "metadata": {},
     "output_type": "execute_result"
    }
   ],
   "source": [
    "gnb.score(X_train, y_train)*100"
   ]
  },
  {
   "cell_type": "markdown",
   "id": "30630ad1",
   "metadata": {},
   "source": [
    "### GradientBoost"
   ]
  },
  {
   "cell_type": "code",
   "execution_count": 133,
   "id": "6dc1a910",
   "metadata": {},
   "outputs": [],
   "source": [
    "gbclf = GradientBoostingClassifier()\n",
    "gbclf.fit(X_train, y_train)\n",
    "\n",
    "# y_predct as predictions for test data\n",
    "y_pred5 = gbclf.predict(X_test)"
   ]
  },
  {
   "cell_type": "code",
   "execution_count": 134,
   "id": "c670f4fc",
   "metadata": {},
   "outputs": [
    {
     "data": {
      "text/plain": [
       "28.767123287671232"
      ]
     },
     "execution_count": 134,
     "metadata": {},
     "output_type": "execute_result"
    }
   ],
   "source": [
    "gbclf.score(X_train, y_train)*100"
   ]
  },
  {
   "cell_type": "code",
   "execution_count": 135,
   "id": "d63d3623",
   "metadata": {},
   "outputs": [
    {
     "name": "stdout",
     "output_type": "stream",
     "text": [
      "Ranking of features:\n",
      "1. feature 4 (0.26)\n",
      "2. feature 5 (0.18)\n",
      "3. feature 3 (0.18)\n",
      "4. feature 6 (0.16)\n",
      "5. feature 2 (0.16)\n",
      "6. feature 1 (0.05)\n",
      "7. feature 0 (0.01)\n"
     ]
    },
    {
     "data": {
      "image/png": "[encoded data removed]",
      "text/plain": [
       "<Figure size 1152x252 with 1 Axes>"
      ]
     },
     "metadata": {
      "needs_background": "light"
     },
     "output_type": "display_data"
    }
   ],
   "source": [
    "# Extract feature importances from the fitted gradient boosting model\n",
    "feature_importances = gbclf.feature_importances_\n",
    "\n",
    "# Get the indices of the largest to smallest feature importances\n",
    "sorted_index = np.argsort(feature_importances)[::-1]\n",
    "x = range(X.shape[1])\n",
    "\n",
    "# Print Ranking of features\n",
    "print(\"Ranking of features:\")\n",
    "for v in range(X.shape[1]):\n",
    "    print(\"%d. feature %d (%.2f)\" % (v + 1, sorted_index[v], feature_importances[sorted_index[v]]))\n",
    "\n",
    "# Define plot\n",
    "df_feature_importance = pd.DataFrame(feature_importances, index=X.columns, columns=[\"Importance\"])\n",
    "df_feature_importance.sort_values(by='Importance', ascending=True).plot(kind='barh', figsize = (16,len(feature_importances)/2));"
   ]
  },
  {
   "cell_type": "code",
   "execution_count": 137,
   "id": "d2a01d27",
   "metadata": {},
   "outputs": [],
   "source": [
    "#"
   ]
  },
  {
   "cell_type": "markdown",
   "id": "30bcf672",
   "metadata": {},
   "source": [
    "# Pycaret"
   ]
  },
  {
   "cell_type": "code",
   "execution_count": null,
   "id": "e5492894",
   "metadata": {},
   "outputs": [],
   "source": [
    "!pip install pycaret"
   ]
  },
  {
   "cell_type": "code",
   "execution_count": 110,
   "id": "a0d7a59b",
   "metadata": {},
   "outputs": [],
   "source": [
    "from pycaret.classification import *"
   ]
  },
  {
   "cell_type": "code",
   "execution_count": 111,
   "id": "684cf515",
   "metadata": {},
   "outputs": [
    {
     "data": {
      "text/html": [
       "<style  type=\"text/css\" >\n",
       "#T_bdcfaed2_4660_11ec_8ef3_b06ebfbf2340row29_col1,#T_bdcfaed2_4660_11ec_8ef3_b06ebfbf2340row44_col1{\n",
       "            background-color:  lightgreen;\n",
       "        }</style><table id=\"T_bdcfaed2_4660_11ec_8ef3_b06ebfbf2340\" ><thead>    <tr>        <th class=\"blank level0\" ></th>        <th class=\"col_heading level0 col0\" >Description</th>        <th class=\"col_heading level0 col1\" >Value</th>    </tr></thead><tbody>\n",
       "                <tr>\n",
       "                        <th id=\"T_bdcfaed2_4660_11ec_8ef3_b06ebfbf2340level0_row0\" class=\"row_heading level0 row0\" >0</th>\n",
       "                        <td id=\"T_bdcfaed2_4660_11ec_8ef3_b06ebfbf2340row0_col0\" class=\"data row0 col0\" >session_id</td>\n",
       "                        <td id=\"T_bdcfaed2_4660_11ec_8ef3_b06ebfbf2340row0_col1\" class=\"data row0 col1\" >5337</td>\n",
       "            </tr>\n",
       "            <tr>\n",
       "                        <th id=\"T_bdcfaed2_4660_11ec_8ef3_b06ebfbf2340level0_row1\" class=\"row_heading level0 row1\" >1</th>\n",
       "                        <td id=\"T_bdcfaed2_4660_11ec_8ef3_b06ebfbf2340row1_col0\" class=\"data row1 col0\" >Target</td>\n",
       "                        <td id=\"T_bdcfaed2_4660_11ec_8ef3_b06ebfbf2340row1_col1\" class=\"data row1 col1\" >hydrocarbon_present_yes</td>\n",
       "            </tr>\n",
       "            <tr>\n",
       "                        <th id=\"T_bdcfaed2_4660_11ec_8ef3_b06ebfbf2340level0_row2\" class=\"row_heading level0 row2\" >2</th>\n",
       "                        <td id=\"T_bdcfaed2_4660_11ec_8ef3_b06ebfbf2340row2_col0\" class=\"data row2 col0\" >Target Type</td>\n",
       "                        <td id=\"T_bdcfaed2_4660_11ec_8ef3_b06ebfbf2340row2_col1\" class=\"data row2 col1\" >Binary</td>\n",
       "            </tr>\n",
       "            <tr>\n",
       "                        <th id=\"T_bdcfaed2_4660_11ec_8ef3_b06ebfbf2340level0_row3\" class=\"row_heading level0 row3\" >3</th>\n",
       "                        <td id=\"T_bdcfaed2_4660_11ec_8ef3_b06ebfbf2340row3_col0\" class=\"data row3 col0\" >Label Encoded</td>\n",
       "                        <td id=\"T_bdcfaed2_4660_11ec_8ef3_b06ebfbf2340row3_col1\" class=\"data row3 col1\" >None</td>\n",
       "            </tr>\n",
       "            <tr>\n",
       "                        <th id=\"T_bdcfaed2_4660_11ec_8ef3_b06ebfbf2340level0_row4\" class=\"row_heading level0 row4\" >4</th>\n",
       "                        <td id=\"T_bdcfaed2_4660_11ec_8ef3_b06ebfbf2340row4_col0\" class=\"data row4 col0\" >Original Data</td>\n",
       "                        <td id=\"T_bdcfaed2_4660_11ec_8ef3_b06ebfbf2340row4_col1\" class=\"data row4 col1\" >(87, 7)</td>\n",
       "            </tr>\n",
       "            <tr>\n",
       "                        <th id=\"T_bdcfaed2_4660_11ec_8ef3_b06ebfbf2340level0_row5\" class=\"row_heading level0 row5\" >5</th>\n",
       "                        <td id=\"T_bdcfaed2_4660_11ec_8ef3_b06ebfbf2340row5_col0\" class=\"data row5 col0\" >Missing Values</td>\n",
       "                        <td id=\"T_bdcfaed2_4660_11ec_8ef3_b06ebfbf2340row5_col1\" class=\"data row5 col1\" >False</td>\n",
       "            </tr>\n",
       "            <tr>\n",
       "                        <th id=\"T_bdcfaed2_4660_11ec_8ef3_b06ebfbf2340level0_row6\" class=\"row_heading level0 row6\" >6</th>\n",
       "                        <td id=\"T_bdcfaed2_4660_11ec_8ef3_b06ebfbf2340row6_col0\" class=\"data row6 col0\" >Numeric Features</td>\n",
       "                        <td id=\"T_bdcfaed2_4660_11ec_8ef3_b06ebfbf2340row6_col1\" class=\"data row6 col1\" >6</td>\n",
       "            </tr>\n",
       "            <tr>\n",
       "                        <th id=\"T_bdcfaed2_4660_11ec_8ef3_b06ebfbf2340level0_row7\" class=\"row_heading level0 row7\" >7</th>\n",
       "                        <td id=\"T_bdcfaed2_4660_11ec_8ef3_b06ebfbf2340row7_col0\" class=\"data row7 col0\" >Categorical Features</td>\n",
       "                        <td id=\"T_bdcfaed2_4660_11ec_8ef3_b06ebfbf2340row7_col1\" class=\"data row7 col1\" >0</td>\n",
       "            </tr>\n",
       "            <tr>\n",
       "                        <th id=\"T_bdcfaed2_4660_11ec_8ef3_b06ebfbf2340level0_row8\" class=\"row_heading level0 row8\" >8</th>\n",
       "                        <td id=\"T_bdcfaed2_4660_11ec_8ef3_b06ebfbf2340row8_col0\" class=\"data row8 col0\" >Ordinal Features</td>\n",
       "                        <td id=\"T_bdcfaed2_4660_11ec_8ef3_b06ebfbf2340row8_col1\" class=\"data row8 col1\" >False</td>\n",
       "            </tr>\n",
       "            <tr>\n",
       "                        <th id=\"T_bdcfaed2_4660_11ec_8ef3_b06ebfbf2340level0_row9\" class=\"row_heading level0 row9\" >9</th>\n",
       "                        <td id=\"T_bdcfaed2_4660_11ec_8ef3_b06ebfbf2340row9_col0\" class=\"data row9 col0\" >High Cardinality Features</td>\n",
       "                        <td id=\"T_bdcfaed2_4660_11ec_8ef3_b06ebfbf2340row9_col1\" class=\"data row9 col1\" >False</td>\n",
       "            </tr>\n",
       "            <tr>\n",
       "                        <th id=\"T_bdcfaed2_4660_11ec_8ef3_b06ebfbf2340level0_row10\" class=\"row_heading level0 row10\" >10</th>\n",
       "                        <td id=\"T_bdcfaed2_4660_11ec_8ef3_b06ebfbf2340row10_col0\" class=\"data row10 col0\" >High Cardinality Method</td>\n",
       "                        <td id=\"T_bdcfaed2_4660_11ec_8ef3_b06ebfbf2340row10_col1\" class=\"data row10 col1\" >None</td>\n",
       "            </tr>\n",
       "            <tr>\n",
       "                        <th id=\"T_bdcfaed2_4660_11ec_8ef3_b06ebfbf2340level0_row11\" class=\"row_heading level0 row11\" >11</th>\n",
       "                        <td id=\"T_bdcfaed2_4660_11ec_8ef3_b06ebfbf2340row11_col0\" class=\"data row11 col0\" >Transformed Train Set</td>\n",
       "                        <td id=\"T_bdcfaed2_4660_11ec_8ef3_b06ebfbf2340row11_col1\" class=\"data row11 col1\" >(65, 6)</td>\n",
       "            </tr>\n",
       "            <tr>\n",
       "                        <th id=\"T_bdcfaed2_4660_11ec_8ef3_b06ebfbf2340level0_row12\" class=\"row_heading level0 row12\" >12</th>\n",
       "                        <td id=\"T_bdcfaed2_4660_11ec_8ef3_b06ebfbf2340row12_col0\" class=\"data row12 col0\" >Transformed Test Set</td>\n",
       "                        <td id=\"T_bdcfaed2_4660_11ec_8ef3_b06ebfbf2340row12_col1\" class=\"data row12 col1\" >(22, 6)</td>\n",
       "            </tr>\n",
       "            <tr>\n",
       "                        <th id=\"T_bdcfaed2_4660_11ec_8ef3_b06ebfbf2340level0_row13\" class=\"row_heading level0 row13\" >13</th>\n",
       "                        <td id=\"T_bdcfaed2_4660_11ec_8ef3_b06ebfbf2340row13_col0\" class=\"data row13 col0\" >Shuffle Train-Test</td>\n",
       "                        <td id=\"T_bdcfaed2_4660_11ec_8ef3_b06ebfbf2340row13_col1\" class=\"data row13 col1\" >True</td>\n",
       "            </tr>\n",
       "            <tr>\n",
       "                        <th id=\"T_bdcfaed2_4660_11ec_8ef3_b06ebfbf2340level0_row14\" class=\"row_heading level0 row14\" >14</th>\n",
       "                        <td id=\"T_bdcfaed2_4660_11ec_8ef3_b06ebfbf2340row14_col0\" class=\"data row14 col0\" >Stratify Train-Test</td>\n",
       "                        <td id=\"T_bdcfaed2_4660_11ec_8ef3_b06ebfbf2340row14_col1\" class=\"data row14 col1\" >False</td>\n",
       "            </tr>\n",
       "            <tr>\n",
       "                        <th id=\"T_bdcfaed2_4660_11ec_8ef3_b06ebfbf2340level0_row15\" class=\"row_heading level0 row15\" >15</th>\n",
       "                        <td id=\"T_bdcfaed2_4660_11ec_8ef3_b06ebfbf2340row15_col0\" class=\"data row15 col0\" >Fold Generator</td>\n",
       "                        <td id=\"T_bdcfaed2_4660_11ec_8ef3_b06ebfbf2340row15_col1\" class=\"data row15 col1\" >StratifiedKFold</td>\n",
       "            </tr>\n",
       "            <tr>\n",
       "                        <th id=\"T_bdcfaed2_4660_11ec_8ef3_b06ebfbf2340level0_row16\" class=\"row_heading level0 row16\" >16</th>\n",
       "                        <td id=\"T_bdcfaed2_4660_11ec_8ef3_b06ebfbf2340row16_col0\" class=\"data row16 col0\" >Fold Number</td>\n",
       "                        <td id=\"T_bdcfaed2_4660_11ec_8ef3_b06ebfbf2340row16_col1\" class=\"data row16 col1\" >10</td>\n",
       "            </tr>\n",
       "            <tr>\n",
       "                        <th id=\"T_bdcfaed2_4660_11ec_8ef3_b06ebfbf2340level0_row17\" class=\"row_heading level0 row17\" >17</th>\n",
       "                        <td id=\"T_bdcfaed2_4660_11ec_8ef3_b06ebfbf2340row17_col0\" class=\"data row17 col0\" >CPU Jobs</td>\n",
       "                        <td id=\"T_bdcfaed2_4660_11ec_8ef3_b06ebfbf2340row17_col1\" class=\"data row17 col1\" >-1</td>\n",
       "            </tr>\n",
       "            <tr>\n",
       "                        <th id=\"T_bdcfaed2_4660_11ec_8ef3_b06ebfbf2340level0_row18\" class=\"row_heading level0 row18\" >18</th>\n",
       "                        <td id=\"T_bdcfaed2_4660_11ec_8ef3_b06ebfbf2340row18_col0\" class=\"data row18 col0\" >Use GPU</td>\n",
       "                        <td id=\"T_bdcfaed2_4660_11ec_8ef3_b06ebfbf2340row18_col1\" class=\"data row18 col1\" >False</td>\n",
       "            </tr>\n",
       "            <tr>\n",
       "                        <th id=\"T_bdcfaed2_4660_11ec_8ef3_b06ebfbf2340level0_row19\" class=\"row_heading level0 row19\" >19</th>\n",
       "                        <td id=\"T_bdcfaed2_4660_11ec_8ef3_b06ebfbf2340row19_col0\" class=\"data row19 col0\" >Log Experiment</td>\n",
       "                        <td id=\"T_bdcfaed2_4660_11ec_8ef3_b06ebfbf2340row19_col1\" class=\"data row19 col1\" >False</td>\n",
       "            </tr>\n",
       "            <tr>\n",
       "                        <th id=\"T_bdcfaed2_4660_11ec_8ef3_b06ebfbf2340level0_row20\" class=\"row_heading level0 row20\" >20</th>\n",
       "                        <td id=\"T_bdcfaed2_4660_11ec_8ef3_b06ebfbf2340row20_col0\" class=\"data row20 col0\" >Experiment Name</td>\n",
       "                        <td id=\"T_bdcfaed2_4660_11ec_8ef3_b06ebfbf2340row20_col1\" class=\"data row20 col1\" >clf-default-name</td>\n",
       "            </tr>\n",
       "            <tr>\n",
       "                        <th id=\"T_bdcfaed2_4660_11ec_8ef3_b06ebfbf2340level0_row21\" class=\"row_heading level0 row21\" >21</th>\n",
       "                        <td id=\"T_bdcfaed2_4660_11ec_8ef3_b06ebfbf2340row21_col0\" class=\"data row21 col0\" >USI</td>\n",
       "                        <td id=\"T_bdcfaed2_4660_11ec_8ef3_b06ebfbf2340row21_col1\" class=\"data row21 col1\" >cb13</td>\n",
       "            </tr>\n",
       "            <tr>\n",
       "                        <th id=\"T_bdcfaed2_4660_11ec_8ef3_b06ebfbf2340level0_row22\" class=\"row_heading level0 row22\" >22</th>\n",
       "                        <td id=\"T_bdcfaed2_4660_11ec_8ef3_b06ebfbf2340row22_col0\" class=\"data row22 col0\" >Imputation Type</td>\n",
       "                        <td id=\"T_bdcfaed2_4660_11ec_8ef3_b06ebfbf2340row22_col1\" class=\"data row22 col1\" >simple</td>\n",
       "            </tr>\n",
       "            <tr>\n",
       "                        <th id=\"T_bdcfaed2_4660_11ec_8ef3_b06ebfbf2340level0_row23\" class=\"row_heading level0 row23\" >23</th>\n",
       "                        <td id=\"T_bdcfaed2_4660_11ec_8ef3_b06ebfbf2340row23_col0\" class=\"data row23 col0\" >Iterative Imputation Iteration</td>\n",
       "                        <td id=\"T_bdcfaed2_4660_11ec_8ef3_b06ebfbf2340row23_col1\" class=\"data row23 col1\" >None</td>\n",
       "            </tr>\n",
       "            <tr>\n",
       "                        <th id=\"T_bdcfaed2_4660_11ec_8ef3_b06ebfbf2340level0_row24\" class=\"row_heading level0 row24\" >24</th>\n",
       "                        <td id=\"T_bdcfaed2_4660_11ec_8ef3_b06ebfbf2340row24_col0\" class=\"data row24 col0\" >Numeric Imputer</td>\n",
       "                        <td id=\"T_bdcfaed2_4660_11ec_8ef3_b06ebfbf2340row24_col1\" class=\"data row24 col1\" >mean</td>\n",
       "            </tr>\n",
       "            <tr>\n",
       "                        <th id=\"T_bdcfaed2_4660_11ec_8ef3_b06ebfbf2340level0_row25\" class=\"row_heading level0 row25\" >25</th>\n",
       "                        <td id=\"T_bdcfaed2_4660_11ec_8ef3_b06ebfbf2340row25_col0\" class=\"data row25 col0\" >Iterative Imputation Numeric Model</td>\n",
       "                        <td id=\"T_bdcfaed2_4660_11ec_8ef3_b06ebfbf2340row25_col1\" class=\"data row25 col1\" >None</td>\n",
       "            </tr>\n",
       "            <tr>\n",
       "                        <th id=\"T_bdcfaed2_4660_11ec_8ef3_b06ebfbf2340level0_row26\" class=\"row_heading level0 row26\" >26</th>\n",
       "                        <td id=\"T_bdcfaed2_4660_11ec_8ef3_b06ebfbf2340row26_col0\" class=\"data row26 col0\" >Categorical Imputer</td>\n",
       "                        <td id=\"T_bdcfaed2_4660_11ec_8ef3_b06ebfbf2340row26_col1\" class=\"data row26 col1\" >constant</td>\n",
       "            </tr>\n",
       "            <tr>\n",
       "                        <th id=\"T_bdcfaed2_4660_11ec_8ef3_b06ebfbf2340level0_row27\" class=\"row_heading level0 row27\" >27</th>\n",
       "                        <td id=\"T_bdcfaed2_4660_11ec_8ef3_b06ebfbf2340row27_col0\" class=\"data row27 col0\" >Iterative Imputation Categorical Model</td>\n",
       "                        <td id=\"T_bdcfaed2_4660_11ec_8ef3_b06ebfbf2340row27_col1\" class=\"data row27 col1\" >None</td>\n",
       "            </tr>\n",
       "            <tr>\n",
       "                        <th id=\"T_bdcfaed2_4660_11ec_8ef3_b06ebfbf2340level0_row28\" class=\"row_heading level0 row28\" >28</th>\n",
       "                        <td id=\"T_bdcfaed2_4660_11ec_8ef3_b06ebfbf2340row28_col0\" class=\"data row28 col0\" >Unknown Categoricals Handling</td>\n",
       "                        <td id=\"T_bdcfaed2_4660_11ec_8ef3_b06ebfbf2340row28_col1\" class=\"data row28 col1\" >least_frequent</td>\n",
       "            </tr>\n",
       "            <tr>\n",
       "                        <th id=\"T_bdcfaed2_4660_11ec_8ef3_b06ebfbf2340level0_row29\" class=\"row_heading level0 row29\" >29</th>\n",
       "                        <td id=\"T_bdcfaed2_4660_11ec_8ef3_b06ebfbf2340row29_col0\" class=\"data row29 col0\" >Normalize</td>\n",
       "                        <td id=\"T_bdcfaed2_4660_11ec_8ef3_b06ebfbf2340row29_col1\" class=\"data row29 col1\" >True</td>\n",
       "            </tr>\n",
       "            <tr>\n",
       "                        <th id=\"T_bdcfaed2_4660_11ec_8ef3_b06ebfbf2340level0_row30\" class=\"row_heading level0 row30\" >30</th>\n",
       "                        <td id=\"T_bdcfaed2_4660_11ec_8ef3_b06ebfbf2340row30_col0\" class=\"data row30 col0\" >Normalize Method</td>\n",
       "                        <td id=\"T_bdcfaed2_4660_11ec_8ef3_b06ebfbf2340row30_col1\" class=\"data row30 col1\" >zscore</td>\n",
       "            </tr>\n",
       "            <tr>\n",
       "                        <th id=\"T_bdcfaed2_4660_11ec_8ef3_b06ebfbf2340level0_row31\" class=\"row_heading level0 row31\" >31</th>\n",
       "                        <td id=\"T_bdcfaed2_4660_11ec_8ef3_b06ebfbf2340row31_col0\" class=\"data row31 col0\" >Transformation</td>\n",
       "                        <td id=\"T_bdcfaed2_4660_11ec_8ef3_b06ebfbf2340row31_col1\" class=\"data row31 col1\" >False</td>\n",
       "            </tr>\n",
       "            <tr>\n",
       "                        <th id=\"T_bdcfaed2_4660_11ec_8ef3_b06ebfbf2340level0_row32\" class=\"row_heading level0 row32\" >32</th>\n",
       "                        <td id=\"T_bdcfaed2_4660_11ec_8ef3_b06ebfbf2340row32_col0\" class=\"data row32 col0\" >Transformation Method</td>\n",
       "                        <td id=\"T_bdcfaed2_4660_11ec_8ef3_b06ebfbf2340row32_col1\" class=\"data row32 col1\" >None</td>\n",
       "            </tr>\n",
       "            <tr>\n",
       "                        <th id=\"T_bdcfaed2_4660_11ec_8ef3_b06ebfbf2340level0_row33\" class=\"row_heading level0 row33\" >33</th>\n",
       "                        <td id=\"T_bdcfaed2_4660_11ec_8ef3_b06ebfbf2340row33_col0\" class=\"data row33 col0\" >PCA</td>\n",
       "                        <td id=\"T_bdcfaed2_4660_11ec_8ef3_b06ebfbf2340row33_col1\" class=\"data row33 col1\" >False</td>\n",
       "            </tr>\n",
       "            <tr>\n",
       "                        <th id=\"T_bdcfaed2_4660_11ec_8ef3_b06ebfbf2340level0_row34\" class=\"row_heading level0 row34\" >34</th>\n",
       "                        <td id=\"T_bdcfaed2_4660_11ec_8ef3_b06ebfbf2340row34_col0\" class=\"data row34 col0\" >PCA Method</td>\n",
       "                        <td id=\"T_bdcfaed2_4660_11ec_8ef3_b06ebfbf2340row34_col1\" class=\"data row34 col1\" >None</td>\n",
       "            </tr>\n",
       "            <tr>\n",
       "                        <th id=\"T_bdcfaed2_4660_11ec_8ef3_b06ebfbf2340level0_row35\" class=\"row_heading level0 row35\" >35</th>\n",
       "                        <td id=\"T_bdcfaed2_4660_11ec_8ef3_b06ebfbf2340row35_col0\" class=\"data row35 col0\" >PCA Components</td>\n",
       "                        <td id=\"T_bdcfaed2_4660_11ec_8ef3_b06ebfbf2340row35_col1\" class=\"data row35 col1\" >None</td>\n",
       "            </tr>\n",
       "            <tr>\n",
       "                        <th id=\"T_bdcfaed2_4660_11ec_8ef3_b06ebfbf2340level0_row36\" class=\"row_heading level0 row36\" >36</th>\n",
       "                        <td id=\"T_bdcfaed2_4660_11ec_8ef3_b06ebfbf2340row36_col0\" class=\"data row36 col0\" >Ignore Low Variance</td>\n",
       "                        <td id=\"T_bdcfaed2_4660_11ec_8ef3_b06ebfbf2340row36_col1\" class=\"data row36 col1\" >False</td>\n",
       "            </tr>\n",
       "            <tr>\n",
       "                        <th id=\"T_bdcfaed2_4660_11ec_8ef3_b06ebfbf2340level0_row37\" class=\"row_heading level0 row37\" >37</th>\n",
       "                        <td id=\"T_bdcfaed2_4660_11ec_8ef3_b06ebfbf2340row37_col0\" class=\"data row37 col0\" >Combine Rare Levels</td>\n",
       "                        <td id=\"T_bdcfaed2_4660_11ec_8ef3_b06ebfbf2340row37_col1\" class=\"data row37 col1\" >False</td>\n",
       "            </tr>\n",
       "            <tr>\n",
       "                        <th id=\"T_bdcfaed2_4660_11ec_8ef3_b06ebfbf2340level0_row38\" class=\"row_heading level0 row38\" >38</th>\n",
       "                        <td id=\"T_bdcfaed2_4660_11ec_8ef3_b06ebfbf2340row38_col0\" class=\"data row38 col0\" >Rare Level Threshold</td>\n",
       "                        <td id=\"T_bdcfaed2_4660_11ec_8ef3_b06ebfbf2340row38_col1\" class=\"data row38 col1\" >None</td>\n",
       "            </tr>\n",
       "            <tr>\n",
       "                        <th id=\"T_bdcfaed2_4660_11ec_8ef3_b06ebfbf2340level0_row39\" class=\"row_heading level0 row39\" >39</th>\n",
       "                        <td id=\"T_bdcfaed2_4660_11ec_8ef3_b06ebfbf2340row39_col0\" class=\"data row39 col0\" >Numeric Binning</td>\n",
       "                        <td id=\"T_bdcfaed2_4660_11ec_8ef3_b06ebfbf2340row39_col1\" class=\"data row39 col1\" >False</td>\n",
       "            </tr>\n",
       "            <tr>\n",
       "                        <th id=\"T_bdcfaed2_4660_11ec_8ef3_b06ebfbf2340level0_row40\" class=\"row_heading level0 row40\" >40</th>\n",
       "                        <td id=\"T_bdcfaed2_4660_11ec_8ef3_b06ebfbf2340row40_col0\" class=\"data row40 col0\" >Remove Outliers</td>\n",
       "                        <td id=\"T_bdcfaed2_4660_11ec_8ef3_b06ebfbf2340row40_col1\" class=\"data row40 col1\" >False</td>\n",
       "            </tr>\n",
       "            <tr>\n",
       "                        <th id=\"T_bdcfaed2_4660_11ec_8ef3_b06ebfbf2340level0_row41\" class=\"row_heading level0 row41\" >41</th>\n",
       "                        <td id=\"T_bdcfaed2_4660_11ec_8ef3_b06ebfbf2340row41_col0\" class=\"data row41 col0\" >Outliers Threshold</td>\n",
       "                        <td id=\"T_bdcfaed2_4660_11ec_8ef3_b06ebfbf2340row41_col1\" class=\"data row41 col1\" >None</td>\n",
       "            </tr>\n",
       "            <tr>\n",
       "                        <th id=\"T_bdcfaed2_4660_11ec_8ef3_b06ebfbf2340level0_row42\" class=\"row_heading level0 row42\" >42</th>\n",
       "                        <td id=\"T_bdcfaed2_4660_11ec_8ef3_b06ebfbf2340row42_col0\" class=\"data row42 col0\" >Remove Multicollinearity</td>\n",
       "                        <td id=\"T_bdcfaed2_4660_11ec_8ef3_b06ebfbf2340row42_col1\" class=\"data row42 col1\" >False</td>\n",
       "            </tr>\n",
       "            <tr>\n",
       "                        <th id=\"T_bdcfaed2_4660_11ec_8ef3_b06ebfbf2340level0_row43\" class=\"row_heading level0 row43\" >43</th>\n",
       "                        <td id=\"T_bdcfaed2_4660_11ec_8ef3_b06ebfbf2340row43_col0\" class=\"data row43 col0\" >Multicollinearity Threshold</td>\n",
       "                        <td id=\"T_bdcfaed2_4660_11ec_8ef3_b06ebfbf2340row43_col1\" class=\"data row43 col1\" >None</td>\n",
       "            </tr>\n",
       "            <tr>\n",
       "                        <th id=\"T_bdcfaed2_4660_11ec_8ef3_b06ebfbf2340level0_row44\" class=\"row_heading level0 row44\" >44</th>\n",
       "                        <td id=\"T_bdcfaed2_4660_11ec_8ef3_b06ebfbf2340row44_col0\" class=\"data row44 col0\" >Remove Perfect Collinearity</td>\n",
       "                        <td id=\"T_bdcfaed2_4660_11ec_8ef3_b06ebfbf2340row44_col1\" class=\"data row44 col1\" >True</td>\n",
       "            </tr>\n",
       "            <tr>\n",
       "                        <th id=\"T_bdcfaed2_4660_11ec_8ef3_b06ebfbf2340level0_row45\" class=\"row_heading level0 row45\" >45</th>\n",
       "                        <td id=\"T_bdcfaed2_4660_11ec_8ef3_b06ebfbf2340row45_col0\" class=\"data row45 col0\" >Clustering</td>\n",
       "                        <td id=\"T_bdcfaed2_4660_11ec_8ef3_b06ebfbf2340row45_col1\" class=\"data row45 col1\" >False</td>\n",
       "            </tr>\n",
       "            <tr>\n",
       "                        <th id=\"T_bdcfaed2_4660_11ec_8ef3_b06ebfbf2340level0_row46\" class=\"row_heading level0 row46\" >46</th>\n",
       "                        <td id=\"T_bdcfaed2_4660_11ec_8ef3_b06ebfbf2340row46_col0\" class=\"data row46 col0\" >Clustering Iteration</td>\n",
       "                        <td id=\"T_bdcfaed2_4660_11ec_8ef3_b06ebfbf2340row46_col1\" class=\"data row46 col1\" >None</td>\n",
       "            </tr>\n",
       "            <tr>\n",
       "                        <th id=\"T_bdcfaed2_4660_11ec_8ef3_b06ebfbf2340level0_row47\" class=\"row_heading level0 row47\" >47</th>\n",
       "                        <td id=\"T_bdcfaed2_4660_11ec_8ef3_b06ebfbf2340row47_col0\" class=\"data row47 col0\" >Polynomial Features</td>\n",
       "                        <td id=\"T_bdcfaed2_4660_11ec_8ef3_b06ebfbf2340row47_col1\" class=\"data row47 col1\" >False</td>\n",
       "            </tr>\n",
       "            <tr>\n",
       "                        <th id=\"T_bdcfaed2_4660_11ec_8ef3_b06ebfbf2340level0_row48\" class=\"row_heading level0 row48\" >48</th>\n",
       "                        <td id=\"T_bdcfaed2_4660_11ec_8ef3_b06ebfbf2340row48_col0\" class=\"data row48 col0\" >Polynomial Degree</td>\n",
       "                        <td id=\"T_bdcfaed2_4660_11ec_8ef3_b06ebfbf2340row48_col1\" class=\"data row48 col1\" >None</td>\n",
       "            </tr>\n",
       "            <tr>\n",
       "                        <th id=\"T_bdcfaed2_4660_11ec_8ef3_b06ebfbf2340level0_row49\" class=\"row_heading level0 row49\" >49</th>\n",
       "                        <td id=\"T_bdcfaed2_4660_11ec_8ef3_b06ebfbf2340row49_col0\" class=\"data row49 col0\" >Trignometry Features</td>\n",
       "                        <td id=\"T_bdcfaed2_4660_11ec_8ef3_b06ebfbf2340row49_col1\" class=\"data row49 col1\" >False</td>\n",
       "            </tr>\n",
       "            <tr>\n",
       "                        <th id=\"T_bdcfaed2_4660_11ec_8ef3_b06ebfbf2340level0_row50\" class=\"row_heading level0 row50\" >50</th>\n",
       "                        <td id=\"T_bdcfaed2_4660_11ec_8ef3_b06ebfbf2340row50_col0\" class=\"data row50 col0\" >Polynomial Threshold</td>\n",
       "                        <td id=\"T_bdcfaed2_4660_11ec_8ef3_b06ebfbf2340row50_col1\" class=\"data row50 col1\" >None</td>\n",
       "            </tr>\n",
       "            <tr>\n",
       "                        <th id=\"T_bdcfaed2_4660_11ec_8ef3_b06ebfbf2340level0_row51\" class=\"row_heading level0 row51\" >51</th>\n",
       "                        <td id=\"T_bdcfaed2_4660_11ec_8ef3_b06ebfbf2340row51_col0\" class=\"data row51 col0\" >Group Features</td>\n",
       "                        <td id=\"T_bdcfaed2_4660_11ec_8ef3_b06ebfbf2340row51_col1\" class=\"data row51 col1\" >False</td>\n",
       "            </tr>\n",
       "            <tr>\n",
       "                        <th id=\"T_bdcfaed2_4660_11ec_8ef3_b06ebfbf2340level0_row52\" class=\"row_heading level0 row52\" >52</th>\n",
       "                        <td id=\"T_bdcfaed2_4660_11ec_8ef3_b06ebfbf2340row52_col0\" class=\"data row52 col0\" >Feature Selection</td>\n",
       "                        <td id=\"T_bdcfaed2_4660_11ec_8ef3_b06ebfbf2340row52_col1\" class=\"data row52 col1\" >False</td>\n",
       "            </tr>\n",
       "            <tr>\n",
       "                        <th id=\"T_bdcfaed2_4660_11ec_8ef3_b06ebfbf2340level0_row53\" class=\"row_heading level0 row53\" >53</th>\n",
       "                        <td id=\"T_bdcfaed2_4660_11ec_8ef3_b06ebfbf2340row53_col0\" class=\"data row53 col0\" >Feature Selection Method</td>\n",
       "                        <td id=\"T_bdcfaed2_4660_11ec_8ef3_b06ebfbf2340row53_col1\" class=\"data row53 col1\" >classic</td>\n",
       "            </tr>\n",
       "            <tr>\n",
       "                        <th id=\"T_bdcfaed2_4660_11ec_8ef3_b06ebfbf2340level0_row54\" class=\"row_heading level0 row54\" >54</th>\n",
       "                        <td id=\"T_bdcfaed2_4660_11ec_8ef3_b06ebfbf2340row54_col0\" class=\"data row54 col0\" >Features Selection Threshold</td>\n",
       "                        <td id=\"T_bdcfaed2_4660_11ec_8ef3_b06ebfbf2340row54_col1\" class=\"data row54 col1\" >None</td>\n",
       "            </tr>\n",
       "            <tr>\n",
       "                        <th id=\"T_bdcfaed2_4660_11ec_8ef3_b06ebfbf2340level0_row55\" class=\"row_heading level0 row55\" >55</th>\n",
       "                        <td id=\"T_bdcfaed2_4660_11ec_8ef3_b06ebfbf2340row55_col0\" class=\"data row55 col0\" >Feature Interaction</td>\n",
       "                        <td id=\"T_bdcfaed2_4660_11ec_8ef3_b06ebfbf2340row55_col1\" class=\"data row55 col1\" >False</td>\n",
       "            </tr>\n",
       "            <tr>\n",
       "                        <th id=\"T_bdcfaed2_4660_11ec_8ef3_b06ebfbf2340level0_row56\" class=\"row_heading level0 row56\" >56</th>\n",
       "                        <td id=\"T_bdcfaed2_4660_11ec_8ef3_b06ebfbf2340row56_col0\" class=\"data row56 col0\" >Feature Ratio</td>\n",
       "                        <td id=\"T_bdcfaed2_4660_11ec_8ef3_b06ebfbf2340row56_col1\" class=\"data row56 col1\" >False</td>\n",
       "            </tr>\n",
       "            <tr>\n",
       "                        <th id=\"T_bdcfaed2_4660_11ec_8ef3_b06ebfbf2340level0_row57\" class=\"row_heading level0 row57\" >57</th>\n",
       "                        <td id=\"T_bdcfaed2_4660_11ec_8ef3_b06ebfbf2340row57_col0\" class=\"data row57 col0\" >Interaction Threshold</td>\n",
       "                        <td id=\"T_bdcfaed2_4660_11ec_8ef3_b06ebfbf2340row57_col1\" class=\"data row57 col1\" >None</td>\n",
       "            </tr>\n",
       "            <tr>\n",
       "                        <th id=\"T_bdcfaed2_4660_11ec_8ef3_b06ebfbf2340level0_row58\" class=\"row_heading level0 row58\" >58</th>\n",
       "                        <td id=\"T_bdcfaed2_4660_11ec_8ef3_b06ebfbf2340row58_col0\" class=\"data row58 col0\" >Fix Imbalance</td>\n",
       "                        <td id=\"T_bdcfaed2_4660_11ec_8ef3_b06ebfbf2340row58_col1\" class=\"data row58 col1\" >False</td>\n",
       "            </tr>\n",
       "            <tr>\n",
       "                        <th id=\"T_bdcfaed2_4660_11ec_8ef3_b06ebfbf2340level0_row59\" class=\"row_heading level0 row59\" >59</th>\n",
       "                        <td id=\"T_bdcfaed2_4660_11ec_8ef3_b06ebfbf2340row59_col0\" class=\"data row59 col0\" >Fix Imbalance Method</td>\n",
       "                        <td id=\"T_bdcfaed2_4660_11ec_8ef3_b06ebfbf2340row59_col1\" class=\"data row59 col1\" >SMOTE</td>\n",
       "            </tr>\n",
       "    </tbody></table>"
      ],
      "text/plain": [
       "<pandas.io.formats.style.Styler at 0x1e9ba49cba8>"
      ]
     },
     "metadata": {},
     "output_type": "display_data"
    }
   ],
   "source": [
    "s = setup(data = dummies, target = 'hydrocarbon_present_yes', normalize = True, train_size = 0.75)"
   ]
  },
  {
   "cell_type": "code",
   "execution_count": 112,
   "id": "6067b3b7",
   "metadata": {},
   "outputs": [
    {
     "data": {
      "text/html": [
       "<style  type=\"text/css\" >\n",
       "    #T_c60127f8_4660_11ec_b3eb_b06ebfbf2340 th {\n",
       "          text-align: left;\n",
       "    }#T_c60127f8_4660_11ec_b3eb_b06ebfbf2340row0_col0,#T_c60127f8_4660_11ec_b3eb_b06ebfbf2340row0_col2,#T_c60127f8_4660_11ec_b3eb_b06ebfbf2340row0_col4,#T_c60127f8_4660_11ec_b3eb_b06ebfbf2340row1_col0,#T_c60127f8_4660_11ec_b3eb_b06ebfbf2340row1_col2,#T_c60127f8_4660_11ec_b3eb_b06ebfbf2340row1_col3,#T_c60127f8_4660_11ec_b3eb_b06ebfbf2340row1_col5,#T_c60127f8_4660_11ec_b3eb_b06ebfbf2340row2_col0,#T_c60127f8_4660_11ec_b3eb_b06ebfbf2340row2_col2,#T_c60127f8_4660_11ec_b3eb_b06ebfbf2340row2_col3,#T_c60127f8_4660_11ec_b3eb_b06ebfbf2340row2_col5,#T_c60127f8_4660_11ec_b3eb_b06ebfbf2340row3_col0,#T_c60127f8_4660_11ec_b3eb_b06ebfbf2340row3_col2,#T_c60127f8_4660_11ec_b3eb_b06ebfbf2340row3_col3,#T_c60127f8_4660_11ec_b3eb_b06ebfbf2340row3_col5,#T_c60127f8_4660_11ec_b3eb_b06ebfbf2340row4_col0,#T_c60127f8_4660_11ec_b3eb_b06ebfbf2340row4_col2,#T_c60127f8_4660_11ec_b3eb_b06ebfbf2340row4_col3,#T_c60127f8_4660_11ec_b3eb_b06ebfbf2340row4_col5,#T_c60127f8_4660_11ec_b3eb_b06ebfbf2340row5_col0,#T_c60127f8_4660_11ec_b3eb_b06ebfbf2340row5_col2,#T_c60127f8_4660_11ec_b3eb_b06ebfbf2340row5_col3,#T_c60127f8_4660_11ec_b3eb_b06ebfbf2340row5_col5,#T_c60127f8_4660_11ec_b3eb_b06ebfbf2340row6_col0,#T_c60127f8_4660_11ec_b3eb_b06ebfbf2340row6_col2,#T_c60127f8_4660_11ec_b3eb_b06ebfbf2340row6_col3,#T_c60127f8_4660_11ec_b3eb_b06ebfbf2340row6_col5,#T_c60127f8_4660_11ec_b3eb_b06ebfbf2340row7_col0,#T_c60127f8_4660_11ec_b3eb_b06ebfbf2340row7_col1,#T_c60127f8_4660_11ec_b3eb_b06ebfbf2340row7_col4,#T_c60127f8_4660_11ec_b3eb_b06ebfbf2340row7_col5,#T_c60127f8_4660_11ec_b3eb_b06ebfbf2340row7_col6,#T_c60127f8_4660_11ec_b3eb_b06ebfbf2340row7_col7,#T_c60127f8_4660_11ec_b3eb_b06ebfbf2340row8_col0,#T_c60127f8_4660_11ec_b3eb_b06ebfbf2340row8_col1,#T_c60127f8_4660_11ec_b3eb_b06ebfbf2340row8_col2,#T_c60127f8_4660_11ec_b3eb_b06ebfbf2340row8_col4,#T_c60127f8_4660_11ec_b3eb_b06ebfbf2340row8_col5,#T_c60127f8_4660_11ec_b3eb_b06ebfbf2340row8_col6,#T_c60127f8_4660_11ec_b3eb_b06ebfbf2340row8_col7,#T_c60127f8_4660_11ec_b3eb_b06ebfbf2340row9_col0,#T_c60127f8_4660_11ec_b3eb_b06ebfbf2340row9_col1,#T_c60127f8_4660_11ec_b3eb_b06ebfbf2340row9_col2,#T_c60127f8_4660_11ec_b3eb_b06ebfbf2340row9_col4,#T_c60127f8_4660_11ec_b3eb_b06ebfbf2340row9_col5,#T_c60127f8_4660_11ec_b3eb_b06ebfbf2340row9_col6,#T_c60127f8_4660_11ec_b3eb_b06ebfbf2340row9_col7,#T_c60127f8_4660_11ec_b3eb_b06ebfbf2340row10_col0,#T_c60127f8_4660_11ec_b3eb_b06ebfbf2340row10_col1,#T_c60127f8_4660_11ec_b3eb_b06ebfbf2340row10_col4,#T_c60127f8_4660_11ec_b3eb_b06ebfbf2340row10_col5,#T_c60127f8_4660_11ec_b3eb_b06ebfbf2340row10_col6,#T_c60127f8_4660_11ec_b3eb_b06ebfbf2340row10_col7,#T_c60127f8_4660_11ec_b3eb_b06ebfbf2340row11_col0,#T_c60127f8_4660_11ec_b3eb_b06ebfbf2340row11_col1,#T_c60127f8_4660_11ec_b3eb_b06ebfbf2340row11_col2,#T_c60127f8_4660_11ec_b3eb_b06ebfbf2340row11_col3,#T_c60127f8_4660_11ec_b3eb_b06ebfbf2340row11_col4,#T_c60127f8_4660_11ec_b3eb_b06ebfbf2340row11_col5,#T_c60127f8_4660_11ec_b3eb_b06ebfbf2340row11_col6,#T_c60127f8_4660_11ec_b3eb_b06ebfbf2340row11_col7,#T_c60127f8_4660_11ec_b3eb_b06ebfbf2340row12_col0,#T_c60127f8_4660_11ec_b3eb_b06ebfbf2340row12_col1,#T_c60127f8_4660_11ec_b3eb_b06ebfbf2340row12_col2,#T_c60127f8_4660_11ec_b3eb_b06ebfbf2340row12_col3,#T_c60127f8_4660_11ec_b3eb_b06ebfbf2340row12_col4,#T_c60127f8_4660_11ec_b3eb_b06ebfbf2340row12_col5,#T_c60127f8_4660_11ec_b3eb_b06ebfbf2340row12_col6,#T_c60127f8_4660_11ec_b3eb_b06ebfbf2340row12_col7,#T_c60127f8_4660_11ec_b3eb_b06ebfbf2340row13_col0,#T_c60127f8_4660_11ec_b3eb_b06ebfbf2340row13_col1,#T_c60127f8_4660_11ec_b3eb_b06ebfbf2340row13_col2,#T_c60127f8_4660_11ec_b3eb_b06ebfbf2340row13_col3,#T_c60127f8_4660_11ec_b3eb_b06ebfbf2340row13_col4,#T_c60127f8_4660_11ec_b3eb_b06ebfbf2340row13_col5,#T_c60127f8_4660_11ec_b3eb_b06ebfbf2340row13_col6,#T_c60127f8_4660_11ec_b3eb_b06ebfbf2340row13_col7{\n",
       "            text-align:  left;\n",
       "            text-align:  left;\n",
       "        }#T_c60127f8_4660_11ec_b3eb_b06ebfbf2340row0_col1,#T_c60127f8_4660_11ec_b3eb_b06ebfbf2340row0_col3,#T_c60127f8_4660_11ec_b3eb_b06ebfbf2340row0_col5,#T_c60127f8_4660_11ec_b3eb_b06ebfbf2340row0_col6,#T_c60127f8_4660_11ec_b3eb_b06ebfbf2340row0_col7,#T_c60127f8_4660_11ec_b3eb_b06ebfbf2340row1_col1,#T_c60127f8_4660_11ec_b3eb_b06ebfbf2340row1_col4,#T_c60127f8_4660_11ec_b3eb_b06ebfbf2340row1_col6,#T_c60127f8_4660_11ec_b3eb_b06ebfbf2340row1_col7,#T_c60127f8_4660_11ec_b3eb_b06ebfbf2340row2_col1,#T_c60127f8_4660_11ec_b3eb_b06ebfbf2340row2_col4,#T_c60127f8_4660_11ec_b3eb_b06ebfbf2340row2_col6,#T_c60127f8_4660_11ec_b3eb_b06ebfbf2340row2_col7,#T_c60127f8_4660_11ec_b3eb_b06ebfbf2340row3_col1,#T_c60127f8_4660_11ec_b3eb_b06ebfbf2340row3_col4,#T_c60127f8_4660_11ec_b3eb_b06ebfbf2340row3_col6,#T_c60127f8_4660_11ec_b3eb_b06ebfbf2340row3_col7,#T_c60127f8_4660_11ec_b3eb_b06ebfbf2340row4_col1,#T_c60127f8_4660_11ec_b3eb_b06ebfbf2340row4_col4,#T_c60127f8_4660_11ec_b3eb_b06ebfbf2340row4_col6,#T_c60127f8_4660_11ec_b3eb_b06ebfbf2340row4_col7,#T_c60127f8_4660_11ec_b3eb_b06ebfbf2340row5_col1,#T_c60127f8_4660_11ec_b3eb_b06ebfbf2340row5_col4,#T_c60127f8_4660_11ec_b3eb_b06ebfbf2340row5_col6,#T_c60127f8_4660_11ec_b3eb_b06ebfbf2340row5_col7,#T_c60127f8_4660_11ec_b3eb_b06ebfbf2340row6_col1,#T_c60127f8_4660_11ec_b3eb_b06ebfbf2340row6_col4,#T_c60127f8_4660_11ec_b3eb_b06ebfbf2340row6_col6,#T_c60127f8_4660_11ec_b3eb_b06ebfbf2340row6_col7,#T_c60127f8_4660_11ec_b3eb_b06ebfbf2340row7_col2,#T_c60127f8_4660_11ec_b3eb_b06ebfbf2340row7_col3,#T_c60127f8_4660_11ec_b3eb_b06ebfbf2340row8_col3,#T_c60127f8_4660_11ec_b3eb_b06ebfbf2340row9_col3,#T_c60127f8_4660_11ec_b3eb_b06ebfbf2340row10_col2,#T_c60127f8_4660_11ec_b3eb_b06ebfbf2340row10_col3{\n",
       "            text-align:  left;\n",
       "            text-align:  left;\n",
       "            background-color:  yellow;\n",
       "        }#T_c60127f8_4660_11ec_b3eb_b06ebfbf2340row0_col8,#T_c60127f8_4660_11ec_b3eb_b06ebfbf2340row2_col8,#T_c60127f8_4660_11ec_b3eb_b06ebfbf2340row3_col8,#T_c60127f8_4660_11ec_b3eb_b06ebfbf2340row4_col8,#T_c60127f8_4660_11ec_b3eb_b06ebfbf2340row5_col8,#T_c60127f8_4660_11ec_b3eb_b06ebfbf2340row6_col8,#T_c60127f8_4660_11ec_b3eb_b06ebfbf2340row7_col8,#T_c60127f8_4660_11ec_b3eb_b06ebfbf2340row8_col8,#T_c60127f8_4660_11ec_b3eb_b06ebfbf2340row9_col8,#T_c60127f8_4660_11ec_b3eb_b06ebfbf2340row10_col8,#T_c60127f8_4660_11ec_b3eb_b06ebfbf2340row11_col8,#T_c60127f8_4660_11ec_b3eb_b06ebfbf2340row12_col8,#T_c60127f8_4660_11ec_b3eb_b06ebfbf2340row13_col8{\n",
       "            text-align:  left;\n",
       "            text-align:  left;\n",
       "            background-color:  lightgrey;\n",
       "        }#T_c60127f8_4660_11ec_b3eb_b06ebfbf2340row1_col8{\n",
       "            text-align:  left;\n",
       "            text-align:  left;\n",
       "            background-color:  yellow;\n",
       "            background-color:  lightgrey;\n",
       "        }</style><table id=\"T_c60127f8_4660_11ec_b3eb_b06ebfbf2340\" ><thead>    <tr>        <th class=\"blank level0\" ></th>        <th class=\"col_heading level0 col0\" >Model</th>        <th class=\"col_heading level0 col1\" >Accuracy</th>        <th class=\"col_heading level0 col2\" >AUC</th>        <th class=\"col_heading level0 col3\" >Recall</th>        <th class=\"col_heading level0 col4\" >Prec.</th>        <th class=\"col_heading level0 col5\" >F1</th>        <th class=\"col_heading level0 col6\" >Kappa</th>        <th class=\"col_heading level0 col7\" >MCC</th>        <th class=\"col_heading level0 col8\" >TT (Sec)</th>    </tr></thead><tbody>\n",
       "                <tr>\n",
       "                        <th id=\"T_c60127f8_4660_11ec_b3eb_b06ebfbf2340level0_row0\" class=\"row_heading level0 row0\" >nb</th>\n",
       "                        <td id=\"T_c60127f8_4660_11ec_b3eb_b06ebfbf2340row0_col0\" class=\"data row0 col0\" >Naive Bayes</td>\n",
       "                        <td id=\"T_c60127f8_4660_11ec_b3eb_b06ebfbf2340row0_col1\" class=\"data row0 col1\" >0.9690</td>\n",
       "                        <td id=\"T_c60127f8_4660_11ec_b3eb_b06ebfbf2340row0_col2\" class=\"data row0 col2\" >0.9833</td>\n",
       "                        <td id=\"T_c60127f8_4660_11ec_b3eb_b06ebfbf2340row0_col3\" class=\"data row0 col3\" >0.9667</td>\n",
       "                        <td id=\"T_c60127f8_4660_11ec_b3eb_b06ebfbf2340row0_col4\" class=\"data row0 col4\" >0.9750</td>\n",
       "                        <td id=\"T_c60127f8_4660_11ec_b3eb_b06ebfbf2340row0_col5\" class=\"data row0 col5\" >0.9657</td>\n",
       "                        <td id=\"T_c60127f8_4660_11ec_b3eb_b06ebfbf2340row0_col6\" class=\"data row0 col6\" >0.9362</td>\n",
       "                        <td id=\"T_c60127f8_4660_11ec_b3eb_b06ebfbf2340row0_col7\" class=\"data row0 col7\" >0.9437</td>\n",
       "                        <td id=\"T_c60127f8_4660_11ec_b3eb_b06ebfbf2340row0_col8\" class=\"data row0 col8\" >0.0100</td>\n",
       "            </tr>\n",
       "            <tr>\n",
       "                        <th id=\"T_c60127f8_4660_11ec_b3eb_b06ebfbf2340level0_row1\" class=\"row_heading level0 row1\" >dt</th>\n",
       "                        <td id=\"T_c60127f8_4660_11ec_b3eb_b06ebfbf2340row1_col0\" class=\"data row1 col0\" >Decision Tree Classifier</td>\n",
       "                        <td id=\"T_c60127f8_4660_11ec_b3eb_b06ebfbf2340row1_col1\" class=\"data row1 col1\" >0.9690</td>\n",
       "                        <td id=\"T_c60127f8_4660_11ec_b3eb_b06ebfbf2340row1_col2\" class=\"data row1 col2\" >0.9611</td>\n",
       "                        <td id=\"T_c60127f8_4660_11ec_b3eb_b06ebfbf2340row1_col3\" class=\"data row1 col3\" >0.9333</td>\n",
       "                        <td id=\"T_c60127f8_4660_11ec_b3eb_b06ebfbf2340row1_col4\" class=\"data row1 col4\" >1.0000</td>\n",
       "                        <td id=\"T_c60127f8_4660_11ec_b3eb_b06ebfbf2340row1_col5\" class=\"data row1 col5\" >0.9600</td>\n",
       "                        <td id=\"T_c60127f8_4660_11ec_b3eb_b06ebfbf2340row1_col6\" class=\"data row1 col6\" >0.9362</td>\n",
       "                        <td id=\"T_c60127f8_4660_11ec_b3eb_b06ebfbf2340row1_col7\" class=\"data row1 col7\" >0.9437</td>\n",
       "                        <td id=\"T_c60127f8_4660_11ec_b3eb_b06ebfbf2340row1_col8\" class=\"data row1 col8\" >0.0060</td>\n",
       "            </tr>\n",
       "            <tr>\n",
       "                        <th id=\"T_c60127f8_4660_11ec_b3eb_b06ebfbf2340level0_row2\" class=\"row_heading level0 row2\" >svm</th>\n",
       "                        <td id=\"T_c60127f8_4660_11ec_b3eb_b06ebfbf2340row2_col0\" class=\"data row2 col0\" >SVM - Linear Kernel</td>\n",
       "                        <td id=\"T_c60127f8_4660_11ec_b3eb_b06ebfbf2340row2_col1\" class=\"data row2 col1\" >0.9690</td>\n",
       "                        <td id=\"T_c60127f8_4660_11ec_b3eb_b06ebfbf2340row2_col2\" class=\"data row2 col2\" >0.0000</td>\n",
       "                        <td id=\"T_c60127f8_4660_11ec_b3eb_b06ebfbf2340row2_col3\" class=\"data row2 col3\" >0.9333</td>\n",
       "                        <td id=\"T_c60127f8_4660_11ec_b3eb_b06ebfbf2340row2_col4\" class=\"data row2 col4\" >1.0000</td>\n",
       "                        <td id=\"T_c60127f8_4660_11ec_b3eb_b06ebfbf2340row2_col5\" class=\"data row2 col5\" >0.9600</td>\n",
       "                        <td id=\"T_c60127f8_4660_11ec_b3eb_b06ebfbf2340row2_col6\" class=\"data row2 col6\" >0.9362</td>\n",
       "                        <td id=\"T_c60127f8_4660_11ec_b3eb_b06ebfbf2340row2_col7\" class=\"data row2 col7\" >0.9437</td>\n",
       "                        <td id=\"T_c60127f8_4660_11ec_b3eb_b06ebfbf2340row2_col8\" class=\"data row2 col8\" >0.0290</td>\n",
       "            </tr>\n",
       "            <tr>\n",
       "                        <th id=\"T_c60127f8_4660_11ec_b3eb_b06ebfbf2340level0_row3\" class=\"row_heading level0 row3\" >rf</th>\n",
       "                        <td id=\"T_c60127f8_4660_11ec_b3eb_b06ebfbf2340row3_col0\" class=\"data row3 col0\" >Random Forest Classifier</td>\n",
       "                        <td id=\"T_c60127f8_4660_11ec_b3eb_b06ebfbf2340row3_col1\" class=\"data row3 col1\" >0.9690</td>\n",
       "                        <td id=\"T_c60127f8_4660_11ec_b3eb_b06ebfbf2340row3_col2\" class=\"data row3 col2\" >0.9833</td>\n",
       "                        <td id=\"T_c60127f8_4660_11ec_b3eb_b06ebfbf2340row3_col3\" class=\"data row3 col3\" >0.9333</td>\n",
       "                        <td id=\"T_c60127f8_4660_11ec_b3eb_b06ebfbf2340row3_col4\" class=\"data row3 col4\" >1.0000</td>\n",
       "                        <td id=\"T_c60127f8_4660_11ec_b3eb_b06ebfbf2340row3_col5\" class=\"data row3 col5\" >0.9600</td>\n",
       "                        <td id=\"T_c60127f8_4660_11ec_b3eb_b06ebfbf2340row3_col6\" class=\"data row3 col6\" >0.9362</td>\n",
       "                        <td id=\"T_c60127f8_4660_11ec_b3eb_b06ebfbf2340row3_col7\" class=\"data row3 col7\" >0.9437</td>\n",
       "                        <td id=\"T_c60127f8_4660_11ec_b3eb_b06ebfbf2340row3_col8\" class=\"data row3 col8\" >0.1040</td>\n",
       "            </tr>\n",
       "            <tr>\n",
       "                        <th id=\"T_c60127f8_4660_11ec_b3eb_b06ebfbf2340level0_row4\" class=\"row_heading level0 row4\" >ada</th>\n",
       "                        <td id=\"T_c60127f8_4660_11ec_b3eb_b06ebfbf2340row4_col0\" class=\"data row4 col0\" >Ada Boost Classifier</td>\n",
       "                        <td id=\"T_c60127f8_4660_11ec_b3eb_b06ebfbf2340row4_col1\" class=\"data row4 col1\" >0.9690</td>\n",
       "                        <td id=\"T_c60127f8_4660_11ec_b3eb_b06ebfbf2340row4_col2\" class=\"data row4 col2\" >0.9694</td>\n",
       "                        <td id=\"T_c60127f8_4660_11ec_b3eb_b06ebfbf2340row4_col3\" class=\"data row4 col3\" >0.9333</td>\n",
       "                        <td id=\"T_c60127f8_4660_11ec_b3eb_b06ebfbf2340row4_col4\" class=\"data row4 col4\" >1.0000</td>\n",
       "                        <td id=\"T_c60127f8_4660_11ec_b3eb_b06ebfbf2340row4_col5\" class=\"data row4 col5\" >0.9600</td>\n",
       "                        <td id=\"T_c60127f8_4660_11ec_b3eb_b06ebfbf2340row4_col6\" class=\"data row4 col6\" >0.9362</td>\n",
       "                        <td id=\"T_c60127f8_4660_11ec_b3eb_b06ebfbf2340row4_col7\" class=\"data row4 col7\" >0.9437</td>\n",
       "                        <td id=\"T_c60127f8_4660_11ec_b3eb_b06ebfbf2340row4_col8\" class=\"data row4 col8\" >0.0190</td>\n",
       "            </tr>\n",
       "            <tr>\n",
       "                        <th id=\"T_c60127f8_4660_11ec_b3eb_b06ebfbf2340level0_row5\" class=\"row_heading level0 row5\" >gbc</th>\n",
       "                        <td id=\"T_c60127f8_4660_11ec_b3eb_b06ebfbf2340row5_col0\" class=\"data row5 col0\" >Gradient Boosting Classifier</td>\n",
       "                        <td id=\"T_c60127f8_4660_11ec_b3eb_b06ebfbf2340row5_col1\" class=\"data row5 col1\" >0.9690</td>\n",
       "                        <td id=\"T_c60127f8_4660_11ec_b3eb_b06ebfbf2340row5_col2\" class=\"data row5 col2\" >0.9806</td>\n",
       "                        <td id=\"T_c60127f8_4660_11ec_b3eb_b06ebfbf2340row5_col3\" class=\"data row5 col3\" >0.9333</td>\n",
       "                        <td id=\"T_c60127f8_4660_11ec_b3eb_b06ebfbf2340row5_col4\" class=\"data row5 col4\" >1.0000</td>\n",
       "                        <td id=\"T_c60127f8_4660_11ec_b3eb_b06ebfbf2340row5_col5\" class=\"data row5 col5\" >0.9600</td>\n",
       "                        <td id=\"T_c60127f8_4660_11ec_b3eb_b06ebfbf2340row5_col6\" class=\"data row5 col6\" >0.9362</td>\n",
       "                        <td id=\"T_c60127f8_4660_11ec_b3eb_b06ebfbf2340row5_col7\" class=\"data row5 col7\" >0.9437</td>\n",
       "                        <td id=\"T_c60127f8_4660_11ec_b3eb_b06ebfbf2340row5_col8\" class=\"data row5 col8\" >0.0140</td>\n",
       "            </tr>\n",
       "            <tr>\n",
       "                        <th id=\"T_c60127f8_4660_11ec_b3eb_b06ebfbf2340level0_row6\" class=\"row_heading level0 row6\" >et</th>\n",
       "                        <td id=\"T_c60127f8_4660_11ec_b3eb_b06ebfbf2340row6_col0\" class=\"data row6 col0\" >Extra Trees Classifier</td>\n",
       "                        <td id=\"T_c60127f8_4660_11ec_b3eb_b06ebfbf2340row6_col1\" class=\"data row6 col1\" >0.9690</td>\n",
       "                        <td id=\"T_c60127f8_4660_11ec_b3eb_b06ebfbf2340row6_col2\" class=\"data row6 col2\" >0.9833</td>\n",
       "                        <td id=\"T_c60127f8_4660_11ec_b3eb_b06ebfbf2340row6_col3\" class=\"data row6 col3\" >0.9333</td>\n",
       "                        <td id=\"T_c60127f8_4660_11ec_b3eb_b06ebfbf2340row6_col4\" class=\"data row6 col4\" >1.0000</td>\n",
       "                        <td id=\"T_c60127f8_4660_11ec_b3eb_b06ebfbf2340row6_col5\" class=\"data row6 col5\" >0.9600</td>\n",
       "                        <td id=\"T_c60127f8_4660_11ec_b3eb_b06ebfbf2340row6_col6\" class=\"data row6 col6\" >0.9362</td>\n",
       "                        <td id=\"T_c60127f8_4660_11ec_b3eb_b06ebfbf2340row6_col7\" class=\"data row6 col7\" >0.9437</td>\n",
       "                        <td id=\"T_c60127f8_4660_11ec_b3eb_b06ebfbf2340row6_col8\" class=\"data row6 col8\" >0.0950</td>\n",
       "            </tr>\n",
       "            <tr>\n",
       "                        <th id=\"T_c60127f8_4660_11ec_b3eb_b06ebfbf2340level0_row7\" class=\"row_heading level0 row7\" >lr</th>\n",
       "                        <td id=\"T_c60127f8_4660_11ec_b3eb_b06ebfbf2340row7_col0\" class=\"data row7 col0\" >Logistic Regression</td>\n",
       "                        <td id=\"T_c60127f8_4660_11ec_b3eb_b06ebfbf2340row7_col1\" class=\"data row7 col1\" >0.9524</td>\n",
       "                        <td id=\"T_c60127f8_4660_11ec_b3eb_b06ebfbf2340row7_col2\" class=\"data row7 col2\" >0.9958</td>\n",
       "                        <td id=\"T_c60127f8_4660_11ec_b3eb_b06ebfbf2340row7_col3\" class=\"data row7 col3\" >0.9667</td>\n",
       "                        <td id=\"T_c60127f8_4660_11ec_b3eb_b06ebfbf2340row7_col4\" class=\"data row7 col4\" >0.9417</td>\n",
       "                        <td id=\"T_c60127f8_4660_11ec_b3eb_b06ebfbf2340row7_col5\" class=\"data row7 col5\" >0.9457</td>\n",
       "                        <td id=\"T_c60127f8_4660_11ec_b3eb_b06ebfbf2340row7_col6\" class=\"data row7 col6\" >0.9029</td>\n",
       "                        <td id=\"T_c60127f8_4660_11ec_b3eb_b06ebfbf2340row7_col7\" class=\"data row7 col7\" >0.9145</td>\n",
       "                        <td id=\"T_c60127f8_4660_11ec_b3eb_b06ebfbf2340row7_col8\" class=\"data row7 col8\" >0.3960</td>\n",
       "            </tr>\n",
       "            <tr>\n",
       "                        <th id=\"T_c60127f8_4660_11ec_b3eb_b06ebfbf2340level0_row8\" class=\"row_heading level0 row8\" >knn</th>\n",
       "                        <td id=\"T_c60127f8_4660_11ec_b3eb_b06ebfbf2340row8_col0\" class=\"data row8 col0\" >K Neighbors Classifier</td>\n",
       "                        <td id=\"T_c60127f8_4660_11ec_b3eb_b06ebfbf2340row8_col1\" class=\"data row8 col1\" >0.9524</td>\n",
       "                        <td id=\"T_c60127f8_4660_11ec_b3eb_b06ebfbf2340row8_col2\" class=\"data row8 col2\" >0.9833</td>\n",
       "                        <td id=\"T_c60127f8_4660_11ec_b3eb_b06ebfbf2340row8_col3\" class=\"data row8 col3\" >0.9667</td>\n",
       "                        <td id=\"T_c60127f8_4660_11ec_b3eb_b06ebfbf2340row8_col4\" class=\"data row8 col4\" >0.9417</td>\n",
       "                        <td id=\"T_c60127f8_4660_11ec_b3eb_b06ebfbf2340row8_col5\" class=\"data row8 col5\" >0.9457</td>\n",
       "                        <td id=\"T_c60127f8_4660_11ec_b3eb_b06ebfbf2340row8_col6\" class=\"data row8 col6\" >0.9029</td>\n",
       "                        <td id=\"T_c60127f8_4660_11ec_b3eb_b06ebfbf2340row8_col7\" class=\"data row8 col7\" >0.9145</td>\n",
       "                        <td id=\"T_c60127f8_4660_11ec_b3eb_b06ebfbf2340row8_col8\" class=\"data row8 col8\" >0.2750</td>\n",
       "            </tr>\n",
       "            <tr>\n",
       "                        <th id=\"T_c60127f8_4660_11ec_b3eb_b06ebfbf2340level0_row9\" class=\"row_heading level0 row9\" >ridge</th>\n",
       "                        <td id=\"T_c60127f8_4660_11ec_b3eb_b06ebfbf2340row9_col0\" class=\"data row9 col0\" >Ridge Classifier</td>\n",
       "                        <td id=\"T_c60127f8_4660_11ec_b3eb_b06ebfbf2340row9_col1\" class=\"data row9 col1\" >0.9524</td>\n",
       "                        <td id=\"T_c60127f8_4660_11ec_b3eb_b06ebfbf2340row9_col2\" class=\"data row9 col2\" >0.0000</td>\n",
       "                        <td id=\"T_c60127f8_4660_11ec_b3eb_b06ebfbf2340row9_col3\" class=\"data row9 col3\" >0.9667</td>\n",
       "                        <td id=\"T_c60127f8_4660_11ec_b3eb_b06ebfbf2340row9_col4\" class=\"data row9 col4\" >0.9417</td>\n",
       "                        <td id=\"T_c60127f8_4660_11ec_b3eb_b06ebfbf2340row9_col5\" class=\"data row9 col5\" >0.9457</td>\n",
       "                        <td id=\"T_c60127f8_4660_11ec_b3eb_b06ebfbf2340row9_col6\" class=\"data row9 col6\" >0.9029</td>\n",
       "                        <td id=\"T_c60127f8_4660_11ec_b3eb_b06ebfbf2340row9_col7\" class=\"data row9 col7\" >0.9145</td>\n",
       "                        <td id=\"T_c60127f8_4660_11ec_b3eb_b06ebfbf2340row9_col8\" class=\"data row9 col8\" >0.0110</td>\n",
       "            </tr>\n",
       "            <tr>\n",
       "                        <th id=\"T_c60127f8_4660_11ec_b3eb_b06ebfbf2340level0_row10\" class=\"row_heading level0 row10\" >lda</th>\n",
       "                        <td id=\"T_c60127f8_4660_11ec_b3eb_b06ebfbf2340row10_col0\" class=\"data row10 col0\" >Linear Discriminant Analysis</td>\n",
       "                        <td id=\"T_c60127f8_4660_11ec_b3eb_b06ebfbf2340row10_col1\" class=\"data row10 col1\" >0.9524</td>\n",
       "                        <td id=\"T_c60127f8_4660_11ec_b3eb_b06ebfbf2340row10_col2\" class=\"data row10 col2\" >0.9958</td>\n",
       "                        <td id=\"T_c60127f8_4660_11ec_b3eb_b06ebfbf2340row10_col3\" class=\"data row10 col3\" >0.9667</td>\n",
       "                        <td id=\"T_c60127f8_4660_11ec_b3eb_b06ebfbf2340row10_col4\" class=\"data row10 col4\" >0.9417</td>\n",
       "                        <td id=\"T_c60127f8_4660_11ec_b3eb_b06ebfbf2340row10_col5\" class=\"data row10 col5\" >0.9457</td>\n",
       "                        <td id=\"T_c60127f8_4660_11ec_b3eb_b06ebfbf2340row10_col6\" class=\"data row10 col6\" >0.9029</td>\n",
       "                        <td id=\"T_c60127f8_4660_11ec_b3eb_b06ebfbf2340row10_col7\" class=\"data row10 col7\" >0.9145</td>\n",
       "                        <td id=\"T_c60127f8_4660_11ec_b3eb_b06ebfbf2340row10_col8\" class=\"data row10 col8\" >0.0070</td>\n",
       "            </tr>\n",
       "            <tr>\n",
       "                        <th id=\"T_c60127f8_4660_11ec_b3eb_b06ebfbf2340level0_row11\" class=\"row_heading level0 row11\" >xgboost</th>\n",
       "                        <td id=\"T_c60127f8_4660_11ec_b3eb_b06ebfbf2340row11_col0\" class=\"data row11 col0\" >Extreme Gradient Boosting</td>\n",
       "                        <td id=\"T_c60127f8_4660_11ec_b3eb_b06ebfbf2340row11_col1\" class=\"data row11 col1\" >0.9524</td>\n",
       "                        <td id=\"T_c60127f8_4660_11ec_b3eb_b06ebfbf2340row11_col2\" class=\"data row11 col2\" >0.9833</td>\n",
       "                        <td id=\"T_c60127f8_4660_11ec_b3eb_b06ebfbf2340row11_col3\" class=\"data row11 col3\" >0.9333</td>\n",
       "                        <td id=\"T_c60127f8_4660_11ec_b3eb_b06ebfbf2340row11_col4\" class=\"data row11 col4\" >0.9667</td>\n",
       "                        <td id=\"T_c60127f8_4660_11ec_b3eb_b06ebfbf2340row11_col5\" class=\"data row11 col5\" >0.9400</td>\n",
       "                        <td id=\"T_c60127f8_4660_11ec_b3eb_b06ebfbf2340row11_col6\" class=\"data row11 col6\" >0.9029</td>\n",
       "                        <td id=\"T_c60127f8_4660_11ec_b3eb_b06ebfbf2340row11_col7\" class=\"data row11 col7\" >0.9145</td>\n",
       "                        <td id=\"T_c60127f8_4660_11ec_b3eb_b06ebfbf2340row11_col8\" class=\"data row11 col8\" >0.0530</td>\n",
       "            </tr>\n",
       "            <tr>\n",
       "                        <th id=\"T_c60127f8_4660_11ec_b3eb_b06ebfbf2340level0_row12\" class=\"row_heading level0 row12\" >lightgbm</th>\n",
       "                        <td id=\"T_c60127f8_4660_11ec_b3eb_b06ebfbf2340row12_col0\" class=\"data row12 col0\" >Light Gradient Boosting Machine</td>\n",
       "                        <td id=\"T_c60127f8_4660_11ec_b3eb_b06ebfbf2340row12_col1\" class=\"data row12 col1\" >0.6000</td>\n",
       "                        <td id=\"T_c60127f8_4660_11ec_b3eb_b06ebfbf2340row12_col2\" class=\"data row12 col2\" >0.6625</td>\n",
       "                        <td id=\"T_c60127f8_4660_11ec_b3eb_b06ebfbf2340row12_col3\" class=\"data row12 col3\" >0.5000</td>\n",
       "                        <td id=\"T_c60127f8_4660_11ec_b3eb_b06ebfbf2340row12_col4\" class=\"data row12 col4\" >0.2800</td>\n",
       "                        <td id=\"T_c60127f8_4660_11ec_b3eb_b06ebfbf2340row12_col5\" class=\"data row12 col5\" >0.3583</td>\n",
       "                        <td id=\"T_c60127f8_4660_11ec_b3eb_b06ebfbf2340row12_col6\" class=\"data row12 col6\" >0.1750</td>\n",
       "                        <td id=\"T_c60127f8_4660_11ec_b3eb_b06ebfbf2340row12_col7\" class=\"data row12 col7\" >0.2296</td>\n",
       "                        <td id=\"T_c60127f8_4660_11ec_b3eb_b06ebfbf2340row12_col8\" class=\"data row12 col8\" >0.0420</td>\n",
       "            </tr>\n",
       "            <tr>\n",
       "                        <th id=\"T_c60127f8_4660_11ec_b3eb_b06ebfbf2340level0_row13\" class=\"row_heading level0 row13\" >qda</th>\n",
       "                        <td id=\"T_c60127f8_4660_11ec_b3eb_b06ebfbf2340row13_col0\" class=\"data row13 col0\" >Quadratic Discriminant Analysis</td>\n",
       "                        <td id=\"T_c60127f8_4660_11ec_b3eb_b06ebfbf2340row13_col1\" class=\"data row13 col1\" >0.5524</td>\n",
       "                        <td id=\"T_c60127f8_4660_11ec_b3eb_b06ebfbf2340row13_col2\" class=\"data row13 col2\" >0.0000</td>\n",
       "                        <td id=\"T_c60127f8_4660_11ec_b3eb_b06ebfbf2340row13_col3\" class=\"data row13 col3\" >0.0000</td>\n",
       "                        <td id=\"T_c60127f8_4660_11ec_b3eb_b06ebfbf2340row13_col4\" class=\"data row13 col4\" >0.0000</td>\n",
       "                        <td id=\"T_c60127f8_4660_11ec_b3eb_b06ebfbf2340row13_col5\" class=\"data row13 col5\" >0.0000</td>\n",
       "                        <td id=\"T_c60127f8_4660_11ec_b3eb_b06ebfbf2340row13_col6\" class=\"data row13 col6\" >0.0000</td>\n",
       "                        <td id=\"T_c60127f8_4660_11ec_b3eb_b06ebfbf2340row13_col7\" class=\"data row13 col7\" >0.0000</td>\n",
       "                        <td id=\"T_c60127f8_4660_11ec_b3eb_b06ebfbf2340row13_col8\" class=\"data row13 col8\" >0.0090</td>\n",
       "            </tr>\n",
       "    </tbody></table>"
      ],
      "text/plain": [
       "<pandas.io.formats.style.Styler at 0x1e9ba149fd0>"
      ]
     },
     "metadata": {},
     "output_type": "display_data"
    }
   ],
   "source": [
    "# Compare models\n",
    "best_model = compare_models()"
   ]
  },
  {
   "cell_type": "code",
   "execution_count": 113,
   "id": "e2fcb314",
   "metadata": {},
   "outputs": [
    {
     "data": {
      "text/plain": [
       "GaussianNB(priors=None, var_smoothing=1e-09)"
      ]
     },
     "execution_count": 113,
     "metadata": {},
     "output_type": "execute_result"
    }
   ],
   "source": [
    "best_model"
   ]
  },
  {
   "cell_type": "code",
   "execution_count": 115,
   "id": "e1247fea",
   "metadata": {},
   "outputs": [
    {
     "data": {
      "text/html": [
       "<div>\n",
       "<style scoped>\n",
       "    .dataframe tbody tr th:only-of-type {\n",
       "        vertical-align: middle;\n",
       "    }\n",
       "\n",
       "    .dataframe tbody tr th {\n",
       "        vertical-align: top;\n",
       "    }\n",
       "\n",
       "    .dataframe thead th {\n",
       "        text-align: right;\n",
       "    }\n",
       "</style>\n",
       "<table border=\"1\" class=\"dataframe\">\n",
       "  <thead>\n",
       "    <tr style=\"text-align: right;\">\n",
       "      <th></th>\n",
       "      <th>gamma_ray _left</th>\n",
       "      <th>gamma_ray _right</th>\n",
       "      <th>resistivity_right</th>\n",
       "      <th>bulk_density_right</th>\n",
       "      <th>neutron_porosity_right</th>\n",
       "      <th>neutron_porosity_density_crossover_yes</th>\n",
       "      <th>hydrocarbon_present_yes</th>\n",
       "      <th>Label</th>\n",
       "      <th>Score</th>\n",
       "    </tr>\n",
       "    <tr>\n",
       "      <th>well_id</th>\n",
       "      <th></th>\n",
       "      <th></th>\n",
       "      <th></th>\n",
       "      <th></th>\n",
       "      <th></th>\n",
       "      <th></th>\n",
       "      <th></th>\n",
       "      <th></th>\n",
       "      <th></th>\n",
       "    </tr>\n",
       "  </thead>\n",
       "  <tbody>\n",
       "    <tr>\n",
       "      <th>0</th>\n",
       "      <td>1</td>\n",
       "      <td>0</td>\n",
       "      <td>1</td>\n",
       "      <td>0</td>\n",
       "      <td>0</td>\n",
       "      <td>1</td>\n",
       "      <td>1</td>\n",
       "      <td>1</td>\n",
       "      <td>0.9827</td>\n",
       "    </tr>\n",
       "    <tr>\n",
       "      <th>1</th>\n",
       "      <td>1</td>\n",
       "      <td>0</td>\n",
       "      <td>0</td>\n",
       "      <td>1</td>\n",
       "      <td>0</td>\n",
       "      <td>1</td>\n",
       "      <td>1</td>\n",
       "      <td>0</td>\n",
       "      <td>1.0000</td>\n",
       "    </tr>\n",
       "    <tr>\n",
       "      <th>2</th>\n",
       "      <td>1</td>\n",
       "      <td>0</td>\n",
       "      <td>1</td>\n",
       "      <td>0</td>\n",
       "      <td>0</td>\n",
       "      <td>1</td>\n",
       "      <td>1</td>\n",
       "      <td>1</td>\n",
       "      <td>0.9827</td>\n",
       "    </tr>\n",
       "    <tr>\n",
       "      <th>3</th>\n",
       "      <td>1</td>\n",
       "      <td>0</td>\n",
       "      <td>1</td>\n",
       "      <td>0</td>\n",
       "      <td>0</td>\n",
       "      <td>1</td>\n",
       "      <td>1</td>\n",
       "      <td>1</td>\n",
       "      <td>0.9827</td>\n",
       "    </tr>\n",
       "    <tr>\n",
       "      <th>4</th>\n",
       "      <td>1</td>\n",
       "      <td>0</td>\n",
       "      <td>1</td>\n",
       "      <td>0</td>\n",
       "      <td>0</td>\n",
       "      <td>1</td>\n",
       "      <td>1</td>\n",
       "      <td>1</td>\n",
       "      <td>0.9827</td>\n",
       "    </tr>\n",
       "    <tr>\n",
       "      <th>...</th>\n",
       "      <td>...</td>\n",
       "      <td>...</td>\n",
       "      <td>...</td>\n",
       "      <td>...</td>\n",
       "      <td>...</td>\n",
       "      <td>...</td>\n",
       "      <td>...</td>\n",
       "      <td>...</td>\n",
       "      <td>...</td>\n",
       "    </tr>\n",
       "    <tr>\n",
       "      <th>102</th>\n",
       "      <td>1</td>\n",
       "      <td>0</td>\n",
       "      <td>1</td>\n",
       "      <td>0</td>\n",
       "      <td>1</td>\n",
       "      <td>1</td>\n",
       "      <td>1</td>\n",
       "      <td>0</td>\n",
       "      <td>1.0000</td>\n",
       "    </tr>\n",
       "    <tr>\n",
       "      <th>103</th>\n",
       "      <td>1</td>\n",
       "      <td>0</td>\n",
       "      <td>1</td>\n",
       "      <td>0</td>\n",
       "      <td>1</td>\n",
       "      <td>1</td>\n",
       "      <td>1</td>\n",
       "      <td>0</td>\n",
       "      <td>1.0000</td>\n",
       "    </tr>\n",
       "    <tr>\n",
       "      <th>104</th>\n",
       "      <td>1</td>\n",
       "      <td>0</td>\n",
       "      <td>1</td>\n",
       "      <td>0</td>\n",
       "      <td>0</td>\n",
       "      <td>1</td>\n",
       "      <td>1</td>\n",
       "      <td>1</td>\n",
       "      <td>0.9827</td>\n",
       "    </tr>\n",
       "    <tr>\n",
       "      <th>106</th>\n",
       "      <td>0</td>\n",
       "      <td>1</td>\n",
       "      <td>1</td>\n",
       "      <td>1</td>\n",
       "      <td>0</td>\n",
       "      <td>1</td>\n",
       "      <td>1</td>\n",
       "      <td>1</td>\n",
       "      <td>1.0000</td>\n",
       "    </tr>\n",
       "    <tr>\n",
       "      <th>107</th>\n",
       "      <td>0</td>\n",
       "      <td>1</td>\n",
       "      <td>1</td>\n",
       "      <td>0</td>\n",
       "      <td>0</td>\n",
       "      <td>1</td>\n",
       "      <td>0</td>\n",
       "      <td>1</td>\n",
       "      <td>1.0000</td>\n",
       "    </tr>\n",
       "  </tbody>\n",
       "</table>\n",
       "<p>87 rows × 9 columns</p>\n",
       "</div>"
      ],
      "text/plain": [
       "         gamma_ray _left  gamma_ray _right  resistivity_right  \\\n",
       "well_id                                                         \n",
       "0                      1                 0                  1   \n",
       "1                      1                 0                  0   \n",
       "2                      1                 0                  1   \n",
       "3                      1                 0                  1   \n",
       "4                      1                 0                  1   \n",
       "...                  ...               ...                ...   \n",
       "102                    1                 0                  1   \n",
       "103                    1                 0                  1   \n",
       "104                    1                 0                  1   \n",
       "106                    0                 1                  1   \n",
       "107                    0                 1                  1   \n",
       "\n",
       "         bulk_density_right  neutron_porosity_right  \\\n",
       "well_id                                               \n",
       "0                         0                       0   \n",
       "1                         1                       0   \n",
       "2                         0                       0   \n",
       "3                         0                       0   \n",
       "4                         0                       0   \n",
       "...                     ...                     ...   \n",
       "102                       0                       1   \n",
       "103                       0                       1   \n",
       "104                       0                       0   \n",
       "106                       1                       0   \n",
       "107                       0                       0   \n",
       "\n",
       "         neutron_porosity_density_crossover_yes  hydrocarbon_present_yes  \\\n",
       "well_id                                                                    \n",
       "0                                             1                        1   \n",
       "1                                             1                        1   \n",
       "2                                             1                        1   \n",
       "3                                             1                        1   \n",
       "4                                             1                        1   \n",
       "...                                         ...                      ...   \n",
       "102                                           1                        1   \n",
       "103                                           1                        1   \n",
       "104                                           1                        1   \n",
       "106                                           1                        1   \n",
       "107                                           1                        0   \n",
       "\n",
       "         Label   Score  \n",
       "well_id                 \n",
       "0            1  0.9827  \n",
       "1            0  1.0000  \n",
       "2            1  0.9827  \n",
       "3            1  0.9827  \n",
       "4            1  0.9827  \n",
       "...        ...     ...  \n",
       "102          0  1.0000  \n",
       "103          0  1.0000  \n",
       "104          1  0.9827  \n",
       "106          1  1.0000  \n",
       "107          1  1.0000  \n",
       "\n",
       "[87 rows x 9 columns]"
      ]
     },
     "execution_count": 115,
     "metadata": {},
     "output_type": "execute_result"
    }
   ],
   "source": [
    "pred_nb = predict_model(best_model, data=dummies)\n",
    "pred_nb"
   ]
  },
  {
   "cell_type": "markdown",
   "id": "3a4b3126",
   "metadata": {},
   "source": [
    "# Create model"
   ]
  },
  {
   "cell_type": "code",
   "execution_count": 116,
   "id": "28c593ee",
   "metadata": {},
   "outputs": [
    {
     "data": {
      "text/html": [
       "<style  type=\"text/css\" >\n",
       "#T_e1d3311a_4660_11ec_b7e3_b06ebfbf2340row10_col0,#T_e1d3311a_4660_11ec_b7e3_b06ebfbf2340row10_col1,#T_e1d3311a_4660_11ec_b7e3_b06ebfbf2340row10_col2,#T_e1d3311a_4660_11ec_b7e3_b06ebfbf2340row10_col3,#T_e1d3311a_4660_11ec_b7e3_b06ebfbf2340row10_col4,#T_e1d3311a_4660_11ec_b7e3_b06ebfbf2340row10_col5,#T_e1d3311a_4660_11ec_b7e3_b06ebfbf2340row10_col6{\n",
       "            background:  yellow;\n",
       "        }</style><table id=\"T_e1d3311a_4660_11ec_b7e3_b06ebfbf2340\" ><thead>    <tr>        <th class=\"blank level0\" ></th>        <th class=\"col_heading level0 col0\" >Accuracy</th>        <th class=\"col_heading level0 col1\" >AUC</th>        <th class=\"col_heading level0 col2\" >Recall</th>        <th class=\"col_heading level0 col3\" >Prec.</th>        <th class=\"col_heading level0 col4\" >F1</th>        <th class=\"col_heading level0 col5\" >Kappa</th>        <th class=\"col_heading level0 col6\" >MCC</th>    </tr></thead><tbody>\n",
       "                <tr>\n",
       "                        <th id=\"T_e1d3311a_4660_11ec_b7e3_b06ebfbf2340level0_row0\" class=\"row_heading level0 row0\" >0</th>\n",
       "                        <td id=\"T_e1d3311a_4660_11ec_b7e3_b06ebfbf2340row0_col0\" class=\"data row0 col0\" >1.0000</td>\n",
       "                        <td id=\"T_e1d3311a_4660_11ec_b7e3_b06ebfbf2340row0_col1\" class=\"data row0 col1\" >1.0000</td>\n",
       "                        <td id=\"T_e1d3311a_4660_11ec_b7e3_b06ebfbf2340row0_col2\" class=\"data row0 col2\" >1.0000</td>\n",
       "                        <td id=\"T_e1d3311a_4660_11ec_b7e3_b06ebfbf2340row0_col3\" class=\"data row0 col3\" >1.0000</td>\n",
       "                        <td id=\"T_e1d3311a_4660_11ec_b7e3_b06ebfbf2340row0_col4\" class=\"data row0 col4\" >1.0000</td>\n",
       "                        <td id=\"T_e1d3311a_4660_11ec_b7e3_b06ebfbf2340row0_col5\" class=\"data row0 col5\" >1.0000</td>\n",
       "                        <td id=\"T_e1d3311a_4660_11ec_b7e3_b06ebfbf2340row0_col6\" class=\"data row0 col6\" >1.0000</td>\n",
       "            </tr>\n",
       "            <tr>\n",
       "                        <th id=\"T_e1d3311a_4660_11ec_b7e3_b06ebfbf2340level0_row1\" class=\"row_heading level0 row1\" >1</th>\n",
       "                        <td id=\"T_e1d3311a_4660_11ec_b7e3_b06ebfbf2340row1_col0\" class=\"data row1 col0\" >0.8571</td>\n",
       "                        <td id=\"T_e1d3311a_4660_11ec_b7e3_b06ebfbf2340row1_col1\" class=\"data row1 col1\" >0.8333</td>\n",
       "                        <td id=\"T_e1d3311a_4660_11ec_b7e3_b06ebfbf2340row1_col2\" class=\"data row1 col2\" >0.6667</td>\n",
       "                        <td id=\"T_e1d3311a_4660_11ec_b7e3_b06ebfbf2340row1_col3\" class=\"data row1 col3\" >1.0000</td>\n",
       "                        <td id=\"T_e1d3311a_4660_11ec_b7e3_b06ebfbf2340row1_col4\" class=\"data row1 col4\" >0.8000</td>\n",
       "                        <td id=\"T_e1d3311a_4660_11ec_b7e3_b06ebfbf2340row1_col5\" class=\"data row1 col5\" >0.6957</td>\n",
       "                        <td id=\"T_e1d3311a_4660_11ec_b7e3_b06ebfbf2340row1_col6\" class=\"data row1 col6\" >0.7303</td>\n",
       "            </tr>\n",
       "            <tr>\n",
       "                        <th id=\"T_e1d3311a_4660_11ec_b7e3_b06ebfbf2340level0_row2\" class=\"row_heading level0 row2\" >2</th>\n",
       "                        <td id=\"T_e1d3311a_4660_11ec_b7e3_b06ebfbf2340row2_col0\" class=\"data row2 col0\" >1.0000</td>\n",
       "                        <td id=\"T_e1d3311a_4660_11ec_b7e3_b06ebfbf2340row2_col1\" class=\"data row2 col1\" >1.0000</td>\n",
       "                        <td id=\"T_e1d3311a_4660_11ec_b7e3_b06ebfbf2340row2_col2\" class=\"data row2 col2\" >1.0000</td>\n",
       "                        <td id=\"T_e1d3311a_4660_11ec_b7e3_b06ebfbf2340row2_col3\" class=\"data row2 col3\" >1.0000</td>\n",
       "                        <td id=\"T_e1d3311a_4660_11ec_b7e3_b06ebfbf2340row2_col4\" class=\"data row2 col4\" >1.0000</td>\n",
       "                        <td id=\"T_e1d3311a_4660_11ec_b7e3_b06ebfbf2340row2_col5\" class=\"data row2 col5\" >1.0000</td>\n",
       "                        <td id=\"T_e1d3311a_4660_11ec_b7e3_b06ebfbf2340row2_col6\" class=\"data row2 col6\" >1.0000</td>\n",
       "            </tr>\n",
       "            <tr>\n",
       "                        <th id=\"T_e1d3311a_4660_11ec_b7e3_b06ebfbf2340level0_row3\" class=\"row_heading level0 row3\" >3</th>\n",
       "                        <td id=\"T_e1d3311a_4660_11ec_b7e3_b06ebfbf2340row3_col0\" class=\"data row3 col0\" >1.0000</td>\n",
       "                        <td id=\"T_e1d3311a_4660_11ec_b7e3_b06ebfbf2340row3_col1\" class=\"data row3 col1\" >1.0000</td>\n",
       "                        <td id=\"T_e1d3311a_4660_11ec_b7e3_b06ebfbf2340row3_col2\" class=\"data row3 col2\" >1.0000</td>\n",
       "                        <td id=\"T_e1d3311a_4660_11ec_b7e3_b06ebfbf2340row3_col3\" class=\"data row3 col3\" >1.0000</td>\n",
       "                        <td id=\"T_e1d3311a_4660_11ec_b7e3_b06ebfbf2340row3_col4\" class=\"data row3 col4\" >1.0000</td>\n",
       "                        <td id=\"T_e1d3311a_4660_11ec_b7e3_b06ebfbf2340row3_col5\" class=\"data row3 col5\" >1.0000</td>\n",
       "                        <td id=\"T_e1d3311a_4660_11ec_b7e3_b06ebfbf2340row3_col6\" class=\"data row3 col6\" >1.0000</td>\n",
       "            </tr>\n",
       "            <tr>\n",
       "                        <th id=\"T_e1d3311a_4660_11ec_b7e3_b06ebfbf2340level0_row4\" class=\"row_heading level0 row4\" >4</th>\n",
       "                        <td id=\"T_e1d3311a_4660_11ec_b7e3_b06ebfbf2340row4_col0\" class=\"data row4 col0\" >1.0000</td>\n",
       "                        <td id=\"T_e1d3311a_4660_11ec_b7e3_b06ebfbf2340row4_col1\" class=\"data row4 col1\" >1.0000</td>\n",
       "                        <td id=\"T_e1d3311a_4660_11ec_b7e3_b06ebfbf2340row4_col2\" class=\"data row4 col2\" >1.0000</td>\n",
       "                        <td id=\"T_e1d3311a_4660_11ec_b7e3_b06ebfbf2340row4_col3\" class=\"data row4 col3\" >1.0000</td>\n",
       "                        <td id=\"T_e1d3311a_4660_11ec_b7e3_b06ebfbf2340row4_col4\" class=\"data row4 col4\" >1.0000</td>\n",
       "                        <td id=\"T_e1d3311a_4660_11ec_b7e3_b06ebfbf2340row4_col5\" class=\"data row4 col5\" >1.0000</td>\n",
       "                        <td id=\"T_e1d3311a_4660_11ec_b7e3_b06ebfbf2340row4_col6\" class=\"data row4 col6\" >1.0000</td>\n",
       "            </tr>\n",
       "            <tr>\n",
       "                        <th id=\"T_e1d3311a_4660_11ec_b7e3_b06ebfbf2340level0_row5\" class=\"row_heading level0 row5\" >5</th>\n",
       "                        <td id=\"T_e1d3311a_4660_11ec_b7e3_b06ebfbf2340row5_col0\" class=\"data row5 col0\" >0.8333</td>\n",
       "                        <td id=\"T_e1d3311a_4660_11ec_b7e3_b06ebfbf2340row5_col1\" class=\"data row5 col1\" >1.0000</td>\n",
       "                        <td id=\"T_e1d3311a_4660_11ec_b7e3_b06ebfbf2340row5_col2\" class=\"data row5 col2\" >1.0000</td>\n",
       "                        <td id=\"T_e1d3311a_4660_11ec_b7e3_b06ebfbf2340row5_col3\" class=\"data row5 col3\" >0.7500</td>\n",
       "                        <td id=\"T_e1d3311a_4660_11ec_b7e3_b06ebfbf2340row5_col4\" class=\"data row5 col4\" >0.8571</td>\n",
       "                        <td id=\"T_e1d3311a_4660_11ec_b7e3_b06ebfbf2340row5_col5\" class=\"data row5 col5\" >0.6667</td>\n",
       "                        <td id=\"T_e1d3311a_4660_11ec_b7e3_b06ebfbf2340row5_col6\" class=\"data row5 col6\" >0.7071</td>\n",
       "            </tr>\n",
       "            <tr>\n",
       "                        <th id=\"T_e1d3311a_4660_11ec_b7e3_b06ebfbf2340level0_row6\" class=\"row_heading level0 row6\" >6</th>\n",
       "                        <td id=\"T_e1d3311a_4660_11ec_b7e3_b06ebfbf2340row6_col0\" class=\"data row6 col0\" >1.0000</td>\n",
       "                        <td id=\"T_e1d3311a_4660_11ec_b7e3_b06ebfbf2340row6_col1\" class=\"data row6 col1\" >1.0000</td>\n",
       "                        <td id=\"T_e1d3311a_4660_11ec_b7e3_b06ebfbf2340row6_col2\" class=\"data row6 col2\" >1.0000</td>\n",
       "                        <td id=\"T_e1d3311a_4660_11ec_b7e3_b06ebfbf2340row6_col3\" class=\"data row6 col3\" >1.0000</td>\n",
       "                        <td id=\"T_e1d3311a_4660_11ec_b7e3_b06ebfbf2340row6_col4\" class=\"data row6 col4\" >1.0000</td>\n",
       "                        <td id=\"T_e1d3311a_4660_11ec_b7e3_b06ebfbf2340row6_col5\" class=\"data row6 col5\" >1.0000</td>\n",
       "                        <td id=\"T_e1d3311a_4660_11ec_b7e3_b06ebfbf2340row6_col6\" class=\"data row6 col6\" >1.0000</td>\n",
       "            </tr>\n",
       "            <tr>\n",
       "                        <th id=\"T_e1d3311a_4660_11ec_b7e3_b06ebfbf2340level0_row7\" class=\"row_heading level0 row7\" >7</th>\n",
       "                        <td id=\"T_e1d3311a_4660_11ec_b7e3_b06ebfbf2340row7_col0\" class=\"data row7 col0\" >1.0000</td>\n",
       "                        <td id=\"T_e1d3311a_4660_11ec_b7e3_b06ebfbf2340row7_col1\" class=\"data row7 col1\" >1.0000</td>\n",
       "                        <td id=\"T_e1d3311a_4660_11ec_b7e3_b06ebfbf2340row7_col2\" class=\"data row7 col2\" >1.0000</td>\n",
       "                        <td id=\"T_e1d3311a_4660_11ec_b7e3_b06ebfbf2340row7_col3\" class=\"data row7 col3\" >1.0000</td>\n",
       "                        <td id=\"T_e1d3311a_4660_11ec_b7e3_b06ebfbf2340row7_col4\" class=\"data row7 col4\" >1.0000</td>\n",
       "                        <td id=\"T_e1d3311a_4660_11ec_b7e3_b06ebfbf2340row7_col5\" class=\"data row7 col5\" >1.0000</td>\n",
       "                        <td id=\"T_e1d3311a_4660_11ec_b7e3_b06ebfbf2340row7_col6\" class=\"data row7 col6\" >1.0000</td>\n",
       "            </tr>\n",
       "            <tr>\n",
       "                        <th id=\"T_e1d3311a_4660_11ec_b7e3_b06ebfbf2340level0_row8\" class=\"row_heading level0 row8\" >8</th>\n",
       "                        <td id=\"T_e1d3311a_4660_11ec_b7e3_b06ebfbf2340row8_col0\" class=\"data row8 col0\" >1.0000</td>\n",
       "                        <td id=\"T_e1d3311a_4660_11ec_b7e3_b06ebfbf2340row8_col1\" class=\"data row8 col1\" >1.0000</td>\n",
       "                        <td id=\"T_e1d3311a_4660_11ec_b7e3_b06ebfbf2340row8_col2\" class=\"data row8 col2\" >1.0000</td>\n",
       "                        <td id=\"T_e1d3311a_4660_11ec_b7e3_b06ebfbf2340row8_col3\" class=\"data row8 col3\" >1.0000</td>\n",
       "                        <td id=\"T_e1d3311a_4660_11ec_b7e3_b06ebfbf2340row8_col4\" class=\"data row8 col4\" >1.0000</td>\n",
       "                        <td id=\"T_e1d3311a_4660_11ec_b7e3_b06ebfbf2340row8_col5\" class=\"data row8 col5\" >1.0000</td>\n",
       "                        <td id=\"T_e1d3311a_4660_11ec_b7e3_b06ebfbf2340row8_col6\" class=\"data row8 col6\" >1.0000</td>\n",
       "            </tr>\n",
       "            <tr>\n",
       "                        <th id=\"T_e1d3311a_4660_11ec_b7e3_b06ebfbf2340level0_row9\" class=\"row_heading level0 row9\" >9</th>\n",
       "                        <td id=\"T_e1d3311a_4660_11ec_b7e3_b06ebfbf2340row9_col0\" class=\"data row9 col0\" >1.0000</td>\n",
       "                        <td id=\"T_e1d3311a_4660_11ec_b7e3_b06ebfbf2340row9_col1\" class=\"data row9 col1\" >1.0000</td>\n",
       "                        <td id=\"T_e1d3311a_4660_11ec_b7e3_b06ebfbf2340row9_col2\" class=\"data row9 col2\" >1.0000</td>\n",
       "                        <td id=\"T_e1d3311a_4660_11ec_b7e3_b06ebfbf2340row9_col3\" class=\"data row9 col3\" >1.0000</td>\n",
       "                        <td id=\"T_e1d3311a_4660_11ec_b7e3_b06ebfbf2340row9_col4\" class=\"data row9 col4\" >1.0000</td>\n",
       "                        <td id=\"T_e1d3311a_4660_11ec_b7e3_b06ebfbf2340row9_col5\" class=\"data row9 col5\" >1.0000</td>\n",
       "                        <td id=\"T_e1d3311a_4660_11ec_b7e3_b06ebfbf2340row9_col6\" class=\"data row9 col6\" >1.0000</td>\n",
       "            </tr>\n",
       "            <tr>\n",
       "                        <th id=\"T_e1d3311a_4660_11ec_b7e3_b06ebfbf2340level0_row10\" class=\"row_heading level0 row10\" >Mean</th>\n",
       "                        <td id=\"T_e1d3311a_4660_11ec_b7e3_b06ebfbf2340row10_col0\" class=\"data row10 col0\" >0.9690</td>\n",
       "                        <td id=\"T_e1d3311a_4660_11ec_b7e3_b06ebfbf2340row10_col1\" class=\"data row10 col1\" >0.9833</td>\n",
       "                        <td id=\"T_e1d3311a_4660_11ec_b7e3_b06ebfbf2340row10_col2\" class=\"data row10 col2\" >0.9667</td>\n",
       "                        <td id=\"T_e1d3311a_4660_11ec_b7e3_b06ebfbf2340row10_col3\" class=\"data row10 col3\" >0.9750</td>\n",
       "                        <td id=\"T_e1d3311a_4660_11ec_b7e3_b06ebfbf2340row10_col4\" class=\"data row10 col4\" >0.9657</td>\n",
       "                        <td id=\"T_e1d3311a_4660_11ec_b7e3_b06ebfbf2340row10_col5\" class=\"data row10 col5\" >0.9362</td>\n",
       "                        <td id=\"T_e1d3311a_4660_11ec_b7e3_b06ebfbf2340row10_col6\" class=\"data row10 col6\" >0.9437</td>\n",
       "            </tr>\n",
       "            <tr>\n",
       "                        <th id=\"T_e1d3311a_4660_11ec_b7e3_b06ebfbf2340level0_row11\" class=\"row_heading level0 row11\" >SD</th>\n",
       "                        <td id=\"T_e1d3311a_4660_11ec_b7e3_b06ebfbf2340row11_col0\" class=\"data row11 col0\" >0.0621</td>\n",
       "                        <td id=\"T_e1d3311a_4660_11ec_b7e3_b06ebfbf2340row11_col1\" class=\"data row11 col1\" >0.0500</td>\n",
       "                        <td id=\"T_e1d3311a_4660_11ec_b7e3_b06ebfbf2340row11_col2\" class=\"data row11 col2\" >0.1000</td>\n",
       "                        <td id=\"T_e1d3311a_4660_11ec_b7e3_b06ebfbf2340row11_col3\" class=\"data row11 col3\" >0.0750</td>\n",
       "                        <td id=\"T_e1d3311a_4660_11ec_b7e3_b06ebfbf2340row11_col4\" class=\"data row11 col4\" >0.0698</td>\n",
       "                        <td id=\"T_e1d3311a_4660_11ec_b7e3_b06ebfbf2340row11_col5\" class=\"data row11 col5\" >0.1277</td>\n",
       "                        <td id=\"T_e1d3311a_4660_11ec_b7e3_b06ebfbf2340row11_col6\" class=\"data row11 col6\" >0.1126</td>\n",
       "            </tr>\n",
       "    </tbody></table>"
      ],
      "text/plain": [
       "<pandas.io.formats.style.Styler at 0x1e9ba5570f0>"
      ]
     },
     "metadata": {},
     "output_type": "display_data"
    },
    {
     "data": {
      "text/plain": [
       "GaussianNB(priors=None, var_smoothing=1e-09)"
      ]
     },
     "execution_count": 116,
     "metadata": {},
     "output_type": "execute_result"
    }
   ],
   "source": [
    "# Create the model for naive bayes\n",
    "nb = create_model('nb')\n",
    "\n",
    "# Finalize trained model\n",
    "finalize_model(nb)"
   ]
  },
  {
   "cell_type": "code",
   "execution_count": 122,
   "id": "263d16cd",
   "metadata": {},
   "outputs": [
    {
     "data": {
      "text/html": [
       "<style  type=\"text/css\" >\n",
       "#T_364b3068_4661_11ec_934f_b06ebfbf2340row10_col0,#T_364b3068_4661_11ec_934f_b06ebfbf2340row10_col1,#T_364b3068_4661_11ec_934f_b06ebfbf2340row10_col2,#T_364b3068_4661_11ec_934f_b06ebfbf2340row10_col3,#T_364b3068_4661_11ec_934f_b06ebfbf2340row10_col4,#T_364b3068_4661_11ec_934f_b06ebfbf2340row10_col5,#T_364b3068_4661_11ec_934f_b06ebfbf2340row10_col6{\n",
       "            background:  yellow;\n",
       "        }</style><table id=\"T_364b3068_4661_11ec_934f_b06ebfbf2340\" ><thead>    <tr>        <th class=\"blank level0\" ></th>        <th class=\"col_heading level0 col0\" >Accuracy</th>        <th class=\"col_heading level0 col1\" >AUC</th>        <th class=\"col_heading level0 col2\" >Recall</th>        <th class=\"col_heading level0 col3\" >Prec.</th>        <th class=\"col_heading level0 col4\" >F1</th>        <th class=\"col_heading level0 col5\" >Kappa</th>        <th class=\"col_heading level0 col6\" >MCC</th>    </tr></thead><tbody>\n",
       "                <tr>\n",
       "                        <th id=\"T_364b3068_4661_11ec_934f_b06ebfbf2340level0_row0\" class=\"row_heading level0 row0\" >0</th>\n",
       "                        <td id=\"T_364b3068_4661_11ec_934f_b06ebfbf2340row0_col0\" class=\"data row0 col0\" >1.0000</td>\n",
       "                        <td id=\"T_364b3068_4661_11ec_934f_b06ebfbf2340row0_col1\" class=\"data row0 col1\" >1.0000</td>\n",
       "                        <td id=\"T_364b3068_4661_11ec_934f_b06ebfbf2340row0_col2\" class=\"data row0 col2\" >1.0000</td>\n",
       "                        <td id=\"T_364b3068_4661_11ec_934f_b06ebfbf2340row0_col3\" class=\"data row0 col3\" >1.0000</td>\n",
       "                        <td id=\"T_364b3068_4661_11ec_934f_b06ebfbf2340row0_col4\" class=\"data row0 col4\" >1.0000</td>\n",
       "                        <td id=\"T_364b3068_4661_11ec_934f_b06ebfbf2340row0_col5\" class=\"data row0 col5\" >1.0000</td>\n",
       "                        <td id=\"T_364b3068_4661_11ec_934f_b06ebfbf2340row0_col6\" class=\"data row0 col6\" >1.0000</td>\n",
       "            </tr>\n",
       "            <tr>\n",
       "                        <th id=\"T_364b3068_4661_11ec_934f_b06ebfbf2340level0_row1\" class=\"row_heading level0 row1\" >1</th>\n",
       "                        <td id=\"T_364b3068_4661_11ec_934f_b06ebfbf2340row1_col0\" class=\"data row1 col0\" >0.8571</td>\n",
       "                        <td id=\"T_364b3068_4661_11ec_934f_b06ebfbf2340row1_col1\" class=\"data row1 col1\" >0.8333</td>\n",
       "                        <td id=\"T_364b3068_4661_11ec_934f_b06ebfbf2340row1_col2\" class=\"data row1 col2\" >0.6667</td>\n",
       "                        <td id=\"T_364b3068_4661_11ec_934f_b06ebfbf2340row1_col3\" class=\"data row1 col3\" >1.0000</td>\n",
       "                        <td id=\"T_364b3068_4661_11ec_934f_b06ebfbf2340row1_col4\" class=\"data row1 col4\" >0.8000</td>\n",
       "                        <td id=\"T_364b3068_4661_11ec_934f_b06ebfbf2340row1_col5\" class=\"data row1 col5\" >0.6957</td>\n",
       "                        <td id=\"T_364b3068_4661_11ec_934f_b06ebfbf2340row1_col6\" class=\"data row1 col6\" >0.7303</td>\n",
       "            </tr>\n",
       "            <tr>\n",
       "                        <th id=\"T_364b3068_4661_11ec_934f_b06ebfbf2340level0_row2\" class=\"row_heading level0 row2\" >2</th>\n",
       "                        <td id=\"T_364b3068_4661_11ec_934f_b06ebfbf2340row2_col0\" class=\"data row2 col0\" >1.0000</td>\n",
       "                        <td id=\"T_364b3068_4661_11ec_934f_b06ebfbf2340row2_col1\" class=\"data row2 col1\" >1.0000</td>\n",
       "                        <td id=\"T_364b3068_4661_11ec_934f_b06ebfbf2340row2_col2\" class=\"data row2 col2\" >1.0000</td>\n",
       "                        <td id=\"T_364b3068_4661_11ec_934f_b06ebfbf2340row2_col3\" class=\"data row2 col3\" >1.0000</td>\n",
       "                        <td id=\"T_364b3068_4661_11ec_934f_b06ebfbf2340row2_col4\" class=\"data row2 col4\" >1.0000</td>\n",
       "                        <td id=\"T_364b3068_4661_11ec_934f_b06ebfbf2340row2_col5\" class=\"data row2 col5\" >1.0000</td>\n",
       "                        <td id=\"T_364b3068_4661_11ec_934f_b06ebfbf2340row2_col6\" class=\"data row2 col6\" >1.0000</td>\n",
       "            </tr>\n",
       "            <tr>\n",
       "                        <th id=\"T_364b3068_4661_11ec_934f_b06ebfbf2340level0_row3\" class=\"row_heading level0 row3\" >3</th>\n",
       "                        <td id=\"T_364b3068_4661_11ec_934f_b06ebfbf2340row3_col0\" class=\"data row3 col0\" >1.0000</td>\n",
       "                        <td id=\"T_364b3068_4661_11ec_934f_b06ebfbf2340row3_col1\" class=\"data row3 col1\" >1.0000</td>\n",
       "                        <td id=\"T_364b3068_4661_11ec_934f_b06ebfbf2340row3_col2\" class=\"data row3 col2\" >1.0000</td>\n",
       "                        <td id=\"T_364b3068_4661_11ec_934f_b06ebfbf2340row3_col3\" class=\"data row3 col3\" >1.0000</td>\n",
       "                        <td id=\"T_364b3068_4661_11ec_934f_b06ebfbf2340row3_col4\" class=\"data row3 col4\" >1.0000</td>\n",
       "                        <td id=\"T_364b3068_4661_11ec_934f_b06ebfbf2340row3_col5\" class=\"data row3 col5\" >1.0000</td>\n",
       "                        <td id=\"T_364b3068_4661_11ec_934f_b06ebfbf2340row3_col6\" class=\"data row3 col6\" >1.0000</td>\n",
       "            </tr>\n",
       "            <tr>\n",
       "                        <th id=\"T_364b3068_4661_11ec_934f_b06ebfbf2340level0_row4\" class=\"row_heading level0 row4\" >4</th>\n",
       "                        <td id=\"T_364b3068_4661_11ec_934f_b06ebfbf2340row4_col0\" class=\"data row4 col0\" >1.0000</td>\n",
       "                        <td id=\"T_364b3068_4661_11ec_934f_b06ebfbf2340row4_col1\" class=\"data row4 col1\" >1.0000</td>\n",
       "                        <td id=\"T_364b3068_4661_11ec_934f_b06ebfbf2340row4_col2\" class=\"data row4 col2\" >1.0000</td>\n",
       "                        <td id=\"T_364b3068_4661_11ec_934f_b06ebfbf2340row4_col3\" class=\"data row4 col3\" >1.0000</td>\n",
       "                        <td id=\"T_364b3068_4661_11ec_934f_b06ebfbf2340row4_col4\" class=\"data row4 col4\" >1.0000</td>\n",
       "                        <td id=\"T_364b3068_4661_11ec_934f_b06ebfbf2340row4_col5\" class=\"data row4 col5\" >1.0000</td>\n",
       "                        <td id=\"T_364b3068_4661_11ec_934f_b06ebfbf2340row4_col6\" class=\"data row4 col6\" >1.0000</td>\n",
       "            </tr>\n",
       "            <tr>\n",
       "                        <th id=\"T_364b3068_4661_11ec_934f_b06ebfbf2340level0_row5\" class=\"row_heading level0 row5\" >5</th>\n",
       "                        <td id=\"T_364b3068_4661_11ec_934f_b06ebfbf2340row5_col0\" class=\"data row5 col0\" >0.8333</td>\n",
       "                        <td id=\"T_364b3068_4661_11ec_934f_b06ebfbf2340row5_col1\" class=\"data row5 col1\" >1.0000</td>\n",
       "                        <td id=\"T_364b3068_4661_11ec_934f_b06ebfbf2340row5_col2\" class=\"data row5 col2\" >0.6667</td>\n",
       "                        <td id=\"T_364b3068_4661_11ec_934f_b06ebfbf2340row5_col3\" class=\"data row5 col3\" >1.0000</td>\n",
       "                        <td id=\"T_364b3068_4661_11ec_934f_b06ebfbf2340row5_col4\" class=\"data row5 col4\" >0.8000</td>\n",
       "                        <td id=\"T_364b3068_4661_11ec_934f_b06ebfbf2340row5_col5\" class=\"data row5 col5\" >0.6667</td>\n",
       "                        <td id=\"T_364b3068_4661_11ec_934f_b06ebfbf2340row5_col6\" class=\"data row5 col6\" >0.7071</td>\n",
       "            </tr>\n",
       "            <tr>\n",
       "                        <th id=\"T_364b3068_4661_11ec_934f_b06ebfbf2340level0_row6\" class=\"row_heading level0 row6\" >6</th>\n",
       "                        <td id=\"T_364b3068_4661_11ec_934f_b06ebfbf2340row6_col0\" class=\"data row6 col0\" >1.0000</td>\n",
       "                        <td id=\"T_364b3068_4661_11ec_934f_b06ebfbf2340row6_col1\" class=\"data row6 col1\" >1.0000</td>\n",
       "                        <td id=\"T_364b3068_4661_11ec_934f_b06ebfbf2340row6_col2\" class=\"data row6 col2\" >1.0000</td>\n",
       "                        <td id=\"T_364b3068_4661_11ec_934f_b06ebfbf2340row6_col3\" class=\"data row6 col3\" >1.0000</td>\n",
       "                        <td id=\"T_364b3068_4661_11ec_934f_b06ebfbf2340row6_col4\" class=\"data row6 col4\" >1.0000</td>\n",
       "                        <td id=\"T_364b3068_4661_11ec_934f_b06ebfbf2340row6_col5\" class=\"data row6 col5\" >1.0000</td>\n",
       "                        <td id=\"T_364b3068_4661_11ec_934f_b06ebfbf2340row6_col6\" class=\"data row6 col6\" >1.0000</td>\n",
       "            </tr>\n",
       "            <tr>\n",
       "                        <th id=\"T_364b3068_4661_11ec_934f_b06ebfbf2340level0_row7\" class=\"row_heading level0 row7\" >7</th>\n",
       "                        <td id=\"T_364b3068_4661_11ec_934f_b06ebfbf2340row7_col0\" class=\"data row7 col0\" >1.0000</td>\n",
       "                        <td id=\"T_364b3068_4661_11ec_934f_b06ebfbf2340row7_col1\" class=\"data row7 col1\" >1.0000</td>\n",
       "                        <td id=\"T_364b3068_4661_11ec_934f_b06ebfbf2340row7_col2\" class=\"data row7 col2\" >1.0000</td>\n",
       "                        <td id=\"T_364b3068_4661_11ec_934f_b06ebfbf2340row7_col3\" class=\"data row7 col3\" >1.0000</td>\n",
       "                        <td id=\"T_364b3068_4661_11ec_934f_b06ebfbf2340row7_col4\" class=\"data row7 col4\" >1.0000</td>\n",
       "                        <td id=\"T_364b3068_4661_11ec_934f_b06ebfbf2340row7_col5\" class=\"data row7 col5\" >1.0000</td>\n",
       "                        <td id=\"T_364b3068_4661_11ec_934f_b06ebfbf2340row7_col6\" class=\"data row7 col6\" >1.0000</td>\n",
       "            </tr>\n",
       "            <tr>\n",
       "                        <th id=\"T_364b3068_4661_11ec_934f_b06ebfbf2340level0_row8\" class=\"row_heading level0 row8\" >8</th>\n",
       "                        <td id=\"T_364b3068_4661_11ec_934f_b06ebfbf2340row8_col0\" class=\"data row8 col0\" >1.0000</td>\n",
       "                        <td id=\"T_364b3068_4661_11ec_934f_b06ebfbf2340row8_col1\" class=\"data row8 col1\" >1.0000</td>\n",
       "                        <td id=\"T_364b3068_4661_11ec_934f_b06ebfbf2340row8_col2\" class=\"data row8 col2\" >1.0000</td>\n",
       "                        <td id=\"T_364b3068_4661_11ec_934f_b06ebfbf2340row8_col3\" class=\"data row8 col3\" >1.0000</td>\n",
       "                        <td id=\"T_364b3068_4661_11ec_934f_b06ebfbf2340row8_col4\" class=\"data row8 col4\" >1.0000</td>\n",
       "                        <td id=\"T_364b3068_4661_11ec_934f_b06ebfbf2340row8_col5\" class=\"data row8 col5\" >1.0000</td>\n",
       "                        <td id=\"T_364b3068_4661_11ec_934f_b06ebfbf2340row8_col6\" class=\"data row8 col6\" >1.0000</td>\n",
       "            </tr>\n",
       "            <tr>\n",
       "                        <th id=\"T_364b3068_4661_11ec_934f_b06ebfbf2340level0_row9\" class=\"row_heading level0 row9\" >9</th>\n",
       "                        <td id=\"T_364b3068_4661_11ec_934f_b06ebfbf2340row9_col0\" class=\"data row9 col0\" >1.0000</td>\n",
       "                        <td id=\"T_364b3068_4661_11ec_934f_b06ebfbf2340row9_col1\" class=\"data row9 col1\" >1.0000</td>\n",
       "                        <td id=\"T_364b3068_4661_11ec_934f_b06ebfbf2340row9_col2\" class=\"data row9 col2\" >1.0000</td>\n",
       "                        <td id=\"T_364b3068_4661_11ec_934f_b06ebfbf2340row9_col3\" class=\"data row9 col3\" >1.0000</td>\n",
       "                        <td id=\"T_364b3068_4661_11ec_934f_b06ebfbf2340row9_col4\" class=\"data row9 col4\" >1.0000</td>\n",
       "                        <td id=\"T_364b3068_4661_11ec_934f_b06ebfbf2340row9_col5\" class=\"data row9 col5\" >1.0000</td>\n",
       "                        <td id=\"T_364b3068_4661_11ec_934f_b06ebfbf2340row9_col6\" class=\"data row9 col6\" >1.0000</td>\n",
       "            </tr>\n",
       "            <tr>\n",
       "                        <th id=\"T_364b3068_4661_11ec_934f_b06ebfbf2340level0_row10\" class=\"row_heading level0 row10\" >Mean</th>\n",
       "                        <td id=\"T_364b3068_4661_11ec_934f_b06ebfbf2340row10_col0\" class=\"data row10 col0\" >0.9690</td>\n",
       "                        <td id=\"T_364b3068_4661_11ec_934f_b06ebfbf2340row10_col1\" class=\"data row10 col1\" >0.9833</td>\n",
       "                        <td id=\"T_364b3068_4661_11ec_934f_b06ebfbf2340row10_col2\" class=\"data row10 col2\" >0.9333</td>\n",
       "                        <td id=\"T_364b3068_4661_11ec_934f_b06ebfbf2340row10_col3\" class=\"data row10 col3\" >1.0000</td>\n",
       "                        <td id=\"T_364b3068_4661_11ec_934f_b06ebfbf2340row10_col4\" class=\"data row10 col4\" >0.9600</td>\n",
       "                        <td id=\"T_364b3068_4661_11ec_934f_b06ebfbf2340row10_col5\" class=\"data row10 col5\" >0.9362</td>\n",
       "                        <td id=\"T_364b3068_4661_11ec_934f_b06ebfbf2340row10_col6\" class=\"data row10 col6\" >0.9437</td>\n",
       "            </tr>\n",
       "            <tr>\n",
       "                        <th id=\"T_364b3068_4661_11ec_934f_b06ebfbf2340level0_row11\" class=\"row_heading level0 row11\" >SD</th>\n",
       "                        <td id=\"T_364b3068_4661_11ec_934f_b06ebfbf2340row11_col0\" class=\"data row11 col0\" >0.0621</td>\n",
       "                        <td id=\"T_364b3068_4661_11ec_934f_b06ebfbf2340row11_col1\" class=\"data row11 col1\" >0.0500</td>\n",
       "                        <td id=\"T_364b3068_4661_11ec_934f_b06ebfbf2340row11_col2\" class=\"data row11 col2\" >0.1333</td>\n",
       "                        <td id=\"T_364b3068_4661_11ec_934f_b06ebfbf2340row11_col3\" class=\"data row11 col3\" >0.0000</td>\n",
       "                        <td id=\"T_364b3068_4661_11ec_934f_b06ebfbf2340row11_col4\" class=\"data row11 col4\" >0.0800</td>\n",
       "                        <td id=\"T_364b3068_4661_11ec_934f_b06ebfbf2340row11_col5\" class=\"data row11 col5\" >0.1277</td>\n",
       "                        <td id=\"T_364b3068_4661_11ec_934f_b06ebfbf2340row11_col6\" class=\"data row11 col6\" >0.1126</td>\n",
       "            </tr>\n",
       "    </tbody></table>"
      ],
      "text/plain": [
       "<pandas.io.formats.style.Styler at 0x1e9ba557eb8>"
      ]
     },
     "metadata": {},
     "output_type": "display_data"
    },
    {
     "data": {
      "text/plain": [
       "RandomForestClassifier(bootstrap=True, ccp_alpha=0.0, class_weight=None,\n",
       "                       criterion='gini', max_depth=None, max_features='auto',\n",
       "                       max_leaf_nodes=None, max_samples=None,\n",
       "                       min_impurity_decrease=0.0, min_impurity_split=None,\n",
       "                       min_samples_leaf=1, min_samples_split=2,\n",
       "                       min_weight_fraction_leaf=0.0, n_estimators=100,\n",
       "                       n_jobs=-1, oob_score=False, random_state=5337, verbose=0,\n",
       "                       warm_start=False)"
      ]
     },
     "execution_count": 122,
     "metadata": {},
     "output_type": "execute_result"
    }
   ],
   "source": [
    "# Create a model for random forest\n",
    "rf = create_model('rf')\n",
    "\n",
    "# Finalize trained model\n",
    "finalize_model(rf)"
   ]
  },
  {
   "cell_type": "markdown",
   "id": "777c974a",
   "metadata": {},
   "source": [
    "# Save/Load Model"
   ]
  },
  {
   "cell_type": "code",
   "execution_count": 117,
   "id": "d3659a48",
   "metadata": {},
   "outputs": [],
   "source": [
    "from sklearn import set_config"
   ]
  },
  {
   "cell_type": "code",
   "execution_count": 125,
   "id": "d5bda1de",
   "metadata": {},
   "outputs": [
    {
     "name": "stdout",
     "output_type": "stream",
     "text": [
      "Transformation Pipeline and Model Successfully Saved\n"
     ]
    },
    {
     "data": {
      "text/plain": [
       "(Pipeline(memory=None,\n",
       "          steps=[('dtypes',\n",
       "                  DataTypes_Auto_infer(categorical_features=[],\n",
       "                                       display_types=True, features_todrop=[],\n",
       "                                       id_columns=[],\n",
       "                                       ml_usecase='classification',\n",
       "                                       numerical_features=[],\n",
       "                                       target='hydrocarbon_present_yes',\n",
       "                                       time_features=[])),\n",
       "                 ('imputer',\n",
       "                  Simple_Imputer(categorical_strategy='not_available',\n",
       "                                 fill_value_categorical=None,\n",
       "                                 fill_value_numerical=N...\n",
       "                 ('rem_outliers', 'passthrough'), ('cluster_all', 'passthrough'),\n",
       "                 ('dummy', Dummify(target='hydrocarbon_present_yes')),\n",
       "                 ('fix_perfect', Remove_100(target='hydrocarbon_present_yes')),\n",
       "                 ('clean_names', Clean_Colum_Names()),\n",
       "                 ('feature_select', 'passthrough'), ('fix_multi', 'passthrough'),\n",
       "                 ('dfs', 'passthrough'), ('pca', 'passthrough'),\n",
       "                 ['trained_model',\n",
       "                  GaussianNB(priors=None, var_smoothing=1e-09)]],\n",
       "          verbose=False), 'nb.pkl')"
      ]
     },
     "execution_count": 125,
     "metadata": {},
     "output_type": "execute_result"
    }
   ],
   "source": [
    "save_model(nb, model_name='nb')"
   ]
  },
  {
   "cell_type": "code",
   "execution_count": 126,
   "id": "ff6ccfb7",
   "metadata": {},
   "outputs": [
    {
     "name": "stdout",
     "output_type": "stream",
     "text": [
      "Transformation Pipeline and Model Successfully Loaded\n",
      "Pipeline(memory=None,\n",
      "         steps=[('dtypes',\n",
      "                 DataTypes_Auto_infer(categorical_features=[],\n",
      "                                      display_types=True, features_todrop=[],\n",
      "                                      id_columns=[],\n",
      "                                      ml_usecase='classification',\n",
      "                                      numerical_features=[],\n",
      "                                      target='hydrocarbon_present_yes',\n",
      "                                      time_features=[])),\n",
      "                ('imputer',\n",
      "                 Simple_Imputer(categorical_strategy='not_available',\n",
      "                                fill_value_categorical=None,\n",
      "                                fill_value_numerical=N...\n",
      "                ('rem_outliers', 'passthrough'), ('cluster_all', 'passthrough'),\n",
      "                ('dummy', Dummify(target='hydrocarbon_present_yes')),\n",
      "                ('fix_perfect', Remove_100(target='hydrocarbon_present_yes')),\n",
      "                ('clean_names', Clean_Colum_Names()),\n",
      "                ('feature_select', 'passthrough'), ('fix_multi', 'passthrough'),\n",
      "                ('dfs', 'passthrough'), ('pca', 'passthrough'),\n",
      "                ['trained_model',\n",
      "                 GaussianNB(priors=None, var_smoothing=1e-09)]],\n",
      "         verbose=False)\n"
     ]
    }
   ],
   "source": [
    "nb_load = load_model('nb')\n",
    "print(nb_load)"
   ]
  },
  {
   "cell_type": "code",
   "execution_count": 127,
   "id": "a46314ed",
   "metadata": {},
   "outputs": [
    {
     "data": {
      "text/html": [
       "<style>div.sk-top-container {color: black;background-color: white;}div.sk-toggleable {background-color: white;}label.sk-toggleable__label {cursor: pointer;display: block;width: 100%;margin-bottom: 0;padding: 0.2em 0.3em;box-sizing: border-box;text-align: center;}div.sk-toggleable__content {max-height: 0;max-width: 0;overflow: hidden;text-align: left;background-color: #f0f8ff;}div.sk-toggleable__content pre {margin: 0.2em;color: black;border-radius: 0.25em;background-color: #f0f8ff;}input.sk-toggleable__control:checked~div.sk-toggleable__content {max-height: 200px;max-width: 100%;overflow: auto;}div.sk-estimator input.sk-toggleable__control:checked~label.sk-toggleable__label {background-color: #d4ebff;}div.sk-label input.sk-toggleable__control:checked~label.sk-toggleable__label {background-color: #d4ebff;}input.sk-hidden--visually {border: 0;clip: rect(1px 1px 1px 1px);clip: rect(1px, 1px, 1px, 1px);height: 1px;margin: -1px;overflow: hidden;padding: 0;position: absolute;width: 1px;}div.sk-estimator {font-family: monospace;background-color: #f0f8ff;margin: 0.25em 0.25em;border: 1px dotted black;border-radius: 0.25em;box-sizing: border-box;}div.sk-estimator:hover {background-color: #d4ebff;}div.sk-parallel-item::after {content: \"\";width: 100%;border-bottom: 1px solid gray;flex-grow: 1;}div.sk-label:hover label.sk-toggleable__label {background-color: #d4ebff;}div.sk-serial::before {content: \"\";position: absolute;border-left: 1px solid gray;box-sizing: border-box;top: 2em;bottom: 0;left: 50%;}div.sk-serial {display: flex;flex-direction: column;align-items: center;background-color: white;}div.sk-item {z-index: 1;}div.sk-parallel {display: flex;align-items: stretch;justify-content: center;background-color: white;}div.sk-parallel-item {display: flex;flex-direction: column;position: relative;background-color: white;}div.sk-parallel-item:first-child::after {align-self: flex-end;width: 50%;}div.sk-parallel-item:last-child::after {align-self: flex-start;width: 50%;}div.sk-parallel-item:only-child::after {width: 0;}div.sk-dashed-wrapped {border: 1px dashed gray;margin: 0.2em;box-sizing: border-box;padding-bottom: 0.1em;background-color: white;position: relative;}div.sk-label label {font-family: monospace;font-weight: bold;background-color: white;display: inline-block;line-height: 1.2em;}div.sk-label-container {position: relative;z-index: 2;text-align: center;}div.sk-container {display: inline-block;position: relative;}</style><div class=\"sk-top-container\"><div class=\"sk-container\"><div class=\"sk-item\"><div class=\"sk-estimator sk-toggleable\"><input class=\"sk-toggleable__control sk-hidden--visually\" id=\"18fb5d2f-6fb7-4207-bcf0-8d61da08d134\" type=\"checkbox\" checked><label class=\"sk-toggleable__label\" for=\"18fb5d2f-6fb7-4207-bcf0-8d61da08d134\">DataTypes_Auto_infer</label><div class=\"sk-toggleable__content\"><pre>DataTypes_Auto_infer(categorical_features=[], display_types=True,\n",
       "                     features_todrop=[], id_columns=[],\n",
       "                     ml_usecase='classification', numerical_features=[],\n",
       "                     target='hydrocarbon_present_yes', time_features=[])</pre></div></div></div></div></div>"
      ],
      "text/plain": [
       "DataTypes_Auto_infer(categorical_features=[], display_types=True,\n",
       "                     features_todrop=[], id_columns=[],\n",
       "                     ml_usecase='classification', numerical_features=[],\n",
       "                     target='hydrocarbon_present_yes', time_features=[])"
      ]
     },
     "execution_count": 127,
     "metadata": {},
     "output_type": "execute_result"
    }
   ],
   "source": [
    "set_config(display='diagram')\n",
    "nb_load[0]"
   ]
  },
  {
   "cell_type": "code",
   "execution_count": 128,
   "id": "2e24bf36",
   "metadata": {},
   "outputs": [],
   "source": [
    "set_config(display='text')"
   ]
  },
  {
   "cell_type": "code",
   "execution_count": 129,
   "id": "1fd581e7",
   "metadata": {},
   "outputs": [
    {
     "name": "stdout",
     "output_type": "stream",
     "text": [
      "Transformation Pipeline and Model Successfully Saved\n"
     ]
    },
    {
     "data": {
      "text/plain": [
       "(Pipeline(memory=None,\n",
       "          steps=[('dtypes',\n",
       "                  DataTypes_Auto_infer(categorical_features=[],\n",
       "                                       display_types=True, features_todrop=[],\n",
       "                                       id_columns=[],\n",
       "                                       ml_usecase='classification',\n",
       "                                       numerical_features=[],\n",
       "                                       target='hydrocarbon_present_yes',\n",
       "                                       time_features=[])),\n",
       "                 ('imputer',\n",
       "                  Simple_Imputer(categorical_strategy='not_available',\n",
       "                                 fill_value_categorical=None,\n",
       "                                 fill_value_numerical=N...\n",
       "                  RandomForestClassifier(bootstrap=True, ccp_alpha=0.0,\n",
       "                                         class_weight=None, criterion='gini',\n",
       "                                         max_depth=None, max_features='auto',\n",
       "                                         max_leaf_nodes=None, max_samples=None,\n",
       "                                         min_impurity_decrease=0.0,\n",
       "                                         min_impurity_split=None,\n",
       "                                         min_samples_leaf=1, min_samples_split=2,\n",
       "                                         min_weight_fraction_leaf=0.0,\n",
       "                                         n_estimators=100, n_jobs=-1,\n",
       "                                         oob_score=False, random_state=5337,\n",
       "                                         verbose=0, warm_start=False)]],\n",
       "          verbose=False), 'rf.pkl')"
      ]
     },
     "execution_count": 129,
     "metadata": {},
     "output_type": "execute_result"
    }
   ],
   "source": [
    "# Save rf model\n",
    "save_model(rf, model_name='rf')"
   ]
  },
  {
   "cell_type": "code",
   "execution_count": 130,
   "id": "86aa4277",
   "metadata": {},
   "outputs": [
    {
     "name": "stdout",
     "output_type": "stream",
     "text": [
      "Transformation Pipeline and Model Successfully Loaded\n",
      "Pipeline(memory=None,\n",
      "         steps=[('dtypes',\n",
      "                 DataTypes_Auto_infer(categorical_features=[],\n",
      "                                      display_types=True, features_todrop=[],\n",
      "                                      id_columns=[],\n",
      "                                      ml_usecase='classification',\n",
      "                                      numerical_features=[],\n",
      "                                      target='hydrocarbon_present_yes',\n",
      "                                      time_features=[])),\n",
      "                ('imputer',\n",
      "                 Simple_Imputer(categorical_strategy='not_available',\n",
      "                                fill_value_categorical=None,\n",
      "                                fill_value_numerical=N...\n",
      "                 RandomForestClassifier(bootstrap=True, ccp_alpha=0.0,\n",
      "                                        class_weight=None, criterion='gini',\n",
      "                                        max_depth=None, max_features='auto',\n",
      "                                        max_leaf_nodes=None, max_samples=None,\n",
      "                                        min_impurity_decrease=0.0,\n",
      "                                        min_impurity_split=None,\n",
      "                                        min_samples_leaf=1, min_samples_split=2,\n",
      "                                        min_weight_fraction_leaf=0.0,\n",
      "                                        n_estimators=100, n_jobs=-1,\n",
      "                                        oob_score=False, random_state=5337,\n",
      "                                        verbose=0, warm_start=False)]],\n",
      "         verbose=False)\n"
     ]
    }
   ],
   "source": [
    "# Load\n",
    "rf_load = load_model('rf')\n",
    "print(rf_load)"
   ]
  },
  {
   "cell_type": "code",
   "execution_count": 131,
   "id": "dbc76f1e",
   "metadata": {},
   "outputs": [
    {
     "data": {
      "text/html": [
       "<style>div.sk-top-container {color: black;background-color: white;}div.sk-toggleable {background-color: white;}label.sk-toggleable__label {cursor: pointer;display: block;width: 100%;margin-bottom: 0;padding: 0.2em 0.3em;box-sizing: border-box;text-align: center;}div.sk-toggleable__content {max-height: 0;max-width: 0;overflow: hidden;text-align: left;background-color: #f0f8ff;}div.sk-toggleable__content pre {margin: 0.2em;color: black;border-radius: 0.25em;background-color: #f0f8ff;}input.sk-toggleable__control:checked~div.sk-toggleable__content {max-height: 200px;max-width: 100%;overflow: auto;}div.sk-estimator input.sk-toggleable__control:checked~label.sk-toggleable__label {background-color: #d4ebff;}div.sk-label input.sk-toggleable__control:checked~label.sk-toggleable__label {background-color: #d4ebff;}input.sk-hidden--visually {border: 0;clip: rect(1px 1px 1px 1px);clip: rect(1px, 1px, 1px, 1px);height: 1px;margin: -1px;overflow: hidden;padding: 0;position: absolute;width: 1px;}div.sk-estimator {font-family: monospace;background-color: #f0f8ff;margin: 0.25em 0.25em;border: 1px dotted black;border-radius: 0.25em;box-sizing: border-box;}div.sk-estimator:hover {background-color: #d4ebff;}div.sk-parallel-item::after {content: \"\";width: 100%;border-bottom: 1px solid gray;flex-grow: 1;}div.sk-label:hover label.sk-toggleable__label {background-color: #d4ebff;}div.sk-serial::before {content: \"\";position: absolute;border-left: 1px solid gray;box-sizing: border-box;top: 2em;bottom: 0;left: 50%;}div.sk-serial {display: flex;flex-direction: column;align-items: center;background-color: white;}div.sk-item {z-index: 1;}div.sk-parallel {display: flex;align-items: stretch;justify-content: center;background-color: white;}div.sk-parallel-item {display: flex;flex-direction: column;position: relative;background-color: white;}div.sk-parallel-item:first-child::after {align-self: flex-end;width: 50%;}div.sk-parallel-item:last-child::after {align-self: flex-start;width: 50%;}div.sk-parallel-item:only-child::after {width: 0;}div.sk-dashed-wrapped {border: 1px dashed gray;margin: 0.2em;box-sizing: border-box;padding-bottom: 0.1em;background-color: white;position: relative;}div.sk-label label {font-family: monospace;font-weight: bold;background-color: white;display: inline-block;line-height: 1.2em;}div.sk-label-container {position: relative;z-index: 2;text-align: center;}div.sk-container {display: inline-block;position: relative;}</style><div class=\"sk-top-container\"><div class=\"sk-container\"><div class=\"sk-item\"><div class=\"sk-estimator sk-toggleable\"><input class=\"sk-toggleable__control sk-hidden--visually\" id=\"eac2ba2d-0a37-4a4a-85f1-dca3f29e3894\" type=\"checkbox\" checked><label class=\"sk-toggleable__label\" for=\"eac2ba2d-0a37-4a4a-85f1-dca3f29e3894\">DataTypes_Auto_infer</label><div class=\"sk-toggleable__content\"><pre>DataTypes_Auto_infer(categorical_features=[], display_types=True,\n",
       "                     features_todrop=[], id_columns=[],\n",
       "                     ml_usecase='classification', numerical_features=[],\n",
       "                     target='hydrocarbon_present_yes', time_features=[])</pre></div></div></div></div></div>"
      ],
      "text/plain": [
       "DataTypes_Auto_infer(categorical_features=[], display_types=True,\n",
       "                     features_todrop=[], id_columns=[],\n",
       "                     ml_usecase='classification', numerical_features=[],\n",
       "                     target='hydrocarbon_present_yes', time_features=[])"
      ]
     },
     "execution_count": 131,
     "metadata": {},
     "output_type": "execute_result"
    }
   ],
   "source": [
    "# configure\n",
    "set_config(display='diagram')\n",
    "rf_load[0]"
   ]
  },
  {
   "cell_type": "code",
   "execution_count": 132,
   "id": "388da010",
   "metadata": {},
   "outputs": [],
   "source": [
    "set_config(display='text')"
   ]
  },
  {
   "cell_type": "code",
   "execution_count": null,
   "id": "0d440ba9",
   "metadata": {},
   "outputs": [],
   "source": []
  }
 ],
 "metadata": {
  "kernelspec": {
   "display_name": "Python 3",
   "language": "python",
   "name": "python3"
  },
  "language_info": {
   "codemirror_mode": {
    "name": "ipython",
    "version": 3
   },
   "file_extension": ".py",
   "mimetype": "text/x-python",
   "name": "python",
   "nbconvert_exporter": "python",
   "pygments_lexer": "ipython3",
   "version": "3.6.13"
  },
  "toc": {
   "base_numbering": 1,
   "nav_menu": {},
   "number_sections": true,
   "sideBar": true,
   "skip_h1_title": false,
   "title_cell": "Table of Contents",
   "title_sidebar": "Contents",
   "toc_cell": true,
   "toc_position": {
    "height": "calc(100% - 180px)",
    "left": "10px",
    "top": "150px",
    "width": "374.391px"
   },
   "toc_section_display": true,
   "toc_window_display": true
  }
 },
 "nbformat": 4,
 "nbformat_minor": 5
}
