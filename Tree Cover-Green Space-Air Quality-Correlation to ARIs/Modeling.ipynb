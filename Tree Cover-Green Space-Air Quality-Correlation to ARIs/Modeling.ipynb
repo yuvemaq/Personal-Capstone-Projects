{
 "cells": [
  {
   "cell_type": "markdown",
   "id": "a038240e",
   "metadata": {
    "toc": true
   },
   "source": [
    "<h1>Table of Contents<span class=\"tocSkip\"></span></h1>\n",
    "<div class=\"toc\"><ul class=\"toc-item\"><li><span><a href=\"#AQI-Data-(1999---2022)\" data-toc-modified-id=\"AQI-Data-(1999---2022)-1\"><span class=\"toc-item-num\">1&nbsp;&nbsp;</span>AQI Data (1999 - 2022)</a></span></li><li><span><a href=\"#Green-Space-and-Tree-Canopy-Percentage-Data\" data-toc-modified-id=\"Green-Space-and-Tree-Canopy-Percentage-Data-2\"><span class=\"toc-item-num\">2&nbsp;&nbsp;</span>Green Space and Tree Canopy Percentage Data</a></span></li><li><span><a href=\"#PCA\" data-toc-modified-id=\"PCA-3\"><span class=\"toc-item-num\">3&nbsp;&nbsp;</span>PCA</a></span><ul class=\"toc-item\"><li><span><a href=\"#Cleveland,-OH\" data-toc-modified-id=\"Cleveland,-OH-3.1\"><span class=\"toc-item-num\">3.1&nbsp;&nbsp;</span>Cleveland, OH</a></span><ul class=\"toc-item\"><li><span><a href=\"#Train-and-test-split\" data-toc-modified-id=\"Train-and-test-split-3.1.1\"><span class=\"toc-item-num\">3.1.1&nbsp;&nbsp;</span>Train and test split</a></span></li><li><span><a href=\"#Linear-Regression\" data-toc-modified-id=\"Linear-Regression-3.1.2\"><span class=\"toc-item-num\">3.1.2&nbsp;&nbsp;</span>Linear Regression</a></span></li><li><span><a href=\"#SVM\" data-toc-modified-id=\"SVM-3.1.3\"><span class=\"toc-item-num\">3.1.3&nbsp;&nbsp;</span>SVM</a></span></li></ul></li></ul></li></ul></div>"
   ]
  },
  {
   "cell_type": "code",
   "execution_count": 1,
   "id": "172a5f72",
   "metadata": {},
   "outputs": [],
   "source": [
    "import pandas as pd\n",
    "import numpy as np\n",
    "import matplotlib.pyplot as plt\n",
    "%matplotlib inline\n",
    "import seaborn as sns\n",
    "\n",
    "from matplotlib import cm\n",
    "import scipy.stats as stats\n",
    "import plotly.express as px\n",
    "from sklearn.preprocessing import scale \n",
    "from sklearn import model_selection\n",
    "from sklearn.model_selection import RepeatedKFold\n",
    "from sklearn.model_selection import train_test_split\n",
    "from sklearn.decomposition import PCA\n",
    "from sklearn.linear_model import LinearRegression\n",
    "from sklearn.metrics import mean_squared_error,r2_score\n",
    "from sklearn.preprocessing import StandardScaler,RobustScaler,MinMaxScaler\n",
    "from sklearn.preprocessing import LabelEncoder\n",
    "from sklearn.svm import SVR\n",
    "from sklearn import metrics\n",
    "import warnings\n",
    "\n",
    "import os\n",
    "import sys"
   ]
  },
  {
   "cell_type": "markdown",
   "id": "555bfd9f",
   "metadata": {},
   "source": [
    "# AQI Data (1999 - 2022)"
   ]
  },
  {
   "cell_type": "code",
   "execution_count": 2,
   "id": "4600c8e1",
   "metadata": {},
   "outputs": [
    {
     "data": {
      "text/html": [
       "<div>\n",
       "<style scoped>\n",
       "    .dataframe tbody tr th:only-of-type {\n",
       "        vertical-align: middle;\n",
       "    }\n",
       "\n",
       "    .dataframe tbody tr th {\n",
       "        vertical-align: top;\n",
       "    }\n",
       "\n",
       "    .dataframe thead th {\n",
       "        text-align: right;\n",
       "    }\n",
       "</style>\n",
       "<table border=\"1\" class=\"dataframe\">\n",
       "  <thead>\n",
       "    <tr style=\"text-align: right;\">\n",
       "      <th></th>\n",
       "      <th>Unnamed: 0</th>\n",
       "      <th>Date</th>\n",
       "      <th>PM2.5 AQI Value</th>\n",
       "      <th>City</th>\n",
       "      <th>Month</th>\n",
       "      <th>Weekday</th>\n",
       "      <th>Year</th>\n",
       "    </tr>\n",
       "  </thead>\n",
       "  <tbody>\n",
       "    <tr>\n",
       "      <th>0</th>\n",
       "      <td>0</td>\n",
       "      <td>1999-01-03</td>\n",
       "      <td>46</td>\n",
       "      <td>Cleveland</td>\n",
       "      <td>January</td>\n",
       "      <td>Sunday</td>\n",
       "      <td>1999</td>\n",
       "    </tr>\n",
       "    <tr>\n",
       "      <th>1</th>\n",
       "      <td>1</td>\n",
       "      <td>1999-01-06</td>\n",
       "      <td>62</td>\n",
       "      <td>Cleveland</td>\n",
       "      <td>January</td>\n",
       "      <td>Wednesday</td>\n",
       "      <td>1999</td>\n",
       "    </tr>\n",
       "    <tr>\n",
       "      <th>2</th>\n",
       "      <td>2</td>\n",
       "      <td>1999-01-08</td>\n",
       "      <td>112</td>\n",
       "      <td>Cleveland</td>\n",
       "      <td>January</td>\n",
       "      <td>Friday</td>\n",
       "      <td>1999</td>\n",
       "    </tr>\n",
       "    <tr>\n",
       "      <th>3</th>\n",
       "      <td>3</td>\n",
       "      <td>1999-01-09</td>\n",
       "      <td>70</td>\n",
       "      <td>Cleveland</td>\n",
       "      <td>January</td>\n",
       "      <td>Saturday</td>\n",
       "      <td>1999</td>\n",
       "    </tr>\n",
       "    <tr>\n",
       "      <th>4</th>\n",
       "      <td>4</td>\n",
       "      <td>1999-01-10</td>\n",
       "      <td>82</td>\n",
       "      <td>Cleveland</td>\n",
       "      <td>January</td>\n",
       "      <td>Sunday</td>\n",
       "      <td>1999</td>\n",
       "    </tr>\n",
       "  </tbody>\n",
       "</table>\n",
       "</div>"
      ],
      "text/plain": [
       "   Unnamed: 0       Date  PM2.5 AQI Value       City    Month    Weekday  Year\n",
       "0           0 1999-01-03               46  Cleveland  January     Sunday  1999\n",
       "1           1 1999-01-06               62  Cleveland  January  Wednesday  1999\n",
       "2           2 1999-01-08              112  Cleveland  January     Friday  1999\n",
       "3           3 1999-01-09               70  Cleveland  January   Saturday  1999\n",
       "4           4 1999-01-10               82  Cleveland  January     Sunday  1999"
      ]
     },
     "execution_count": 2,
     "metadata": {},
     "output_type": "execute_result"
    }
   ],
   "source": [
    "path = r'D:\\Tree-Canopy-Percentage-Air-Quality-Correlation-to-Acute-Resp-Illnesses-in-Ohio-cities-Project_\\all_tables.xlsx'\n",
    "df = pd.read_excel(path)\n",
    "df.head(5)"
   ]
  },
  {
   "cell_type": "code",
   "execution_count": 3,
   "id": "410a13fd",
   "metadata": {},
   "outputs": [
    {
     "data": {
      "text/plain": [
       "Index(['Date', 'PM2.5 AQI Value', 'City'], dtype='object')"
      ]
     },
     "execution_count": 3,
     "metadata": {},
     "output_type": "execute_result"
    }
   ],
   "source": [
    "# Clean df\n",
    "df_clean = df[['Date', 'PM2.5 AQI Value', 'City']]\n",
    "df_clean.columns"
   ]
  },
  {
   "cell_type": "code",
   "execution_count": 4,
   "id": "be4ef8da",
   "metadata": {},
   "outputs": [
    {
     "data": {
      "text/html": [
       "<div>\n",
       "<style scoped>\n",
       "    .dataframe tbody tr th:only-of-type {\n",
       "        vertical-align: middle;\n",
       "    }\n",
       "\n",
       "    .dataframe tbody tr th {\n",
       "        vertical-align: top;\n",
       "    }\n",
       "\n",
       "    .dataframe thead th {\n",
       "        text-align: right;\n",
       "    }\n",
       "</style>\n",
       "<table border=\"1\" class=\"dataframe\">\n",
       "  <thead>\n",
       "    <tr style=\"text-align: right;\">\n",
       "      <th></th>\n",
       "      <th>Date</th>\n",
       "      <th>PM2.5 AQI Value</th>\n",
       "      <th>City</th>\n",
       "    </tr>\n",
       "  </thead>\n",
       "  <tbody>\n",
       "    <tr>\n",
       "      <th>0</th>\n",
       "      <td>1999-01-03</td>\n",
       "      <td>3.828641</td>\n",
       "      <td>Cleveland</td>\n",
       "    </tr>\n",
       "    <tr>\n",
       "      <th>1</th>\n",
       "      <td>1999-01-06</td>\n",
       "      <td>4.127134</td>\n",
       "      <td>Cleveland</td>\n",
       "    </tr>\n",
       "    <tr>\n",
       "      <th>2</th>\n",
       "      <td>1999-01-08</td>\n",
       "      <td>4.718499</td>\n",
       "      <td>Cleveland</td>\n",
       "    </tr>\n",
       "    <tr>\n",
       "      <th>3</th>\n",
       "      <td>1999-01-09</td>\n",
       "      <td>4.248495</td>\n",
       "      <td>Cleveland</td>\n",
       "    </tr>\n",
       "    <tr>\n",
       "      <th>4</th>\n",
       "      <td>1999-01-10</td>\n",
       "      <td>4.406719</td>\n",
       "      <td>Cleveland</td>\n",
       "    </tr>\n",
       "    <tr>\n",
       "      <th>...</th>\n",
       "      <td>...</td>\n",
       "      <td>...</td>\n",
       "      <td>...</td>\n",
       "    </tr>\n",
       "    <tr>\n",
       "      <th>32215</th>\n",
       "      <td>2022-05-30</td>\n",
       "      <td>3.401197</td>\n",
       "      <td>Tampa</td>\n",
       "    </tr>\n",
       "    <tr>\n",
       "      <th>32216</th>\n",
       "      <td>2022-05-31</td>\n",
       "      <td>3.465736</td>\n",
       "      <td>Tampa</td>\n",
       "    </tr>\n",
       "    <tr>\n",
       "      <th>32217</th>\n",
       "      <td>2022-06-01</td>\n",
       "      <td>3.433987</td>\n",
       "      <td>Tampa</td>\n",
       "    </tr>\n",
       "    <tr>\n",
       "      <th>32218</th>\n",
       "      <td>2022-06-02</td>\n",
       "      <td>3.433987</td>\n",
       "      <td>Tampa</td>\n",
       "    </tr>\n",
       "    <tr>\n",
       "      <th>32219</th>\n",
       "      <td>2022-06-03</td>\n",
       "      <td>3.044522</td>\n",
       "      <td>Tampa</td>\n",
       "    </tr>\n",
       "  </tbody>\n",
       "</table>\n",
       "<p>32220 rows × 3 columns</p>\n",
       "</div>"
      ],
      "text/plain": [
       "            Date  PM2.5 AQI Value       City\n",
       "0     1999-01-03         3.828641  Cleveland\n",
       "1     1999-01-06         4.127134  Cleveland\n",
       "2     1999-01-08         4.718499  Cleveland\n",
       "3     1999-01-09         4.248495  Cleveland\n",
       "4     1999-01-10         4.406719  Cleveland\n",
       "...          ...              ...        ...\n",
       "32215 2022-05-30         3.401197      Tampa\n",
       "32216 2022-05-31         3.465736      Tampa\n",
       "32217 2022-06-01         3.433987      Tampa\n",
       "32218 2022-06-02         3.433987      Tampa\n",
       "32219 2022-06-03         3.044522      Tampa\n",
       "\n",
       "[32220 rows x 3 columns]"
      ]
     },
     "execution_count": 4,
     "metadata": {},
     "output_type": "execute_result"
    }
   ],
   "source": [
    "# Create a copy df\n",
    "copy = df_clean.copy()\n",
    "\n",
    "# Apply log to AQI Value\n",
    "copy['PM2.5 AQI Value'] = np.log(copy['PM2.5 AQI Value'])\n",
    "copy"
   ]
  },
  {
   "cell_type": "markdown",
   "id": "3558c3f7",
   "metadata": {},
   "source": [
    "# Green Space and Tree Canopy Percentage Data"
   ]
  },
  {
   "cell_type": "markdown",
   "id": "89494221",
   "metadata": {},
   "source": [
    "Recall that we ran into the limitation of not being able to save the aggregate data of all cities and saved data by city. So we'll perform modeling by city. "
   ]
  },
  {
   "cell_type": "markdown",
   "id": "72530a3f",
   "metadata": {},
   "source": [
    "# PCA"
   ]
  },
  {
   "cell_type": "markdown",
   "id": "2e4e7bf2",
   "metadata": {},
   "source": [
    "Using [scikit-learn](https://scikit-learn.org/stable/data_transforms.html), we will perform preprocessing, unsupervised dimensionality reduction (PCA), cross validation, and try different prediction modeling. Our model of interest is SVM. \n",
    "\n",
    "Cross validation (CV) is out-of-sample testing and it is any of various similar model validation techniques for assessing how the results of a statistical analysis will generalize to an independent data set. CV is a resampling method that uses different portions of the data to test and train a model on different iterations.\n",
    "\n",
    "\n",
    "Fit transform: Each of the *predictor variables* should be scaled to have **mean=0** and **standard deviation=1**, to make sure that no predictor variable is overly influential in the model if it happens to be measured in different units."
   ]
  },
  {
   "cell_type": "markdown",
   "id": "a443e5ea",
   "metadata": {},
   "source": [
    "## Cleveland, OH"
   ]
  },
  {
   "cell_type": "code",
   "execution_count": 5,
   "id": "3239e9bd",
   "metadata": {},
   "outputs": [
    {
     "data": {
      "text/html": [
       "<div>\n",
       "<style scoped>\n",
       "    .dataframe tbody tr th:only-of-type {\n",
       "        vertical-align: middle;\n",
       "    }\n",
       "\n",
       "    .dataframe tbody tr th {\n",
       "        vertical-align: top;\n",
       "    }\n",
       "\n",
       "    .dataframe thead th {\n",
       "        text-align: right;\n",
       "    }\n",
       "</style>\n",
       "<table border=\"1\" class=\"dataframe\">\n",
       "  <thead>\n",
       "    <tr style=\"text-align: right;\">\n",
       "      <th></th>\n",
       "      <th>Particulate matter [PM2.5] (kg/yr)</th>\n",
       "      <th>Particulate matter [PM10] (kg/yr)</th>\n",
       "      <th>Percent tree cover</th>\n",
       "      <th>Percent green space</th>\n",
       "      <th>Tree cover per capita (m2/person)</th>\n",
       "      <th>Green space per capita (m2/person)</th>\n",
       "      <th>Percent tree cover in 50m buffer</th>\n",
       "      <th>Percent tree cover in 15m buffer</th>\n",
       "      <th>EnviroAtlas Community Name</th>\n",
       "      <th>Value of hospital admissions avoided due to nitrogen dioxide removed ($/yr)</th>\n",
       "      <th>Asthma exacerbation avoided due to nitrogen dioxide removed (cases/yr)</th>\n",
       "      <th>Value of asthma exacerbation cases avoided due to nitrogen dioxide removed ($/yr)</th>\n",
       "      <th>Value of mortality avoided due to ozone removed ($/yr)</th>\n",
       "      <th>Acute respiratory symptoms avoided due to particulate matter [PM2.5] removed (cases/yr)</th>\n",
       "      <th>Percent ozone removed annually by tree cover</th>\n",
       "      <th>Percent particulate matter [PM10] removed annually by tree cover</th>\n",
       "      <th>Percent particulate matter [PM2.5] removed annually by tree cover</th>\n",
       "      <th>Percent sulfur dioxide removed annually by tree cover</th>\n",
       "    </tr>\n",
       "  </thead>\n",
       "  <tbody>\n",
       "    <tr>\n",
       "      <th>0</th>\n",
       "      <td>106.5</td>\n",
       "      <td>369.0</td>\n",
       "      <td>3504</td>\n",
       "      <td>6279</td>\n",
       "      <td>119.8</td>\n",
       "      <td>214.7</td>\n",
       "      <td>35.1</td>\n",
       "      <td>31.2</td>\n",
       "      <td>Cleveland, OH</td>\n",
       "      <td>64</td>\n",
       "      <td>0</td>\n",
       "      <td>48</td>\n",
       "      <td>4429</td>\n",
       "      <td>0</td>\n",
       "      <td>22.5</td>\n",
       "      <td>32.5</td>\n",
       "      <td>12.5</td>\n",
       "      <td>17.1</td>\n",
       "    </tr>\n",
       "    <tr>\n",
       "      <th>1</th>\n",
       "      <td>106.5</td>\n",
       "      <td>369.0</td>\n",
       "      <td>3504</td>\n",
       "      <td>6279</td>\n",
       "      <td>119.8</td>\n",
       "      <td>214.7</td>\n",
       "      <td>35.1</td>\n",
       "      <td>31.2</td>\n",
       "      <td>Cleveland, OH</td>\n",
       "      <td>50</td>\n",
       "      <td>0</td>\n",
       "      <td>38</td>\n",
       "      <td>3520</td>\n",
       "      <td>0</td>\n",
       "      <td>16.3</td>\n",
       "      <td>23.5</td>\n",
       "      <td>9.2</td>\n",
       "      <td>12.4</td>\n",
       "    </tr>\n",
       "  </tbody>\n",
       "</table>\n",
       "</div>"
      ],
      "text/plain": [
       "   Particulate matter [PM2.5] (kg/yr)  Particulate matter [PM10] (kg/yr)  \\\n",
       "0                               106.5                              369.0   \n",
       "1                               106.5                              369.0   \n",
       "\n",
       "   Percent tree cover  Percent green space  Tree cover per capita (m2/person)  \\\n",
       "0                3504                 6279                              119.8   \n",
       "1                3504                 6279                              119.8   \n",
       "\n",
       "   Green space per capita (m2/person)  Percent tree cover in 50m buffer  \\\n",
       "0                               214.7                              35.1   \n",
       "1                               214.7                              35.1   \n",
       "\n",
       "   Percent tree cover in 15m buffer EnviroAtlas Community Name  \\\n",
       "0                              31.2              Cleveland, OH   \n",
       "1                              31.2              Cleveland, OH   \n",
       "\n",
       "   Value of hospital admissions avoided due to nitrogen dioxide removed ($/yr)  \\\n",
       "0                                                 64                             \n",
       "1                                                 50                             \n",
       "\n",
       "   Asthma exacerbation avoided due to nitrogen dioxide removed (cases/yr)  \\\n",
       "0                                                  0                        \n",
       "1                                                  0                        \n",
       "\n",
       "   Value of asthma exacerbation cases avoided due to nitrogen dioxide removed ($/yr)  \\\n",
       "0                                                 48                                   \n",
       "1                                                 38                                   \n",
       "\n",
       "   Value of mortality avoided due to ozone removed ($/yr)  \\\n",
       "0                                               4429        \n",
       "1                                               3520        \n",
       "\n",
       "   Acute respiratory symptoms avoided due to particulate matter [PM2.5] removed (cases/yr)  \\\n",
       "0                                                  0                                         \n",
       "1                                                  0                                         \n",
       "\n",
       "   Percent ozone removed annually by tree cover  \\\n",
       "0                                          22.5   \n",
       "1                                          16.3   \n",
       "\n",
       "   Percent particulate matter [PM10] removed annually by tree cover  \\\n",
       "0                                               32.5                  \n",
       "1                                               23.5                  \n",
       "\n",
       "   Percent particulate matter [PM2.5] removed annually by tree cover  \\\n",
       "0                                               12.5                   \n",
       "1                                                9.2                   \n",
       "\n",
       "   Percent sulfur dioxide removed annually by tree cover  \n",
       "0                                               17.1      \n",
       "1                                               12.4      "
      ]
     },
     "execution_count": 5,
     "metadata": {},
     "output_type": "execute_result"
    }
   ],
   "source": [
    "path0 = r'D:\\Tree-Canopy-Percentage-Air-Quality-Correlation-to-Acute-Resp-Illnesses-in-Ohio-cities-Project_\\df_cle.xlsx'\n",
    "cle = pd.read_excel(path0)\n",
    "cle.head(2)"
   ]
  },
  {
   "cell_type": "code",
   "execution_count": 6,
   "id": "2f05cc1c",
   "metadata": {},
   "outputs": [
    {
     "data": {
      "text/plain": [
       "(315288, 18)"
      ]
     },
     "execution_count": 6,
     "metadata": {},
     "output_type": "execute_result"
    }
   ],
   "source": [
    "cle.shape"
   ]
  },
  {
   "cell_type": "code",
   "execution_count": 7,
   "id": "6b50754e",
   "metadata": {},
   "outputs": [],
   "source": [
    "# Drop any object dtype\n",
    "cle = cle.drop(columns='EnviroAtlas Community Name')"
   ]
  },
  {
   "cell_type": "markdown",
   "id": "067bcd48",
   "metadata": {},
   "source": [
    "### Train and test split"
   ]
  },
  {
   "cell_type": "code",
   "execution_count": 8,
   "id": "028c5a04",
   "metadata": {},
   "outputs": [],
   "source": [
    "# Define X and y\n",
    "X = cle[[i for i in cle.columns if i not in [\"Percent particulate matter [PM2.5] removed annually by tree cover\"]]]\n",
    "y = cle[\"Percent particulate matter [PM2.5] removed annually by tree cover\"]"
   ]
  },
  {
   "cell_type": "code",
   "execution_count": 9,
   "id": "ffd64873",
   "metadata": {},
   "outputs": [],
   "source": [
    "# Split train and test\n",
    "X_train, X_test, y_train, y_test = train_test_split(X, y, test_size = 0.2, random_state = 123)"
   ]
  },
  {
   "cell_type": "code",
   "execution_count": 10,
   "id": "031ccc71",
   "metadata": {},
   "outputs": [
    {
     "name": "stdout",
     "output_type": "stream",
     "text": [
      "(315288, 16)\n",
      "(315288,)\n"
     ]
    }
   ],
   "source": [
    "print(X.shape)\n",
    "print(y.shape)"
   ]
  },
  {
   "cell_type": "code",
   "execution_count": 11,
   "id": "e5ff81f7",
   "metadata": {},
   "outputs": [
    {
     "name": "stdout",
     "output_type": "stream",
     "text": [
      "(252230, 16)\n",
      "(252230,)\n"
     ]
    }
   ],
   "source": [
    "print(X_train.shape)\n",
    "print(y_train.shape)"
   ]
  },
  {
   "cell_type": "code",
   "execution_count": 12,
   "id": "4ef470f7",
   "metadata": {},
   "outputs": [],
   "source": [
    "#  Normalize data using StandardScaler()\n",
    "scaler = StandardScaler()\n",
    "X_train_norm = pd.DataFrame(scaler.fit_transform(X_train),columns=X_train.columns)\n",
    "X_test_norm = pd.DataFrame(scaler.transform(X_test),columns=X_test.columns)"
   ]
  },
  {
   "cell_type": "code",
   "execution_count": 13,
   "id": "2ac4e424",
   "metadata": {},
   "outputs": [
    {
     "data": {
      "text/plain": [
       "Particulate matter [PM2.5] (kg/yr)                                                         1.0\n",
       "Particulate matter [PM10] (kg/yr)                                                          1.0\n",
       "Percent tree cover                                                                         1.0\n",
       "Percent green space                                                                        1.0\n",
       "Tree cover per capita (m2/person)                                                          1.0\n",
       "Green space per capita (m2/person)                                                         1.0\n",
       "Percent tree cover in 50m buffer                                                           1.0\n",
       "Percent tree cover in 15m buffer                                                           1.0\n",
       "Value of hospital admissions avoided due to nitrogen dioxide removed ($/yr)                1.0\n",
       "Asthma exacerbation avoided due to nitrogen dioxide removed (cases/yr)                     1.0\n",
       "Value of asthma exacerbation cases avoided due to nitrogen dioxide removed ($/yr)          1.0\n",
       "Value of mortality avoided due to ozone removed ($/yr)                                     1.0\n",
       "Acute respiratory symptoms avoided due to particulate matter [PM2.5] removed (cases/yr)    1.0\n",
       "Percent ozone removed annually by tree cover                                               1.0\n",
       "Percent particulate matter [PM10] removed annually by tree cover                           1.0\n",
       "Percent sulfur dioxide removed annually by tree cover                                      1.0\n",
       "dtype: float64"
      ]
     },
     "execution_count": 13,
     "metadata": {},
     "output_type": "execute_result"
    }
   ],
   "source": [
    "# Return biased estimate\n",
    "X_train_norm.std(ddof = 0)"
   ]
  },
  {
   "cell_type": "code",
   "execution_count": 14,
   "id": "d55acba0",
   "metadata": {},
   "outputs": [
    {
     "data": {
      "text/plain": [
       "Particulate matter [PM2.5] (kg/yr)                                                         0.998922\n",
       "Particulate matter [PM10] (kg/yr)                                                          0.997567\n",
       "Percent tree cover                                                                         0.996647\n",
       "Percent green space                                                                        0.997430\n",
       "Tree cover per capita (m2/person)                                                          0.988756\n",
       "Green space per capita (m2/person)                                                         0.988962\n",
       "Percent tree cover in 50m buffer                                                           0.998601\n",
       "Percent tree cover in 15m buffer                                                           0.990397\n",
       "Value of hospital admissions avoided due to nitrogen dioxide removed ($/yr)                0.989285\n",
       "Asthma exacerbation avoided due to nitrogen dioxide removed (cases/yr)                     0.987550\n",
       "Value of asthma exacerbation cases avoided due to nitrogen dioxide removed ($/yr)          0.987019\n",
       "Value of mortality avoided due to ozone removed ($/yr)                                     0.999360\n",
       "Acute respiratory symptoms avoided due to particulate matter [PM2.5] removed (cases/yr)    0.995321\n",
       "Percent ozone removed annually by tree cover                                               0.997392\n",
       "Percent particulate matter [PM10] removed annually by tree cover                           0.998531\n",
       "Percent sulfur dioxide removed annually by tree cover                                      0.998185\n",
       "dtype: float64"
      ]
     },
     "execution_count": 14,
     "metadata": {},
     "output_type": "execute_result"
    }
   ],
   "source": [
    "# Return biased estimate\n",
    "X_test_norm.std(ddof = 0)"
   ]
  },
  {
   "cell_type": "code",
   "execution_count": 15,
   "id": "d5cc0b02",
   "metadata": {},
   "outputs": [],
   "source": [
    "# Predictor variables scaling\n",
    "pca = PCA()\n",
    "X_red = pca.fit_transform(scale(X_train_norm))\n",
    "# Define CV\n",
    "cv = RepeatedKFold(n_splits = 10, n_repeats = 3, random_state = 123)"
   ]
  },
  {
   "cell_type": "code",
   "execution_count": 16,
   "id": "8b6a0658",
   "metadata": {},
   "outputs": [
    {
     "data": {
      "image/png": "[encoded data removed]",
      "text/plain": [
       "<Figure size 576x360 with 1 Axes>"
      ]
     },
     "metadata": {
      "needs_background": "light"
     },
     "output_type": "display_data"
    }
   ],
   "source": [
    "# Plot cumulative variance ratio \n",
    "plt.subplots(figsize=(8, 5))\n",
    "plt.plot(pca.explained_variance_ratio_.cumsum())\n",
    "plt.xlabel('Component #')\n",
    "plt.ylabel('Cumulative ratio variance')\n",
    "plt.title('Cumulative variance ratio explained by PCA components for Green Space/Tree Cover/ARIs summary statistics');"
   ]
  },
  {
   "cell_type": "code",
   "execution_count": 17,
   "id": "dc804c6c",
   "metadata": {},
   "outputs": [
    {
     "data": {
      "text/plain": [
       "array([ 38.2 ,  60.1 ,  72.86,  79.93,  86.92,  92.41,  94.74,  96.77,\n",
       "        97.82,  98.54,  99.09,  99.5 ,  99.74,  99.93,  99.99, 100.  ])"
      ]
     },
     "execution_count": 17,
     "metadata": {},
     "output_type": "execute_result"
    }
   ],
   "source": [
    "# Percent variance in response variable explained by each addition of principal component to the model\n",
    "np.cumsum(np.round(pca.explained_variance_ratio_, decimals=4)*100)"
   ]
  },
  {
   "cell_type": "markdown",
   "id": "6a5c9e23",
   "metadata": {},
   "source": [
    " - 1st principal component accounts for 38.2% of variance.\n",
    " - 2nd principal component accounts for 60.1% of variance.\n",
    " - 3rd principal component accounts for 72.86% of variance.\n",
    " - 4th principal component accounts for 79.93% of variance.\n",
    " - 5th principal component accounts for 86.92% of variance\n",
    " - nth principal component accounts for 100% of variance."
   ]
  },
  {
   "cell_type": "markdown",
   "id": "25b2ed9b",
   "metadata": {},
   "source": [
    "### Linear Regression"
   ]
  },
  {
   "cell_type": "markdown",
   "id": "e051aec7",
   "metadata": {},
   "source": [
    "Let's look at our RMSE scores using linear regression and plot our cross-validation results"
   ]
  },
  {
   "cell_type": "code",
   "execution_count": 18,
   "id": "1e493418",
   "metadata": {},
   "outputs": [
    {
     "data": {
      "text/plain": [
       "(252230,)"
      ]
     },
     "execution_count": 18,
     "metadata": {},
     "output_type": "execute_result"
    }
   ],
   "source": [
    "y_train.shape"
   ]
  },
  {
   "cell_type": "code",
   "execution_count": 19,
   "id": "15ea05bf",
   "metadata": {},
   "outputs": [
    {
     "data": {
      "text/plain": [
       "(252230, 16)"
      ]
     },
     "execution_count": 19,
     "metadata": {},
     "output_type": "execute_result"
    }
   ],
   "source": [
    "X_train.shape"
   ]
  },
  {
   "cell_type": "code",
   "execution_count": 20,
   "id": "b5a97fce",
   "metadata": {},
   "outputs": [],
   "source": [
    "from sklearn import linear_model, preprocessing\n",
    "\n",
    "lin_reg = linear_model.LinearRegression()"
   ]
  },
  {
   "cell_type": "code",
   "execution_count": 21,
   "id": "75e11381",
   "metadata": {},
   "outputs": [],
   "source": [
    "lin_reg.fit(X_train, y_train)\n",
    "# Evaluate the model  \n",
    "lin_reg.score(X_train, y_train)\n",
    "# Use the model to make predictions about our test data\n",
    "y_predict = lin_reg.predict(X_test)"
   ]
  },
  {
   "cell_type": "code",
   "execution_count": 22,
   "id": "e92f6b92",
   "metadata": {},
   "outputs": [
    {
     "data": {
      "text/plain": [
       "array([19.72692953, 19.68871318, 23.46531762, ..., 13.47412419,\n",
       "       16.17608319, 16.56977742])"
      ]
     },
     "execution_count": 22,
     "metadata": {},
     "output_type": "execute_result"
    }
   ],
   "source": [
    "y_predict"
   ]
  },
  {
   "cell_type": "code",
   "execution_count": 23,
   "id": "d632d835",
   "metadata": {},
   "outputs": [
    {
     "data": {
      "text/html": [
       "<div>\n",
       "<style scoped>\n",
       "    .dataframe tbody tr th:only-of-type {\n",
       "        vertical-align: middle;\n",
       "    }\n",
       "\n",
       "    .dataframe tbody tr th {\n",
       "        vertical-align: top;\n",
       "    }\n",
       "\n",
       "    .dataframe thead th {\n",
       "        text-align: right;\n",
       "    }\n",
       "</style>\n",
       "<table border=\"1\" class=\"dataframe\">\n",
       "  <thead>\n",
       "    <tr style=\"text-align: right;\">\n",
       "      <th></th>\n",
       "      <th>Percent particulate matter [PM2.5] removed annually by tree cover</th>\n",
       "    </tr>\n",
       "  </thead>\n",
       "  <tbody>\n",
       "    <tr>\n",
       "      <th>0</th>\n",
       "      <td>19.726930</td>\n",
       "    </tr>\n",
       "    <tr>\n",
       "      <th>1</th>\n",
       "      <td>19.688713</td>\n",
       "    </tr>\n",
       "    <tr>\n",
       "      <th>2</th>\n",
       "      <td>23.465318</td>\n",
       "    </tr>\n",
       "    <tr>\n",
       "      <th>3</th>\n",
       "      <td>13.620441</td>\n",
       "    </tr>\n",
       "    <tr>\n",
       "      <th>4</th>\n",
       "      <td>20.216963</td>\n",
       "    </tr>\n",
       "  </tbody>\n",
       "</table>\n",
       "</div>"
      ],
      "text/plain": [
       "   Percent particulate matter [PM2.5] removed annually by tree cover\n",
       "0                                          19.726930                \n",
       "1                                          19.688713                \n",
       "2                                          23.465318                \n",
       "3                                          13.620441                \n",
       "4                                          20.216963                "
      ]
     },
     "execution_count": 23,
     "metadata": {},
     "output_type": "execute_result"
    }
   ],
   "source": [
    "# Create and print dataframe accounting for '\n",
    "# Acute respiratory symptoms avoided due to particulate matter [PM2.5] removed (cases/yr)' from y_predict\n",
    "ARI_pred = pd.DataFrame(y_predict, columns = ['Percent particulate matter [PM2.5] removed annually by tree cover'])\n",
    "ARI_pred.head()"
   ]
  },
  {
   "cell_type": "code",
   "execution_count": 24,
   "id": "5094e856",
   "metadata": {},
   "outputs": [
    {
     "data": {
      "text/html": [
       "<div>\n",
       "<style scoped>\n",
       "    .dataframe tbody tr th:only-of-type {\n",
       "        vertical-align: middle;\n",
       "    }\n",
       "\n",
       "    .dataframe tbody tr th {\n",
       "        vertical-align: top;\n",
       "    }\n",
       "\n",
       "    .dataframe thead th {\n",
       "        text-align: right;\n",
       "    }\n",
       "</style>\n",
       "<table border=\"1\" class=\"dataframe\">\n",
       "  <thead>\n",
       "    <tr style=\"text-align: right;\">\n",
       "      <th></th>\n",
       "      <th>Percent particulate matter [PM2.5] removed annually by tree cover</th>\n",
       "    </tr>\n",
       "  </thead>\n",
       "  <tbody>\n",
       "    <tr>\n",
       "      <th>219788</th>\n",
       "      <td>20.2</td>\n",
       "    </tr>\n",
       "    <tr>\n",
       "      <th>11128</th>\n",
       "      <td>20.1</td>\n",
       "    </tr>\n",
       "    <tr>\n",
       "      <th>178951</th>\n",
       "      <td>23.6</td>\n",
       "    </tr>\n",
       "    <tr>\n",
       "      <th>228125</th>\n",
       "      <td>13.5</td>\n",
       "    </tr>\n",
       "    <tr>\n",
       "      <th>69747</th>\n",
       "      <td>20.2</td>\n",
       "    </tr>\n",
       "  </tbody>\n",
       "</table>\n",
       "</div>"
      ],
      "text/plain": [
       "        Percent particulate matter [PM2.5] removed annually by tree cover\n",
       "219788                                               20.2                \n",
       "11128                                                20.1                \n",
       "178951                                               23.6                \n",
       "228125                                               13.5                \n",
       "69747                                                20.2                "
      ]
     },
     "execution_count": 24,
     "metadata": {},
     "output_type": "execute_result"
    }
   ],
   "source": [
    "# Create dataframe for actual ARI symptoms avoided due to PM2.5 removed (cases/yr) from y_predict\n",
    "ARI_actual = pd.DataFrame(y_test)\n",
    "ARI_actual.head()"
   ]
  },
  {
   "cell_type": "code",
   "execution_count": 25,
   "id": "ede9c17b",
   "metadata": {},
   "outputs": [
    {
     "data": {
      "image/png": "[encoded data removed]",
      "text/plain": [
       "<Figure size 720x360 with 1 Axes>"
      ]
     },
     "metadata": {
      "needs_background": "light"
     },
     "output_type": "display_data"
    }
   ],
   "source": [
    "# Plot predicted vs actual\n",
    "ax = ARI_actual.plot(kind = 'density', figsize = (10,5))\n",
    "ARI_pred.plot(kind = 'density', figsize = (10,5), ax = ax)\n",
    "L = plt.legend()\n",
    "L.get_texts()[0].set_text('Actual PM2.5 removed annually by tree cover')\n",
    "L.get_texts()[1].set_text('Predicted PM2.5 removed annually by tree cover')\n",
    "plt.show()"
   ]
  },
  {
   "cell_type": "code",
   "execution_count": 26,
   "id": "393e32b5",
   "metadata": {},
   "outputs": [
    {
     "data": {
      "image/png": "[encoded data removed]",
      "text/plain": [
       "<Figure size 432x288 with 1 Axes>"
      ]
     },
     "metadata": {
      "needs_background": "light"
     },
     "output_type": "display_data"
    }
   ],
   "source": [
    "# Let's plot the predictions against the actual result. Use scatter()\n",
    "_ = plt.scatter(y_test, y_predict)\n",
    "_ = plt.xlabel(\"actual\")\n",
    "_ = plt.ylabel(\"predicted\")\n",
    "plt.show()"
   ]
  },
  {
   "cell_type": "markdown",
   "id": "c2ea70b7",
   "metadata": {},
   "source": [
    "### SVM"
   ]
  },
  {
   "cell_type": "code",
   "execution_count": 27,
   "id": "a839b6e6",
   "metadata": {},
   "outputs": [],
   "source": [
    "# Perform another train and test split\n",
    "X1 = cle[[i for i in cle.columns if i not in [\"Percent particulate matter [PM2.5] removed annually by tree cover\"]]]\n",
    "y1 = cle[\"Percent particulate matter [PM2.5] removed annually by tree cover\"]\n",
    "\n",
    "# Train and test split\n",
    "X_train1,X_test1,y_train1,y_test1 = train_test_split(X1,y1,test_size = 0.25,random_state = 123) "
   ]
  },
  {
   "cell_type": "code",
   "execution_count": 28,
   "id": "2121d70f",
   "metadata": {},
   "outputs": [],
   "source": [
    "# Preprocess with StandardScaler()\n",
    "scale = StandardScaler()\n",
    "\n",
    "# Fit_transform for predictors\n",
    "X_train1_svm = scale.fit_transform(X_train1)\n",
    "X_test1_svm = scale.fit_transform(X_test1)"
   ]
  },
  {
   "cell_type": "code",
   "execution_count": 29,
   "id": "40ac6fe7",
   "metadata": {},
   "outputs": [
    {
     "name": "stdout",
     "output_type": "stream",
     "text": [
      "(236466, 16)\n",
      "(78822, 16)\n"
     ]
    }
   ],
   "source": [
    "print(X_train1_svm.shape)\n",
    "print(X_test1_svm.shape)"
   ]
  },
  {
   "cell_type": "code",
   "execution_count": 30,
   "id": "1bf99d82",
   "metadata": {},
   "outputs": [],
   "source": [
    "# Fit_transform response variables\n",
    "y_train1_svm = scale.fit_transform(y_train1.to_numpy().reshape(-1,1))\n",
    "y_test1_svm =  scale.fit_transform(y_test1.to_numpy().reshape(-1,1))"
   ]
  },
  {
   "cell_type": "code",
   "execution_count": 31,
   "id": "e4176b4c",
   "metadata": {},
   "outputs": [
    {
     "name": "stdout",
     "output_type": "stream",
     "text": [
      "(236466, 1)\n",
      "(78822, 1)\n"
     ]
    }
   ],
   "source": [
    "print(y_train1_svm.shape)\n",
    "print(y_test1_svm.shape)"
   ]
  },
  {
   "cell_type": "code",
   "execution_count": null,
   "id": "2eee77c9",
   "metadata": {},
   "outputs": [],
   "source": [
    "# Define SVR \n",
    "svr = SVR(kernel = 'rbf')\n",
    "model_svr = svr.fit(X_train1_svm, np.ravel(y_train1_svm))\n",
    "y_predict1 = model_svr.predict(X_train1_svm)"
   ]
  },
  {
   "cell_type": "code",
   "execution_count": null,
   "id": "cbb1d4fa",
   "metadata": {},
   "outputs": [],
   "source": [
    "# Assess MSE score\n",
    "score = model_svr.score(X_train1_svm,y_train1_svm)\n",
    "print(\"Score R-squared :\", score*100)\n",
    "print(\"MSE :\", mean_squared_error(y_train1_svm, y_predict1))"
   ]
  },
  {
   "cell_type": "code",
   "execution_count": null,
   "id": "3b7b148f",
   "metadata": {},
   "outputs": [],
   "source": []
  }
 ],
 "metadata": {
  "kernelspec": {
   "display_name": "Python 3 (ipykernel)",
   "language": "python",
   "name": "python3"
  },
  "language_info": {
   "codemirror_mode": {
    "name": "ipython",
    "version": 3
   },
   "file_extension": ".py",
   "mimetype": "text/x-python",
   "name": "python",
   "nbconvert_exporter": "python",
   "pygments_lexer": "ipython3",
   "version": "3.8.8"
  },
  "toc": {
   "base_numbering": 1,
   "nav_menu": {},
   "number_sections": true,
   "sideBar": true,
   "skip_h1_title": false,
   "title_cell": "Table of Contents",
   "title_sidebar": "Contents",
   "toc_cell": true,
   "toc_position": {},
   "toc_section_display": true,
   "toc_window_display": true
  }
 },
 "nbformat": 4,
 "nbformat_minor": 5
}
