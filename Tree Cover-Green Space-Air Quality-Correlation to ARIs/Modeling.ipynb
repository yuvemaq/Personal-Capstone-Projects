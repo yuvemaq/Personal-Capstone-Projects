{
 "cells": [
  {
   "cell_type": "markdown",
   "id": "a038240e",
   "metadata": {
    "toc": true
   },
   "source": [
    "<h1>Table of Contents<span class=\"tocSkip\"></span></h1>\n",
    "<div class=\"toc\"><ul class=\"toc-item\"><li><span><a href=\"#AQI-Data-(1999---2022)\" data-toc-modified-id=\"AQI-Data-(1999---2022)-1\"><span class=\"toc-item-num\">1&nbsp;&nbsp;</span>AQI Data (1999 - 2022)</a></span></li><li><span><a href=\"#Green-Space-and-Tree-Canopy-Percentage-Data\" data-toc-modified-id=\"Green-Space-and-Tree-Canopy-Percentage-Data-2\"><span class=\"toc-item-num\">2&nbsp;&nbsp;</span>Green Space and Tree Canopy Percentage Data</a></span></li><li><span><a href=\"#PCA\" data-toc-modified-id=\"PCA-3\"><span class=\"toc-item-num\">3&nbsp;&nbsp;</span>PCA</a></span><ul class=\"toc-item\"><li><span><a href=\"#Cleveland,-OH\" data-toc-modified-id=\"Cleveland,-OH-3.1\"><span class=\"toc-item-num\">3.1&nbsp;&nbsp;</span>Cleveland, OH</a></span><ul class=\"toc-item\"><li><span><a href=\"#Import-file\" data-toc-modified-id=\"Import-file-3.1.1\"><span class=\"toc-item-num\">3.1.1&nbsp;&nbsp;</span>Import file</a></span></li></ul></li><li><span><a href=\"#Percent-particulate-matter-[PM2.5]-removed-annually-by-tree-cover\" data-toc-modified-id=\"Percent-particulate-matter-[PM2.5]-removed-annually-by-tree-cover-3.2\"><span class=\"toc-item-num\">3.2&nbsp;&nbsp;</span>Percent particulate matter [PM2.5] removed annually by tree cover</a></span></li><li><span><a href=\"#Percent-tree-cover-in-50m-buffer\" data-toc-modified-id=\"Percent-tree-cover-in-50m-buffer-3.3\"><span class=\"toc-item-num\">3.3&nbsp;&nbsp;</span>Percent tree cover in 50m buffer</a></span><ul class=\"toc-item\"><li><span><a href=\"#Train-and-test-split\" data-toc-modified-id=\"Train-and-test-split-3.3.1\"><span class=\"toc-item-num\">3.3.1&nbsp;&nbsp;</span>Train and test split</a></span></li><li><span><a href=\"#Linear-Regression\" data-toc-modified-id=\"Linear-Regression-3.3.2\"><span class=\"toc-item-num\">3.3.2&nbsp;&nbsp;</span>Linear Regression</a></span></li><li><span><a href=\"#SVM\" data-toc-modified-id=\"SVM-3.3.3\"><span class=\"toc-item-num\">3.3.3&nbsp;&nbsp;</span>SVM</a></span></li></ul></li><li><span><a href=\"#Los-Angeles,-CA\" data-toc-modified-id=\"Los-Angeles,-CA-3.4\"><span class=\"toc-item-num\">3.4&nbsp;&nbsp;</span>Los Angeles, CA</a></span><ul class=\"toc-item\"><li><span><a href=\"#Train-and-test-split\" data-toc-modified-id=\"Train-and-test-split-3.4.1\"><span class=\"toc-item-num\">3.4.1&nbsp;&nbsp;</span>Train and test split</a></span></li><li><span><a href=\"#Linear-Regression\" data-toc-modified-id=\"Linear-Regression-3.4.2\"><span class=\"toc-item-num\">3.4.2&nbsp;&nbsp;</span>Linear Regression</a></span></li><li><span><a href=\"#SVM\" data-toc-modified-id=\"SVM-3.4.3\"><span class=\"toc-item-num\">3.4.3&nbsp;&nbsp;</span>SVM</a></span></li></ul></li></ul></li></ul></div>"
   ]
  },
  {
   "cell_type": "code",
   "execution_count": 1,
   "id": "172a5f72",
   "metadata": {},
   "outputs": [],
   "source": [
    "import pandas as pd\n",
    "import numpy as np\n",
    "import matplotlib.pyplot as plt\n",
    "%matplotlib inline\n",
    "import seaborn as sns\n",
    "\n",
    "from matplotlib import cm\n",
    "import scipy.stats as stats\n",
    "import plotly.express as px\n",
    "from sklearn.preprocessing import scale \n",
    "from sklearn import model_selection\n",
    "from sklearn.model_selection import RepeatedKFold\n",
    "from sklearn.model_selection import train_test_split\n",
    "from sklearn.decomposition import PCA\n",
    "from sklearn.linear_model import LinearRegression\n",
    "from sklearn.metrics import mean_squared_error,r2_score\n",
    "from sklearn.preprocessing import StandardScaler,RobustScaler,MinMaxScaler\n",
    "from sklearn.preprocessing import LabelEncoder\n",
    "from sklearn.svm import SVR\n",
    "from sklearn import metrics\n",
    "import warnings\n",
    "\n",
    "import os\n",
    "import sys"
   ]
  },
  {
   "cell_type": "markdown",
   "id": "555bfd9f",
   "metadata": {},
   "source": [
    "# AQI Data (1999 - 2022)"
   ]
  },
  {
   "cell_type": "code",
   "execution_count": 2,
   "id": "4600c8e1",
   "metadata": {},
   "outputs": [
    {
     "data": {
      "text/html": [
       "<div>\n",
       "<style scoped>\n",
       "    .dataframe tbody tr th:only-of-type {\n",
       "        vertical-align: middle;\n",
       "    }\n",
       "\n",
       "    .dataframe tbody tr th {\n",
       "        vertical-align: top;\n",
       "    }\n",
       "\n",
       "    .dataframe thead th {\n",
       "        text-align: right;\n",
       "    }\n",
       "</style>\n",
       "<table border=\"1\" class=\"dataframe\">\n",
       "  <thead>\n",
       "    <tr style=\"text-align: right;\">\n",
       "      <th></th>\n",
       "      <th>Unnamed: 0</th>\n",
       "      <th>Date</th>\n",
       "      <th>PM2.5 AQI Value</th>\n",
       "      <th>City</th>\n",
       "      <th>Month</th>\n",
       "      <th>Weekday</th>\n",
       "    </tr>\n",
       "  </thead>\n",
       "  <tbody>\n",
       "    <tr>\n",
       "      <th>0</th>\n",
       "      <td>0</td>\n",
       "      <td>1999-01-03</td>\n",
       "      <td>46</td>\n",
       "      <td>Cleveland</td>\n",
       "      <td>January</td>\n",
       "      <td>Sunday</td>\n",
       "    </tr>\n",
       "    <tr>\n",
       "      <th>1</th>\n",
       "      <td>1</td>\n",
       "      <td>1999-01-06</td>\n",
       "      <td>62</td>\n",
       "      <td>Cleveland</td>\n",
       "      <td>January</td>\n",
       "      <td>Wednesday</td>\n",
       "    </tr>\n",
       "    <tr>\n",
       "      <th>2</th>\n",
       "      <td>2</td>\n",
       "      <td>1999-01-08</td>\n",
       "      <td>112</td>\n",
       "      <td>Cleveland</td>\n",
       "      <td>January</td>\n",
       "      <td>Friday</td>\n",
       "    </tr>\n",
       "    <tr>\n",
       "      <th>3</th>\n",
       "      <td>3</td>\n",
       "      <td>1999-01-09</td>\n",
       "      <td>70</td>\n",
       "      <td>Cleveland</td>\n",
       "      <td>January</td>\n",
       "      <td>Saturday</td>\n",
       "    </tr>\n",
       "    <tr>\n",
       "      <th>4</th>\n",
       "      <td>4</td>\n",
       "      <td>1999-01-10</td>\n",
       "      <td>82</td>\n",
       "      <td>Cleveland</td>\n",
       "      <td>January</td>\n",
       "      <td>Sunday</td>\n",
       "    </tr>\n",
       "  </tbody>\n",
       "</table>\n",
       "</div>"
      ],
      "text/plain": [
       "   Unnamed: 0       Date  PM2.5 AQI Value       City    Month    Weekday\n",
       "0           0 1999-01-03               46  Cleveland  January     Sunday\n",
       "1           1 1999-01-06               62  Cleveland  January  Wednesday\n",
       "2           2 1999-01-08              112  Cleveland  January     Friday\n",
       "3           3 1999-01-09               70  Cleveland  January   Saturday\n",
       "4           4 1999-01-10               82  Cleveland  January     Sunday"
      ]
     },
     "execution_count": 2,
     "metadata": {},
     "output_type": "execute_result"
    }
   ],
   "source": [
    "path = r'D:\\Tree-Canopy-Percentage-Air-Quality-Correlation-to-Acute-Resp-Illnesses-in-Ohio-cities-Project_\\AQIdata\\1999_2022\\all_tables.xlsx'\n",
    "df = pd.read_excel(path)\n",
    "df.head(5)"
   ]
  },
  {
   "cell_type": "code",
   "execution_count": 3,
   "id": "9acbeeb6",
   "metadata": {},
   "outputs": [
    {
     "name": "stdout",
     "output_type": "stream",
     "text": [
      "<class 'pandas.core.frame.DataFrame'>\n",
      "RangeIndex: 32220 entries, 0 to 32219\n",
      "Data columns (total 6 columns):\n",
      " #   Column           Non-Null Count  Dtype         \n",
      "---  ------           --------------  -----         \n",
      " 0   Unnamed: 0       32220 non-null  int64         \n",
      " 1   Date             32220 non-null  datetime64[ns]\n",
      " 2   PM2.5 AQI Value  32220 non-null  int64         \n",
      " 3   City             32220 non-null  object        \n",
      " 4   Month            32220 non-null  object        \n",
      " 5   Weekday          32220 non-null  object        \n",
      "dtypes: datetime64[ns](1), int64(2), object(3)\n",
      "memory usage: 1.5+ MB\n"
     ]
    }
   ],
   "source": [
    "df.info()"
   ]
  },
  {
   "cell_type": "code",
   "execution_count": 4,
   "id": "410a13fd",
   "metadata": {},
   "outputs": [
    {
     "data": {
      "text/plain": [
       "Index(['Date', 'PM2.5 AQI Value', 'City'], dtype='object')"
      ]
     },
     "execution_count": 4,
     "metadata": {},
     "output_type": "execute_result"
    }
   ],
   "source": [
    "# Clean df\n",
    "df_clean = df[['Date', 'PM2.5 AQI Value', 'City']]\n",
    "df_clean.columns"
   ]
  },
  {
   "cell_type": "code",
   "execution_count": 5,
   "id": "be4ef8da",
   "metadata": {},
   "outputs": [
    {
     "data": {
      "text/html": [
       "<div>\n",
       "<style scoped>\n",
       "    .dataframe tbody tr th:only-of-type {\n",
       "        vertical-align: middle;\n",
       "    }\n",
       "\n",
       "    .dataframe tbody tr th {\n",
       "        vertical-align: top;\n",
       "    }\n",
       "\n",
       "    .dataframe thead th {\n",
       "        text-align: right;\n",
       "    }\n",
       "</style>\n",
       "<table border=\"1\" class=\"dataframe\">\n",
       "  <thead>\n",
       "    <tr style=\"text-align: right;\">\n",
       "      <th></th>\n",
       "      <th>Date</th>\n",
       "      <th>PM2.5 AQI Value</th>\n",
       "      <th>City</th>\n",
       "    </tr>\n",
       "  </thead>\n",
       "  <tbody>\n",
       "    <tr>\n",
       "      <th>0</th>\n",
       "      <td>1999-01-03</td>\n",
       "      <td>3.828641</td>\n",
       "      <td>Cleveland</td>\n",
       "    </tr>\n",
       "    <tr>\n",
       "      <th>1</th>\n",
       "      <td>1999-01-06</td>\n",
       "      <td>4.127134</td>\n",
       "      <td>Cleveland</td>\n",
       "    </tr>\n",
       "    <tr>\n",
       "      <th>2</th>\n",
       "      <td>1999-01-08</td>\n",
       "      <td>4.718499</td>\n",
       "      <td>Cleveland</td>\n",
       "    </tr>\n",
       "    <tr>\n",
       "      <th>3</th>\n",
       "      <td>1999-01-09</td>\n",
       "      <td>4.248495</td>\n",
       "      <td>Cleveland</td>\n",
       "    </tr>\n",
       "    <tr>\n",
       "      <th>4</th>\n",
       "      <td>1999-01-10</td>\n",
       "      <td>4.406719</td>\n",
       "      <td>Cleveland</td>\n",
       "    </tr>\n",
       "    <tr>\n",
       "      <th>...</th>\n",
       "      <td>...</td>\n",
       "      <td>...</td>\n",
       "      <td>...</td>\n",
       "    </tr>\n",
       "    <tr>\n",
       "      <th>32215</th>\n",
       "      <td>2022-05-30</td>\n",
       "      <td>3.401197</td>\n",
       "      <td>Tampa</td>\n",
       "    </tr>\n",
       "    <tr>\n",
       "      <th>32216</th>\n",
       "      <td>2022-05-31</td>\n",
       "      <td>3.465736</td>\n",
       "      <td>Tampa</td>\n",
       "    </tr>\n",
       "    <tr>\n",
       "      <th>32217</th>\n",
       "      <td>2022-06-01</td>\n",
       "      <td>3.433987</td>\n",
       "      <td>Tampa</td>\n",
       "    </tr>\n",
       "    <tr>\n",
       "      <th>32218</th>\n",
       "      <td>2022-06-02</td>\n",
       "      <td>3.433987</td>\n",
       "      <td>Tampa</td>\n",
       "    </tr>\n",
       "    <tr>\n",
       "      <th>32219</th>\n",
       "      <td>2022-06-03</td>\n",
       "      <td>3.044522</td>\n",
       "      <td>Tampa</td>\n",
       "    </tr>\n",
       "  </tbody>\n",
       "</table>\n",
       "<p>32220 rows × 3 columns</p>\n",
       "</div>"
      ],
      "text/plain": [
       "            Date  PM2.5 AQI Value       City\n",
       "0     1999-01-03         3.828641  Cleveland\n",
       "1     1999-01-06         4.127134  Cleveland\n",
       "2     1999-01-08         4.718499  Cleveland\n",
       "3     1999-01-09         4.248495  Cleveland\n",
       "4     1999-01-10         4.406719  Cleveland\n",
       "...          ...              ...        ...\n",
       "32215 2022-05-30         3.401197      Tampa\n",
       "32216 2022-05-31         3.465736      Tampa\n",
       "32217 2022-06-01         3.433987      Tampa\n",
       "32218 2022-06-02         3.433987      Tampa\n",
       "32219 2022-06-03         3.044522      Tampa\n",
       "\n",
       "[32220 rows x 3 columns]"
      ]
     },
     "execution_count": 5,
     "metadata": {},
     "output_type": "execute_result"
    }
   ],
   "source": [
    "# Create a copy df\n",
    "copy = df_clean.copy()\n",
    "\n",
    "# Apply log to AQI Value\n",
    "copy['PM2.5 AQI Value'] = np.log(copy['PM2.5 AQI Value'])\n",
    "copy"
   ]
  },
  {
   "cell_type": "markdown",
   "id": "3558c3f7",
   "metadata": {},
   "source": [
    "# Green Space and Tree Canopy Percentage Data"
   ]
  },
  {
   "cell_type": "markdown",
   "id": "89494221",
   "metadata": {},
   "source": [
    "Recall that we ran into the limitation of not being able to save the aggregate data of all cities and saved data by city. So we'll perform modeling by city. "
   ]
  },
  {
   "cell_type": "markdown",
   "id": "72530a3f",
   "metadata": {},
   "source": [
    "# PCA"
   ]
  },
  {
   "cell_type": "markdown",
   "id": "2e4e7bf2",
   "metadata": {},
   "source": [
    "Using [scikit-learn](https://scikit-learn.org/stable/data_transforms.html), we will perform preprocessing, unsupervised dimensionality reduction (PCA), cross validation, and try different prediction modeling. Our model of interest is SVM. \n",
    "\n",
    "Cross validation (CV) is out-of-sample testing and it is any of various similar model validation techniques for assessing how the results of a statistical analysis will generalize to an independent data set. CV is a resampling method that uses different portions of the data to test and train a model on different iterations.\n",
    "\n",
    "\n",
    "Fit transform: Each of the *predictor variables* should be scaled to have **mean=0** and **standard deviation=1**, to make sure that no predictor variable is overly influential in the model if it happens to be measured in different units."
   ]
  },
  {
   "cell_type": "markdown",
   "id": "a443e5ea",
   "metadata": {},
   "source": [
    "## Cleveland, OH"
   ]
  },
  {
   "cell_type": "markdown",
   "id": "eef5307c",
   "metadata": {},
   "source": [
    "### Import file"
   ]
  },
  {
   "cell_type": "code",
   "execution_count": 6,
   "id": "3239e9bd",
   "metadata": {},
   "outputs": [
    {
     "data": {
      "text/html": [
       "<div>\n",
       "<style scoped>\n",
       "    .dataframe tbody tr th:only-of-type {\n",
       "        vertical-align: middle;\n",
       "    }\n",
       "\n",
       "    .dataframe tbody tr th {\n",
       "        vertical-align: top;\n",
       "    }\n",
       "\n",
       "    .dataframe thead th {\n",
       "        text-align: right;\n",
       "    }\n",
       "</style>\n",
       "<table border=\"1\" class=\"dataframe\">\n",
       "  <thead>\n",
       "    <tr style=\"text-align: right;\">\n",
       "      <th></th>\n",
       "      <th>Particulate matter [PM2.5] (kg/yr)</th>\n",
       "      <th>Particulate matter [PM10] (kg/yr)</th>\n",
       "      <th>Percent tree cover</th>\n",
       "      <th>Percent green space</th>\n",
       "      <th>Tree cover per capita (m2/person)</th>\n",
       "      <th>Green space per capita (m2/person)</th>\n",
       "      <th>Percent tree cover in 50m buffer</th>\n",
       "      <th>Percent tree cover in 15m buffer</th>\n",
       "      <th>EnviroAtlas Community Name</th>\n",
       "      <th>Value of hospital admissions avoided due to nitrogen dioxide removed ($/yr)</th>\n",
       "      <th>Asthma exacerbation avoided due to nitrogen dioxide removed (cases/yr)</th>\n",
       "      <th>Value of asthma exacerbation cases avoided due to nitrogen dioxide removed ($/yr)</th>\n",
       "      <th>Value of mortality avoided due to ozone removed ($/yr)</th>\n",
       "      <th>Acute respiratory symptoms avoided due to particulate matter [PM2.5] removed (cases/yr)</th>\n",
       "      <th>Percent ozone removed annually by tree cover</th>\n",
       "      <th>Percent particulate matter [PM10] removed annually by tree cover</th>\n",
       "      <th>Percent particulate matter [PM2.5] removed annually by tree cover</th>\n",
       "      <th>Percent sulfur dioxide removed annually by tree cover</th>\n",
       "    </tr>\n",
       "  </thead>\n",
       "  <tbody>\n",
       "    <tr>\n",
       "      <th>0</th>\n",
       "      <td>106.5</td>\n",
       "      <td>369.0</td>\n",
       "      <td>3504</td>\n",
       "      <td>6279</td>\n",
       "      <td>119.8</td>\n",
       "      <td>214.7</td>\n",
       "      <td>35.1</td>\n",
       "      <td>31.2</td>\n",
       "      <td>Cleveland, OH</td>\n",
       "      <td>64</td>\n",
       "      <td>0</td>\n",
       "      <td>48</td>\n",
       "      <td>4429</td>\n",
       "      <td>0</td>\n",
       "      <td>22.5</td>\n",
       "      <td>32.5</td>\n",
       "      <td>12.5</td>\n",
       "      <td>17.1</td>\n",
       "    </tr>\n",
       "    <tr>\n",
       "      <th>1</th>\n",
       "      <td>106.5</td>\n",
       "      <td>369.0</td>\n",
       "      <td>3504</td>\n",
       "      <td>6279</td>\n",
       "      <td>119.8</td>\n",
       "      <td>214.7</td>\n",
       "      <td>35.1</td>\n",
       "      <td>31.2</td>\n",
       "      <td>Cleveland, OH</td>\n",
       "      <td>50</td>\n",
       "      <td>0</td>\n",
       "      <td>38</td>\n",
       "      <td>3520</td>\n",
       "      <td>0</td>\n",
       "      <td>16.3</td>\n",
       "      <td>23.5</td>\n",
       "      <td>9.2</td>\n",
       "      <td>12.4</td>\n",
       "    </tr>\n",
       "  </tbody>\n",
       "</table>\n",
       "</div>"
      ],
      "text/plain": [
       "   Particulate matter [PM2.5] (kg/yr)  Particulate matter [PM10] (kg/yr)  \\\n",
       "0                               106.5                              369.0   \n",
       "1                               106.5                              369.0   \n",
       "\n",
       "   Percent tree cover  Percent green space  Tree cover per capita (m2/person)  \\\n",
       "0                3504                 6279                              119.8   \n",
       "1                3504                 6279                              119.8   \n",
       "\n",
       "   Green space per capita (m2/person)  Percent tree cover in 50m buffer  \\\n",
       "0                               214.7                              35.1   \n",
       "1                               214.7                              35.1   \n",
       "\n",
       "   Percent tree cover in 15m buffer EnviroAtlas Community Name  \\\n",
       "0                              31.2              Cleveland, OH   \n",
       "1                              31.2              Cleveland, OH   \n",
       "\n",
       "   Value of hospital admissions avoided due to nitrogen dioxide removed ($/yr)  \\\n",
       "0                                                 64                             \n",
       "1                                                 50                             \n",
       "\n",
       "   Asthma exacerbation avoided due to nitrogen dioxide removed (cases/yr)  \\\n",
       "0                                                  0                        \n",
       "1                                                  0                        \n",
       "\n",
       "   Value of asthma exacerbation cases avoided due to nitrogen dioxide removed ($/yr)  \\\n",
       "0                                                 48                                   \n",
       "1                                                 38                                   \n",
       "\n",
       "   Value of mortality avoided due to ozone removed ($/yr)  \\\n",
       "0                                               4429        \n",
       "1                                               3520        \n",
       "\n",
       "   Acute respiratory symptoms avoided due to particulate matter [PM2.5] removed (cases/yr)  \\\n",
       "0                                                  0                                         \n",
       "1                                                  0                                         \n",
       "\n",
       "   Percent ozone removed annually by tree cover  \\\n",
       "0                                          22.5   \n",
       "1                                          16.3   \n",
       "\n",
       "   Percent particulate matter [PM10] removed annually by tree cover  \\\n",
       "0                                               32.5                  \n",
       "1                                               23.5                  \n",
       "\n",
       "   Percent particulate matter [PM2.5] removed annually by tree cover  \\\n",
       "0                                               12.5                   \n",
       "1                                                9.2                   \n",
       "\n",
       "   Percent sulfur dioxide removed annually by tree cover  \n",
       "0                                               17.1      \n",
       "1                                               12.4      "
      ]
     },
     "execution_count": 6,
     "metadata": {},
     "output_type": "execute_result"
    }
   ],
   "source": [
    "path0 = r'D:\\Tree-Canopy-Percentage-Air-Quality-Correlation-to-Acute-Resp-Illnesses-in-Ohio-cities-Project_\\df_cle.xlsx'\n",
    "cle = pd.read_excel(path0)\n",
    "cle.head(2)"
   ]
  },
  {
   "cell_type": "code",
   "execution_count": 7,
   "id": "2f05cc1c",
   "metadata": {},
   "outputs": [
    {
     "data": {
      "text/plain": [
       "(315288, 18)"
      ]
     },
     "execution_count": 7,
     "metadata": {},
     "output_type": "execute_result"
    }
   ],
   "source": [
    "cle.shape"
   ]
  },
  {
   "cell_type": "code",
   "execution_count": 8,
   "id": "6b50754e",
   "metadata": {},
   "outputs": [],
   "source": [
    "# Drop any object dtype\n",
    "cle = cle.drop(columns='EnviroAtlas Community Name')"
   ]
  },
  {
   "cell_type": "markdown",
   "id": "8c6a421f",
   "metadata": {},
   "source": [
    "## Percent particulate matter [PM2.5] removed annually by tree cover"
   ]
  },
  {
   "cell_type": "code",
   "execution_count": 9,
   "id": "553aedcb",
   "metadata": {},
   "outputs": [
    {
     "data": {
      "text/plain": [
       "array([[<AxesSubplot:title={'center':'Percent particulate matter [PM2.5] removed annually by tree cover'}>]],\n",
       "      dtype=object)"
      ]
     },
     "execution_count": 9,
     "metadata": {},
     "output_type": "execute_result"
    },
    {
     "data": {
      "image/png": "[encoded data removed]",
      "text/plain": [
       "<Figure size 432x288 with 1 Axes>"
      ]
     },
     "metadata": {
      "needs_background": "light"
     },
     "output_type": "display_data"
    }
   ],
   "source": [
    "pd.DataFrame(cle['Percent particulate matter [PM2.5] removed annually by tree cover']).hist()"
   ]
  },
  {
   "cell_type": "code",
   "execution_count": 10,
   "id": "262b9d61",
   "metadata": {},
   "outputs": [
    {
     "name": "stdout",
     "output_type": "stream",
     "text": [
      "<class 'pandas.core.frame.DataFrame'>\n",
      "RangeIndex: 1000 entries, 0 to 999\n",
      "Data columns (total 17 columns):\n",
      " #   Column                                                                                   Non-Null Count  Dtype  \n",
      "---  ------                                                                                   --------------  -----  \n",
      " 0   Particulate matter [PM2.5] (kg/yr)                                                       1000 non-null   float64\n",
      " 1   Particulate matter [PM10] (kg/yr)                                                        1000 non-null   float64\n",
      " 2   Percent tree cover                                                                       1000 non-null   int64  \n",
      " 3   Percent green space                                                                      1000 non-null   int64  \n",
      " 4   Tree cover per capita (m2/person)                                                        1000 non-null   float64\n",
      " 5   Green space per capita (m2/person)                                                       1000 non-null   float64\n",
      " 6   Percent tree cover in 50m buffer                                                         1000 non-null   float64\n",
      " 7   Percent tree cover in 15m buffer                                                         1000 non-null   float64\n",
      " 8   Value of hospital admissions avoided due to nitrogen dioxide removed ($/yr)              1000 non-null   int64  \n",
      " 9   Asthma exacerbation avoided due to nitrogen dioxide removed (cases/yr)                   1000 non-null   int64  \n",
      " 10  Value of asthma exacerbation cases avoided due to nitrogen dioxide removed ($/yr)        1000 non-null   int64  \n",
      " 11  Value of mortality avoided due to ozone removed ($/yr)                                   1000 non-null   int64  \n",
      " 12  Acute respiratory symptoms avoided due to particulate matter [PM2.5] removed (cases/yr)  1000 non-null   int64  \n",
      " 13  Percent ozone removed annually by tree cover                                             1000 non-null   float64\n",
      " 14  Percent particulate matter [PM10] removed annually by tree cover                         1000 non-null   float64\n",
      " 15  Percent particulate matter [PM2.5] removed annually by tree cover                        1000 non-null   float64\n",
      " 16  Percent sulfur dioxide removed annually by tree cover                                    1000 non-null   float64\n",
      "dtypes: float64(10), int64(7)\n",
      "memory usage: 132.9 KB\n"
     ]
    }
   ],
   "source": [
    "# Create a subset with <= 1000 data points\n",
    "cle_subset = cle.iloc[0:1000]\n",
    "cle_subset.info()"
   ]
  },
  {
   "cell_type": "code",
   "execution_count": 11,
   "id": "9f67fff3",
   "metadata": {},
   "outputs": [],
   "source": [
    "# Dataset with unique values based on 'Percent tree cover in 50m buffer'\n",
    "#cle_unique = cle.drop_duplicates(subset = [\"Percent tree cover in 50m buffer\"])\n",
    "#cle_unique.columns"
   ]
  },
  {
   "cell_type": "code",
   "execution_count": 12,
   "id": "a6e31876",
   "metadata": {},
   "outputs": [],
   "source": [
    "cle_ = cle[['Particulate matter [PM2.5] (kg/yr)','Percent tree cover in 50m buffer']]"
   ]
  },
  {
   "cell_type": "code",
   "execution_count": 13,
   "id": "f0567f84",
   "metadata": {},
   "outputs": [
    {
     "data": {
      "text/plain": [
       "Percent tree cover in 50m buffer\n",
       "0.0     59.05\n",
       "1.1     73.20\n",
       "1.6     13.10\n",
       "2.0     58.20\n",
       "2.1    212.50\n",
       "Name: Particulate matter [PM2.5] (kg/yr), dtype: float64"
      ]
     },
     "execution_count": 13,
     "metadata": {},
     "output_type": "execute_result"
    }
   ],
   "source": [
    "cle_buffer = cle_.groupby(by = 'Percent tree cover in 50m buffer')['Particulate matter [PM2.5] (kg/yr)'].median()\n",
    "cle_buffer.head()"
   ]
  },
  {
   "cell_type": "code",
   "execution_count": 14,
   "id": "179a2509",
   "metadata": {},
   "outputs": [
    {
     "data": {
      "image/png": "[encoded data removed]",
      "text/plain": [
       "<Figure size 432x288 with 1 Axes>"
      ]
     },
     "metadata": {
      "needs_background": "light"
     },
     "output_type": "display_data"
    }
   ],
   "source": [
    "cle_buffer.hist(bins=30)\n",
    "plt.title('Distribution of Particulate matter [PM2.5] (kg/yr)')\n",
    "plt.xlabel('Particulate matter [PM2.5] (kg/yr)')\n",
    "plt.ylabel('count');"
   ]
  },
  {
   "cell_type": "code",
   "execution_count": 15,
   "id": "e4ae1d83",
   "metadata": {},
   "outputs": [
    {
     "data": {
      "text/plain": [
       "<AxesSubplot:xlabel='Acute respiratory symptoms avoided due to particulate matter [PM2.5] removed (cases/yr)', ylabel='count'>"
      ]
     },
     "execution_count": 15,
     "metadata": {},
     "output_type": "execute_result"
    },
    {
     "data": {
      "image/png": "[encoded data removed]",
      "text/plain": [
       "<Figure size 432x288 with 1 Axes>"
      ]
     },
     "metadata": {
      "needs_background": "light"
     },
     "output_type": "display_data"
    }
   ],
   "source": [
    "sns.countplot(x=\"Acute respiratory symptoms avoided due to particulate matter [PM2.5] removed (cases/yr)\", data=cle)"
   ]
  },
  {
   "cell_type": "code",
   "execution_count": 16,
   "id": "2699d5f3",
   "metadata": {},
   "outputs": [
    {
     "data": {
      "text/plain": [
       "<seaborn.axisgrid.FacetGrid at 0x299a4950790>"
      ]
     },
     "execution_count": 16,
     "metadata": {},
     "output_type": "execute_result"
    },
    {
     "data": {
      "image/png": "[encoded data removed]",
      "text/plain": [
       "<Figure size 822.375x360 with 1 Axes>"
      ]
     },
     "metadata": {
      "needs_background": "light"
     },
     "output_type": "display_data"
    }
   ],
   "source": [
    "sns.relplot(x=\"Percent tree cover in 50m buffer\", y=\"Percent particulate matter [PM2.5] removed annually by tree cover\", data=cle_subset, kind=\"scatter\", size=\"Acute respiratory symptoms avoided due to particulate matter [PM2.5] removed (cases/yr)\", hue=\"Acute respiratory symptoms avoided due to particulate matter [PM2.5] removed (cases/yr)\")"
   ]
  },
  {
   "cell_type": "markdown",
   "id": "beafb107",
   "metadata": {},
   "source": [
    "## Percent tree cover in 50m buffer"
   ]
  },
  {
   "cell_type": "markdown",
   "id": "067bcd48",
   "metadata": {},
   "source": [
    "### Train and test split"
   ]
  },
  {
   "cell_type": "code",
   "execution_count": 13,
   "id": "028c5a04",
   "metadata": {},
   "outputs": [],
   "source": [
    "# Define X and y\n",
    "X = cle[[i for i in cle.columns if i not in [\"Percent particulate matter [PM2.5] removed annually by tree cover\"]]]\n",
    "y = cle[\"Percent particulate matter [PM2.5] removed annually by tree cover\"]"
   ]
  },
  {
   "cell_type": "code",
   "execution_count": 14,
   "id": "ffd64873",
   "metadata": {},
   "outputs": [],
   "source": [
    "# Split train and test\n",
    "X_train, X_test, y_train, y_test = train_test_split(X, y, test_size = 0.2, random_state = 123)"
   ]
  },
  {
   "cell_type": "code",
   "execution_count": 15,
   "id": "031ccc71",
   "metadata": {},
   "outputs": [
    {
     "name": "stdout",
     "output_type": "stream",
     "text": [
      "(315288, 16)\n",
      "(315288,)\n"
     ]
    }
   ],
   "source": [
    "print(X.shape)\n",
    "print(y.shape)"
   ]
  },
  {
   "cell_type": "code",
   "execution_count": 16,
   "id": "e5ff81f7",
   "metadata": {},
   "outputs": [
    {
     "name": "stdout",
     "output_type": "stream",
     "text": [
      "(252230, 16)\n",
      "(252230,)\n"
     ]
    }
   ],
   "source": [
    "print(X_train.shape)\n",
    "print(y_train.shape)"
   ]
  },
  {
   "cell_type": "code",
   "execution_count": 17,
   "id": "4ef470f7",
   "metadata": {},
   "outputs": [],
   "source": [
    "#  Normalize data using StandardScaler()\n",
    "scaler = StandardScaler()\n",
    "X_train_norm = pd.DataFrame(scaler.fit_transform(X_train),columns=X_train.columns)\n",
    "X_test_norm = pd.DataFrame(scaler.transform(X_test),columns=X_test.columns)"
   ]
  },
  {
   "cell_type": "code",
   "execution_count": 18,
   "id": "2ac4e424",
   "metadata": {},
   "outputs": [
    {
     "data": {
      "text/plain": [
       "Particulate matter [PM2.5] (kg/yr)                                                         1.0\n",
       "Particulate matter [PM10] (kg/yr)                                                          1.0\n",
       "Percent tree cover                                                                         1.0\n",
       "Percent green space                                                                        1.0\n",
       "Tree cover per capita (m2/person)                                                          1.0\n",
       "Green space per capita (m2/person)                                                         1.0\n",
       "Percent tree cover in 50m buffer                                                           1.0\n",
       "Percent tree cover in 15m buffer                                                           1.0\n",
       "Value of hospital admissions avoided due to nitrogen dioxide removed ($/yr)                1.0\n",
       "Asthma exacerbation avoided due to nitrogen dioxide removed (cases/yr)                     1.0\n",
       "Value of asthma exacerbation cases avoided due to nitrogen dioxide removed ($/yr)          1.0\n",
       "Value of mortality avoided due to ozone removed ($/yr)                                     1.0\n",
       "Acute respiratory symptoms avoided due to particulate matter [PM2.5] removed (cases/yr)    1.0\n",
       "Percent ozone removed annually by tree cover                                               1.0\n",
       "Percent particulate matter [PM10] removed annually by tree cover                           1.0\n",
       "Percent sulfur dioxide removed annually by tree cover                                      1.0\n",
       "dtype: float64"
      ]
     },
     "execution_count": 18,
     "metadata": {},
     "output_type": "execute_result"
    }
   ],
   "source": [
    "# Return biased estimate\n",
    "X_train_norm.std(ddof = 0)"
   ]
  },
  {
   "cell_type": "code",
   "execution_count": 19,
   "id": "d55acba0",
   "metadata": {},
   "outputs": [
    {
     "data": {
      "text/plain": [
       "Particulate matter [PM2.5] (kg/yr)                                                         0.998922\n",
       "Particulate matter [PM10] (kg/yr)                                                          0.997567\n",
       "Percent tree cover                                                                         0.996647\n",
       "Percent green space                                                                        0.997430\n",
       "Tree cover per capita (m2/person)                                                          0.988756\n",
       "Green space per capita (m2/person)                                                         0.988962\n",
       "Percent tree cover in 50m buffer                                                           0.998601\n",
       "Percent tree cover in 15m buffer                                                           0.990397\n",
       "Value of hospital admissions avoided due to nitrogen dioxide removed ($/yr)                0.989285\n",
       "Asthma exacerbation avoided due to nitrogen dioxide removed (cases/yr)                     0.987550\n",
       "Value of asthma exacerbation cases avoided due to nitrogen dioxide removed ($/yr)          0.987019\n",
       "Value of mortality avoided due to ozone removed ($/yr)                                     0.999360\n",
       "Acute respiratory symptoms avoided due to particulate matter [PM2.5] removed (cases/yr)    0.995321\n",
       "Percent ozone removed annually by tree cover                                               0.997392\n",
       "Percent particulate matter [PM10] removed annually by tree cover                           0.998531\n",
       "Percent sulfur dioxide removed annually by tree cover                                      0.998185\n",
       "dtype: float64"
      ]
     },
     "execution_count": 19,
     "metadata": {},
     "output_type": "execute_result"
    }
   ],
   "source": [
    "# Return biased estimate\n",
    "X_test_norm.std(ddof = 0)"
   ]
  },
  {
   "cell_type": "code",
   "execution_count": 20,
   "id": "d5cc0b02",
   "metadata": {},
   "outputs": [],
   "source": [
    "# Predictor variables scaling\n",
    "pca = PCA()\n",
    "X_red = pca.fit_transform(scale(X_train_norm))\n",
    "# Define CV\n",
    "cv = RepeatedKFold(n_splits = 10, n_repeats = 3, random_state = 123)"
   ]
  },
  {
   "cell_type": "code",
   "execution_count": 21,
   "id": "8b6a0658",
   "metadata": {},
   "outputs": [
    {
     "data": {
      "image/png": "[encoded data removed]",
      "text/plain": [
       "<Figure size 576x360 with 1 Axes>"
      ]
     },
     "metadata": {
      "needs_background": "light"
     },
     "output_type": "display_data"
    }
   ],
   "source": [
    "# Plot cumulative variance ratio \n",
    "plt.subplots(figsize=(8, 5))\n",
    "plt.plot(pca.explained_variance_ratio_.cumsum())\n",
    "plt.xlabel('Component #')\n",
    "plt.ylabel('Cumulative ratio variance')\n",
    "plt.title('Cumulative variance ratio explained by PCA components for Green Space/Tree Cover/ARIs summary statistics');"
   ]
  },
  {
   "cell_type": "code",
   "execution_count": 22,
   "id": "dc804c6c",
   "metadata": {},
   "outputs": [
    {
     "data": {
      "text/plain": [
       "array([ 38.2 ,  60.1 ,  72.86,  79.93,  86.92,  92.41,  94.74,  96.77,\n",
       "        97.82,  98.54,  99.09,  99.5 ,  99.74,  99.93,  99.99, 100.  ])"
      ]
     },
     "execution_count": 22,
     "metadata": {},
     "output_type": "execute_result"
    }
   ],
   "source": [
    "# Percent variance in response variable explained by each addition of principal component to the model\n",
    "np.cumsum(np.round(pca.explained_variance_ratio_, decimals=4)*100)"
   ]
  },
  {
   "cell_type": "markdown",
   "id": "6a5c9e23",
   "metadata": {},
   "source": [
    " - 1st principal component accounts for 38.2% of variance.\n",
    " - 2nd principal component accounts for 60.1% of variance.\n",
    " - 3rd principal component accounts for 72.86% of variance.\n",
    " - 4th principal component accounts for 79.93% of variance.\n",
    " - 5th principal component accounts for 86.92% of variance\n",
    " - nth principal component accounts for 100% of variance."
   ]
  },
  {
   "cell_type": "markdown",
   "id": "25b2ed9b",
   "metadata": {},
   "source": [
    "### Linear Regression"
   ]
  },
  {
   "cell_type": "markdown",
   "id": "e051aec7",
   "metadata": {},
   "source": [
    "Let's look at our RMSE scores using linear regression and plot our cross-validation results"
   ]
  },
  {
   "cell_type": "code",
   "execution_count": 23,
   "id": "1e493418",
   "metadata": {},
   "outputs": [
    {
     "data": {
      "text/plain": [
       "(252230,)"
      ]
     },
     "execution_count": 23,
     "metadata": {},
     "output_type": "execute_result"
    }
   ],
   "source": [
    "y_train.shape"
   ]
  },
  {
   "cell_type": "code",
   "execution_count": 24,
   "id": "15ea05bf",
   "metadata": {},
   "outputs": [
    {
     "data": {
      "text/plain": [
       "(252230, 16)"
      ]
     },
     "execution_count": 24,
     "metadata": {},
     "output_type": "execute_result"
    }
   ],
   "source": [
    "X_train.shape"
   ]
  },
  {
   "cell_type": "code",
   "execution_count": 25,
   "id": "b5a97fce",
   "metadata": {},
   "outputs": [],
   "source": [
    "from sklearn import linear_model, preprocessing\n",
    "\n",
    "lin_reg = linear_model.LinearRegression()"
   ]
  },
  {
   "cell_type": "code",
   "execution_count": 26,
   "id": "75e11381",
   "metadata": {},
   "outputs": [],
   "source": [
    "lin_reg.fit(X_train, y_train)\n",
    "# Evaluate the model  \n",
    "lin_reg.score(X_train, y_train)\n",
    "# Use the model to make predictions about our test data\n",
    "y_predict = lin_reg.predict(X_test)"
   ]
  },
  {
   "cell_type": "code",
   "execution_count": 27,
   "id": "e92f6b92",
   "metadata": {},
   "outputs": [
    {
     "data": {
      "text/plain": [
       "array([19.72692953, 19.68871318, 23.46531762, ..., 13.47412419,\n",
       "       16.17608319, 16.56977742])"
      ]
     },
     "execution_count": 27,
     "metadata": {},
     "output_type": "execute_result"
    }
   ],
   "source": [
    "y_predict"
   ]
  },
  {
   "cell_type": "code",
   "execution_count": 28,
   "id": "d632d835",
   "metadata": {},
   "outputs": [
    {
     "data": {
      "text/html": [
       "<div>\n",
       "<style scoped>\n",
       "    .dataframe tbody tr th:only-of-type {\n",
       "        vertical-align: middle;\n",
       "    }\n",
       "\n",
       "    .dataframe tbody tr th {\n",
       "        vertical-align: top;\n",
       "    }\n",
       "\n",
       "    .dataframe thead th {\n",
       "        text-align: right;\n",
       "    }\n",
       "</style>\n",
       "<table border=\"1\" class=\"dataframe\">\n",
       "  <thead>\n",
       "    <tr style=\"text-align: right;\">\n",
       "      <th></th>\n",
       "      <th>Percent particulate matter [PM2.5] removed annually by tree cover</th>\n",
       "    </tr>\n",
       "  </thead>\n",
       "  <tbody>\n",
       "    <tr>\n",
       "      <th>0</th>\n",
       "      <td>19.726930</td>\n",
       "    </tr>\n",
       "    <tr>\n",
       "      <th>1</th>\n",
       "      <td>19.688713</td>\n",
       "    </tr>\n",
       "    <tr>\n",
       "      <th>2</th>\n",
       "      <td>23.465318</td>\n",
       "    </tr>\n",
       "    <tr>\n",
       "      <th>3</th>\n",
       "      <td>13.620441</td>\n",
       "    </tr>\n",
       "    <tr>\n",
       "      <th>4</th>\n",
       "      <td>20.216963</td>\n",
       "    </tr>\n",
       "  </tbody>\n",
       "</table>\n",
       "</div>"
      ],
      "text/plain": [
       "   Percent particulate matter [PM2.5] removed annually by tree cover\n",
       "0                                          19.726930                \n",
       "1                                          19.688713                \n",
       "2                                          23.465318                \n",
       "3                                          13.620441                \n",
       "4                                          20.216963                "
      ]
     },
     "execution_count": 28,
     "metadata": {},
     "output_type": "execute_result"
    }
   ],
   "source": [
    "# Create and print dataframe accounting for '\n",
    "# Acute respiratory symptoms avoided due to particulate matter [PM2.5] removed (cases/yr)' from y_predict\n",
    "ARI_pred = pd.DataFrame(y_predict, columns = ['Percent particulate matter [PM2.5] removed annually by tree cover'])\n",
    "ARI_pred.head()"
   ]
  },
  {
   "cell_type": "code",
   "execution_count": 29,
   "id": "5094e856",
   "metadata": {},
   "outputs": [
    {
     "data": {
      "text/html": [
       "<div>\n",
       "<style scoped>\n",
       "    .dataframe tbody tr th:only-of-type {\n",
       "        vertical-align: middle;\n",
       "    }\n",
       "\n",
       "    .dataframe tbody tr th {\n",
       "        vertical-align: top;\n",
       "    }\n",
       "\n",
       "    .dataframe thead th {\n",
       "        text-align: right;\n",
       "    }\n",
       "</style>\n",
       "<table border=\"1\" class=\"dataframe\">\n",
       "  <thead>\n",
       "    <tr style=\"text-align: right;\">\n",
       "      <th></th>\n",
       "      <th>Percent particulate matter [PM2.5] removed annually by tree cover</th>\n",
       "    </tr>\n",
       "  </thead>\n",
       "  <tbody>\n",
       "    <tr>\n",
       "      <th>219788</th>\n",
       "      <td>20.2</td>\n",
       "    </tr>\n",
       "    <tr>\n",
       "      <th>11128</th>\n",
       "      <td>20.1</td>\n",
       "    </tr>\n",
       "    <tr>\n",
       "      <th>178951</th>\n",
       "      <td>23.6</td>\n",
       "    </tr>\n",
       "    <tr>\n",
       "      <th>228125</th>\n",
       "      <td>13.5</td>\n",
       "    </tr>\n",
       "    <tr>\n",
       "      <th>69747</th>\n",
       "      <td>20.2</td>\n",
       "    </tr>\n",
       "  </tbody>\n",
       "</table>\n",
       "</div>"
      ],
      "text/plain": [
       "        Percent particulate matter [PM2.5] removed annually by tree cover\n",
       "219788                                               20.2                \n",
       "11128                                                20.1                \n",
       "178951                                               23.6                \n",
       "228125                                               13.5                \n",
       "69747                                                20.2                "
      ]
     },
     "execution_count": 29,
     "metadata": {},
     "output_type": "execute_result"
    }
   ],
   "source": [
    "# Create dataframe for actual ARI symptoms avoided due to PM2.5 removed (cases/yr) from y_predict\n",
    "ARI_actual = pd.DataFrame(y_test)\n",
    "ARI_actual.head()"
   ]
  },
  {
   "cell_type": "code",
   "execution_count": 30,
   "id": "ede9c17b",
   "metadata": {},
   "outputs": [
    {
     "data": {
      "image/png": "[encoded data removed]",
      "text/plain": [
       "<Figure size 720x360 with 1 Axes>"
      ]
     },
     "metadata": {
      "needs_background": "light"
     },
     "output_type": "display_data"
    }
   ],
   "source": [
    "# Plot predicted vs actual\n",
    "ax = ARI_actual.plot(kind = 'density', figsize = (10,5))\n",
    "ARI_pred.plot(kind = 'density', figsize = (10,5), ax = ax)\n",
    "L = plt.legend()\n",
    "L.get_texts()[0].set_text('Actual Percent particulate matter [PM2.5] removed annually by tree cover')\n",
    "L.get_texts()[1].set_text('Predicted Percent particulate matter [PM2.5] removed annually by tree cover')\n",
    "plt.show()"
   ]
  },
  {
   "cell_type": "code",
   "execution_count": 31,
   "id": "393e32b5",
   "metadata": {},
   "outputs": [
    {
     "data": {
      "image/png": "[encoded data removed]",
      "text/plain": [
       "<Figure size 432x288 with 1 Axes>"
      ]
     },
     "metadata": {
      "needs_background": "light"
     },
     "output_type": "display_data"
    }
   ],
   "source": [
    "# Let's plot the predictions against the actual result. Use scatter()\n",
    "_ = plt.scatter(y_test, y_predict)\n",
    "_ = plt.xlabel(\"actual\")\n",
    "_ = plt.ylabel(\"predicted\")\n",
    "plt.show()"
   ]
  },
  {
   "cell_type": "markdown",
   "id": "c2ea70b7",
   "metadata": {},
   "source": [
    "### SVM"
   ]
  },
  {
   "cell_type": "markdown",
   "id": "41aa5e70",
   "metadata": {},
   "source": [
    "**What:** A generalization of the classification; the model returns a continuous-valued variable (one which can take on an uncountable set of values, any range of real numbers between and with, vs. discrete values). Our value for this project is going to target \"Percent particulate matter removed annually by tree cover\". \n",
    "\n",
    "**Why:** SVM solves a binary classification via convex optimization"
   ]
  },
  {
   "cell_type": "code",
   "execution_count": 32,
   "id": "a839b6e6",
   "metadata": {},
   "outputs": [],
   "source": [
    "# Perform another train and test split\n",
    "X1 = cle[[i for i in cle.columns if i not in [\"Percent particulate matter [PM2.5] removed annually by tree cover\"]]]\n",
    "y1 = cle[\"Percent particulate matter [PM2.5] removed annually by tree cover\"]\n",
    "\n",
    "# Train and test split\n",
    "X_train1,X_test1,y_train1,y_test1 = train_test_split(X1,y1,test_size = 0.25,random_state = 123) "
   ]
  },
  {
   "cell_type": "code",
   "execution_count": 33,
   "id": "2121d70f",
   "metadata": {},
   "outputs": [],
   "source": [
    "# Preprocess with StandardScaler()\n",
    "scale = StandardScaler()\n",
    "\n",
    "# Fit_transform for predictors\n",
    "X_train1_svm = scale.fit_transform(X_train1)\n",
    "X_test1_svm = scale.fit_transform(X_test1)"
   ]
  },
  {
   "cell_type": "code",
   "execution_count": 34,
   "id": "40ac6fe7",
   "metadata": {},
   "outputs": [
    {
     "name": "stdout",
     "output_type": "stream",
     "text": [
      "Shape for x train:  (236466, 16)\n",
      "Shape for x test:  (78822, 16)\n",
      "Shape for y train:  (236466,)\n",
      "Shape for y test:  (78822,)\n"
     ]
    }
   ],
   "source": [
    "print('Shape for x train: ',X_train1_svm.shape)\n",
    "print('Shape for x test: ', X_test1_svm.shape)\n",
    "print('Shape for y train: ', y_train1.shape)\n",
    "print('Shape for y test: ', y_test1.shape)"
   ]
  },
  {
   "cell_type": "code",
   "execution_count": 35,
   "id": "1bf99d82",
   "metadata": {},
   "outputs": [],
   "source": [
    "# Fit_transform response variables\n",
    "y_train1_svm = scale.fit_transform(y_train1.to_numpy().reshape(-1,1))\n",
    "y_test1_svm =  scale.fit_transform(y_test1.to_numpy().reshape(-1,1))"
   ]
  },
  {
   "cell_type": "code",
   "execution_count": 36,
   "id": "e4176b4c",
   "metadata": {},
   "outputs": [
    {
     "name": "stdout",
     "output_type": "stream",
     "text": [
      "(236466, 1)\n",
      "(78822, 1)\n"
     ]
    }
   ],
   "source": [
    "print(y_train1_svm.shape)\n",
    "print(y_test1_svm.shape)"
   ]
  },
  {
   "cell_type": "code",
   "execution_count": 37,
   "id": "0a0d8850",
   "metadata": {},
   "outputs": [],
   "source": [
    "# I ran into an issue running SVR with the original dataset size,\n",
    "# So I decided to use 30% of the total number of rows. \n",
    "Xtrain1_svm_new = X_train1_svm[0:70940]\n",
    "ytrain1_svm_new = y_train1_svm[0:70940]"
   ]
  },
  {
   "cell_type": "code",
   "execution_count": 38,
   "id": "b4505c0b",
   "metadata": {},
   "outputs": [
    {
     "name": "stdout",
     "output_type": "stream",
     "text": [
      "(70940, 1)\n"
     ]
    }
   ],
   "source": [
    "print(ytrain1_svm_new.shape)"
   ]
  },
  {
   "cell_type": "code",
   "execution_count": 39,
   "id": "2eee77c9",
   "metadata": {},
   "outputs": [],
   "source": [
    "# Define SVR \n",
    "svr = SVR(kernel = 'rbf')\n",
    "model_svr = svr.fit(Xtrain1_svm_new, np.ravel(ytrain1_svm_new))\n",
    "y_predict1 = model_svr.predict(Xtrain1_svm_new)"
   ]
  },
  {
   "cell_type": "code",
   "execution_count": 40,
   "id": "cbb1d4fa",
   "metadata": {},
   "outputs": [
    {
     "name": "stdout",
     "output_type": "stream",
     "text": [
      "Score R-squared : 99.70650127918503\n",
      "MSE : 0.002940137130245674\n"
     ]
    }
   ],
   "source": [
    "# Assess MSE score\n",
    "score = model_svr.score(Xtrain1_svm_new,ytrain1_svm_new)\n",
    "print(\"Score R-squared :\", score*100)\n",
    "print(\"MSE :\", mean_squared_error(ytrain1_svm_new, y_predict1))"
   ]
  },
  {
   "cell_type": "markdown",
   "id": "e97c5ef8",
   "metadata": {},
   "source": [
    "These are really good scores! Our MSE is close to 0, meaning the predicted values are almost the same as the expected values, meaning our model performed well. \n",
    "\n",
    "Recall our target value was 'Percent tree cover in 50m buffer'. "
   ]
  },
  {
   "cell_type": "code",
   "execution_count": 41,
   "id": "19aff464",
   "metadata": {},
   "outputs": [
    {
     "data": {
      "text/plain": [
       "<matplotlib.collections.PathCollection at 0x26d31d1c400>"
      ]
     },
     "execution_count": 41,
     "metadata": {},
     "output_type": "execute_result"
    },
    {
     "data": {
      "image/png": "[encoded data removed]",
      "text/plain": [
       "<Figure size 432x288 with 1 Axes>"
      ]
     },
     "metadata": {
      "needs_background": "light"
     },
     "output_type": "display_data"
    }
   ],
   "source": [
    "plt.scatter(Xtrain1_svm_new[:, 0], Xtrain1_svm_new[:, 1], c=ytrain1_svm_new, s=50, cmap='autumn')\n",
    "plt.scatter(model_svr.support_vectors_[:,0],model_svr.support_vectors_[:,1])"
   ]
  },
  {
   "cell_type": "markdown",
   "id": "f5566fab",
   "metadata": {},
   "source": [
    "## Los Angeles, CA"
   ]
  },
  {
   "cell_type": "code",
   "execution_count": 42,
   "id": "14293069",
   "metadata": {},
   "outputs": [
    {
     "data": {
      "text/html": [
       "<div>\n",
       "<style scoped>\n",
       "    .dataframe tbody tr th:only-of-type {\n",
       "        vertical-align: middle;\n",
       "    }\n",
       "\n",
       "    .dataframe tbody tr th {\n",
       "        vertical-align: top;\n",
       "    }\n",
       "\n",
       "    .dataframe thead th {\n",
       "        text-align: right;\n",
       "    }\n",
       "</style>\n",
       "<table border=\"1\" class=\"dataframe\">\n",
       "  <thead>\n",
       "    <tr style=\"text-align: right;\">\n",
       "      <th></th>\n",
       "      <th>Particulate matter [PM2.5] (kg/yr)</th>\n",
       "      <th>Particulate matter [PM10] (kg/yr)</th>\n",
       "      <th>Percent tree cover</th>\n",
       "      <th>Percent green space</th>\n",
       "      <th>Tree cover per capita (m2/person)</th>\n",
       "      <th>Green space per capita (m2/person)</th>\n",
       "      <th>Percent tree cover in 50m buffer</th>\n",
       "      <th>Percent tree cover in 15m buffer</th>\n",
       "      <th>EnviroAtlas Community Name</th>\n",
       "      <th>Value of hospital admissions avoided due to nitrogen dioxide removed ($/yr)</th>\n",
       "      <th>Asthma exacerbation avoided due to nitrogen dioxide removed (cases/yr)</th>\n",
       "      <th>Value of asthma exacerbation cases avoided due to nitrogen dioxide removed ($/yr)</th>\n",
       "      <th>Value of mortality avoided due to ozone removed ($/yr)</th>\n",
       "      <th>Acute respiratory symptoms avoided due to particulate matter [PM2.5] removed (cases/yr)</th>\n",
       "      <th>Percent ozone removed annually by tree cover</th>\n",
       "      <th>Percent particulate matter [PM10] removed annually by tree cover</th>\n",
       "      <th>Percent particulate matter [PM2.5] removed annually by tree cover</th>\n",
       "      <th>Percent sulfur dioxide removed annually by tree cover</th>\n",
       "    </tr>\n",
       "  </thead>\n",
       "  <tbody>\n",
       "    <tr>\n",
       "      <th>0</th>\n",
       "      <td>31.6</td>\n",
       "      <td>1174.2</td>\n",
       "      <td>2510</td>\n",
       "      <td>5053</td>\n",
       "      <td>173</td>\n",
       "      <td>349</td>\n",
       "      <td>22.5</td>\n",
       "      <td>21.0</td>\n",
       "      <td>Los Angeles, CA</td>\n",
       "      <td>232</td>\n",
       "      <td>4</td>\n",
       "      <td>388</td>\n",
       "      <td>9411</td>\n",
       "      <td>0</td>\n",
       "      <td>38.9</td>\n",
       "      <td>101.3</td>\n",
       "      <td>1.4</td>\n",
       "      <td>26.3</td>\n",
       "    </tr>\n",
       "    <tr>\n",
       "      <th>1</th>\n",
       "      <td>31.6</td>\n",
       "      <td>1174.2</td>\n",
       "      <td>2510</td>\n",
       "      <td>5053</td>\n",
       "      <td>173</td>\n",
       "      <td>349</td>\n",
       "      <td>22.5</td>\n",
       "      <td>21.0</td>\n",
       "      <td>Los Angeles, CA</td>\n",
       "      <td>162</td>\n",
       "      <td>3</td>\n",
       "      <td>270</td>\n",
       "      <td>6567</td>\n",
       "      <td>0</td>\n",
       "      <td>30.0</td>\n",
       "      <td>78.3</td>\n",
       "      <td>1.1</td>\n",
       "      <td>20.2</td>\n",
       "    </tr>\n",
       "  </tbody>\n",
       "</table>\n",
       "</div>"
      ],
      "text/plain": [
       "   Particulate matter [PM2.5] (kg/yr)  Particulate matter [PM10] (kg/yr)  \\\n",
       "0                                31.6                             1174.2   \n",
       "1                                31.6                             1174.2   \n",
       "\n",
       "   Percent tree cover  Percent green space  Tree cover per capita (m2/person)  \\\n",
       "0                2510                 5053                                173   \n",
       "1                2510                 5053                                173   \n",
       "\n",
       "   Green space per capita (m2/person)  Percent tree cover in 50m buffer  \\\n",
       "0                                 349                              22.5   \n",
       "1                                 349                              22.5   \n",
       "\n",
       "   Percent tree cover in 15m buffer EnviroAtlas Community Name  \\\n",
       "0                              21.0            Los Angeles, CA   \n",
       "1                              21.0            Los Angeles, CA   \n",
       "\n",
       "   Value of hospital admissions avoided due to nitrogen dioxide removed ($/yr)  \\\n",
       "0                                                232                             \n",
       "1                                                162                             \n",
       "\n",
       "   Asthma exacerbation avoided due to nitrogen dioxide removed (cases/yr)  \\\n",
       "0                                                  4                        \n",
       "1                                                  3                        \n",
       "\n",
       "   Value of asthma exacerbation cases avoided due to nitrogen dioxide removed ($/yr)  \\\n",
       "0                                                388                                   \n",
       "1                                                270                                   \n",
       "\n",
       "   Value of mortality avoided due to ozone removed ($/yr)  \\\n",
       "0                                               9411        \n",
       "1                                               6567        \n",
       "\n",
       "   Acute respiratory symptoms avoided due to particulate matter [PM2.5] removed (cases/yr)  \\\n",
       "0                                                  0                                         \n",
       "1                                                  0                                         \n",
       "\n",
       "   Percent ozone removed annually by tree cover  \\\n",
       "0                                          38.9   \n",
       "1                                          30.0   \n",
       "\n",
       "   Percent particulate matter [PM10] removed annually by tree cover  \\\n",
       "0                                              101.3                  \n",
       "1                                               78.3                  \n",
       "\n",
       "   Percent particulate matter [PM2.5] removed annually by tree cover  \\\n",
       "0                                                1.4                   \n",
       "1                                                1.1                   \n",
       "\n",
       "   Percent sulfur dioxide removed annually by tree cover  \n",
       "0                                               26.3      \n",
       "1                                               20.2      "
      ]
     },
     "execution_count": 42,
     "metadata": {},
     "output_type": "execute_result"
    }
   ],
   "source": [
    "path1 = r'D:\\Tree-Canopy-Percentage-Air-Quality-Correlation-to-Acute-Resp-Illnesses-in-Ohio-cities-Project_\\df_la.xlsx'\n",
    "la = pd.read_excel(path1)\n",
    "la.head(2)"
   ]
  },
  {
   "cell_type": "code",
   "execution_count": 43,
   "id": "432c5ce3",
   "metadata": {},
   "outputs": [],
   "source": [
    "# Drop any object dtype\n",
    "la = la.drop(columns='EnviroAtlas Community Name')"
   ]
  },
  {
   "cell_type": "code",
   "execution_count": 47,
   "id": "49f06361",
   "metadata": {},
   "outputs": [
    {
     "data": {
      "text/plain": [
       "array([ 2.2500e+01,  3.5000e+01,  4.4500e+01,  2.4300e+01,  5.9400e+01,\n",
       "        4.0700e+01,  4.3400e+01,  3.4600e+01,  4.4300e+01,  4.5400e+01,\n",
       "        2.5700e+01,  5.3800e+01,  4.6500e+01,  5.2200e+01,  2.3300e+01,\n",
       "        2.4000e+00,  1.3600e+01,  1.5400e+01,  3.1700e+01,  3.0500e+01,\n",
       "        4.5700e+01,  1.6900e+01,  3.2500e+01,  2.4200e+01,  5.5000e+00,\n",
       "        2.5800e+01,  1.2300e+01,  1.8100e+01,  1.9800e+01,  3.8500e+01,\n",
       "        3.6900e+01,  8.7000e+00,  6.5000e+00,  1.1800e+01,  3.2800e+01,\n",
       "        1.2400e+01,  2.1100e+01,  1.9300e+01,  1.2700e+01,  1.5700e+01,\n",
       "        5.1000e+00,  2.1000e+01,  1.3800e+01,  1.1600e+01,  2.1200e+01,\n",
       "        1.0200e+01,  2.5300e+01,  1.8000e+01,  1.4400e+01,  1.3500e+01,\n",
       "        2.7800e+01,  2.0300e+01,  3.7000e+00,  1.5200e+01,  3.7400e+01,\n",
       "        1.0400e+01,  3.3600e+01,  1.4000e+01,  3.8400e+01,  1.2800e+01,\n",
       "        1.7500e+01,  5.1400e+01,  1.8500e+01,  2.6200e+01,  3.0300e+01,\n",
       "        1.5100e+01,  3.9200e+01,  4.5100e+01,  1.3900e+01,  2.6000e+01,\n",
       "        1.2900e+01,  1.9600e+01,  2.0100e+01,  5.4500e+01,  4.0500e+01,\n",
       "        4.8300e+01,  3.5700e+01,  4.6900e+01,  4.9200e+01,  2.9900e+01,\n",
       "        2.3700e+01,  1.5300e+01,  1.0300e+01,  1.0800e+01,  9.5000e+00,\n",
       "        8.4000e+00,  7.3000e+00,  2.0800e+01,  2.0600e+01,  2.4800e+01,\n",
       "        2.1700e+01,  2.2100e+01,  3.3800e+01,  2.4400e+01,  2.8000e+00,\n",
       "        2.1800e+01,  0.0000e+00,  1.7900e+01,  1.7300e+01,  1.3000e+00,\n",
       "        2.5500e+01,  2.0400e+01,  1.9700e+01,  2.1400e+01,  2.6500e+01,\n",
       "        2.0900e+01,  3.3700e+01, -9.9998e+04,  1.8800e+01,  3.1500e+01,\n",
       "        1.7600e+01,  2.8700e+01,  7.4000e+00,  9.0000e+00,  8.1000e+00,\n",
       "        2.3000e+01,  1.5600e+01,  1.6300e+01,  2.1000e+00,  2.3400e+01,\n",
       "        1.0000e+01,  4.0000e+00,  3.4000e+00,  1.5000e+01,  1.7400e+01,\n",
       "        1.1000e+01,  1.9000e+01,  1.8400e+01,  1.6400e+01,  1.6500e+01,\n",
       "        2.2300e+01,  1.9100e+01,  1.8600e+01,  1.6800e+01,  1.1100e+01,\n",
       "        1.6100e+01,  8.5000e+00,  1.5500e+01,  1.3100e+01,  5.0000e+00,\n",
       "        4.4000e+00,  1.0000e+00,  6.7000e+00,  3.9000e+00,  1.4700e+01,\n",
       "        2.6700e+01,  2.1600e+01,  8.6000e+00,  2.2900e+01,  1.2600e+01,\n",
       "        3.1000e+00,  4.7000e+00,  3.2000e+00,  2.4700e+01,  2.6400e+01,\n",
       "        1.1900e+01,  8.2000e+00,  1.8900e+01,  1.8300e+01])"
      ]
     },
     "execution_count": 47,
     "metadata": {},
     "output_type": "execute_result"
    }
   ],
   "source": [
    "la['Percent tree cover in 50m buffer'].unique()"
   ]
  },
  {
   "cell_type": "markdown",
   "id": "40161dfc",
   "metadata": {},
   "source": [
    "### Train and test split"
   ]
  },
  {
   "cell_type": "code",
   "execution_count": 48,
   "id": "7689951b",
   "metadata": {},
   "outputs": [
    {
     "name": "stdout",
     "output_type": "stream",
     "text": [
      "(1048575, 16)\n",
      "(1048575,)\n",
      "(786431, 16)\n",
      "(786431,)\n"
     ]
    }
   ],
   "source": [
    "# Define X and y\n",
    "X0 = la[[i for i in la.columns if i not in [\"Percent tree cover in 50m buffer\"]]]\n",
    "y0 = la[\"Percent tree cover in 50m buffer\"]\n",
    "\n",
    "# Split train and test. I'm going to use a test size of 25% this time.\n",
    "X0_train, X0_test, y0_train, y0_test = train_test_split(X0, y0, test_size = 0.25, random_state = 123)\n",
    "\n",
    "# Check shape for X and y\n",
    "print(X0.shape)\n",
    "print(y0.shape)\n",
    "print(X0_train.shape)\n",
    "print(y0_train.shape)"
   ]
  },
  {
   "cell_type": "code",
   "execution_count": 49,
   "id": "4880b3b7",
   "metadata": {},
   "outputs": [
    {
     "data": {
      "text/plain": [
       "Particulate matter [PM2.5] (kg/yr)                                                         1.0\n",
       "Particulate matter [PM10] (kg/yr)                                                          1.0\n",
       "Percent tree cover                                                                         1.0\n",
       "Percent green space                                                                        1.0\n",
       "Tree cover per capita (m2/person)                                                          1.0\n",
       "Green space per capita (m2/person)                                                         1.0\n",
       "Percent tree cover in 15m buffer                                                           1.0\n",
       "Value of hospital admissions avoided due to nitrogen dioxide removed ($/yr)                1.0\n",
       "Asthma exacerbation avoided due to nitrogen dioxide removed (cases/yr)                     1.0\n",
       "Value of asthma exacerbation cases avoided due to nitrogen dioxide removed ($/yr)          1.0\n",
       "Value of mortality avoided due to ozone removed ($/yr)                                     1.0\n",
       "Acute respiratory symptoms avoided due to particulate matter [PM2.5] removed (cases/yr)    1.0\n",
       "Percent ozone removed annually by tree cover                                               1.0\n",
       "Percent particulate matter [PM10] removed annually by tree cover                           1.0\n",
       "Percent particulate matter [PM2.5] removed annually by tree cover                          1.0\n",
       "Percent sulfur dioxide removed annually by tree cover                                      1.0\n",
       "dtype: float64"
      ]
     },
     "execution_count": 49,
     "metadata": {},
     "output_type": "execute_result"
    }
   ],
   "source": [
    "#  Normalize data using StandardScaler()\n",
    "X_train_norm0 = pd.DataFrame(scaler.fit_transform(X0_train),columns=X0_train.columns)\n",
    "X_test_norm0 = pd.DataFrame(scaler.transform(X0_test),columns=X0_test.columns)\n",
    "\n",
    "# Return biased estimate\n",
    "X_train_norm0.std(ddof = 0)"
   ]
  },
  {
   "cell_type": "code",
   "execution_count": 50,
   "id": "9dfc80f5",
   "metadata": {},
   "outputs": [
    {
     "data": {
      "text/plain": [
       "Particulate matter [PM2.5] (kg/yr)                                                         1.006858\n",
       "Particulate matter [PM10] (kg/yr)                                                          1.005270\n",
       "Percent tree cover                                                                         0.999741\n",
       "Percent green space                                                                        1.001474\n",
       "Tree cover per capita (m2/person)                                                          1.007435\n",
       "Green space per capita (m2/person)                                                         1.008100\n",
       "Percent tree cover in 15m buffer                                                           1.002510\n",
       "Value of hospital admissions avoided due to nitrogen dioxide removed ($/yr)                1.002153\n",
       "Asthma exacerbation avoided due to nitrogen dioxide removed (cases/yr)                     1.002217\n",
       "Value of asthma exacerbation cases avoided due to nitrogen dioxide removed ($/yr)          1.002210\n",
       "Value of mortality avoided due to ozone removed ($/yr)                                     1.002919\n",
       "Acute respiratory symptoms avoided due to particulate matter [PM2.5] removed (cases/yr)    1.020878\n",
       "Percent ozone removed annually by tree cover                                               0.997357\n",
       "Percent particulate matter [PM10] removed annually by tree cover                           0.999180\n",
       "Percent particulate matter [PM2.5] removed annually by tree cover                          0.995933\n",
       "Percent sulfur dioxide removed annually by tree cover                                      0.996889\n",
       "dtype: float64"
      ]
     },
     "execution_count": 50,
     "metadata": {},
     "output_type": "execute_result"
    }
   ],
   "source": [
    "# Return biased estimate X test\n",
    "X_test_norm0.std(ddof = 0)"
   ]
  },
  {
   "cell_type": "code",
   "execution_count": 51,
   "id": "744f09bf",
   "metadata": {},
   "outputs": [],
   "source": [
    "# Predictor variables scaling\n",
    "pca0 = PCA()\n",
    "X0_red = pca0.fit_transform(X_train_norm0)\n",
    "# Define CV\n",
    "cv0 = RepeatedKFold(n_splits = 10, n_repeats = 3, random_state = 123)"
   ]
  },
  {
   "cell_type": "code",
   "execution_count": 52,
   "id": "f9d48555",
   "metadata": {},
   "outputs": [
    {
     "data": {
      "text/plain": [
       "array([30.63, 57.63, 69.69, 77.75, 83.96, 89.79, 93.41, 95.24, 96.73,\n",
       "       98.14, 99.1 , 99.66, 99.79, 99.88, 99.94, 99.99])"
      ]
     },
     "execution_count": 52,
     "metadata": {},
     "output_type": "execute_result"
    }
   ],
   "source": [
    "# Percent variance in response variable explained by each addition of principal component to the model\n",
    "np.cumsum(np.round(pca0.explained_variance_ratio_, decimals=4)*100)"
   ]
  },
  {
   "cell_type": "markdown",
   "id": "170ad87b",
   "metadata": {},
   "source": [
    " - 1st principal component accounts for 28.9% of variance.\n",
    " - 2nd principal component accounts for 56.3% of variance.\n",
    " - 3rd principal component accounts for 67.3% of variance.\n",
    " - 4th principal component accounts for 76.8% of variance.\n",
    " - 5th principal component accounts for 84.7% of variance\n",
    " - nth principal component accounts for 90.5% of variance."
   ]
  },
  {
   "cell_type": "code",
   "execution_count": 53,
   "id": "24c3499c",
   "metadata": {},
   "outputs": [
    {
     "data": {
      "image/png": "[encoded data removed]",
      "text/plain": [
       "<Figure size 576x360 with 1 Axes>"
      ]
     },
     "metadata": {
      "needs_background": "light"
     },
     "output_type": "display_data"
    }
   ],
   "source": [
    "# Plot cumulative variance ratio \n",
    "plt.subplots(figsize=(8, 5))\n",
    "plt.plot(pca0.explained_variance_ratio_.cumsum())\n",
    "plt.xlabel('Component #')\n",
    "plt.ylabel('Cumulative ratio variance')\n",
    "plt.title('Cumulative variance ratio explained by PCA components for Green Space/Tree Cover/ARIs summary statistics');"
   ]
  },
  {
   "cell_type": "markdown",
   "id": "fd6f5519",
   "metadata": {},
   "source": [
    "### Linear Regression"
   ]
  },
  {
   "cell_type": "code",
   "execution_count": 54,
   "id": "3bb8daa0",
   "metadata": {},
   "outputs": [
    {
     "data": {
      "text/plain": [
       "array([ -404.98601432,   -25.76485308,   236.60216892, ...,\n",
       "        8132.39742917,  1183.30700385, -4759.21858729])"
      ]
     },
     "execution_count": 54,
     "metadata": {},
     "output_type": "execute_result"
    }
   ],
   "source": [
    "# Create a new variable for linear regression\n",
    "lin_reg0 = linear_model.LinearRegression()\n",
    "lin_reg0.fit(X0_train, y0_train)\n",
    "# Evaluate the model  \n",
    "lin_reg0.score(X0_train, y0_train)\n",
    "# Use the model to make predictions about our test data\n",
    "y_predict0 = lin_reg0.predict(X0_test)\n",
    "y_predict0"
   ]
  },
  {
   "cell_type": "code",
   "execution_count": 55,
   "id": "fe7e913b",
   "metadata": {},
   "outputs": [
    {
     "data": {
      "text/html": [
       "<div>\n",
       "<style scoped>\n",
       "    .dataframe tbody tr th:only-of-type {\n",
       "        vertical-align: middle;\n",
       "    }\n",
       "\n",
       "    .dataframe tbody tr th {\n",
       "        vertical-align: top;\n",
       "    }\n",
       "\n",
       "    .dataframe thead th {\n",
       "        text-align: right;\n",
       "    }\n",
       "</style>\n",
       "<table border=\"1\" class=\"dataframe\">\n",
       "  <thead>\n",
       "    <tr style=\"text-align: right;\">\n",
       "      <th></th>\n",
       "      <th>Percent tree cover in 50m buffer</th>\n",
       "    </tr>\n",
       "  </thead>\n",
       "  <tbody>\n",
       "    <tr>\n",
       "      <th>0</th>\n",
       "      <td>-404.986014</td>\n",
       "    </tr>\n",
       "    <tr>\n",
       "      <th>1</th>\n",
       "      <td>-25.764853</td>\n",
       "    </tr>\n",
       "    <tr>\n",
       "      <th>2</th>\n",
       "      <td>236.602169</td>\n",
       "    </tr>\n",
       "    <tr>\n",
       "      <th>3</th>\n",
       "      <td>3438.305484</td>\n",
       "    </tr>\n",
       "    <tr>\n",
       "      <th>4</th>\n",
       "      <td>994.397076</td>\n",
       "    </tr>\n",
       "  </tbody>\n",
       "</table>\n",
       "</div>"
      ],
      "text/plain": [
       "   Percent tree cover in 50m buffer\n",
       "0                       -404.986014\n",
       "1                        -25.764853\n",
       "2                        236.602169\n",
       "3                       3438.305484\n",
       "4                        994.397076"
      ]
     },
     "execution_count": 55,
     "metadata": {},
     "output_type": "execute_result"
    }
   ],
   "source": [
    "# Create and print dataframe accounting for '\n",
    "# Acute respiratory symptoms avoided due to particulate matter [PM2.5] removed (cases/yr)' from y_predict\n",
    "ARI_pred_la = pd.DataFrame(y_predict0, columns = ['Percent tree cover in 50m buffer'])\n",
    "ARI_pred_la.head()"
   ]
  },
  {
   "cell_type": "code",
   "execution_count": 56,
   "id": "989abafc",
   "metadata": {},
   "outputs": [
    {
     "data": {
      "text/html": [
       "<div>\n",
       "<style scoped>\n",
       "    .dataframe tbody tr th:only-of-type {\n",
       "        vertical-align: middle;\n",
       "    }\n",
       "\n",
       "    .dataframe tbody tr th {\n",
       "        vertical-align: top;\n",
       "    }\n",
       "\n",
       "    .dataframe thead th {\n",
       "        text-align: right;\n",
       "    }\n",
       "</style>\n",
       "<table border=\"1\" class=\"dataframe\">\n",
       "  <thead>\n",
       "    <tr style=\"text-align: right;\">\n",
       "      <th></th>\n",
       "      <th>Percent tree cover in 50m buffer</th>\n",
       "    </tr>\n",
       "  </thead>\n",
       "  <tbody>\n",
       "    <tr>\n",
       "      <th>933725</th>\n",
       "      <td>20.9</td>\n",
       "    </tr>\n",
       "    <tr>\n",
       "      <th>694586</th>\n",
       "      <td>16.3</td>\n",
       "    </tr>\n",
       "    <tr>\n",
       "      <th>507508</th>\n",
       "      <td>21.7</td>\n",
       "    </tr>\n",
       "    <tr>\n",
       "      <th>169136</th>\n",
       "      <td>6.5</td>\n",
       "    </tr>\n",
       "    <tr>\n",
       "      <th>799518</th>\n",
       "      <td>19.8</td>\n",
       "    </tr>\n",
       "  </tbody>\n",
       "</table>\n",
       "</div>"
      ],
      "text/plain": [
       "        Percent tree cover in 50m buffer\n",
       "933725                              20.9\n",
       "694586                              16.3\n",
       "507508                              21.7\n",
       "169136                               6.5\n",
       "799518                              19.8"
      ]
     },
     "execution_count": 56,
     "metadata": {},
     "output_type": "execute_result"
    }
   ],
   "source": [
    "# Create dataframe for actual ARI symptoms avoided due to PM2.5 removed (cases/yr) from y_predict\n",
    "ARI_actual_la = pd.DataFrame(y0_test)\n",
    "ARI_actual_la.head()"
   ]
  },
  {
   "cell_type": "code",
   "execution_count": 57,
   "id": "63938373",
   "metadata": {},
   "outputs": [
    {
     "data": {
      "image/png": "[encoded data removed]",
      "text/plain": [
       "<Figure size 720x360 with 1 Axes>"
      ]
     },
     "metadata": {
      "needs_background": "light"
     },
     "output_type": "display_data"
    }
   ],
   "source": [
    "# Plot predicted vs actual\n",
    "ax = ARI_actual_la.plot(kind = 'density', figsize = (10,5))\n",
    "ARI_pred_la.plot(kind = 'density', figsize = (10,5), ax = ax)\n",
    "L0 = plt.legend()\n",
    "L0.get_texts()[0].set_text('Actual Percent tree cover in 50m buffer')\n",
    "L0.get_texts()[1].set_text('Predicted Percent tree cover in 50m buffer')\n",
    "plt.show()"
   ]
  },
  {
   "cell_type": "code",
   "execution_count": 58,
   "id": "4c289cc9",
   "metadata": {},
   "outputs": [
    {
     "data": {
      "image/png": "[encoded data removed]",
      "text/plain": [
       "<Figure size 432x288 with 1 Axes>"
      ]
     },
     "metadata": {
      "needs_background": "light"
     },
     "output_type": "display_data"
    }
   ],
   "source": [
    "# Let's plot the predictions against the actual result. Use scatter()\n",
    "_ = plt.scatter(y0_test, y_predict0)\n",
    "_ = plt.xlabel(\"actual\")\n",
    "_ = plt.ylabel(\"predicted\")\n",
    "plt.show()"
   ]
  },
  {
   "cell_type": "markdown",
   "id": "8d4abb44",
   "metadata": {},
   "source": [
    "### SVM"
   ]
  },
  {
   "cell_type": "code",
   "execution_count": 59,
   "id": "667be5cc",
   "metadata": {},
   "outputs": [
    {
     "name": "stdout",
     "output_type": "stream",
     "text": [
      "Shape for x train:  (838860, 16)\n",
      "Shape for x test:  (209715, 16)\n",
      "Shape for y train:  (838860,)\n",
      "Shape for y test:  (209715,)\n"
     ]
    }
   ],
   "source": [
    "# Perform another train and test split for LA data\n",
    "X2 = la[[i for i in la.columns if i not in [\"Percent tree cover in 50m buffer\"]]]\n",
    "y2 = la[\"Percent tree cover in 50m buffer\"]\n",
    "\n",
    "# Train and test split\n",
    "X2_train,X2_test,y2_train,y2_test = train_test_split(X2,y2,test_size = 0.20,random_state = 123) \n",
    "\n",
    "# Preprocess with StandardScaler()\n",
    "scale = StandardScaler()\n",
    "\n",
    "# Fit_transform for predictors\n",
    "X_train2_svm = scale.fit_transform(X2_train)\n",
    "X_test2_svm = scale.fit_transform(X2_test)\n",
    "\n",
    "# Check shape for each train and test\n",
    "print('Shape for x train: ',X_train2_svm.shape)\n",
    "print('Shape for x test: ', X_test2_svm.shape)\n",
    "print('Shape for y train: ', y2_train.shape)\n",
    "print('Shape for y test: ', y2_test.shape)"
   ]
  },
  {
   "cell_type": "code",
   "execution_count": 60,
   "id": "cc8e3262",
   "metadata": {},
   "outputs": [
    {
     "name": "stdout",
     "output_type": "stream",
     "text": [
      "(838860, 1)\n",
      "(209715, 1)\n"
     ]
    }
   ],
   "source": [
    "# Fit_transform response variables\n",
    "y_train2_svm = scale.fit_transform(y2_train.to_numpy().reshape(-1,1))\n",
    "y_test2_svm =  scale.fit_transform(y2_test.to_numpy().reshape(-1,1))\n",
    "\n",
    "# Check shape for response variables\n",
    "print(y_train2_svm.shape)\n",
    "print(y_test2_svm.shape)"
   ]
  },
  {
   "cell_type": "code",
   "execution_count": 61,
   "id": "70db95b4",
   "metadata": {},
   "outputs": [
    {
     "name": "stdout",
     "output_type": "stream",
     "text": [
      "(82763, 1)\n"
     ]
    }
   ],
   "source": [
    "# Again, resizing dataset to only 35% of original data, for faster running time\n",
    "Xtrain2_svm_new = X_train2_svm[0:82763]\n",
    "ytrain2_svm_new = y_train2_svm[0:82763]\n",
    "\n",
    "print(ytrain2_svm_new.shape)"
   ]
  },
  {
   "cell_type": "code",
   "execution_count": 62,
   "id": "ae805407",
   "metadata": {},
   "outputs": [],
   "source": [
    "# Define SVR \n",
    "svr2 = SVR(kernel = 'rbf')\n",
    "model_svr2 = svr2.fit(Xtrain2_svm_new, np.ravel(ytrain2_svm_new))\n",
    "y_predict2 = model_svr2.predict(Xtrain2_svm_new)"
   ]
  },
  {
   "cell_type": "code",
   "execution_count": 63,
   "id": "0a1a9725",
   "metadata": {},
   "outputs": [
    {
     "name": "stdout",
     "output_type": "stream",
     "text": [
      "Score R-squared : 98.69436119696304\n",
      "MSE : 0.013094429505173127\n"
     ]
    }
   ],
   "source": [
    "# Assess MSE score\n",
    "score2 = model_svr2.score(Xtrain2_svm_new,ytrain2_svm_new)\n",
    "print(\"Score R-squared :\", score2*100)\n",
    "print(\"MSE :\", mean_squared_error(ytrain2_svm_new, y_predict2))"
   ]
  },
  {
   "cell_type": "code",
   "execution_count": null,
   "id": "e2394709",
   "metadata": {},
   "outputs": [],
   "source": []
  }
 ],
 "metadata": {
  "kernelspec": {
   "display_name": "Python 3 (ipykernel)",
   "language": "python",
   "name": "python3"
  },
  "language_info": {
   "codemirror_mode": {
    "name": "ipython",
    "version": 3
   },
   "file_extension": ".py",
   "mimetype": "text/x-python",
   "name": "python",
   "nbconvert_exporter": "python",
   "pygments_lexer": "ipython3",
   "version": "3.8.8"
  },
  "toc": {
   "base_numbering": 1,
   "nav_menu": {},
   "number_sections": true,
   "sideBar": true,
   "skip_h1_title": false,
   "title_cell": "Table of Contents",
   "title_sidebar": "Contents",
   "toc_cell": true,
   "toc_position": {
    "height": "calc(100% - 180px)",
    "left": "10px",
    "top": "150px",
    "width": "340.328px"
   },
   "toc_section_display": true,
   "toc_window_display": true
  }
 },
 "nbformat": 4,
 "nbformat_minor": 5
}
